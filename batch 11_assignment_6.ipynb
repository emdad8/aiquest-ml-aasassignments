{
 "cells": [
  {
   "cell_type": "code",
   "execution_count": 1,
   "id": "19143d67",
   "metadata": {},
   "outputs": [],
   "source": [
    "import pandas as pd\n",
    "import matplotlib.pyplot as plt"
   ]
  },
  {
   "cell_type": "code",
   "execution_count": 2,
   "id": "cafa1c19",
   "metadata": {},
   "outputs": [],
   "source": [
    "df=pd.read_csv('weight-height1.csv')"
   ]
  },
  {
   "cell_type": "code",
   "execution_count": 4,
   "id": "ac55c427",
   "metadata": {},
   "outputs": [
    {
     "data": {
      "text/html": [
       "<div>\n",
       "<style scoped>\n",
       "    .dataframe tbody tr th:only-of-type {\n",
       "        vertical-align: middle;\n",
       "    }\n",
       "\n",
       "    .dataframe tbody tr th {\n",
       "        vertical-align: top;\n",
       "    }\n",
       "\n",
       "    .dataframe thead th {\n",
       "        text-align: right;\n",
       "    }\n",
       "</style>\n",
       "<table border=\"1\" class=\"dataframe\">\n",
       "  <thead>\n",
       "    <tr style=\"text-align: right;\">\n",
       "      <th></th>\n",
       "      <th>Gender</th>\n",
       "      <th>Height</th>\n",
       "      <th>Weight</th>\n",
       "    </tr>\n",
       "  </thead>\n",
       "  <tbody>\n",
       "    <tr>\n",
       "      <th>0</th>\n",
       "      <td>Male</td>\n",
       "      <td>73.847017</td>\n",
       "      <td>241.893563</td>\n",
       "    </tr>\n",
       "    <tr>\n",
       "      <th>1</th>\n",
       "      <td>Male</td>\n",
       "      <td>68.781904</td>\n",
       "      <td>162.310473</td>\n",
       "    </tr>\n",
       "    <tr>\n",
       "      <th>2</th>\n",
       "      <td>Male</td>\n",
       "      <td>74.110105</td>\n",
       "      <td>212.740856</td>\n",
       "    </tr>\n",
       "    <tr>\n",
       "      <th>3</th>\n",
       "      <td>Male</td>\n",
       "      <td>71.730978</td>\n",
       "      <td>220.042470</td>\n",
       "    </tr>\n",
       "    <tr>\n",
       "      <th>4</th>\n",
       "      <td>Male</td>\n",
       "      <td>69.881796</td>\n",
       "      <td>206.349801</td>\n",
       "    </tr>\n",
       "  </tbody>\n",
       "</table>\n",
       "</div>"
      ],
      "text/plain": [
       "  Gender     Height      Weight\n",
       "0   Male  73.847017  241.893563\n",
       "1   Male  68.781904  162.310473\n",
       "2   Male  74.110105  212.740856\n",
       "3   Male  71.730978  220.042470\n",
       "4   Male  69.881796  206.349801"
      ]
     },
     "execution_count": 4,
     "metadata": {},
     "output_type": "execute_result"
    }
   ],
   "source": [
    "df.head()"
   ]
  },
  {
   "cell_type": "code",
   "execution_count": 5,
   "id": "e6956bba",
   "metadata": {},
   "outputs": [],
   "source": [
    "df1=df.copy()\n",
    "df2=df.copy()\n",
    "df3=df.copy()"
   ]
  },
  {
   "cell_type": "code",
   "execution_count": 6,
   "id": "dc9b2ce8",
   "metadata": {},
   "outputs": [],
   "source": [
    "dummy=pd.get_dummies(df1['Gender'])"
   ]
  },
  {
   "cell_type": "code",
   "execution_count": 7,
   "id": "58e9c802",
   "metadata": {},
   "outputs": [],
   "source": [
    "dummy1=pd.get_dummies(df1['Gender'],drop_first=True,prefix='Dummy')"
   ]
  },
  {
   "cell_type": "code",
   "execution_count": 9,
   "id": "6325797c",
   "metadata": {},
   "outputs": [],
   "source": [
    "df2.drop('Gender',axis='columns',inplace=True)"
   ]
  },
  {
   "cell_type": "code",
   "execution_count": 10,
   "id": "3ec07f90",
   "metadata": {},
   "outputs": [],
   "source": [
    "df3=pd.concat([df2,dummy1],axis=1)"
   ]
  },
  {
   "cell_type": "code",
   "execution_count": 28,
   "id": "9515bde6",
   "metadata": {},
   "outputs": [
    {
     "data": {
      "text/plain": [
       "<Figure size 6624x4464 with 0 Axes>"
      ]
     },
     "execution_count": 28,
     "metadata": {},
     "output_type": "execute_result"
    },
    {
     "data": {
      "image/png": "[encoded data removed]",
      "text/plain": [
       "<Figure size 864x576 with 1 Axes>"
      ]
     },
     "metadata": {
      "needs_background": "light"
     },
     "output_type": "display_data"
    },
    {
     "data": {
      "text/plain": [
       "<Figure size 6624x4464 with 0 Axes>"
      ]
     },
     "metadata": {},
     "output_type": "display_data"
    }
   ],
   "source": [
    "plt.figure(figsize=(12,8))\n",
    "plt.scatter(df3['Height'] , df3['Height'], color='#3498DB',marker='*')\n",
    "plt.xlabel('Height',color='red')\n",
    "plt.ylabel('weight',color='green')\n",
    "plt.title('BMI', color='blue')\n",
    "plt.figure(figsize=(92,62))"
   ]
  },
  {
   "cell_type": "code",
   "execution_count": 12,
   "id": "b98386dc",
   "metadata": {},
   "outputs": [],
   "source": [
    "y=df3['Weight']\n",
    "x=df3[['Dummy_Male','Height']]"
   ]
  },
  {
   "cell_type": "code",
   "execution_count": 13,
   "id": "12a33226",
   "metadata": {},
   "outputs": [],
   "source": [
    "from sklearn.model_selection import train_test_split"
   ]
  },
  {
   "cell_type": "code",
   "execution_count": 14,
   "id": "87813c06",
   "metadata": {},
   "outputs": [],
   "source": [
    "xtrain,xtest,ytrain,ytest=train_test_split(x,y,test_size=.30)"
   ]
  },
  {
   "cell_type": "markdown",
   "id": "5685c796",
   "metadata": {},
   "source": [
    "# Using K-NN Regressor"
   ]
  },
  {
   "cell_type": "code",
   "execution_count": 15,
   "id": "5d1a1f97",
   "metadata": {},
   "outputs": [],
   "source": [
    "from sklearn.neighbors import KNeighborsRegressor"
   ]
  },
  {
   "cell_type": "code",
   "execution_count": 18,
   "id": "21c2553b",
   "metadata": {},
   "outputs": [],
   "source": [
    "neigh=KNeighborsRegressor(n_neighbors=801)"
   ]
  },
  {
   "cell_type": "code",
   "execution_count": 19,
   "id": "6ce624e1",
   "metadata": {},
   "outputs": [
    {
     "data": {
      "text/plain": [
       "KNeighborsRegressor(n_neighbors=801)"
      ]
     },
     "execution_count": 19,
     "metadata": {},
     "output_type": "execute_result"
    }
   ],
   "source": [
    "neigh.fit(x,y)"
   ]
  },
  {
   "cell_type": "code",
   "execution_count": 30,
   "id": "2abad72c",
   "metadata": {},
   "outputs": [],
   "source": [
    "pred=neigh.predict(xtest)"
   ]
  },
  {
   "cell_type": "code",
   "execution_count": 31,
   "id": "97fd0c3d",
   "metadata": {},
   "outputs": [
    {
     "data": {
      "text/html": [
       "<div>\n",
       "<style scoped>\n",
       "    .dataframe tbody tr th:only-of-type {\n",
       "        vertical-align: middle;\n",
       "    }\n",
       "\n",
       "    .dataframe tbody tr th {\n",
       "        vertical-align: top;\n",
       "    }\n",
       "\n",
       "    .dataframe thead th {\n",
       "        text-align: right;\n",
       "    }\n",
       "</style>\n",
       "<table border=\"1\" class=\"dataframe\">\n",
       "  <thead>\n",
       "    <tr style=\"text-align: right;\">\n",
       "      <th></th>\n",
       "      <th>Height</th>\n",
       "      <th>Weight</th>\n",
       "      <th>Dummy_Male</th>\n",
       "    </tr>\n",
       "  </thead>\n",
       "  <tbody>\n",
       "    <tr>\n",
       "      <th>0</th>\n",
       "      <td>73.847017</td>\n",
       "      <td>241.893563</td>\n",
       "      <td>1</td>\n",
       "    </tr>\n",
       "    <tr>\n",
       "      <th>1</th>\n",
       "      <td>68.781904</td>\n",
       "      <td>162.310473</td>\n",
       "      <td>1</td>\n",
       "    </tr>\n",
       "    <tr>\n",
       "      <th>2</th>\n",
       "      <td>74.110105</td>\n",
       "      <td>212.740856</td>\n",
       "      <td>1</td>\n",
       "    </tr>\n",
       "    <tr>\n",
       "      <th>3</th>\n",
       "      <td>71.730978</td>\n",
       "      <td>220.042470</td>\n",
       "      <td>1</td>\n",
       "    </tr>\n",
       "    <tr>\n",
       "      <th>4</th>\n",
       "      <td>69.881796</td>\n",
       "      <td>206.349801</td>\n",
       "      <td>1</td>\n",
       "    </tr>\n",
       "  </tbody>\n",
       "</table>\n",
       "</div>"
      ],
      "text/plain": [
       "      Height      Weight  Dummy_Male\n",
       "0  73.847017  241.893563           1\n",
       "1  68.781904  162.310473           1\n",
       "2  74.110105  212.740856           1\n",
       "3  71.730978  220.042470           1\n",
       "4  69.881796  206.349801           1"
      ]
     },
     "execution_count": 31,
     "metadata": {},
     "output_type": "execute_result"
    }
   ],
   "source": [
    "df3.head()"
   ]
  },
  {
   "cell_type": "code",
   "execution_count": 32,
   "id": "58f5853d",
   "metadata": {},
   "outputs": [
    {
     "name": "stderr",
     "output_type": "stream",
     "text": [
      "C:\\Users\\e.haque\\Anaconda3\\lib\\site-packages\\sklearn\\base.py:450: UserWarning: X does not have valid feature names, but KNeighborsRegressor was fitted with feature names\n",
      "  warnings.warn(\n"
     ]
    },
    {
     "data": {
      "text/plain": [
       "array([210.75429446])"
      ]
     },
     "execution_count": 32,
     "metadata": {},
     "output_type": "execute_result"
    }
   ],
   "source": [
    "neigh.predict([[1,73.847017]])"
   ]
  },
  {
   "cell_type": "code",
   "execution_count": 34,
   "id": "62c509d2",
   "metadata": {},
   "outputs": [],
   "source": [
    "accuracy=210.75429446/241.893563"
   ]
  },
  {
   "cell_type": "code",
   "execution_count": 35,
   "id": "8c5506e0",
   "metadata": {},
   "outputs": [
    {
     "data": {
      "text/plain": [
       "0.8712687177211078"
      ]
     },
     "execution_count": 35,
     "metadata": {},
     "output_type": "execute_result"
    }
   ],
   "source": [
    "accuracy"
   ]
  },
  {
   "cell_type": "code",
   "execution_count": 36,
   "id": "fbf75052",
   "metadata": {},
   "outputs": [],
   "source": [
    "from sklearn.metrics import mean_squared_error \n",
    "from sklearn.metrics import mean_absolute_error"
   ]
  },
  {
   "cell_type": "code",
   "execution_count": 37,
   "id": "f57c75d4",
   "metadata": {},
   "outputs": [],
   "source": [
    "mse=mean_squared_error(ytest,pred)\n",
    "mae=mean_absolute_error(ytest,pred)"
   ]
  },
  {
   "cell_type": "code",
   "execution_count": 38,
   "id": "60774b22",
   "metadata": {},
   "outputs": [
    {
     "data": {
      "text/plain": [
       "134.92091608361662"
      ]
     },
     "execution_count": 38,
     "metadata": {},
     "output_type": "execute_result"
    }
   ],
   "source": [
    "mse"
   ]
  },
  {
   "cell_type": "code",
   "execution_count": 39,
   "id": "c5ccb0c7",
   "metadata": {},
   "outputs": [
    {
     "data": {
      "text/plain": [
       "9.033362432731675"
      ]
     },
     "execution_count": 39,
     "metadata": {},
     "output_type": "execute_result"
    }
   ],
   "source": [
    "mae"
   ]
  },
  {
   "cell_type": "code",
   "execution_count": 74,
   "id": "500ceed6",
   "metadata": {},
   "outputs": [],
   "source": [
    "import numpy as np"
   ]
  },
  {
   "cell_type": "markdown",
   "id": "1262dfb8",
   "metadata": {},
   "source": [
    "# HyperParameter Tuning for K-NN regressor"
   ]
  },
  {
   "cell_type": "code",
   "execution_count": 75,
   "id": "2552ceca",
   "metadata": {},
   "outputs": [],
   "source": [
    "n_neighbors=[5,51,81,101,801]\n",
    "weights=['uniform','distance']\n",
    "algorithm=['auto','ball_tree','kd_tree','brute']\n",
    "leaf_size=[30]\n",
    "p=[2]\n",
    "metric=['minkowski']\n",
    "metric_params=[None]\n",
    "n_jobs=[None]"
   ]
  },
  {
   "cell_type": "code",
   "execution_count": 53,
   "id": "a36a34ce",
   "metadata": {},
   "outputs": [],
   "source": [
    "grids={\n",
    "    'n_neighbors':n_neighbors,\n",
    "'weights':weights,\n",
    "'algorithm':algorithm,\n",
    "'leaf_size':leaf_size,\n",
    "'p':p,\n",
    "'metric':metric,\n",
    "'metric_params':metric_params,\n",
    "'n_jobs':n_jobs\n",
    "}"
   ]
  },
  {
   "cell_type": "code",
   "execution_count": 54,
   "id": "540a4c4d",
   "metadata": {},
   "outputs": [],
   "source": [
    "from sklearn.model_selection import RandomizedSearchCV"
   ]
  },
  {
   "cell_type": "code",
   "execution_count": 55,
   "id": "3f99df22",
   "metadata": {},
   "outputs": [],
   "source": [
    "rando=RandomizedSearchCV(estimator=neigh,param_distributions=grids,n_iter=100)"
   ]
  },
  {
   "cell_type": "code",
   "execution_count": 56,
   "id": "e531a89d",
   "metadata": {},
   "outputs": [
    {
     "data": {
      "text/plain": [
       "RandomizedSearchCV(estimator=KNeighborsRegressor(n_neighbors=801), n_iter=100,\n",
       "                   param_distributions={'algorithm': ['auto', 'ball_tree',\n",
       "                                                      'kd_tree', 'brute'],\n",
       "                                        'leaf_size': [30],\n",
       "                                        'metric': ['minkowski'],\n",
       "                                        'metric_params': [None],\n",
       "                                        'n_jobs': [None],\n",
       "                                        'n_neighbors': [5, 51, 81, 101, 801],\n",
       "                                        'p': [2],\n",
       "                                        'weights': ['uniform', 'distance']})"
      ]
     },
     "execution_count": 56,
     "metadata": {},
     "output_type": "execute_result"
    }
   ],
   "source": [
    "rando"
   ]
  },
  {
   "cell_type": "code",
   "execution_count": 57,
   "id": "c3afae98",
   "metadata": {},
   "outputs": [
    {
     "name": "stderr",
     "output_type": "stream",
     "text": [
      "C:\\Users\\e.haque\\Anaconda3\\lib\\site-packages\\sklearn\\model_selection\\_search.py:292: UserWarning: The total space of parameters 40 is smaller than n_iter=100. Running 40 iterations. For exhaustive searches, use GridSearchCV.\n",
      "  warnings.warn(\n"
     ]
    },
    {
     "data": {
      "text/plain": [
       "RandomizedSearchCV(estimator=KNeighborsRegressor(n_neighbors=801), n_iter=100,\n",
       "                   param_distributions={'algorithm': ['auto', 'ball_tree',\n",
       "                                                      'kd_tree', 'brute'],\n",
       "                                        'leaf_size': [30],\n",
       "                                        'metric': ['minkowski'],\n",
       "                                        'metric_params': [None],\n",
       "                                        'n_jobs': [None],\n",
       "                                        'n_neighbors': [5, 51, 81, 101, 801],\n",
       "                                        'p': [2],\n",
       "                                        'weights': ['uniform', 'distance']})"
      ]
     },
     "execution_count": 57,
     "metadata": {},
     "output_type": "execute_result"
    }
   ],
   "source": [
    "rando.fit(xtrain,ytrain)"
   ]
  },
  {
   "cell_type": "code",
   "execution_count": 59,
   "id": "47cd3971",
   "metadata": {},
   "outputs": [
    {
     "data": {
      "text/plain": [
       "{'weights': 'uniform',\n",
       " 'p': 2,\n",
       " 'n_neighbors': 51,\n",
       " 'n_jobs': None,\n",
       " 'metric_params': None,\n",
       " 'metric': 'minkowski',\n",
       " 'leaf_size': 30,\n",
       " 'algorithm': 'auto'}"
      ]
     },
     "execution_count": 59,
     "metadata": {},
     "output_type": "execute_result"
    }
   ],
   "source": [
    "rando.best_params_"
   ]
  },
  {
   "cell_type": "markdown",
   "id": "7f1fe8f8",
   "metadata": {},
   "source": [
    "# checking for performance"
   ]
  },
  {
   "cell_type": "code",
   "execution_count": 60,
   "id": "421dc81d",
   "metadata": {},
   "outputs": [
    {
     "data": {
      "text/plain": [
       "KNeighborsRegressor(n_neighbors=51)"
      ]
     },
     "execution_count": 60,
     "metadata": {},
     "output_type": "execute_result"
    }
   ],
   "source": [
    "neigh_withHP=KNeighborsRegressor(n_neighbors=51)\n",
    "neigh_withHP.fit(x,y)"
   ]
  },
  {
   "cell_type": "code",
   "execution_count": 62,
   "id": "bc63098a",
   "metadata": {},
   "outputs": [],
   "source": [
    "pred_withHP=neigh_withHP.predict(xtest)"
   ]
  },
  {
   "cell_type": "code",
   "execution_count": 64,
   "id": "f76576c9",
   "metadata": {},
   "outputs": [
    {
     "name": "stderr",
     "output_type": "stream",
     "text": [
      "C:\\Users\\e.haque\\Anaconda3\\lib\\site-packages\\sklearn\\base.py:450: UserWarning: X does not have valid feature names, but KNeighborsRegressor was fitted with feature names\n",
      "  warnings.warn(\n"
     ]
    },
    {
     "data": {
      "text/plain": [
       "array([215.60193151])"
      ]
     },
     "execution_count": 64,
     "metadata": {},
     "output_type": "execute_result"
    }
   ],
   "source": [
    "neigh_withHP.predict([[1,73.847017]])"
   ]
  },
  {
   "cell_type": "code",
   "execution_count": 66,
   "id": "998c5164",
   "metadata": {},
   "outputs": [
    {
     "data": {
      "text/plain": [
       "0.8913090899818611"
      ]
     },
     "execution_count": 66,
     "metadata": {},
     "output_type": "execute_result"
    }
   ],
   "source": [
    "accuracy_n= 215.60193151/241.893563\n",
    "accuracy_n"
   ]
  },
  {
   "cell_type": "code",
   "execution_count": 67,
   "id": "8287b102",
   "metadata": {},
   "outputs": [
    {
     "data": {
      "text/plain": [
       "0.8712687177211078"
      ]
     },
     "execution_count": 67,
     "metadata": {},
     "output_type": "execute_result"
    }
   ],
   "source": [
    "accuracy"
   ]
  },
  {
   "cell_type": "markdown",
   "id": "565b5bb2",
   "metadata": {},
   "source": [
    "# after tuning "
   ]
  },
  {
   "cell_type": "code",
   "execution_count": 69,
   "id": "f7103258",
   "metadata": {},
   "outputs": [
    {
     "data": {
      "text/plain": [
       "108.16523087129936"
      ]
     },
     "execution_count": 69,
     "metadata": {},
     "output_type": "execute_result"
    }
   ],
   "source": [
    "mse_withHP=mean_squared_error(ytest,pred_withHP)\n",
    "mae_withHP=mean_absolute_error(ytest,pred_withHP)\n",
    "mse_withHP"
   ]
  },
  {
   "cell_type": "code",
   "execution_count": 70,
   "id": "14b52fca",
   "metadata": {},
   "outputs": [
    {
     "data": {
      "text/plain": [
       "8.160230404535927"
      ]
     },
     "execution_count": 70,
     "metadata": {},
     "output_type": "execute_result"
    }
   ],
   "source": [
    "mae_withHP"
   ]
  },
  {
   "cell_type": "code",
   "execution_count": 71,
   "id": "5bc51242",
   "metadata": {},
   "outputs": [
    {
     "data": {
      "text/plain": [
       "134.92091608361662"
      ]
     },
     "execution_count": 71,
     "metadata": {},
     "output_type": "execute_result"
    }
   ],
   "source": [
    "mse"
   ]
  },
  {
   "cell_type": "code",
   "execution_count": 72,
   "id": "a39420d5",
   "metadata": {},
   "outputs": [
    {
     "data": {
      "text/plain": [
       "9.033362432731675"
      ]
     },
     "execution_count": 72,
     "metadata": {},
     "output_type": "execute_result"
    }
   ],
   "source": [
    "mae"
   ]
  },
  {
   "cell_type": "markdown",
   "id": "6e67df76",
   "metadata": {},
   "source": [
    "# after tuning accuracy increase mse improved from 135 to 108 and mae from 9 to 8"
   ]
  },
  {
   "cell_type": "markdown",
   "id": "d7ddbb7e",
   "metadata": {},
   "source": [
    "# =============="
   ]
  },
  {
   "cell_type": "markdown",
   "id": "2f94ef6f",
   "metadata": {},
   "source": [
    "# ============"
   ]
  },
  {
   "cell_type": "markdown",
   "id": "f8b93a2f",
   "metadata": {},
   "source": [
    "# Using K-NN Classifier"
   ]
  },
  {
   "cell_type": "code",
   "execution_count": 73,
   "id": "27a4cb24",
   "metadata": {},
   "outputs": [],
   "source": [
    "from sklearn.neighbors import KNeighborsClassifier\n",
    "neigh_KNNClass= KNeighborsClassifier(n_neighbors=801)"
   ]
  },
  {
   "cell_type": "code",
   "execution_count": 81,
   "id": "29190cfc",
   "metadata": {},
   "outputs": [
    {
     "data": {
      "text/plain": [
       "KNeighborsClassifier(n_neighbors=801)"
      ]
     },
     "execution_count": 81,
     "metadata": {},
     "output_type": "execute_result"
    }
   ],
   "source": [
    "x1=(df3[['Height','Weight']])\n",
    "y1=(df3['Dummy_Male'])\n",
    "x1train,x1test,y1train,y1test=train_test_split(x1,y1,test_size=.30)\n",
    "neigh_KNNClass.fit(x1,y1)"
   ]
  },
  {
   "cell_type": "code",
   "execution_count": 84,
   "id": "323f30b3",
   "metadata": {},
   "outputs": [
    {
     "name": "stderr",
     "output_type": "stream",
     "text": [
      "C:\\Users\\e.haque\\Anaconda3\\lib\\site-packages\\sklearn\\base.py:450: UserWarning: X does not have valid feature names, but KNeighborsClassifier was fitted with feature names\n",
      "  warnings.warn(\n"
     ]
    },
    {
     "data": {
      "text/plain": [
       "array([1], dtype=uint8)"
      ]
     },
     "execution_count": 84,
     "metadata": {},
     "output_type": "execute_result"
    }
   ],
   "source": [
    "pred1=neigh_KNNClass.predict(x1test)\n",
    "neigh_KNNClass.predict([[73.847017,241.893563]])"
   ]
  },
  {
   "cell_type": "markdown",
   "id": "198b0b34",
   "metadata": {},
   "source": [
    "# Classification Report,Confusion Matrix, ROC,AUC and analysis"
   ]
  },
  {
   "cell_type": "code",
   "execution_count": 110,
   "id": "d668cb03",
   "metadata": {},
   "outputs": [],
   "source": [
    "from sklearn.metrics import classification_report,accuracy_score,confusion_matrix,plot_roc_curve"
   ]
  },
  {
   "cell_type": "code",
   "execution_count": 111,
   "id": "369def6f",
   "metadata": {},
   "outputs": [
    {
     "name": "stdout",
     "output_type": "stream",
     "text": [
      "              precision    recall  f1-score   support\n",
      "\n",
      "           0       0.88      0.86      0.87      1061\n",
      "           1       0.91      0.92      0.91      1506\n",
      "\n",
      "    accuracy                           0.90      2567\n",
      "   macro avg       0.89      0.89      0.89      2567\n",
      "weighted avg       0.90      0.90      0.90      2567\n",
      "\n"
     ]
    }
   ],
   "source": [
    "print(classification_report(y1test,pred1))"
   ]
  },
  {
   "cell_type": "code",
   "execution_count": 112,
   "id": "48b4fff8",
   "metadata": {},
   "outputs": [
    {
     "data": {
      "text/plain": [
       "0.8967666536813401"
      ]
     },
     "execution_count": 112,
     "metadata": {},
     "output_type": "execute_result"
    }
   ],
   "source": [
    "accuracy_score(y1test,pred1)"
   ]
  },
  {
   "cell_type": "code",
   "execution_count": 113,
   "id": "7a5e751e",
   "metadata": {},
   "outputs": [
    {
     "data": {
      "text/plain": [
       "array([[ 917,  144],\n",
       "       [ 121, 1385]], dtype=int64)"
      ]
     },
     "execution_count": 113,
     "metadata": {},
     "output_type": "execute_result"
    }
   ],
   "source": [
    "confusion_matrix(y1test,pred1)"
   ]
  },
  {
   "cell_type": "code",
   "execution_count": 114,
   "id": "4f1fdd1e",
   "metadata": {},
   "outputs": [],
   "source": [
    "tp,fn,fp,tn=confusion_matrix(y1test,pred1).reshape(-1)"
   ]
  },
  {
   "cell_type": "code",
   "execution_count": 115,
   "id": "05e64af2",
   "metadata": {},
   "outputs": [],
   "source": [
    "accuracy_knnclass=(tp+tn)/(tp+fp+tn+fn)"
   ]
  },
  {
   "cell_type": "code",
   "execution_count": 116,
   "id": "476a6fce",
   "metadata": {},
   "outputs": [
    {
     "data": {
      "text/plain": [
       "0.8967666536813401"
      ]
     },
     "execution_count": 116,
     "metadata": {},
     "output_type": "execute_result"
    }
   ],
   "source": [
    "accuracy_knnclass"
   ]
  },
  {
   "cell_type": "code",
   "execution_count": 117,
   "id": "1df2173f",
   "metadata": {},
   "outputs": [],
   "source": [
    "ppv_n=tp/(tp+fn)\n",
    "tpr_n=tp/(tp+fn)\n",
    "fpr_n=fp/(fp+tn)\n",
    "f1_measure_n=(ppv_n+tpr_n)/2\n",
    "f1_score_n=(2*ppv_n*tpr_n)/(ppv_n+tpr_n)\n",
    "tnr_n=tn/(tn+fp)\n",
    "csi_n=tp/(tp+fn+fp)\n",
    "fdr_n=fp/(tp+fp)"
   ]
  },
  {
   "cell_type": "code",
   "execution_count": 119,
   "id": "13b5f33e",
   "metadata": {},
   "outputs": [
    {
     "data": {
      "text/plain": [
       "0.8967666536813401"
      ]
     },
     "execution_count": 119,
     "metadata": {},
     "output_type": "execute_result"
    }
   ],
   "source": [
    "Accurcay_knnclass_t=(tp+tn)/(tp+fp+tn+fn)\n",
    "Accurcay_knnclass_t"
   ]
  },
  {
   "cell_type": "code",
   "execution_count": 120,
   "id": "fa060e60",
   "metadata": {},
   "outputs": [
    {
     "data": {
      "text/plain": [
       "0.8642789820923656"
      ]
     },
     "execution_count": 120,
     "metadata": {},
     "output_type": "execute_result"
    }
   ],
   "source": [
    "#PositivePredictiveValue\n",
    "ppv_n"
   ]
  },
  {
   "cell_type": "code",
   "execution_count": 121,
   "id": "11142fc7",
   "metadata": {},
   "outputs": [
    {
     "data": {
      "text/plain": [
       "0.8642789820923656"
      ]
     },
     "execution_count": 121,
     "metadata": {},
     "output_type": "execute_result"
    }
   ],
   "source": [
    "#truepositive rate\n",
    "tpr_n"
   ]
  },
  {
   "cell_type": "code",
   "execution_count": 123,
   "id": "803580a9",
   "metadata": {},
   "outputs": [
    {
     "data": {
      "text/plain": [
       "0.08034528552456839"
      ]
     },
     "execution_count": 123,
     "metadata": {},
     "output_type": "execute_result"
    }
   ],
   "source": [
    "#falsepositiv earte\n",
    "fpr_n"
   ]
  },
  {
   "cell_type": "code",
   "execution_count": 124,
   "id": "a7c29019",
   "metadata": {},
   "outputs": [
    {
     "data": {
      "text/plain": [
       "0.8642789820923656"
      ]
     },
     "execution_count": 124,
     "metadata": {},
     "output_type": "execute_result"
    }
   ],
   "source": [
    "#f1 measure\n",
    "f1_measure_n"
   ]
  },
  {
   "cell_type": "code",
   "execution_count": 125,
   "id": "c95e16b8",
   "metadata": {},
   "outputs": [
    {
     "data": {
      "text/plain": [
       "0.8642789820923656"
      ]
     },
     "execution_count": 125,
     "metadata": {},
     "output_type": "execute_result"
    }
   ],
   "source": [
    "#harmonic mean,f1 score\n",
    "f1_score_n"
   ]
  },
  {
   "cell_type": "code",
   "execution_count": 126,
   "id": "412f17a2",
   "metadata": {},
   "outputs": [
    {
     "data": {
      "text/plain": [
       "0.9196547144754316"
      ]
     },
     "execution_count": 126,
     "metadata": {},
     "output_type": "execute_result"
    }
   ],
   "source": [
    "#true negative rate\n",
    "tnr_n"
   ]
  },
  {
   "cell_type": "code",
   "execution_count": 127,
   "id": "76dd5e29",
   "metadata": {},
   "outputs": [
    {
     "data": {
      "text/plain": [
       "0.7758037225042301"
      ]
     },
     "execution_count": 127,
     "metadata": {},
     "output_type": "execute_result"
    }
   ],
   "source": [
    "#Critical Success Index\n",
    "csi_n"
   ]
  },
  {
   "cell_type": "code",
   "execution_count": 128,
   "id": "1f656c60",
   "metadata": {},
   "outputs": [
    {
     "data": {
      "text/plain": [
       "0.11657032755298652"
      ]
     },
     "execution_count": 128,
     "metadata": {},
     "output_type": "execute_result"
    }
   ],
   "source": [
    "#Flase Discover Rate\n",
    "fdr_n"
   ]
  },
  {
   "cell_type": "code",
   "execution_count": 139,
   "id": "08393c44",
   "metadata": {},
   "outputs": [
    {
     "name": "stderr",
     "output_type": "stream",
     "text": [
      "C:\\Users\\e.haque\\Anaconda3\\lib\\site-packages\\sklearn\\utils\\deprecation.py:87: FutureWarning: Function plot_roc_curve is deprecated; Function :func:`plot_roc_curve` is deprecated in 1.0 and will be removed in 1.2. Use one of the class methods: :meth:`sklearn.metric.RocCurveDisplay.from_predictions` or :meth:`sklearn.metric.RocCurveDisplay.from_estimator`.\n",
      "  warnings.warn(msg, category=FutureWarning)\n"
     ]
    },
    {
     "data": {
      "text/plain": [
       "Text(0.5, 1.0, 'ROC Curve')"
      ]
     },
     "execution_count": 139,
     "metadata": {},
     "output_type": "execute_result"
    },
    {
     "data": {
      "image/png": "[encoded data removed]",
      "text/plain": [
       "<Figure size 432x288 with 1 Axes>"
      ]
     },
     "metadata": {
      "needs_background": "light"
     },
     "output_type": "display_data"
    }
   ],
   "source": [
    "plot_roc_curve(neigh_KNNClass,x1test,y1test,color='Green')\n",
    "plt.plot([0,1],[0,1])\n",
    "plt.title('ROC Curve', color='blue')"
   ]
  },
  {
   "cell_type": "markdown",
   "id": "b01ba55e",
   "metadata": {},
   "source": [
    "# HyperParameter Tuning for K-NN Classifier"
   ]
  },
  {
   "cell_type": "code",
   "execution_count": 140,
   "id": "2ba8ea64",
   "metadata": {},
   "outputs": [],
   "source": [
    "rando1=RandomizedSearchCV(estimator=neigh_KNNClass,param_distributions=grids,n_iter=100)"
   ]
  },
  {
   "cell_type": "code",
   "execution_count": 142,
   "id": "d616447a",
   "metadata": {},
   "outputs": [
    {
     "name": "stderr",
     "output_type": "stream",
     "text": [
      "C:\\Users\\e.haque\\Anaconda3\\lib\\site-packages\\sklearn\\model_selection\\_search.py:292: UserWarning: The total space of parameters 40 is smaller than n_iter=100. Running 40 iterations. For exhaustive searches, use GridSearchCV.\n",
      "  warnings.warn(\n"
     ]
    },
    {
     "data": {
      "text/plain": [
       "RandomizedSearchCV(estimator=KNeighborsClassifier(n_neighbors=801), n_iter=100,\n",
       "                   param_distributions={'algorithm': ['auto', 'ball_tree',\n",
       "                                                      'kd_tree', 'brute'],\n",
       "                                        'leaf_size': [30],\n",
       "                                        'metric': ['minkowski'],\n",
       "                                        'metric_params': [None],\n",
       "                                        'n_jobs': [None],\n",
       "                                        'n_neighbors': [5, 51, 81, 101, 801],\n",
       "                                        'p': [2],\n",
       "                                        'weights': ['uniform', 'distance']})"
      ]
     },
     "execution_count": 142,
     "metadata": {},
     "output_type": "execute_result"
    }
   ],
   "source": [
    "rando1.fit(x1train,y1train)"
   ]
  },
  {
   "cell_type": "code",
   "execution_count": 143,
   "id": "2283ac3a",
   "metadata": {},
   "outputs": [
    {
     "data": {
      "text/plain": [
       "{'weights': 'uniform',\n",
       " 'p': 2,\n",
       " 'n_neighbors': 51,\n",
       " 'n_jobs': None,\n",
       " 'metric_params': None,\n",
       " 'metric': 'minkowski',\n",
       " 'leaf_size': 30,\n",
       " 'algorithm': 'auto'}"
      ]
     },
     "execution_count": 143,
     "metadata": {},
     "output_type": "execute_result"
    }
   ],
   "source": [
    "rando1.best_params_"
   ]
  },
  {
   "cell_type": "markdown",
   "id": "9e49cdb0",
   "metadata": {},
   "source": [
    "# checking for performance"
   ]
  },
  {
   "cell_type": "code",
   "execution_count": 145,
   "id": "65095372",
   "metadata": {},
   "outputs": [
    {
     "data": {
      "text/plain": [
       "KNeighborsClassifier(n_neighbors=51)"
      ]
     },
     "execution_count": 145,
     "metadata": {},
     "output_type": "execute_result"
    }
   ],
   "source": [
    "neigh_KNNClass_HP= KNeighborsClassifier(n_neighbors=51)\n",
    "neigh_KNNClass_HP.fit(x1,y1)"
   ]
  },
  {
   "cell_type": "code",
   "execution_count": null,
   "id": "008f9465",
   "metadata": {},
   "outputs": [],
   "source": []
  },
  {
   "cell_type": "code",
   "execution_count": null,
   "id": "8d158d6c",
   "metadata": {},
   "outputs": [],
   "source": [
    "KNN_Rsplit=np.random.randint(15,200,25)"
   ]
  },
  {
   "cell_type": "code",
   "execution_count": null,
   "id": "d13e949c",
   "metadata": {},
   "outputs": [],
   "source": []
  }
 ],
 "metadata": {
  "kernelspec": {
   "display_name": "Python 3 (ipykernel)",
   "language": "python",
   "name": "python3"
  },
  "language_info": {
   "codemirror_mode": {
    "name": "ipython",
    "version": 3
   },
   "file_extension": ".py",
   "mimetype": "text/x-python",
   "name": "python",
   "nbconvert_exporter": "python",
   "pygments_lexer": "ipython3",
   "version": "3.9.12"
  }
 },
 "nbformat": 4,
 "nbformat_minor": 5
}
