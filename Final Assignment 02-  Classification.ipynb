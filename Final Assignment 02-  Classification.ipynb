{
 "cells": [
  {
   "cell_type": "markdown",
   "id": "167a8fdc",
   "metadata": {},
   "source": [
    "# Submitted by Emdadul Haque\n",
    "# Final Assignment 2- Classification\n",
    "# All assignment areas covered"
   ]
  },
  {
   "cell_type": "code",
   "execution_count": 150,
   "id": "5390e530",
   "metadata": {},
   "outputs": [],
   "source": [
    "import matplotlib.pyplot as plt\n",
    "import pandas as pd\n",
    "import seaborn as sns"
   ]
  },
  {
   "cell_type": "code",
   "execution_count": 151,
   "id": "30fc9507",
   "metadata": {},
   "outputs": [],
   "source": [
    "df=pd.read_csv('Heart Disease.csv')"
   ]
  },
  {
   "cell_type": "code",
   "execution_count": 152,
   "id": "27ebdf29",
   "metadata": {},
   "outputs": [
    {
     "data": {
      "text/html": [
       "<div>\n",
       "<style scoped>\n",
       "    .dataframe tbody tr th:only-of-type {\n",
       "        vertical-align: middle;\n",
       "    }\n",
       "\n",
       "    .dataframe tbody tr th {\n",
       "        vertical-align: top;\n",
       "    }\n",
       "\n",
       "    .dataframe thead th {\n",
       "        text-align: right;\n",
       "    }\n",
       "</style>\n",
       "<table border=\"1\" class=\"dataframe\">\n",
       "  <thead>\n",
       "    <tr style=\"text-align: right;\">\n",
       "      <th></th>\n",
       "      <th>HeartDisease</th>\n",
       "      <th>BMI</th>\n",
       "      <th>Smoking</th>\n",
       "      <th>AlcoholDrinking</th>\n",
       "      <th>Stroke</th>\n",
       "      <th>PhysicalHealth</th>\n",
       "      <th>MentalHealth</th>\n",
       "      <th>DiffWalking</th>\n",
       "      <th>Sex</th>\n",
       "      <th>AgeCategory</th>\n",
       "      <th>Race</th>\n",
       "      <th>Diabetic</th>\n",
       "      <th>PhysicalActivity</th>\n",
       "      <th>GenHealth</th>\n",
       "      <th>SleepTime</th>\n",
       "      <th>Asthma</th>\n",
       "      <th>KidneyDisease</th>\n",
       "      <th>SkinCancer</th>\n",
       "    </tr>\n",
       "  </thead>\n",
       "  <tbody>\n",
       "    <tr>\n",
       "      <th>0</th>\n",
       "      <td>No</td>\n",
       "      <td>16.60</td>\n",
       "      <td>Yes</td>\n",
       "      <td>No</td>\n",
       "      <td>No</td>\n",
       "      <td>3.0</td>\n",
       "      <td>30.0</td>\n",
       "      <td>No</td>\n",
       "      <td>Female</td>\n",
       "      <td>55-59</td>\n",
       "      <td>White</td>\n",
       "      <td>Yes</td>\n",
       "      <td>Yes</td>\n",
       "      <td>Very good</td>\n",
       "      <td>5.0</td>\n",
       "      <td>Yes</td>\n",
       "      <td>No</td>\n",
       "      <td>Yes</td>\n",
       "    </tr>\n",
       "    <tr>\n",
       "      <th>1</th>\n",
       "      <td>No</td>\n",
       "      <td>20.34</td>\n",
       "      <td>No</td>\n",
       "      <td>No</td>\n",
       "      <td>Yes</td>\n",
       "      <td>0.0</td>\n",
       "      <td>0.0</td>\n",
       "      <td>No</td>\n",
       "      <td>Female</td>\n",
       "      <td>80 or older</td>\n",
       "      <td>White</td>\n",
       "      <td>No</td>\n",
       "      <td>Yes</td>\n",
       "      <td>Very good</td>\n",
       "      <td>7.0</td>\n",
       "      <td>No</td>\n",
       "      <td>No</td>\n",
       "      <td>No</td>\n",
       "    </tr>\n",
       "    <tr>\n",
       "      <th>2</th>\n",
       "      <td>No</td>\n",
       "      <td>26.58</td>\n",
       "      <td>Yes</td>\n",
       "      <td>No</td>\n",
       "      <td>No</td>\n",
       "      <td>20.0</td>\n",
       "      <td>30.0</td>\n",
       "      <td>No</td>\n",
       "      <td>Male</td>\n",
       "      <td>65-69</td>\n",
       "      <td>White</td>\n",
       "      <td>Yes</td>\n",
       "      <td>Yes</td>\n",
       "      <td>Fair</td>\n",
       "      <td>8.0</td>\n",
       "      <td>Yes</td>\n",
       "      <td>No</td>\n",
       "      <td>No</td>\n",
       "    </tr>\n",
       "    <tr>\n",
       "      <th>3</th>\n",
       "      <td>No</td>\n",
       "      <td>24.21</td>\n",
       "      <td>No</td>\n",
       "      <td>No</td>\n",
       "      <td>No</td>\n",
       "      <td>0.0</td>\n",
       "      <td>0.0</td>\n",
       "      <td>No</td>\n",
       "      <td>Female</td>\n",
       "      <td>75-79</td>\n",
       "      <td>White</td>\n",
       "      <td>No</td>\n",
       "      <td>No</td>\n",
       "      <td>Good</td>\n",
       "      <td>6.0</td>\n",
       "      <td>No</td>\n",
       "      <td>No</td>\n",
       "      <td>Yes</td>\n",
       "    </tr>\n",
       "    <tr>\n",
       "      <th>4</th>\n",
       "      <td>No</td>\n",
       "      <td>23.71</td>\n",
       "      <td>No</td>\n",
       "      <td>No</td>\n",
       "      <td>No</td>\n",
       "      <td>28.0</td>\n",
       "      <td>0.0</td>\n",
       "      <td>Yes</td>\n",
       "      <td>Female</td>\n",
       "      <td>40-44</td>\n",
       "      <td>White</td>\n",
       "      <td>No</td>\n",
       "      <td>Yes</td>\n",
       "      <td>Very good</td>\n",
       "      <td>8.0</td>\n",
       "      <td>No</td>\n",
       "      <td>No</td>\n",
       "      <td>No</td>\n",
       "    </tr>\n",
       "  </tbody>\n",
       "</table>\n",
       "</div>"
      ],
      "text/plain": [
       "  HeartDisease    BMI Smoking AlcoholDrinking Stroke  PhysicalHealth  \\\n",
       "0           No  16.60     Yes              No     No             3.0   \n",
       "1           No  20.34      No              No    Yes             0.0   \n",
       "2           No  26.58     Yes              No     No            20.0   \n",
       "3           No  24.21      No              No     No             0.0   \n",
       "4           No  23.71      No              No     No            28.0   \n",
       "\n",
       "   MentalHealth DiffWalking     Sex  AgeCategory   Race Diabetic  \\\n",
       "0          30.0          No  Female        55-59  White      Yes   \n",
       "1           0.0          No  Female  80 or older  White       No   \n",
       "2          30.0          No    Male        65-69  White      Yes   \n",
       "3           0.0          No  Female        75-79  White       No   \n",
       "4           0.0         Yes  Female        40-44  White       No   \n",
       "\n",
       "  PhysicalActivity  GenHealth  SleepTime Asthma KidneyDisease SkinCancer  \n",
       "0              Yes  Very good        5.0    Yes            No        Yes  \n",
       "1              Yes  Very good        7.0     No            No         No  \n",
       "2              Yes       Fair        8.0    Yes            No         No  \n",
       "3               No       Good        6.0     No            No        Yes  \n",
       "4              Yes  Very good        8.0     No            No         No  "
      ]
     },
     "execution_count": 152,
     "metadata": {},
     "output_type": "execute_result"
    }
   ],
   "source": [
    "df.head()"
   ]
  },
  {
   "cell_type": "code",
   "execution_count": 153,
   "id": "20acbf2d",
   "metadata": {},
   "outputs": [],
   "source": [
    "df1=df.copy()\n",
    "df2=df.copy()\n",
    "df2=df.copy()\n",
    "df3=df.copy()\n",
    "df4=df.copy()"
   ]
  },
  {
   "cell_type": "code",
   "execution_count": 154,
   "id": "354e9305",
   "metadata": {},
   "outputs": [
    {
     "data": {
      "text/plain": [
       "(319795, 18)"
      ]
     },
     "execution_count": 154,
     "metadata": {},
     "output_type": "execute_result"
    }
   ],
   "source": [
    "df.shape"
   ]
  },
  {
   "cell_type": "code",
   "execution_count": 155,
   "id": "f34b7502",
   "metadata": {},
   "outputs": [
    {
     "data": {
      "text/plain": [
       "HeartDisease        0\n",
       "BMI                 0\n",
       "Smoking             0\n",
       "AlcoholDrinking     0\n",
       "Stroke              0\n",
       "PhysicalHealth      0\n",
       "MentalHealth        0\n",
       "DiffWalking         0\n",
       "Sex                 0\n",
       "AgeCategory         0\n",
       "Race                0\n",
       "Diabetic            0\n",
       "PhysicalActivity    0\n",
       "GenHealth           0\n",
       "SleepTime           0\n",
       "Asthma              0\n",
       "KidneyDisease       0\n",
       "SkinCancer          0\n",
       "dtype: int64"
      ]
     },
     "execution_count": 155,
     "metadata": {},
     "output_type": "execute_result"
    }
   ],
   "source": [
    "df.isnull().sum()"
   ]
  },
  {
   "cell_type": "code",
   "execution_count": 156,
   "id": "45d5b545",
   "metadata": {},
   "outputs": [
    {
     "data": {
      "text/plain": [
       "No     292422\n",
       "Yes     27373\n",
       "Name: HeartDisease, dtype: int64"
      ]
     },
     "execution_count": 156,
     "metadata": {},
     "output_type": "execute_result"
    }
   ],
   "source": [
    "df['HeartDisease'].value_counts()"
   ]
  },
  {
   "cell_type": "code",
   "execution_count": 157,
   "id": "12665708",
   "metadata": {},
   "outputs": [
    {
     "data": {
      "text/plain": [
       "0.08559545959130067"
      ]
     },
     "execution_count": 157,
     "metadata": {},
     "output_type": "execute_result"
    }
   ],
   "source": [
    "27373/(27373+292422)"
   ]
  },
  {
   "cell_type": "code",
   "execution_count": 158,
   "id": "1ef6c4af",
   "metadata": {},
   "outputs": [
    {
     "name": "stderr",
     "output_type": "stream",
     "text": [
      "C:\\Users\\Administrator\\anaconda3\\lib\\site-packages\\seaborn\\_decorators.py:36: FutureWarning: Pass the following variable as a keyword arg: x. From version 0.12, the only valid positional argument will be `data`, and passing other arguments without an explicit keyword will result in an error or misinterpretation.\n",
      "  warnings.warn(\n"
     ]
    },
    {
     "data": {
      "text/plain": [
       "<AxesSubplot:xlabel='HeartDisease', ylabel='count'>"
      ]
     },
     "execution_count": 158,
     "metadata": {},
     "output_type": "execute_result"
    },
    {
     "data": {
      "image/png": "[encoded data removed]",
      "text/plain": [
       "<Figure size 432x288 with 1 Axes>"
      ]
     },
     "metadata": {
      "needs_background": "light"
     },
     "output_type": "display_data"
    }
   ],
   "source": [
    "sns.countplot(df['HeartDisease'],color='#2B00FF')"
   ]
  },
  {
   "cell_type": "code",
   "execution_count": 159,
   "id": "01d53f05",
   "metadata": {},
   "outputs": [],
   "source": [
    "df=df.dropna()"
   ]
  },
  {
   "cell_type": "code",
   "execution_count": 160,
   "id": "0d4dd8e1",
   "metadata": {},
   "outputs": [],
   "source": [
    "df.drop_duplicates(inplace=True)"
   ]
  },
  {
   "cell_type": "code",
   "execution_count": 161,
   "id": "a6ab6e8c",
   "metadata": {},
   "outputs": [
    {
     "data": {
      "text/plain": [
       "(301717, 18)"
      ]
     },
     "execution_count": 161,
     "metadata": {},
     "output_type": "execute_result"
    }
   ],
   "source": [
    "df.shape"
   ]
  },
  {
   "cell_type": "code",
   "execution_count": 162,
   "id": "88286085",
   "metadata": {},
   "outputs": [
    {
     "data": {
      "text/html": [
       "<div>\n",
       "<style scoped>\n",
       "    .dataframe tbody tr th:only-of-type {\n",
       "        vertical-align: middle;\n",
       "    }\n",
       "\n",
       "    .dataframe tbody tr th {\n",
       "        vertical-align: top;\n",
       "    }\n",
       "\n",
       "    .dataframe thead th {\n",
       "        text-align: right;\n",
       "    }\n",
       "</style>\n",
       "<table border=\"1\" class=\"dataframe\">\n",
       "  <thead>\n",
       "    <tr style=\"text-align: right;\">\n",
       "      <th></th>\n",
       "      <th>BMI</th>\n",
       "      <th>PhysicalHealth</th>\n",
       "      <th>MentalHealth</th>\n",
       "      <th>SleepTime</th>\n",
       "    </tr>\n",
       "  </thead>\n",
       "  <tbody>\n",
       "    <tr>\n",
       "      <th>BMI</th>\n",
       "      <td>1.000000</td>\n",
       "      <td>0.103813</td>\n",
       "      <td>0.056724</td>\n",
       "      <td>-0.048653</td>\n",
       "    </tr>\n",
       "    <tr>\n",
       "      <th>PhysicalHealth</th>\n",
       "      <td>0.103813</td>\n",
       "      <td>1.000000</td>\n",
       "      <td>0.279657</td>\n",
       "      <td>-0.058406</td>\n",
       "    </tr>\n",
       "    <tr>\n",
       "      <th>MentalHealth</th>\n",
       "      <td>0.056724</td>\n",
       "      <td>0.279657</td>\n",
       "      <td>1.000000</td>\n",
       "      <td>-0.117078</td>\n",
       "    </tr>\n",
       "    <tr>\n",
       "      <th>SleepTime</th>\n",
       "      <td>-0.048653</td>\n",
       "      <td>-0.058406</td>\n",
       "      <td>-0.117078</td>\n",
       "      <td>1.000000</td>\n",
       "    </tr>\n",
       "  </tbody>\n",
       "</table>\n",
       "</div>"
      ],
      "text/plain": [
       "                     BMI  PhysicalHealth  MentalHealth  SleepTime\n",
       "BMI             1.000000        0.103813      0.056724  -0.048653\n",
       "PhysicalHealth  0.103813        1.000000      0.279657  -0.058406\n",
       "MentalHealth    0.056724        0.279657      1.000000  -0.117078\n",
       "SleepTime      -0.048653       -0.058406     -0.117078   1.000000"
      ]
     },
     "execution_count": 162,
     "metadata": {},
     "output_type": "execute_result"
    }
   ],
   "source": [
    "df.corr()"
   ]
  },
  {
   "cell_type": "code",
   "execution_count": 163,
   "id": "ed377972",
   "metadata": {},
   "outputs": [
    {
     "data": {
      "text/plain": [
       "<AxesSubplot:>"
      ]
     },
     "execution_count": 163,
     "metadata": {},
     "output_type": "execute_result"
    },
    {
     "data": {
      "image/png": "[encoded data removed]",
      "text/plain": [
       "<Figure size 864x576 with 2 Axes>"
      ]
     },
     "metadata": {
      "needs_background": "light"
     },
     "output_type": "display_data"
    }
   ],
   "source": [
    "plt.figure(figsize=(12,8))\n",
    "sns.heatmap(df.corr(),annot=True)"
   ]
  },
  {
   "cell_type": "markdown",
   "id": "13d89248",
   "metadata": {},
   "source": [
    "# Basic Vizualization with Seaborn Library"
   ]
  },
  {
   "cell_type": "code",
   "execution_count": 164,
   "id": "ede17e91",
   "metadata": {},
   "outputs": [],
   "source": [
    "dfv=df"
   ]
  },
  {
   "cell_type": "code",
   "execution_count": 165,
   "id": "364e288b",
   "metadata": {},
   "outputs": [
    {
     "data": {
      "text/html": [
       "<div>\n",
       "<style scoped>\n",
       "    .dataframe tbody tr th:only-of-type {\n",
       "        vertical-align: middle;\n",
       "    }\n",
       "\n",
       "    .dataframe tbody tr th {\n",
       "        vertical-align: top;\n",
       "    }\n",
       "\n",
       "    .dataframe thead th {\n",
       "        text-align: right;\n",
       "    }\n",
       "</style>\n",
       "<table border=\"1\" class=\"dataframe\">\n",
       "  <thead>\n",
       "    <tr style=\"text-align: right;\">\n",
       "      <th></th>\n",
       "      <th>HeartDisease</th>\n",
       "      <th>BMI</th>\n",
       "      <th>Smoking</th>\n",
       "      <th>AlcoholDrinking</th>\n",
       "      <th>Stroke</th>\n",
       "      <th>PhysicalHealth</th>\n",
       "      <th>MentalHealth</th>\n",
       "      <th>DiffWalking</th>\n",
       "      <th>Sex</th>\n",
       "      <th>AgeCategory</th>\n",
       "      <th>Race</th>\n",
       "      <th>Diabetic</th>\n",
       "      <th>PhysicalActivity</th>\n",
       "      <th>GenHealth</th>\n",
       "      <th>SleepTime</th>\n",
       "      <th>Asthma</th>\n",
       "      <th>KidneyDisease</th>\n",
       "      <th>SkinCancer</th>\n",
       "    </tr>\n",
       "  </thead>\n",
       "  <tbody>\n",
       "    <tr>\n",
       "      <th>0</th>\n",
       "      <td>No</td>\n",
       "      <td>16.60</td>\n",
       "      <td>Yes</td>\n",
       "      <td>No</td>\n",
       "      <td>No</td>\n",
       "      <td>3.0</td>\n",
       "      <td>30.0</td>\n",
       "      <td>No</td>\n",
       "      <td>Female</td>\n",
       "      <td>55-59</td>\n",
       "      <td>White</td>\n",
       "      <td>Yes</td>\n",
       "      <td>Yes</td>\n",
       "      <td>Very good</td>\n",
       "      <td>5.0</td>\n",
       "      <td>Yes</td>\n",
       "      <td>No</td>\n",
       "      <td>Yes</td>\n",
       "    </tr>\n",
       "    <tr>\n",
       "      <th>1</th>\n",
       "      <td>No</td>\n",
       "      <td>20.34</td>\n",
       "      <td>No</td>\n",
       "      <td>No</td>\n",
       "      <td>Yes</td>\n",
       "      <td>0.0</td>\n",
       "      <td>0.0</td>\n",
       "      <td>No</td>\n",
       "      <td>Female</td>\n",
       "      <td>80 or older</td>\n",
       "      <td>White</td>\n",
       "      <td>No</td>\n",
       "      <td>Yes</td>\n",
       "      <td>Very good</td>\n",
       "      <td>7.0</td>\n",
       "      <td>No</td>\n",
       "      <td>No</td>\n",
       "      <td>No</td>\n",
       "    </tr>\n",
       "    <tr>\n",
       "      <th>2</th>\n",
       "      <td>No</td>\n",
       "      <td>26.58</td>\n",
       "      <td>Yes</td>\n",
       "      <td>No</td>\n",
       "      <td>No</td>\n",
       "      <td>20.0</td>\n",
       "      <td>30.0</td>\n",
       "      <td>No</td>\n",
       "      <td>Male</td>\n",
       "      <td>65-69</td>\n",
       "      <td>White</td>\n",
       "      <td>Yes</td>\n",
       "      <td>Yes</td>\n",
       "      <td>Fair</td>\n",
       "      <td>8.0</td>\n",
       "      <td>Yes</td>\n",
       "      <td>No</td>\n",
       "      <td>No</td>\n",
       "    </tr>\n",
       "    <tr>\n",
       "      <th>3</th>\n",
       "      <td>No</td>\n",
       "      <td>24.21</td>\n",
       "      <td>No</td>\n",
       "      <td>No</td>\n",
       "      <td>No</td>\n",
       "      <td>0.0</td>\n",
       "      <td>0.0</td>\n",
       "      <td>No</td>\n",
       "      <td>Female</td>\n",
       "      <td>75-79</td>\n",
       "      <td>White</td>\n",
       "      <td>No</td>\n",
       "      <td>No</td>\n",
       "      <td>Good</td>\n",
       "      <td>6.0</td>\n",
       "      <td>No</td>\n",
       "      <td>No</td>\n",
       "      <td>Yes</td>\n",
       "    </tr>\n",
       "    <tr>\n",
       "      <th>4</th>\n",
       "      <td>No</td>\n",
       "      <td>23.71</td>\n",
       "      <td>No</td>\n",
       "      <td>No</td>\n",
       "      <td>No</td>\n",
       "      <td>28.0</td>\n",
       "      <td>0.0</td>\n",
       "      <td>Yes</td>\n",
       "      <td>Female</td>\n",
       "      <td>40-44</td>\n",
       "      <td>White</td>\n",
       "      <td>No</td>\n",
       "      <td>Yes</td>\n",
       "      <td>Very good</td>\n",
       "      <td>8.0</td>\n",
       "      <td>No</td>\n",
       "      <td>No</td>\n",
       "      <td>No</td>\n",
       "    </tr>\n",
       "    <tr>\n",
       "      <th>...</th>\n",
       "      <td>...</td>\n",
       "      <td>...</td>\n",
       "      <td>...</td>\n",
       "      <td>...</td>\n",
       "      <td>...</td>\n",
       "      <td>...</td>\n",
       "      <td>...</td>\n",
       "      <td>...</td>\n",
       "      <td>...</td>\n",
       "      <td>...</td>\n",
       "      <td>...</td>\n",
       "      <td>...</td>\n",
       "      <td>...</td>\n",
       "      <td>...</td>\n",
       "      <td>...</td>\n",
       "      <td>...</td>\n",
       "      <td>...</td>\n",
       "      <td>...</td>\n",
       "    </tr>\n",
       "    <tr>\n",
       "      <th>319790</th>\n",
       "      <td>Yes</td>\n",
       "      <td>27.41</td>\n",
       "      <td>Yes</td>\n",
       "      <td>No</td>\n",
       "      <td>No</td>\n",
       "      <td>7.0</td>\n",
       "      <td>0.0</td>\n",
       "      <td>Yes</td>\n",
       "      <td>Male</td>\n",
       "      <td>60-64</td>\n",
       "      <td>Hispanic</td>\n",
       "      <td>Yes</td>\n",
       "      <td>No</td>\n",
       "      <td>Fair</td>\n",
       "      <td>6.0</td>\n",
       "      <td>Yes</td>\n",
       "      <td>No</td>\n",
       "      <td>No</td>\n",
       "    </tr>\n",
       "    <tr>\n",
       "      <th>319791</th>\n",
       "      <td>No</td>\n",
       "      <td>29.84</td>\n",
       "      <td>Yes</td>\n",
       "      <td>No</td>\n",
       "      <td>No</td>\n",
       "      <td>0.0</td>\n",
       "      <td>0.0</td>\n",
       "      <td>No</td>\n",
       "      <td>Male</td>\n",
       "      <td>35-39</td>\n",
       "      <td>Hispanic</td>\n",
       "      <td>No</td>\n",
       "      <td>Yes</td>\n",
       "      <td>Very good</td>\n",
       "      <td>5.0</td>\n",
       "      <td>Yes</td>\n",
       "      <td>No</td>\n",
       "      <td>No</td>\n",
       "    </tr>\n",
       "    <tr>\n",
       "      <th>319792</th>\n",
       "      <td>No</td>\n",
       "      <td>24.24</td>\n",
       "      <td>No</td>\n",
       "      <td>No</td>\n",
       "      <td>No</td>\n",
       "      <td>0.0</td>\n",
       "      <td>0.0</td>\n",
       "      <td>No</td>\n",
       "      <td>Female</td>\n",
       "      <td>45-49</td>\n",
       "      <td>Hispanic</td>\n",
       "      <td>No</td>\n",
       "      <td>Yes</td>\n",
       "      <td>Good</td>\n",
       "      <td>6.0</td>\n",
       "      <td>No</td>\n",
       "      <td>No</td>\n",
       "      <td>No</td>\n",
       "    </tr>\n",
       "    <tr>\n",
       "      <th>319793</th>\n",
       "      <td>No</td>\n",
       "      <td>32.81</td>\n",
       "      <td>No</td>\n",
       "      <td>No</td>\n",
       "      <td>No</td>\n",
       "      <td>0.0</td>\n",
       "      <td>0.0</td>\n",
       "      <td>No</td>\n",
       "      <td>Female</td>\n",
       "      <td>25-29</td>\n",
       "      <td>Hispanic</td>\n",
       "      <td>No</td>\n",
       "      <td>No</td>\n",
       "      <td>Good</td>\n",
       "      <td>12.0</td>\n",
       "      <td>No</td>\n",
       "      <td>No</td>\n",
       "      <td>No</td>\n",
       "    </tr>\n",
       "    <tr>\n",
       "      <th>319794</th>\n",
       "      <td>No</td>\n",
       "      <td>46.56</td>\n",
       "      <td>No</td>\n",
       "      <td>No</td>\n",
       "      <td>No</td>\n",
       "      <td>0.0</td>\n",
       "      <td>0.0</td>\n",
       "      <td>No</td>\n",
       "      <td>Female</td>\n",
       "      <td>80 or older</td>\n",
       "      <td>Hispanic</td>\n",
       "      <td>No</td>\n",
       "      <td>Yes</td>\n",
       "      <td>Good</td>\n",
       "      <td>8.0</td>\n",
       "      <td>No</td>\n",
       "      <td>No</td>\n",
       "      <td>No</td>\n",
       "    </tr>\n",
       "  </tbody>\n",
       "</table>\n",
       "<p>301717 rows × 18 columns</p>\n",
       "</div>"
      ],
      "text/plain": [
       "       HeartDisease    BMI Smoking AlcoholDrinking Stroke  PhysicalHealth  \\\n",
       "0                No  16.60     Yes              No     No             3.0   \n",
       "1                No  20.34      No              No    Yes             0.0   \n",
       "2                No  26.58     Yes              No     No            20.0   \n",
       "3                No  24.21      No              No     No             0.0   \n",
       "4                No  23.71      No              No     No            28.0   \n",
       "...             ...    ...     ...             ...    ...             ...   \n",
       "319790          Yes  27.41     Yes              No     No             7.0   \n",
       "319791           No  29.84     Yes              No     No             0.0   \n",
       "319792           No  24.24      No              No     No             0.0   \n",
       "319793           No  32.81      No              No     No             0.0   \n",
       "319794           No  46.56      No              No     No             0.0   \n",
       "\n",
       "        MentalHealth DiffWalking     Sex  AgeCategory      Race Diabetic  \\\n",
       "0               30.0          No  Female        55-59     White      Yes   \n",
       "1                0.0          No  Female  80 or older     White       No   \n",
       "2               30.0          No    Male        65-69     White      Yes   \n",
       "3                0.0          No  Female        75-79     White       No   \n",
       "4                0.0         Yes  Female        40-44     White       No   \n",
       "...              ...         ...     ...          ...       ...      ...   \n",
       "319790           0.0         Yes    Male        60-64  Hispanic      Yes   \n",
       "319791           0.0          No    Male        35-39  Hispanic       No   \n",
       "319792           0.0          No  Female        45-49  Hispanic       No   \n",
       "319793           0.0          No  Female        25-29  Hispanic       No   \n",
       "319794           0.0          No  Female  80 or older  Hispanic       No   \n",
       "\n",
       "       PhysicalActivity  GenHealth  SleepTime Asthma KidneyDisease SkinCancer  \n",
       "0                   Yes  Very good        5.0    Yes            No        Yes  \n",
       "1                   Yes  Very good        7.0     No            No         No  \n",
       "2                   Yes       Fair        8.0    Yes            No         No  \n",
       "3                    No       Good        6.0     No            No        Yes  \n",
       "4                   Yes  Very good        8.0     No            No         No  \n",
       "...                 ...        ...        ...    ...           ...        ...  \n",
       "319790               No       Fair        6.0    Yes            No         No  \n",
       "319791              Yes  Very good        5.0    Yes            No         No  \n",
       "319792              Yes       Good        6.0     No            No         No  \n",
       "319793               No       Good       12.0     No            No         No  \n",
       "319794              Yes       Good        8.0     No            No         No  \n",
       "\n",
       "[301717 rows x 18 columns]"
      ]
     },
     "execution_count": 165,
     "metadata": {},
     "output_type": "execute_result"
    }
   ],
   "source": [
    "dfv # this is dataframe solely for vizualtion"
   ]
  },
  {
   "cell_type": "code",
   "execution_count": 166,
   "id": "b87c83a7",
   "metadata": {},
   "outputs": [
    {
     "data": {
      "text/plain": [
       "<AxesSubplot:xlabel='Sex', ylabel='count'>"
      ]
     },
     "execution_count": 166,
     "metadata": {},
     "output_type": "execute_result"
    },
    {
     "data": {
      "image/png": "[encoded data removed]",
      "text/plain": [
       "<Figure size 432x288 with 1 Axes>"
      ]
     },
     "metadata": {
      "needs_background": "light"
     },
     "output_type": "display_data"
    }
   ],
   "source": [
    "sns.countplot(x='Sex',hue='HeartDisease',data=dfv)"
   ]
  },
  {
   "cell_type": "code",
   "execution_count": 167,
   "id": "2c3ef844",
   "metadata": {},
   "outputs": [
    {
     "data": {
      "text/plain": [
       "<AxesSubplot:xlabel='AgeCategory', ylabel='count'>"
      ]
     },
     "execution_count": 167,
     "metadata": {},
     "output_type": "execute_result"
    },
    {
     "data": {
      "image/png": "[encoded data removed]",
      "text/plain": [
       "<Figure size 864x576 with 1 Axes>"
      ]
     },
     "metadata": {
      "needs_background": "light"
     },
     "output_type": "display_data"
    }
   ],
   "source": [
    "plt.figure(figsize=(12,8))\n",
    "sns.countplot(x='AgeCategory',hue='HeartDisease',data=dfv)"
   ]
  },
  {
   "cell_type": "code",
   "execution_count": 168,
   "id": "a5e07671",
   "metadata": {},
   "outputs": [
    {
     "data": {
      "text/plain": [
       "<AxesSubplot:xlabel='Smoking', ylabel='count'>"
      ]
     },
     "execution_count": 168,
     "metadata": {},
     "output_type": "execute_result"
    },
    {
     "data": {
      "image/png": "[encoded data removed]",
      "text/plain": [
       "<Figure size 432x288 with 1 Axes>"
      ]
     },
     "metadata": {
      "needs_background": "light"
     },
     "output_type": "display_data"
    }
   ],
   "source": [
    "# plt.figure(figsize=(12,8))\n",
    "sns.countplot(x='Smoking',hue='HeartDisease',data=dfv)"
   ]
  },
  {
   "cell_type": "code",
   "execution_count": 169,
   "id": "c6506f0d",
   "metadata": {},
   "outputs": [
    {
     "data": {
      "text/plain": [
       "No     174312\n",
       "Yes    127405\n",
       "Name: Smoking, dtype: int64"
      ]
     },
     "execution_count": 169,
     "metadata": {},
     "output_type": "execute_result"
    }
   ],
   "source": [
    "dfv['Smoking'].value_counts()"
   ]
  },
  {
   "cell_type": "code",
   "execution_count": 170,
   "id": "41a2ad03",
   "metadata": {},
   "outputs": [
    {
     "data": {
      "text/plain": [
       "<AxesSubplot:xlabel='count', ylabel='BMI'>"
      ]
     },
     "execution_count": 170,
     "metadata": {},
     "output_type": "execute_result"
    },
    {
     "data": {
      "image/png": "[encoded data removed]",
      "text/plain": [
       "<Figure size 1152x720 with 1 Axes>"
      ]
     },
     "metadata": {
      "needs_background": "light"
     },
     "output_type": "display_data"
    }
   ],
   "source": [
    "plt.figure(figsize=(16,10))\n",
    "sns.countplot(y='BMI',hue='HeartDisease',data=dfv)"
   ]
  },
  {
   "cell_type": "code",
   "execution_count": 171,
   "id": "1be3284c",
   "metadata": {},
   "outputs": [],
   "source": [
    "# id_vars=['BMI']\n",
    "# df.long=pd.melt(dfv,id_vars,dfv[['Smoking','Diabetic','SleepingTime','Sex','Race','Alcohol','Asthma','KidneyDisease']])\n",
    "# sns.catplot(x='variabe',hue=\"value\",col=\"BMI\",data=df_long,kind=\"count\");"
   ]
  },
  {
   "cell_type": "code",
   "execution_count": 172,
   "id": "aaa6e85f",
   "metadata": {},
   "outputs": [
    {
     "data": {
      "text/plain": [
       "<AxesSubplot:xlabel='Sex', ylabel='count'>"
      ]
     },
     "execution_count": 172,
     "metadata": {},
     "output_type": "execute_result"
    },
    {
     "data": {
      "image/png": "[encoded data removed]",
      "text/plain": [
       "<Figure size 432x288 with 1 Axes>"
      ]
     },
     "metadata": {
      "needs_background": "light"
     },
     "output_type": "display_data"
    }
   ],
   "source": [
    "sns.countplot(x='Sex',hue='HeartDisease',data=dfv)"
   ]
  },
  {
   "cell_type": "code",
   "execution_count": 173,
   "id": "9161284c",
   "metadata": {},
   "outputs": [
    {
     "data": {
      "text/plain": [
       "Female    159671\n",
       "Male      142046\n",
       "Name: Sex, dtype: int64"
      ]
     },
     "execution_count": 173,
     "metadata": {},
     "output_type": "execute_result"
    }
   ],
   "source": [
    "dfv['Sex'].value_counts()"
   ]
  },
  {
   "cell_type": "code",
   "execution_count": 174,
   "id": "be1d722c",
   "metadata": {},
   "outputs": [],
   "source": [
    "f=(159671/(159671+142046))\n",
    "m=(142046/(159671+142046))"
   ]
  },
  {
   "cell_type": "code",
   "execution_count": 175,
   "id": "2a630451",
   "metadata": {},
   "outputs": [
    {
     "data": {
      "text/plain": [
       "0.5292078338310403"
      ]
     },
     "execution_count": 175,
     "metadata": {},
     "output_type": "execute_result"
    }
   ],
   "source": [
    "f"
   ]
  },
  {
   "cell_type": "code",
   "execution_count": 176,
   "id": "1e8e0109",
   "metadata": {},
   "outputs": [
    {
     "data": {
      "text/plain": [
       "0.47079216616895964"
      ]
     },
     "execution_count": 176,
     "metadata": {},
     "output_type": "execute_result"
    }
   ],
   "source": [
    "m"
   ]
  },
  {
   "cell_type": "code",
   "execution_count": 177,
   "id": "7715134b",
   "metadata": {},
   "outputs": [
    {
     "data": {
      "text/plain": [
       "<AxesSubplot:xlabel='Diabetic', ylabel='count'>"
      ]
     },
     "execution_count": 177,
     "metadata": {},
     "output_type": "execute_result"
    },
    {
     "data": {
      "image/png": "[encoded data removed]",
      "text/plain": [
       "<Figure size 1152x720 with 1 Axes>"
      ]
     },
     "metadata": {
      "needs_background": "light"
     },
     "output_type": "display_data"
    }
   ],
   "source": [
    "plt.figure(figsize=(16,10))\n",
    "sns.countplot(x='Diabetic',hue='HeartDisease',data=dfv)"
   ]
  },
  {
   "cell_type": "code",
   "execution_count": 178,
   "id": "c35e164b",
   "metadata": {},
   "outputs": [
    {
     "data": {
      "text/plain": [
       "No                         251796\n",
       "Yes                         40589\n",
       "No, borderline diabetes      6776\n",
       "Yes (during pregnancy)       2556\n",
       "Name: Diabetic, dtype: int64"
      ]
     },
     "execution_count": 178,
     "metadata": {},
     "output_type": "execute_result"
    }
   ],
   "source": [
    "dfv['Diabetic'].value_counts()"
   ]
  },
  {
   "cell_type": "code",
   "execution_count": 179,
   "id": "dd795726",
   "metadata": {},
   "outputs": [
    {
     "data": {
      "text/plain": [
       "<AxesSubplot:xlabel='PhysicalActivity', ylabel='count'>"
      ]
     },
     "execution_count": 179,
     "metadata": {},
     "output_type": "execute_result"
    },
    {
     "data": {
      "image/png": "[encoded data removed]",
      "text/plain": [
       "<Figure size 432x288 with 1 Axes>"
      ]
     },
     "metadata": {
      "needs_background": "light"
     },
     "output_type": "display_data"
    }
   ],
   "source": [
    "sns.countplot(x='PhysicalActivity',hue='HeartDisease',data=dfv)"
   ]
  },
  {
   "cell_type": "code",
   "execution_count": 180,
   "id": "7ad07deb",
   "metadata": {},
   "outputs": [
    {
     "data": {
      "text/plain": [
       "Yes    230412\n",
       "No      71305\n",
       "Name: PhysicalActivity, dtype: int64"
      ]
     },
     "execution_count": 180,
     "metadata": {},
     "output_type": "execute_result"
    }
   ],
   "source": [
    "dfv['PhysicalActivity'].value_counts()"
   ]
  },
  {
   "cell_type": "code",
   "execution_count": 181,
   "id": "8e2e9597",
   "metadata": {},
   "outputs": [
    {
     "data": {
      "text/plain": [
       "<AxesSubplot:xlabel='KidneyDisease', ylabel='count'>"
      ]
     },
     "execution_count": 181,
     "metadata": {},
     "output_type": "execute_result"
    },
    {
     "data": {
      "image/png": "[encoded data removed]",
      "text/plain": [
       "<Figure size 432x288 with 1 Axes>"
      ]
     },
     "metadata": {
      "needs_background": "light"
     },
     "output_type": "display_data"
    }
   ],
   "source": [
    "sns.countplot(x='KidneyDisease',hue='HeartDisease',data=dfv)"
   ]
  },
  {
   "cell_type": "code",
   "execution_count": 182,
   "id": "a432cf42",
   "metadata": {},
   "outputs": [
    {
     "data": {
      "text/plain": [
       "No     289941\n",
       "Yes     11776\n",
       "Name: KidneyDisease, dtype: int64"
      ]
     },
     "execution_count": 182,
     "metadata": {},
     "output_type": "execute_result"
    }
   ],
   "source": [
    "dfv['KidneyDisease'].value_counts()"
   ]
  },
  {
   "cell_type": "code",
   "execution_count": 183,
   "id": "917c7ad0",
   "metadata": {},
   "outputs": [
    {
     "data": {
      "text/plain": [
       "<AxesSubplot:xlabel='SleepTime', ylabel='count'>"
      ]
     },
     "execution_count": 183,
     "metadata": {},
     "output_type": "execute_result"
    },
    {
     "data": {
      "image/png": "[encoded data removed]",
      "text/plain": [
       "<Figure size 1152x720 with 1 Axes>"
      ]
     },
     "metadata": {
      "needs_background": "light"
     },
     "output_type": "display_data"
    }
   ],
   "source": [
    "plt.figure(figsize=(16,10))\n",
    "sns.countplot(x='SleepTime',hue='HeartDisease',data=dfv)"
   ]
  },
  {
   "cell_type": "code",
   "execution_count": 184,
   "id": "cd6e0246",
   "metadata": {},
   "outputs": [
    {
     "data": {
      "text/plain": [
       "8.0     90202\n",
       "7.0     89445\n",
       "6.0     64655\n",
       "5.0     19101\n",
       "9.0     15853\n",
       "10.0     7782\n",
       "4.0      7730\n",
       "12.0     2204\n",
       "3.0      1992\n",
       "2.0       788\n",
       "1.0       551\n",
       "11.0      415\n",
       "14.0      243\n",
       "16.0      236\n",
       "15.0      189\n",
       "18.0      102\n",
       "13.0       97\n",
       "20.0       64\n",
       "24.0       30\n",
       "17.0       21\n",
       "22.0        9\n",
       "19.0        3\n",
       "23.0        3\n",
       "21.0        2\n",
       "Name: SleepTime, dtype: int64"
      ]
     },
     "execution_count": 184,
     "metadata": {},
     "output_type": "execute_result"
    }
   ],
   "source": [
    "dfv['SleepTime'].value_counts()"
   ]
  },
  {
   "cell_type": "code",
   "execution_count": 185,
   "id": "b8484889",
   "metadata": {},
   "outputs": [
    {
     "data": {
      "text/plain": [
       "<AxesSubplot:xlabel='Asthma', ylabel='count'>"
      ]
     },
     "execution_count": 185,
     "metadata": {},
     "output_type": "execute_result"
    },
    {
     "data": {
      "image/png": "[encoded data removed]",
      "text/plain": [
       "<Figure size 432x288 with 1 Axes>"
      ]
     },
     "metadata": {
      "needs_background": "light"
     },
     "output_type": "display_data"
    }
   ],
   "source": [
    "sns.countplot(x='Asthma',hue='HeartDisease',data=dfv)"
   ]
  },
  {
   "cell_type": "code",
   "execution_count": 186,
   "id": "a9c8ef7b",
   "metadata": {},
   "outputs": [
    {
     "data": {
      "text/plain": [
       "No     259066\n",
       "Yes     42651\n",
       "Name: Asthma, dtype: int64"
      ]
     },
     "execution_count": 186,
     "metadata": {},
     "output_type": "execute_result"
    }
   ],
   "source": [
    "dfv['Asthma'].value_counts()"
   ]
  },
  {
   "cell_type": "code",
   "execution_count": 187,
   "id": "9d312ade",
   "metadata": {},
   "outputs": [
    {
     "data": {
      "text/plain": [
       "<AxesSubplot:xlabel='Stroke', ylabel='count'>"
      ]
     },
     "execution_count": 187,
     "metadata": {},
     "output_type": "execute_result"
    },
    {
     "data": {
      "image/png": "[encoded data removed]",
      "text/plain": [
       "<Figure size 432x288 with 1 Axes>"
      ]
     },
     "metadata": {
      "needs_background": "light"
     },
     "output_type": "display_data"
    }
   ],
   "source": [
    "sns.countplot(x='Stroke',hue='HeartDisease',data=dfv)"
   ]
  },
  {
   "cell_type": "code",
   "execution_count": 188,
   "id": "b2ad4968",
   "metadata": {},
   "outputs": [
    {
     "data": {
      "text/plain": [
       "No     289653\n",
       "Yes     12064\n",
       "Name: Stroke, dtype: int64"
      ]
     },
     "execution_count": 188,
     "metadata": {},
     "output_type": "execute_result"
    }
   ],
   "source": [
    "dfv['Stroke'].value_counts()"
   ]
  },
  {
   "cell_type": "code",
   "execution_count": 189,
   "id": "22a3daff",
   "metadata": {},
   "outputs": [
    {
     "data": {
      "text/plain": [
       "<AxesSubplot:xlabel='Diabetic', ylabel='count'>"
      ]
     },
     "execution_count": 189,
     "metadata": {},
     "output_type": "execute_result"
    },
    {
     "data": {
      "image/png": "[encoded data removed]",
      "text/plain": [
       "<Figure size 720x432 with 1 Axes>"
      ]
     },
     "metadata": {
      "needs_background": "light"
     },
     "output_type": "display_data"
    }
   ],
   "source": [
    "plt.figure(figsize=(10,6))\n",
    "sns.countplot(x='Diabetic',hue='HeartDisease',data=dfv)"
   ]
  },
  {
   "cell_type": "markdown",
   "id": "b6f13243",
   "metadata": {},
   "source": [
    "# Scatter plot"
   ]
  },
  {
   "cell_type": "code",
   "execution_count": 190,
   "id": "09815786",
   "metadata": {},
   "outputs": [
    {
     "data": {
      "text/plain": [
       "Index(['HeartDisease', 'BMI', 'Smoking', 'AlcoholDrinking', 'Stroke',\n",
       "       'PhysicalHealth', 'MentalHealth', 'DiffWalking', 'Sex', 'AgeCategory',\n",
       "       'Race', 'Diabetic', 'PhysicalActivity', 'GenHealth', 'SleepTime',\n",
       "       'Asthma', 'KidneyDisease', 'SkinCancer'],\n",
       "      dtype='object')"
      ]
     },
     "execution_count": 190,
     "metadata": {},
     "output_type": "execute_result"
    }
   ],
   "source": [
    "dfv.columns"
   ]
  },
  {
   "cell_type": "code",
   "execution_count": 42,
   "id": "cc61b4e7",
   "metadata": {},
   "outputs": [],
   "source": [
    "features=['HeartDisease', 'BMI', 'Smoking', 'AlcoholDrinking', 'Stroke',\n",
    "       'PhysicalHealth', 'MentalHealth', 'DiffWalking', 'Sex', 'AgeCategory',\n",
    "       'Race', 'Diabetic', 'PhysicalActivity', 'GenHealth', 'SleepTime',\n",
    "       'Asthma', 'KidneyDisease', 'SkinCancer']"
   ]
  },
  {
   "cell_type": "code",
   "execution_count": 43,
   "id": "e65608fc",
   "metadata": {},
   "outputs": [],
   "source": [
    "# plt.figure(figsize=(20,12))\n",
    "# for index, feature_name in enumerate(dfv[features]):\n",
    "#     plt.subplot(4,4,index+1)\n",
    "#     plt.scatter(dfv[feature_name],dfv['HeartDisease'])\n",
    "#     plt.ylabel('HeartDisease',size=15)\n",
    "#     plt.xlabel(feature_name,size=15)"
   ]
  },
  {
   "cell_type": "code",
   "execution_count": null,
   "id": "b1f1b29f",
   "metadata": {},
   "outputs": [],
   "source": []
  },
  {
   "cell_type": "code",
   "execution_count": null,
   "id": "e4d3b928",
   "metadata": {},
   "outputs": [],
   "source": []
  },
  {
   "cell_type": "code",
   "execution_count": null,
   "id": "5c3c5fab",
   "metadata": {},
   "outputs": [],
   "source": []
  },
  {
   "cell_type": "code",
   "execution_count": null,
   "id": "27acf5cc",
   "metadata": {},
   "outputs": [],
   "source": []
  },
  {
   "cell_type": "code",
   "execution_count": null,
   "id": "626c339c",
   "metadata": {},
   "outputs": [],
   "source": []
  },
  {
   "cell_type": "code",
   "execution_count": null,
   "id": "4078fd29",
   "metadata": {},
   "outputs": [],
   "source": []
  },
  {
   "cell_type": "code",
   "execution_count": null,
   "id": "53e6fd05",
   "metadata": {},
   "outputs": [],
   "source": []
  },
  {
   "cell_type": "markdown",
   "id": "cc88a6d4",
   "metadata": {},
   "source": [
    "# Preprocess the dataset"
   ]
  },
  {
   "cell_type": "code",
   "execution_count": 191,
   "id": "0a6ececd",
   "metadata": {},
   "outputs": [
    {
     "data": {
      "text/plain": [
       "(301717, 18)"
      ]
     },
     "execution_count": 191,
     "metadata": {},
     "output_type": "execute_result"
    }
   ],
   "source": [
    "df.shape"
   ]
  },
  {
   "cell_type": "code",
   "execution_count": 192,
   "id": "efeb0873",
   "metadata": {},
   "outputs": [],
   "source": [
    "from sklearn.preprocessing import LabelEncoder\n",
    "le=LabelEncoder()"
   ]
  },
  {
   "cell_type": "code",
   "execution_count": 193,
   "id": "c9162994",
   "metadata": {},
   "outputs": [
    {
     "data": {
      "text/plain": [
       "Index(['HeartDisease', 'BMI', 'Smoking', 'AlcoholDrinking', 'Stroke',\n",
       "       'PhysicalHealth', 'MentalHealth', 'DiffWalking', 'Sex', 'AgeCategory',\n",
       "       'Race', 'Diabetic', 'PhysicalActivity', 'GenHealth', 'SleepTime',\n",
       "       'Asthma', 'KidneyDisease', 'SkinCancer'],\n",
       "      dtype='object')"
      ]
     },
     "execution_count": 193,
     "metadata": {},
     "output_type": "execute_result"
    }
   ],
   "source": [
    "df.columns"
   ]
  },
  {
   "cell_type": "code",
   "execution_count": 194,
   "id": "220cec88",
   "metadata": {},
   "outputs": [
    {
     "data": {
      "text/html": [
       "<div>\n",
       "<style scoped>\n",
       "    .dataframe tbody tr th:only-of-type {\n",
       "        vertical-align: middle;\n",
       "    }\n",
       "\n",
       "    .dataframe tbody tr th {\n",
       "        vertical-align: top;\n",
       "    }\n",
       "\n",
       "    .dataframe thead th {\n",
       "        text-align: right;\n",
       "    }\n",
       "</style>\n",
       "<table border=\"1\" class=\"dataframe\">\n",
       "  <thead>\n",
       "    <tr style=\"text-align: right;\">\n",
       "      <th></th>\n",
       "      <th>HeartDisease</th>\n",
       "      <th>BMI</th>\n",
       "      <th>Smoking</th>\n",
       "      <th>AlcoholDrinking</th>\n",
       "      <th>Stroke</th>\n",
       "      <th>PhysicalHealth</th>\n",
       "      <th>MentalHealth</th>\n",
       "      <th>DiffWalking</th>\n",
       "      <th>Sex</th>\n",
       "      <th>AgeCategory</th>\n",
       "      <th>Race</th>\n",
       "      <th>Diabetic</th>\n",
       "      <th>PhysicalActivity</th>\n",
       "      <th>GenHealth</th>\n",
       "      <th>SleepTime</th>\n",
       "      <th>Asthma</th>\n",
       "      <th>KidneyDisease</th>\n",
       "      <th>SkinCancer</th>\n",
       "    </tr>\n",
       "  </thead>\n",
       "  <tbody>\n",
       "    <tr>\n",
       "      <th>0</th>\n",
       "      <td>No</td>\n",
       "      <td>16.60</td>\n",
       "      <td>Yes</td>\n",
       "      <td>No</td>\n",
       "      <td>No</td>\n",
       "      <td>3.0</td>\n",
       "      <td>30.0</td>\n",
       "      <td>No</td>\n",
       "      <td>Female</td>\n",
       "      <td>55-59</td>\n",
       "      <td>White</td>\n",
       "      <td>Yes</td>\n",
       "      <td>Yes</td>\n",
       "      <td>Very good</td>\n",
       "      <td>5.0</td>\n",
       "      <td>Yes</td>\n",
       "      <td>No</td>\n",
       "      <td>Yes</td>\n",
       "    </tr>\n",
       "    <tr>\n",
       "      <th>1</th>\n",
       "      <td>No</td>\n",
       "      <td>20.34</td>\n",
       "      <td>No</td>\n",
       "      <td>No</td>\n",
       "      <td>Yes</td>\n",
       "      <td>0.0</td>\n",
       "      <td>0.0</td>\n",
       "      <td>No</td>\n",
       "      <td>Female</td>\n",
       "      <td>80 or older</td>\n",
       "      <td>White</td>\n",
       "      <td>No</td>\n",
       "      <td>Yes</td>\n",
       "      <td>Very good</td>\n",
       "      <td>7.0</td>\n",
       "      <td>No</td>\n",
       "      <td>No</td>\n",
       "      <td>No</td>\n",
       "    </tr>\n",
       "    <tr>\n",
       "      <th>2</th>\n",
       "      <td>No</td>\n",
       "      <td>26.58</td>\n",
       "      <td>Yes</td>\n",
       "      <td>No</td>\n",
       "      <td>No</td>\n",
       "      <td>20.0</td>\n",
       "      <td>30.0</td>\n",
       "      <td>No</td>\n",
       "      <td>Male</td>\n",
       "      <td>65-69</td>\n",
       "      <td>White</td>\n",
       "      <td>Yes</td>\n",
       "      <td>Yes</td>\n",
       "      <td>Fair</td>\n",
       "      <td>8.0</td>\n",
       "      <td>Yes</td>\n",
       "      <td>No</td>\n",
       "      <td>No</td>\n",
       "    </tr>\n",
       "    <tr>\n",
       "      <th>3</th>\n",
       "      <td>No</td>\n",
       "      <td>24.21</td>\n",
       "      <td>No</td>\n",
       "      <td>No</td>\n",
       "      <td>No</td>\n",
       "      <td>0.0</td>\n",
       "      <td>0.0</td>\n",
       "      <td>No</td>\n",
       "      <td>Female</td>\n",
       "      <td>75-79</td>\n",
       "      <td>White</td>\n",
       "      <td>No</td>\n",
       "      <td>No</td>\n",
       "      <td>Good</td>\n",
       "      <td>6.0</td>\n",
       "      <td>No</td>\n",
       "      <td>No</td>\n",
       "      <td>Yes</td>\n",
       "    </tr>\n",
       "    <tr>\n",
       "      <th>4</th>\n",
       "      <td>No</td>\n",
       "      <td>23.71</td>\n",
       "      <td>No</td>\n",
       "      <td>No</td>\n",
       "      <td>No</td>\n",
       "      <td>28.0</td>\n",
       "      <td>0.0</td>\n",
       "      <td>Yes</td>\n",
       "      <td>Female</td>\n",
       "      <td>40-44</td>\n",
       "      <td>White</td>\n",
       "      <td>No</td>\n",
       "      <td>Yes</td>\n",
       "      <td>Very good</td>\n",
       "      <td>8.0</td>\n",
       "      <td>No</td>\n",
       "      <td>No</td>\n",
       "      <td>No</td>\n",
       "    </tr>\n",
       "  </tbody>\n",
       "</table>\n",
       "</div>"
      ],
      "text/plain": [
       "  HeartDisease    BMI Smoking AlcoholDrinking Stroke  PhysicalHealth  \\\n",
       "0           No  16.60     Yes              No     No             3.0   \n",
       "1           No  20.34      No              No    Yes             0.0   \n",
       "2           No  26.58     Yes              No     No            20.0   \n",
       "3           No  24.21      No              No     No             0.0   \n",
       "4           No  23.71      No              No     No            28.0   \n",
       "\n",
       "   MentalHealth DiffWalking     Sex  AgeCategory   Race Diabetic  \\\n",
       "0          30.0          No  Female        55-59  White      Yes   \n",
       "1           0.0          No  Female  80 or older  White       No   \n",
       "2          30.0          No    Male        65-69  White      Yes   \n",
       "3           0.0          No  Female        75-79  White       No   \n",
       "4           0.0         Yes  Female        40-44  White       No   \n",
       "\n",
       "  PhysicalActivity  GenHealth  SleepTime Asthma KidneyDisease SkinCancer  \n",
       "0              Yes  Very good        5.0    Yes            No        Yes  \n",
       "1              Yes  Very good        7.0     No            No         No  \n",
       "2              Yes       Fair        8.0    Yes            No         No  \n",
       "3               No       Good        6.0     No            No        Yes  \n",
       "4              Yes  Very good        8.0     No            No         No  "
      ]
     },
     "execution_count": 194,
     "metadata": {},
     "output_type": "execute_result"
    }
   ],
   "source": [
    "df.head()"
   ]
  },
  {
   "cell_type": "code",
   "execution_count": 195,
   "id": "72afcbb8",
   "metadata": {},
   "outputs": [
    {
     "data": {
      "text/plain": [
       "0            White\n",
       "1            White\n",
       "2            White\n",
       "3            White\n",
       "4            White\n",
       "            ...   \n",
       "319790    Hispanic\n",
       "319791    Hispanic\n",
       "319792    Hispanic\n",
       "319793    Hispanic\n",
       "319794    Hispanic\n",
       "Name: Race, Length: 301717, dtype: object"
      ]
     },
     "execution_count": 195,
     "metadata": {},
     "output_type": "execute_result"
    }
   ],
   "source": [
    "df['Race']"
   ]
  },
  {
   "cell_type": "code",
   "execution_count": 196,
   "id": "75f5d29f",
   "metadata": {},
   "outputs": [
    {
     "data": {
      "text/plain": [
       "array(['White', 'Black', 'Asian', 'American Indian/Alaskan Native',\n",
       "       'Other', 'Hispanic'], dtype=object)"
      ]
     },
     "execution_count": 196,
     "metadata": {},
     "output_type": "execute_result"
    }
   ],
   "source": [
    "df.Race.unique()"
   ]
  },
  {
   "cell_type": "code",
   "execution_count": 197,
   "id": "08169aca",
   "metadata": {},
   "outputs": [
    {
     "data": {
      "text/plain": [
       "array(['Very good', 'Fair', 'Good', 'Poor', 'Excellent'], dtype=object)"
      ]
     },
     "execution_count": 197,
     "metadata": {},
     "output_type": "execute_result"
    }
   ],
   "source": [
    "df.GenHealth.unique()"
   ]
  },
  {
   "cell_type": "code",
   "execution_count": 198,
   "id": "ec9bf574",
   "metadata": {},
   "outputs": [
    {
     "data": {
      "text/plain": [
       "array(['55-59', '80 or older', '65-69', '75-79', '40-44', '70-74',\n",
       "       '60-64', '50-54', '45-49', '18-24', '35-39', '30-34', '25-29'],\n",
       "      dtype=object)"
      ]
     },
     "execution_count": 198,
     "metadata": {},
     "output_type": "execute_result"
    }
   ],
   "source": [
    "df.AgeCategory.unique()"
   ]
  },
  {
   "cell_type": "code",
   "execution_count": 199,
   "id": "4c879ea0",
   "metadata": {},
   "outputs": [
    {
     "data": {
      "text/plain": [
       "0               55-59\n",
       "1         80 or older\n",
       "2               65-69\n",
       "3               75-79\n",
       "4               40-44\n",
       "             ...     \n",
       "319790          60-64\n",
       "319791          35-39\n",
       "319792          45-49\n",
       "319793          25-29\n",
       "319794    80 or older\n",
       "Name: AgeCategory, Length: 301717, dtype: object"
      ]
     },
     "execution_count": 199,
     "metadata": {},
     "output_type": "execute_result"
    }
   ],
   "source": [
    "df['AgeCategory']"
   ]
  },
  {
   "cell_type": "code",
   "execution_count": 200,
   "id": "4fd9759a",
   "metadata": {},
   "outputs": [],
   "source": [
    "from sklearn.preprocessing import LabelEncoder\n",
    "le=LabelEncoder()"
   ]
  },
  {
   "cell_type": "code",
   "execution_count": 201,
   "id": "2c60bdcb",
   "metadata": {},
   "outputs": [],
   "source": [
    "df.AgeCategory=le.fit_transform(df['AgeCategory'])"
   ]
  },
  {
   "cell_type": "code",
   "execution_count": 202,
   "id": "b6f2ca22",
   "metadata": {},
   "outputs": [
    {
     "data": {
      "text/plain": [
       "array([ 7, 12,  9, 11,  4, 10,  8,  6,  5,  0,  3,  2,  1])"
      ]
     },
     "execution_count": 202,
     "metadata": {},
     "output_type": "execute_result"
    }
   ],
   "source": [
    "df['AgeCategory'].unique()"
   ]
  },
  {
   "cell_type": "code",
   "execution_count": 203,
   "id": "2eadf1fc",
   "metadata": {},
   "outputs": [],
   "source": [
    "df.HeartDisease=le.fit_transform(df['HeartDisease'])\n",
    "df.Smoking=le.fit_transform(df['Smoking'])\n",
    "df.AlcoholDrinking=le.fit_transform(df['AlcoholDrinking'])\n",
    "df.Stroke=le.fit_transform(df['Stroke'])\n",
    "df.DiffWalking=le.fit_transform(df['DiffWalking'])\n",
    "df.Sex=le.fit_transform(df['Sex'])\n",
    "df.Diabetic=le.fit_transform(df['Diabetic'])\n",
    "df.PhysicalActivity=le.fit_transform(df['PhysicalActivity'])\n",
    "df.Race=le.fit_transform(df['Race'])\n",
    "df.Asthma=le.fit_transform(df['Asthma'])\n",
    "df.KidneyDisease=le.fit_transform(df['KidneyDisease'])\n",
    "df.SkinCancer=le.fit_transform(df['SkinCancer'])"
   ]
  },
  {
   "cell_type": "code",
   "execution_count": 204,
   "id": "750ca4f8",
   "metadata": {},
   "outputs": [],
   "source": [
    "df.GenHealth=le.fit_transform(df['GenHealth'])"
   ]
  },
  {
   "cell_type": "code",
   "execution_count": 205,
   "id": "f88db1c5",
   "metadata": {},
   "outputs": [
    {
     "data": {
      "text/html": [
       "<div>\n",
       "<style scoped>\n",
       "    .dataframe tbody tr th:only-of-type {\n",
       "        vertical-align: middle;\n",
       "    }\n",
       "\n",
       "    .dataframe tbody tr th {\n",
       "        vertical-align: top;\n",
       "    }\n",
       "\n",
       "    .dataframe thead th {\n",
       "        text-align: right;\n",
       "    }\n",
       "</style>\n",
       "<table border=\"1\" class=\"dataframe\">\n",
       "  <thead>\n",
       "    <tr style=\"text-align: right;\">\n",
       "      <th></th>\n",
       "      <th>HeartDisease</th>\n",
       "      <th>BMI</th>\n",
       "      <th>Smoking</th>\n",
       "      <th>AlcoholDrinking</th>\n",
       "      <th>Stroke</th>\n",
       "      <th>PhysicalHealth</th>\n",
       "      <th>MentalHealth</th>\n",
       "      <th>DiffWalking</th>\n",
       "      <th>Sex</th>\n",
       "      <th>AgeCategory</th>\n",
       "      <th>Race</th>\n",
       "      <th>Diabetic</th>\n",
       "      <th>PhysicalActivity</th>\n",
       "      <th>GenHealth</th>\n",
       "      <th>SleepTime</th>\n",
       "      <th>Asthma</th>\n",
       "      <th>KidneyDisease</th>\n",
       "      <th>SkinCancer</th>\n",
       "    </tr>\n",
       "  </thead>\n",
       "  <tbody>\n",
       "    <tr>\n",
       "      <th>0</th>\n",
       "      <td>0</td>\n",
       "      <td>16.60</td>\n",
       "      <td>1</td>\n",
       "      <td>0</td>\n",
       "      <td>0</td>\n",
       "      <td>3.0</td>\n",
       "      <td>30.0</td>\n",
       "      <td>0</td>\n",
       "      <td>0</td>\n",
       "      <td>7</td>\n",
       "      <td>5</td>\n",
       "      <td>2</td>\n",
       "      <td>1</td>\n",
       "      <td>4</td>\n",
       "      <td>5.0</td>\n",
       "      <td>1</td>\n",
       "      <td>0</td>\n",
       "      <td>1</td>\n",
       "    </tr>\n",
       "    <tr>\n",
       "      <th>1</th>\n",
       "      <td>0</td>\n",
       "      <td>20.34</td>\n",
       "      <td>0</td>\n",
       "      <td>0</td>\n",
       "      <td>1</td>\n",
       "      <td>0.0</td>\n",
       "      <td>0.0</td>\n",
       "      <td>0</td>\n",
       "      <td>0</td>\n",
       "      <td>12</td>\n",
       "      <td>5</td>\n",
       "      <td>0</td>\n",
       "      <td>1</td>\n",
       "      <td>4</td>\n",
       "      <td>7.0</td>\n",
       "      <td>0</td>\n",
       "      <td>0</td>\n",
       "      <td>0</td>\n",
       "    </tr>\n",
       "    <tr>\n",
       "      <th>2</th>\n",
       "      <td>0</td>\n",
       "      <td>26.58</td>\n",
       "      <td>1</td>\n",
       "      <td>0</td>\n",
       "      <td>0</td>\n",
       "      <td>20.0</td>\n",
       "      <td>30.0</td>\n",
       "      <td>0</td>\n",
       "      <td>1</td>\n",
       "      <td>9</td>\n",
       "      <td>5</td>\n",
       "      <td>2</td>\n",
       "      <td>1</td>\n",
       "      <td>1</td>\n",
       "      <td>8.0</td>\n",
       "      <td>1</td>\n",
       "      <td>0</td>\n",
       "      <td>0</td>\n",
       "    </tr>\n",
       "    <tr>\n",
       "      <th>3</th>\n",
       "      <td>0</td>\n",
       "      <td>24.21</td>\n",
       "      <td>0</td>\n",
       "      <td>0</td>\n",
       "      <td>0</td>\n",
       "      <td>0.0</td>\n",
       "      <td>0.0</td>\n",
       "      <td>0</td>\n",
       "      <td>0</td>\n",
       "      <td>11</td>\n",
       "      <td>5</td>\n",
       "      <td>0</td>\n",
       "      <td>0</td>\n",
       "      <td>2</td>\n",
       "      <td>6.0</td>\n",
       "      <td>0</td>\n",
       "      <td>0</td>\n",
       "      <td>1</td>\n",
       "    </tr>\n",
       "    <tr>\n",
       "      <th>4</th>\n",
       "      <td>0</td>\n",
       "      <td>23.71</td>\n",
       "      <td>0</td>\n",
       "      <td>0</td>\n",
       "      <td>0</td>\n",
       "      <td>28.0</td>\n",
       "      <td>0.0</td>\n",
       "      <td>1</td>\n",
       "      <td>0</td>\n",
       "      <td>4</td>\n",
       "      <td>5</td>\n",
       "      <td>0</td>\n",
       "      <td>1</td>\n",
       "      <td>4</td>\n",
       "      <td>8.0</td>\n",
       "      <td>0</td>\n",
       "      <td>0</td>\n",
       "      <td>0</td>\n",
       "    </tr>\n",
       "  </tbody>\n",
       "</table>\n",
       "</div>"
      ],
      "text/plain": [
       "   HeartDisease    BMI  Smoking  AlcoholDrinking  Stroke  PhysicalHealth  \\\n",
       "0             0  16.60        1                0       0             3.0   \n",
       "1             0  20.34        0                0       1             0.0   \n",
       "2             0  26.58        1                0       0            20.0   \n",
       "3             0  24.21        0                0       0             0.0   \n",
       "4             0  23.71        0                0       0            28.0   \n",
       "\n",
       "   MentalHealth  DiffWalking  Sex  AgeCategory  Race  Diabetic  \\\n",
       "0          30.0            0    0            7     5         2   \n",
       "1           0.0            0    0           12     5         0   \n",
       "2          30.0            0    1            9     5         2   \n",
       "3           0.0            0    0           11     5         0   \n",
       "4           0.0            1    0            4     5         0   \n",
       "\n",
       "   PhysicalActivity  GenHealth  SleepTime  Asthma  KidneyDisease  SkinCancer  \n",
       "0                 1          4        5.0       1              0           1  \n",
       "1                 1          4        7.0       0              0           0  \n",
       "2                 1          1        8.0       1              0           0  \n",
       "3                 0          2        6.0       0              0           1  \n",
       "4                 1          4        8.0       0              0           0  "
      ]
     },
     "execution_count": 205,
     "metadata": {},
     "output_type": "execute_result"
    }
   ],
   "source": [
    "df.head()"
   ]
  },
  {
   "cell_type": "code",
   "execution_count": 59,
   "id": "0910f8b3",
   "metadata": {},
   "outputs": [],
   "source": [
    "# plt.figure(figsize=(20,12))\n",
    "# for index, feature_name in enumerate(df[features]):\n",
    "#     plt.subplot(4,4,index+1)\n",
    "#     plt.scatter(df[feature_name],dfv['HeartDisease'])\n",
    "#     plt.ylabel('HeartDisease',size=15)\n",
    "#     plt.xlabel(feature_name,size=15)"
   ]
  },
  {
   "cell_type": "code",
   "execution_count": 60,
   "id": "e35fac2a",
   "metadata": {},
   "outputs": [
    {
     "data": {
      "text/plain": [
       "<AxesSubplot:>"
      ]
     },
     "execution_count": 60,
     "metadata": {},
     "output_type": "execute_result"
    },
    {
     "data": {
      "image/png": "[encoded data removed]",
      "text/plain": [
       "<Figure size 1080x576 with 2 Axes>"
      ]
     },
     "metadata": {
      "needs_background": "light"
     },
     "output_type": "display_data"
    }
   ],
   "source": [
    "plt.figure(figsize=(15,8))\n",
    "sns.heatmap(df.describe(),annot=True)"
   ]
  },
  {
   "cell_type": "code",
   "execution_count": 61,
   "id": "199165f8",
   "metadata": {},
   "outputs": [
    {
     "data": {
      "text/plain": [
       "<AxesSubplot:>"
      ]
     },
     "execution_count": 61,
     "metadata": {},
     "output_type": "execute_result"
    },
    {
     "data": {
      "image/png": "[encoded data removed]",
      "text/plain": [
       "<Figure size 1080x576 with 2 Axes>"
      ]
     },
     "metadata": {
      "needs_background": "light"
     },
     "output_type": "display_data"
    }
   ],
   "source": [
    "plt.figure(figsize=(15,8))\n",
    "sns.heatmap(df.corr(),annot=True)"
   ]
  },
  {
   "cell_type": "markdown",
   "id": "53c5ed4b",
   "metadata": {},
   "source": [
    "# Imbalanced Data Handling"
   ]
  },
  {
   "cell_type": "code",
   "execution_count": 62,
   "id": "8f79c53e",
   "metadata": {},
   "outputs": [
    {
     "data": {
      "text/plain": [
       "0    274456\n",
       "1     27261\n",
       "Name: HeartDisease, dtype: int64"
      ]
     },
     "execution_count": 62,
     "metadata": {},
     "output_type": "execute_result"
    }
   ],
   "source": [
    "df.HeartDisease.value_counts()"
   ]
  },
  {
   "cell_type": "code",
   "execution_count": 63,
   "id": "83fe7304",
   "metadata": {},
   "outputs": [],
   "source": [
    "no=(274456/(274456+27261))\n",
    "yes=(27161/(274456+27261))"
   ]
  },
  {
   "cell_type": "code",
   "execution_count": 64,
   "id": "63c30606",
   "metadata": {},
   "outputs": [
    {
     "name": "stdout",
     "output_type": "stream",
     "text": [
      "Has No heart Disease 0.9096471196518592 percent of total people\n",
      "Has Heart Disease 0.09002144393587368 percent of total people\n"
     ]
    }
   ],
   "source": [
    "print('Has No heart Disease {} percent of total people'.format(no))\n",
    "print('Has Heart Disease {} percent of total people'.format(yes))"
   ]
  },
  {
   "cell_type": "code",
   "execution_count": 65,
   "id": "476f919c",
   "metadata": {},
   "outputs": [
    {
     "data": {
      "text/html": [
       "<div>\n",
       "<style scoped>\n",
       "    .dataframe tbody tr th:only-of-type {\n",
       "        vertical-align: middle;\n",
       "    }\n",
       "\n",
       "    .dataframe tbody tr th {\n",
       "        vertical-align: top;\n",
       "    }\n",
       "\n",
       "    .dataframe thead th {\n",
       "        text-align: right;\n",
       "    }\n",
       "</style>\n",
       "<table border=\"1\" class=\"dataframe\">\n",
       "  <thead>\n",
       "    <tr style=\"text-align: right;\">\n",
       "      <th></th>\n",
       "      <th>HeartDisease</th>\n",
       "      <th>BMI</th>\n",
       "      <th>Smoking</th>\n",
       "      <th>AlcoholDrinking</th>\n",
       "      <th>Stroke</th>\n",
       "      <th>PhysicalHealth</th>\n",
       "      <th>MentalHealth</th>\n",
       "      <th>DiffWalking</th>\n",
       "      <th>Sex</th>\n",
       "      <th>AgeCategory</th>\n",
       "      <th>Race</th>\n",
       "      <th>Diabetic</th>\n",
       "      <th>PhysicalActivity</th>\n",
       "      <th>GenHealth</th>\n",
       "      <th>SleepTime</th>\n",
       "      <th>Asthma</th>\n",
       "      <th>KidneyDisease</th>\n",
       "      <th>SkinCancer</th>\n",
       "    </tr>\n",
       "  </thead>\n",
       "  <tbody>\n",
       "    <tr>\n",
       "      <th>0</th>\n",
       "      <td>0</td>\n",
       "      <td>16.60</td>\n",
       "      <td>1</td>\n",
       "      <td>0</td>\n",
       "      <td>0</td>\n",
       "      <td>3.0</td>\n",
       "      <td>30.0</td>\n",
       "      <td>0</td>\n",
       "      <td>0</td>\n",
       "      <td>7</td>\n",
       "      <td>5</td>\n",
       "      <td>2</td>\n",
       "      <td>1</td>\n",
       "      <td>4</td>\n",
       "      <td>5.0</td>\n",
       "      <td>1</td>\n",
       "      <td>0</td>\n",
       "      <td>1</td>\n",
       "    </tr>\n",
       "    <tr>\n",
       "      <th>1</th>\n",
       "      <td>0</td>\n",
       "      <td>20.34</td>\n",
       "      <td>0</td>\n",
       "      <td>0</td>\n",
       "      <td>1</td>\n",
       "      <td>0.0</td>\n",
       "      <td>0.0</td>\n",
       "      <td>0</td>\n",
       "      <td>0</td>\n",
       "      <td>12</td>\n",
       "      <td>5</td>\n",
       "      <td>0</td>\n",
       "      <td>1</td>\n",
       "      <td>4</td>\n",
       "      <td>7.0</td>\n",
       "      <td>0</td>\n",
       "      <td>0</td>\n",
       "      <td>0</td>\n",
       "    </tr>\n",
       "    <tr>\n",
       "      <th>2</th>\n",
       "      <td>0</td>\n",
       "      <td>26.58</td>\n",
       "      <td>1</td>\n",
       "      <td>0</td>\n",
       "      <td>0</td>\n",
       "      <td>20.0</td>\n",
       "      <td>30.0</td>\n",
       "      <td>0</td>\n",
       "      <td>1</td>\n",
       "      <td>9</td>\n",
       "      <td>5</td>\n",
       "      <td>2</td>\n",
       "      <td>1</td>\n",
       "      <td>1</td>\n",
       "      <td>8.0</td>\n",
       "      <td>1</td>\n",
       "      <td>0</td>\n",
       "      <td>0</td>\n",
       "    </tr>\n",
       "    <tr>\n",
       "      <th>3</th>\n",
       "      <td>0</td>\n",
       "      <td>24.21</td>\n",
       "      <td>0</td>\n",
       "      <td>0</td>\n",
       "      <td>0</td>\n",
       "      <td>0.0</td>\n",
       "      <td>0.0</td>\n",
       "      <td>0</td>\n",
       "      <td>0</td>\n",
       "      <td>11</td>\n",
       "      <td>5</td>\n",
       "      <td>0</td>\n",
       "      <td>0</td>\n",
       "      <td>2</td>\n",
       "      <td>6.0</td>\n",
       "      <td>0</td>\n",
       "      <td>0</td>\n",
       "      <td>1</td>\n",
       "    </tr>\n",
       "    <tr>\n",
       "      <th>4</th>\n",
       "      <td>0</td>\n",
       "      <td>23.71</td>\n",
       "      <td>0</td>\n",
       "      <td>0</td>\n",
       "      <td>0</td>\n",
       "      <td>28.0</td>\n",
       "      <td>0.0</td>\n",
       "      <td>1</td>\n",
       "      <td>0</td>\n",
       "      <td>4</td>\n",
       "      <td>5</td>\n",
       "      <td>0</td>\n",
       "      <td>1</td>\n",
       "      <td>4</td>\n",
       "      <td>8.0</td>\n",
       "      <td>0</td>\n",
       "      <td>0</td>\n",
       "      <td>0</td>\n",
       "    </tr>\n",
       "    <tr>\n",
       "      <th>...</th>\n",
       "      <td>...</td>\n",
       "      <td>...</td>\n",
       "      <td>...</td>\n",
       "      <td>...</td>\n",
       "      <td>...</td>\n",
       "      <td>...</td>\n",
       "      <td>...</td>\n",
       "      <td>...</td>\n",
       "      <td>...</td>\n",
       "      <td>...</td>\n",
       "      <td>...</td>\n",
       "      <td>...</td>\n",
       "      <td>...</td>\n",
       "      <td>...</td>\n",
       "      <td>...</td>\n",
       "      <td>...</td>\n",
       "      <td>...</td>\n",
       "      <td>...</td>\n",
       "    </tr>\n",
       "    <tr>\n",
       "      <th>319790</th>\n",
       "      <td>1</td>\n",
       "      <td>27.41</td>\n",
       "      <td>1</td>\n",
       "      <td>0</td>\n",
       "      <td>0</td>\n",
       "      <td>7.0</td>\n",
       "      <td>0.0</td>\n",
       "      <td>1</td>\n",
       "      <td>1</td>\n",
       "      <td>8</td>\n",
       "      <td>3</td>\n",
       "      <td>2</td>\n",
       "      <td>0</td>\n",
       "      <td>1</td>\n",
       "      <td>6.0</td>\n",
       "      <td>1</td>\n",
       "      <td>0</td>\n",
       "      <td>0</td>\n",
       "    </tr>\n",
       "    <tr>\n",
       "      <th>319791</th>\n",
       "      <td>0</td>\n",
       "      <td>29.84</td>\n",
       "      <td>1</td>\n",
       "      <td>0</td>\n",
       "      <td>0</td>\n",
       "      <td>0.0</td>\n",
       "      <td>0.0</td>\n",
       "      <td>0</td>\n",
       "      <td>1</td>\n",
       "      <td>3</td>\n",
       "      <td>3</td>\n",
       "      <td>0</td>\n",
       "      <td>1</td>\n",
       "      <td>4</td>\n",
       "      <td>5.0</td>\n",
       "      <td>1</td>\n",
       "      <td>0</td>\n",
       "      <td>0</td>\n",
       "    </tr>\n",
       "    <tr>\n",
       "      <th>319792</th>\n",
       "      <td>0</td>\n",
       "      <td>24.24</td>\n",
       "      <td>0</td>\n",
       "      <td>0</td>\n",
       "      <td>0</td>\n",
       "      <td>0.0</td>\n",
       "      <td>0.0</td>\n",
       "      <td>0</td>\n",
       "      <td>0</td>\n",
       "      <td>5</td>\n",
       "      <td>3</td>\n",
       "      <td>0</td>\n",
       "      <td>1</td>\n",
       "      <td>2</td>\n",
       "      <td>6.0</td>\n",
       "      <td>0</td>\n",
       "      <td>0</td>\n",
       "      <td>0</td>\n",
       "    </tr>\n",
       "    <tr>\n",
       "      <th>319793</th>\n",
       "      <td>0</td>\n",
       "      <td>32.81</td>\n",
       "      <td>0</td>\n",
       "      <td>0</td>\n",
       "      <td>0</td>\n",
       "      <td>0.0</td>\n",
       "      <td>0.0</td>\n",
       "      <td>0</td>\n",
       "      <td>0</td>\n",
       "      <td>1</td>\n",
       "      <td>3</td>\n",
       "      <td>0</td>\n",
       "      <td>0</td>\n",
       "      <td>2</td>\n",
       "      <td>12.0</td>\n",
       "      <td>0</td>\n",
       "      <td>0</td>\n",
       "      <td>0</td>\n",
       "    </tr>\n",
       "    <tr>\n",
       "      <th>319794</th>\n",
       "      <td>0</td>\n",
       "      <td>46.56</td>\n",
       "      <td>0</td>\n",
       "      <td>0</td>\n",
       "      <td>0</td>\n",
       "      <td>0.0</td>\n",
       "      <td>0.0</td>\n",
       "      <td>0</td>\n",
       "      <td>0</td>\n",
       "      <td>12</td>\n",
       "      <td>3</td>\n",
       "      <td>0</td>\n",
       "      <td>1</td>\n",
       "      <td>2</td>\n",
       "      <td>8.0</td>\n",
       "      <td>0</td>\n",
       "      <td>0</td>\n",
       "      <td>0</td>\n",
       "    </tr>\n",
       "  </tbody>\n",
       "</table>\n",
       "<p>301717 rows × 18 columns</p>\n",
       "</div>"
      ],
      "text/plain": [
       "        HeartDisease    BMI  Smoking  AlcoholDrinking  Stroke  PhysicalHealth  \\\n",
       "0                  0  16.60        1                0       0             3.0   \n",
       "1                  0  20.34        0                0       1             0.0   \n",
       "2                  0  26.58        1                0       0            20.0   \n",
       "3                  0  24.21        0                0       0             0.0   \n",
       "4                  0  23.71        0                0       0            28.0   \n",
       "...              ...    ...      ...              ...     ...             ...   \n",
       "319790             1  27.41        1                0       0             7.0   \n",
       "319791             0  29.84        1                0       0             0.0   \n",
       "319792             0  24.24        0                0       0             0.0   \n",
       "319793             0  32.81        0                0       0             0.0   \n",
       "319794             0  46.56        0                0       0             0.0   \n",
       "\n",
       "        MentalHealth  DiffWalking  Sex  AgeCategory  Race  Diabetic  \\\n",
       "0               30.0            0    0            7     5         2   \n",
       "1                0.0            0    0           12     5         0   \n",
       "2               30.0            0    1            9     5         2   \n",
       "3                0.0            0    0           11     5         0   \n",
       "4                0.0            1    0            4     5         0   \n",
       "...              ...          ...  ...          ...   ...       ...   \n",
       "319790           0.0            1    1            8     3         2   \n",
       "319791           0.0            0    1            3     3         0   \n",
       "319792           0.0            0    0            5     3         0   \n",
       "319793           0.0            0    0            1     3         0   \n",
       "319794           0.0            0    0           12     3         0   \n",
       "\n",
       "        PhysicalActivity  GenHealth  SleepTime  Asthma  KidneyDisease  \\\n",
       "0                      1          4        5.0       1              0   \n",
       "1                      1          4        7.0       0              0   \n",
       "2                      1          1        8.0       1              0   \n",
       "3                      0          2        6.0       0              0   \n",
       "4                      1          4        8.0       0              0   \n",
       "...                  ...        ...        ...     ...            ...   \n",
       "319790                 0          1        6.0       1              0   \n",
       "319791                 1          4        5.0       1              0   \n",
       "319792                 1          2        6.0       0              0   \n",
       "319793                 0          2       12.0       0              0   \n",
       "319794                 1          2        8.0       0              0   \n",
       "\n",
       "        SkinCancer  \n",
       "0                1  \n",
       "1                0  \n",
       "2                0  \n",
       "3                1  \n",
       "4                0  \n",
       "...            ...  \n",
       "319790           0  \n",
       "319791           0  \n",
       "319792           0  \n",
       "319793           0  \n",
       "319794           0  \n",
       "\n",
       "[301717 rows x 18 columns]"
      ]
     },
     "execution_count": 65,
     "metadata": {},
     "output_type": "execute_result"
    }
   ],
   "source": [
    "df"
   ]
  },
  {
   "cell_type": "code",
   "execution_count": 66,
   "id": "e0db510f",
   "metadata": {},
   "outputs": [
    {
     "data": {
      "text/plain": [
       "Text(0, 0.5, 'HeartDisease')"
      ]
     },
     "execution_count": 66,
     "metadata": {},
     "output_type": "execute_result"
    },
    {
     "data": {
      "image/png": "[encoded data removed]",
      "text/plain": [
       "<Figure size 864x576 with 4 Axes>"
      ]
     },
     "metadata": {
      "needs_background": "light"
     },
     "output_type": "display_data"
    }
   ],
   "source": [
    "plt.figure(figsize=(12,8))\n",
    "\n",
    "plt.subplot(2,3,1)\n",
    "plt.scatter(df['BMI'],df['HeartDisease'])\n",
    "plt.xlabel('BMI')\n",
    "plt.ylabel('HeartDisease')\n",
    "\n",
    "plt.subplot(2,3,2)\n",
    "plt.scatter(df['Smoking'],df['HeartDisease'])\n",
    "plt.xlabel('Smoking')\n",
    "plt.ylabel('HeartDisease')\n",
    "\n",
    "plt.subplot(2,3,3)\n",
    "plt.scatter(df['AlcoholDrinking'],df['HeartDisease'])\n",
    "plt.xlabel('AlcoholDrinking')\n",
    "plt.ylabel('HeartDisease')\n",
    "\n",
    "plt.subplot(2,3,4)\n",
    "plt.scatter(df['Stroke'],df['HeartDisease'])\n",
    "plt.xlabel('Stroke')\n",
    "plt.ylabel('HeartDisease')"
   ]
  },
  {
   "cell_type": "code",
   "execution_count": 67,
   "id": "b5624676",
   "metadata": {},
   "outputs": [
    {
     "data": {
      "text/plain": [
       "Text(0, 0.5, 'HeartDisease')"
      ]
     },
     "execution_count": 67,
     "metadata": {},
     "output_type": "execute_result"
    },
    {
     "data": {
      "image/png": "[encoded data removed]",
      "text/plain": [
       "<Figure size 864x576 with 6 Axes>"
      ]
     },
     "metadata": {
      "needs_background": "light"
     },
     "output_type": "display_data"
    }
   ],
   "source": [
    "plt.figure(figsize=(12,8))\n",
    "\n",
    "plt.subplot(2,3,1)\n",
    "plt.scatter(df['PhysicalHealth'],df['HeartDisease'])\n",
    "plt.xlabel('PhysicalHealth')\n",
    "plt.ylabel('HeartDisease')\n",
    "\n",
    "plt.subplot(2,3,2)\n",
    "plt.scatter(df['Sex'],df['HeartDisease'])\n",
    "plt.xlabel('Sex')\n",
    "plt.ylabel('HeartDisease')\n",
    "\n",
    "plt.subplot(2,3,3)\n",
    "plt.scatter(df['Diabetic'],df['HeartDisease'])\n",
    "plt.xlabel('Diabetic')\n",
    "plt.ylabel('HeartDisease')\n",
    "\n",
    "plt.subplot(2,3,4)\n",
    "plt.scatter(df['Asthma'],df['HeartDisease'])\n",
    "plt.xlabel('Asthma')\n",
    "plt.ylabel('HeartDisease')\n",
    "\n",
    "plt.subplot(2,3,5)\n",
    "plt.scatter(df['KidneyDisease'],df['HeartDisease'])\n",
    "plt.xlabel('KidneyDisease')\n",
    "plt.ylabel('HeartDisease')\n",
    "\n",
    "plt.subplot(2,3,6)\n",
    "plt.scatter(df['SkinCancer'],df['HeartDisease'])\n",
    "plt.xlabel('SkinCancer')\n",
    "plt.ylabel('HeartDisease')"
   ]
  },
  {
   "cell_type": "code",
   "execution_count": null,
   "id": "8ec9a072",
   "metadata": {},
   "outputs": [],
   "source": []
  },
  {
   "cell_type": "code",
   "execution_count": null,
   "id": "17797b70",
   "metadata": {},
   "outputs": [],
   "source": []
  },
  {
   "cell_type": "code",
   "execution_count": null,
   "id": "1ef4f2d3",
   "metadata": {},
   "outputs": [],
   "source": []
  },
  {
   "cell_type": "code",
   "execution_count": null,
   "id": "ad054259",
   "metadata": {},
   "outputs": [],
   "source": []
  },
  {
   "cell_type": "markdown",
   "id": "d09c9d05",
   "metadata": {},
   "source": [
    "# separate x and y , feature , class"
   ]
  },
  {
   "cell_type": "code",
   "execution_count": 206,
   "id": "02c698b5",
   "metadata": {},
   "outputs": [],
   "source": [
    "y=df['HeartDisease']\n",
    "x=df.drop('HeartDisease',axis=1)"
   ]
  },
  {
   "cell_type": "code",
   "execution_count": 207,
   "id": "eb8aeda4",
   "metadata": {},
   "outputs": [
    {
     "data": {
      "text/html": [
       "<div>\n",
       "<style scoped>\n",
       "    .dataframe tbody tr th:only-of-type {\n",
       "        vertical-align: middle;\n",
       "    }\n",
       "\n",
       "    .dataframe tbody tr th {\n",
       "        vertical-align: top;\n",
       "    }\n",
       "\n",
       "    .dataframe thead th {\n",
       "        text-align: right;\n",
       "    }\n",
       "</style>\n",
       "<table border=\"1\" class=\"dataframe\">\n",
       "  <thead>\n",
       "    <tr style=\"text-align: right;\">\n",
       "      <th></th>\n",
       "      <th>BMI</th>\n",
       "      <th>Smoking</th>\n",
       "      <th>AlcoholDrinking</th>\n",
       "      <th>Stroke</th>\n",
       "      <th>PhysicalHealth</th>\n",
       "      <th>MentalHealth</th>\n",
       "      <th>DiffWalking</th>\n",
       "      <th>Sex</th>\n",
       "      <th>AgeCategory</th>\n",
       "      <th>Race</th>\n",
       "      <th>Diabetic</th>\n",
       "      <th>PhysicalActivity</th>\n",
       "      <th>GenHealth</th>\n",
       "      <th>SleepTime</th>\n",
       "      <th>Asthma</th>\n",
       "      <th>KidneyDisease</th>\n",
       "      <th>SkinCancer</th>\n",
       "    </tr>\n",
       "  </thead>\n",
       "  <tbody>\n",
       "    <tr>\n",
       "      <th>0</th>\n",
       "      <td>16.60</td>\n",
       "      <td>1</td>\n",
       "      <td>0</td>\n",
       "      <td>0</td>\n",
       "      <td>3.0</td>\n",
       "      <td>30.0</td>\n",
       "      <td>0</td>\n",
       "      <td>0</td>\n",
       "      <td>7</td>\n",
       "      <td>5</td>\n",
       "      <td>2</td>\n",
       "      <td>1</td>\n",
       "      <td>4</td>\n",
       "      <td>5.0</td>\n",
       "      <td>1</td>\n",
       "      <td>0</td>\n",
       "      <td>1</td>\n",
       "    </tr>\n",
       "    <tr>\n",
       "      <th>1</th>\n",
       "      <td>20.34</td>\n",
       "      <td>0</td>\n",
       "      <td>0</td>\n",
       "      <td>1</td>\n",
       "      <td>0.0</td>\n",
       "      <td>0.0</td>\n",
       "      <td>0</td>\n",
       "      <td>0</td>\n",
       "      <td>12</td>\n",
       "      <td>5</td>\n",
       "      <td>0</td>\n",
       "      <td>1</td>\n",
       "      <td>4</td>\n",
       "      <td>7.0</td>\n",
       "      <td>0</td>\n",
       "      <td>0</td>\n",
       "      <td>0</td>\n",
       "    </tr>\n",
       "    <tr>\n",
       "      <th>2</th>\n",
       "      <td>26.58</td>\n",
       "      <td>1</td>\n",
       "      <td>0</td>\n",
       "      <td>0</td>\n",
       "      <td>20.0</td>\n",
       "      <td>30.0</td>\n",
       "      <td>0</td>\n",
       "      <td>1</td>\n",
       "      <td>9</td>\n",
       "      <td>5</td>\n",
       "      <td>2</td>\n",
       "      <td>1</td>\n",
       "      <td>1</td>\n",
       "      <td>8.0</td>\n",
       "      <td>1</td>\n",
       "      <td>0</td>\n",
       "      <td>0</td>\n",
       "    </tr>\n",
       "    <tr>\n",
       "      <th>3</th>\n",
       "      <td>24.21</td>\n",
       "      <td>0</td>\n",
       "      <td>0</td>\n",
       "      <td>0</td>\n",
       "      <td>0.0</td>\n",
       "      <td>0.0</td>\n",
       "      <td>0</td>\n",
       "      <td>0</td>\n",
       "      <td>11</td>\n",
       "      <td>5</td>\n",
       "      <td>0</td>\n",
       "      <td>0</td>\n",
       "      <td>2</td>\n",
       "      <td>6.0</td>\n",
       "      <td>0</td>\n",
       "      <td>0</td>\n",
       "      <td>1</td>\n",
       "    </tr>\n",
       "    <tr>\n",
       "      <th>4</th>\n",
       "      <td>23.71</td>\n",
       "      <td>0</td>\n",
       "      <td>0</td>\n",
       "      <td>0</td>\n",
       "      <td>28.0</td>\n",
       "      <td>0.0</td>\n",
       "      <td>1</td>\n",
       "      <td>0</td>\n",
       "      <td>4</td>\n",
       "      <td>5</td>\n",
       "      <td>0</td>\n",
       "      <td>1</td>\n",
       "      <td>4</td>\n",
       "      <td>8.0</td>\n",
       "      <td>0</td>\n",
       "      <td>0</td>\n",
       "      <td>0</td>\n",
       "    </tr>\n",
       "  </tbody>\n",
       "</table>\n",
       "</div>"
      ],
      "text/plain": [
       "     BMI  Smoking  AlcoholDrinking  Stroke  PhysicalHealth  MentalHealth  \\\n",
       "0  16.60        1                0       0             3.0          30.0   \n",
       "1  20.34        0                0       1             0.0           0.0   \n",
       "2  26.58        1                0       0            20.0          30.0   \n",
       "3  24.21        0                0       0             0.0           0.0   \n",
       "4  23.71        0                0       0            28.0           0.0   \n",
       "\n",
       "   DiffWalking  Sex  AgeCategory  Race  Diabetic  PhysicalActivity  GenHealth  \\\n",
       "0            0    0            7     5         2                 1          4   \n",
       "1            0    0           12     5         0                 1          4   \n",
       "2            0    1            9     5         2                 1          1   \n",
       "3            0    0           11     5         0                 0          2   \n",
       "4            1    0            4     5         0                 1          4   \n",
       "\n",
       "   SleepTime  Asthma  KidneyDisease  SkinCancer  \n",
       "0        5.0       1              0           1  \n",
       "1        7.0       0              0           0  \n",
       "2        8.0       1              0           0  \n",
       "3        6.0       0              0           1  \n",
       "4        8.0       0              0           0  "
      ]
     },
     "execution_count": 207,
     "metadata": {},
     "output_type": "execute_result"
    }
   ],
   "source": [
    "x.head()"
   ]
  },
  {
   "cell_type": "code",
   "execution_count": 208,
   "id": "778bed7b",
   "metadata": {},
   "outputs": [
    {
     "data": {
      "text/plain": [
       "Index(['BMI', 'Smoking', 'AlcoholDrinking', 'Stroke', 'PhysicalHealth',\n",
       "       'MentalHealth', 'DiffWalking', 'Sex', 'AgeCategory', 'Race', 'Diabetic',\n",
       "       'PhysicalActivity', 'GenHealth', 'SleepTime', 'Asthma', 'KidneyDisease',\n",
       "       'SkinCancer'],\n",
       "      dtype='object')"
      ]
     },
     "execution_count": 208,
     "metadata": {},
     "output_type": "execute_result"
    }
   ],
   "source": [
    "x.columns"
   ]
  },
  {
   "cell_type": "code",
   "execution_count": 209,
   "id": "dfa72ecb",
   "metadata": {},
   "outputs": [
    {
     "data": {
      "text/plain": [
       "0    0\n",
       "1    0\n",
       "2    0\n",
       "3    0\n",
       "4    0\n",
       "Name: HeartDisease, dtype: int32"
      ]
     },
     "execution_count": 209,
     "metadata": {},
     "output_type": "execute_result"
    }
   ],
   "source": [
    "y.head()"
   ]
  },
  {
   "cell_type": "code",
   "execution_count": 210,
   "id": "e42a1c35",
   "metadata": {},
   "outputs": [
    {
     "data": {
      "text/plain": [
       "(301717, 17)"
      ]
     },
     "execution_count": 210,
     "metadata": {},
     "output_type": "execute_result"
    }
   ],
   "source": [
    "x.shape"
   ]
  },
  {
   "cell_type": "code",
   "execution_count": 211,
   "id": "d4930bb0",
   "metadata": {},
   "outputs": [
    {
     "data": {
      "text/plain": [
       "(301717,)"
      ]
     },
     "execution_count": 211,
     "metadata": {},
     "output_type": "execute_result"
    }
   ],
   "source": [
    "y.shape"
   ]
  },
  {
   "cell_type": "code",
   "execution_count": 212,
   "id": "61d4d390",
   "metadata": {},
   "outputs": [],
   "source": [
    "# from the imbalance we see oversampling and smoketek is ideal approach"
   ]
  },
  {
   "cell_type": "markdown",
   "id": "df0b5045",
   "metadata": {},
   "source": [
    "# before sampling"
   ]
  },
  {
   "cell_type": "markdown",
   "id": "e8d7879a",
   "metadata": {},
   "source": [
    "# Cross Validation"
   ]
  },
  {
   "cell_type": "markdown",
   "id": "77f4d2ee",
   "metadata": {},
   "source": [
    "# Hold Out Cross Validation"
   ]
  },
  {
   "cell_type": "code",
   "execution_count": 244,
   "id": "5f5aeb19",
   "metadata": {},
   "outputs": [],
   "source": [
    "from sklearn.model_selection import train_test_split\n",
    "xtrain,xtest,ytrain,ytest=train_test_split(x,y,train_size=.70,random_state=42)"
   ]
  },
  {
   "cell_type": "code",
   "execution_count": 245,
   "id": "e6fd39ef",
   "metadata": {},
   "outputs": [],
   "source": [
    "from sklearn.tree import DecisionTreeClassifier"
   ]
  },
  {
   "cell_type": "code",
   "execution_count": 246,
   "id": "a1bed98e",
   "metadata": {},
   "outputs": [
    {
     "data": {
      "text/html": [
       "<style>#sk-container-id-14 {color: black;background-color: white;}#sk-container-id-14 pre{padding: 0;}#sk-container-id-14 div.sk-toggleable {background-color: white;}#sk-container-id-14 label.sk-toggleable__label {cursor: pointer;display: block;width: 100%;margin-bottom: 0;padding: 0.3em;box-sizing: border-box;text-align: center;}#sk-container-id-14 label.sk-toggleable__label-arrow:before {content: \"▸\";float: left;margin-right: 0.25em;color: #696969;}#sk-container-id-14 label.sk-toggleable__label-arrow:hover:before {color: black;}#sk-container-id-14 div.sk-estimator:hover label.sk-toggleable__label-arrow:before {color: black;}#sk-container-id-14 div.sk-toggleable__content {max-height: 0;max-width: 0;overflow: hidden;text-align: left;background-color: #f0f8ff;}#sk-container-id-14 div.sk-toggleable__content pre {margin: 0.2em;color: black;border-radius: 0.25em;background-color: #f0f8ff;}#sk-container-id-14 input.sk-toggleable__control:checked~div.sk-toggleable__content {max-height: 200px;max-width: 100%;overflow: auto;}#sk-container-id-14 input.sk-toggleable__control:checked~label.sk-toggleable__label-arrow:before {content: \"▾\";}#sk-container-id-14 div.sk-estimator input.sk-toggleable__control:checked~label.sk-toggleable__label {background-color: #d4ebff;}#sk-container-id-14 div.sk-label input.sk-toggleable__control:checked~label.sk-toggleable__label {background-color: #d4ebff;}#sk-container-id-14 input.sk-hidden--visually {border: 0;clip: rect(1px 1px 1px 1px);clip: rect(1px, 1px, 1px, 1px);height: 1px;margin: -1px;overflow: hidden;padding: 0;position: absolute;width: 1px;}#sk-container-id-14 div.sk-estimator {font-family: monospace;background-color: #f0f8ff;border: 1px dotted black;border-radius: 0.25em;box-sizing: border-box;margin-bottom: 0.5em;}#sk-container-id-14 div.sk-estimator:hover {background-color: #d4ebff;}#sk-container-id-14 div.sk-parallel-item::after {content: \"\";width: 100%;border-bottom: 1px solid gray;flex-grow: 1;}#sk-container-id-14 div.sk-label:hover label.sk-toggleable__label {background-color: #d4ebff;}#sk-container-id-14 div.sk-serial::before {content: \"\";position: absolute;border-left: 1px solid gray;box-sizing: border-box;top: 0;bottom: 0;left: 50%;z-index: 0;}#sk-container-id-14 div.sk-serial {display: flex;flex-direction: column;align-items: center;background-color: white;padding-right: 0.2em;padding-left: 0.2em;position: relative;}#sk-container-id-14 div.sk-item {position: relative;z-index: 1;}#sk-container-id-14 div.sk-parallel {display: flex;align-items: stretch;justify-content: center;background-color: white;position: relative;}#sk-container-id-14 div.sk-item::before, #sk-container-id-14 div.sk-parallel-item::before {content: \"\";position: absolute;border-left: 1px solid gray;box-sizing: border-box;top: 0;bottom: 0;left: 50%;z-index: -1;}#sk-container-id-14 div.sk-parallel-item {display: flex;flex-direction: column;z-index: 1;position: relative;background-color: white;}#sk-container-id-14 div.sk-parallel-item:first-child::after {align-self: flex-end;width: 50%;}#sk-container-id-14 div.sk-parallel-item:last-child::after {align-self: flex-start;width: 50%;}#sk-container-id-14 div.sk-parallel-item:only-child::after {width: 0;}#sk-container-id-14 div.sk-dashed-wrapped {border: 1px dashed gray;margin: 0 0.4em 0.5em 0.4em;box-sizing: border-box;padding-bottom: 0.4em;background-color: white;}#sk-container-id-14 div.sk-label label {font-family: monospace;font-weight: bold;display: inline-block;line-height: 1.2em;}#sk-container-id-14 div.sk-label-container {text-align: center;}#sk-container-id-14 div.sk-container {/* jupyter's `normalize.less` sets `[hidden] { display: none; }` but bootstrap.min.css set `[hidden] { display: none !important; }` so we also need the `!important` here to be able to override the default hidden behavior on the sphinx rendered scikit-learn.org. See: https://github.com/scikit-learn/scikit-learn/issues/21755 */display: inline-block !important;position: relative;}#sk-container-id-14 div.sk-text-repr-fallback {display: none;}</style><div id=\"sk-container-id-14\" class=\"sk-top-container\"><div class=\"sk-text-repr-fallback\"><pre>DecisionTreeClassifier()</pre><b>In a Jupyter environment, please rerun this cell to show the HTML representation or trust the notebook. <br />On GitHub, the HTML representation is unable to render, please try loading this page with nbviewer.org.</b></div><div class=\"sk-container\" hidden><div class=\"sk-item\"><div class=\"sk-estimator sk-toggleable\"><input class=\"sk-toggleable__control sk-hidden--visually\" id=\"sk-estimator-id-14\" type=\"checkbox\" checked><label for=\"sk-estimator-id-14\" class=\"sk-toggleable__label sk-toggleable__label-arrow\">DecisionTreeClassifier</label><div class=\"sk-toggleable__content\"><pre>DecisionTreeClassifier()</pre></div></div></div></div></div>"
      ],
      "text/plain": [
       "DecisionTreeClassifier()"
      ]
     },
     "execution_count": 246,
     "metadata": {},
     "output_type": "execute_result"
    }
   ],
   "source": [
    "clf=DecisionTreeClassifier()\n",
    "clf.fit(xtrain,ytrain)"
   ]
  },
  {
   "cell_type": "code",
   "execution_count": 247,
   "id": "cee80710",
   "metadata": {},
   "outputs": [
    {
     "data": {
      "text/plain": [
       "0.8546997215961819"
      ]
     },
     "execution_count": 247,
     "metadata": {},
     "output_type": "execute_result"
    }
   ],
   "source": [
    "clf.score(xtest,ytest)"
   ]
  },
  {
   "cell_type": "code",
   "execution_count": 248,
   "id": "3f457efd",
   "metadata": {},
   "outputs": [],
   "source": [
    "from xgboost import XGBClassifier\n",
    "from sklearn.ensemble import AdaBoostClassifier\n",
    "xgb = XGBClassifier()\n",
    "ada = AdaBoostClassifier()"
   ]
  },
  {
   "cell_type": "code",
   "execution_count": 249,
   "id": "fabaa0be",
   "metadata": {},
   "outputs": [],
   "source": [
    "from sklearn.ensemble import RandomForestClassifier\n",
    "rnd = RandomForestClassifier(max_depth=2, random_state=0)"
   ]
  },
  {
   "cell_type": "code",
   "execution_count": 250,
   "id": "1a82d7c2",
   "metadata": {},
   "outputs": [
    {
     "data": {
      "text/html": [
       "<style>#sk-container-id-15 {color: black;background-color: white;}#sk-container-id-15 pre{padding: 0;}#sk-container-id-15 div.sk-toggleable {background-color: white;}#sk-container-id-15 label.sk-toggleable__label {cursor: pointer;display: block;width: 100%;margin-bottom: 0;padding: 0.3em;box-sizing: border-box;text-align: center;}#sk-container-id-15 label.sk-toggleable__label-arrow:before {content: \"▸\";float: left;margin-right: 0.25em;color: #696969;}#sk-container-id-15 label.sk-toggleable__label-arrow:hover:before {color: black;}#sk-container-id-15 div.sk-estimator:hover label.sk-toggleable__label-arrow:before {color: black;}#sk-container-id-15 div.sk-toggleable__content {max-height: 0;max-width: 0;overflow: hidden;text-align: left;background-color: #f0f8ff;}#sk-container-id-15 div.sk-toggleable__content pre {margin: 0.2em;color: black;border-radius: 0.25em;background-color: #f0f8ff;}#sk-container-id-15 input.sk-toggleable__control:checked~div.sk-toggleable__content {max-height: 200px;max-width: 100%;overflow: auto;}#sk-container-id-15 input.sk-toggleable__control:checked~label.sk-toggleable__label-arrow:before {content: \"▾\";}#sk-container-id-15 div.sk-estimator input.sk-toggleable__control:checked~label.sk-toggleable__label {background-color: #d4ebff;}#sk-container-id-15 div.sk-label input.sk-toggleable__control:checked~label.sk-toggleable__label {background-color: #d4ebff;}#sk-container-id-15 input.sk-hidden--visually {border: 0;clip: rect(1px 1px 1px 1px);clip: rect(1px, 1px, 1px, 1px);height: 1px;margin: -1px;overflow: hidden;padding: 0;position: absolute;width: 1px;}#sk-container-id-15 div.sk-estimator {font-family: monospace;background-color: #f0f8ff;border: 1px dotted black;border-radius: 0.25em;box-sizing: border-box;margin-bottom: 0.5em;}#sk-container-id-15 div.sk-estimator:hover {background-color: #d4ebff;}#sk-container-id-15 div.sk-parallel-item::after {content: \"\";width: 100%;border-bottom: 1px solid gray;flex-grow: 1;}#sk-container-id-15 div.sk-label:hover label.sk-toggleable__label {background-color: #d4ebff;}#sk-container-id-15 div.sk-serial::before {content: \"\";position: absolute;border-left: 1px solid gray;box-sizing: border-box;top: 0;bottom: 0;left: 50%;z-index: 0;}#sk-container-id-15 div.sk-serial {display: flex;flex-direction: column;align-items: center;background-color: white;padding-right: 0.2em;padding-left: 0.2em;position: relative;}#sk-container-id-15 div.sk-item {position: relative;z-index: 1;}#sk-container-id-15 div.sk-parallel {display: flex;align-items: stretch;justify-content: center;background-color: white;position: relative;}#sk-container-id-15 div.sk-item::before, #sk-container-id-15 div.sk-parallel-item::before {content: \"\";position: absolute;border-left: 1px solid gray;box-sizing: border-box;top: 0;bottom: 0;left: 50%;z-index: -1;}#sk-container-id-15 div.sk-parallel-item {display: flex;flex-direction: column;z-index: 1;position: relative;background-color: white;}#sk-container-id-15 div.sk-parallel-item:first-child::after {align-self: flex-end;width: 50%;}#sk-container-id-15 div.sk-parallel-item:last-child::after {align-self: flex-start;width: 50%;}#sk-container-id-15 div.sk-parallel-item:only-child::after {width: 0;}#sk-container-id-15 div.sk-dashed-wrapped {border: 1px dashed gray;margin: 0 0.4em 0.5em 0.4em;box-sizing: border-box;padding-bottom: 0.4em;background-color: white;}#sk-container-id-15 div.sk-label label {font-family: monospace;font-weight: bold;display: inline-block;line-height: 1.2em;}#sk-container-id-15 div.sk-label-container {text-align: center;}#sk-container-id-15 div.sk-container {/* jupyter's `normalize.less` sets `[hidden] { display: none; }` but bootstrap.min.css set `[hidden] { display: none !important; }` so we also need the `!important` here to be able to override the default hidden behavior on the sphinx rendered scikit-learn.org. See: https://github.com/scikit-learn/scikit-learn/issues/21755 */display: inline-block !important;position: relative;}#sk-container-id-15 div.sk-text-repr-fallback {display: none;}</style><div id=\"sk-container-id-15\" class=\"sk-top-container\"><div class=\"sk-text-repr-fallback\"><pre>XGBClassifier(base_score=0.5, booster=&#x27;gbtree&#x27;, callbacks=None,\n",
       "              colsample_bylevel=1, colsample_bynode=1, colsample_bytree=1,\n",
       "              early_stopping_rounds=None, enable_categorical=False,\n",
       "              eval_metric=None, gamma=0, gpu_id=-1, grow_policy=&#x27;depthwise&#x27;,\n",
       "              importance_type=None, interaction_constraints=&#x27;&#x27;,\n",
       "              learning_rate=0.300000012, max_bin=256, max_cat_to_onehot=4,\n",
       "              max_delta_step=0, max_depth=6, max_leaves=0, min_child_weight=1,\n",
       "              missing=nan, monotone_constraints=&#x27;()&#x27;, n_estimators=100,\n",
       "              n_jobs=0, num_parallel_tree=1, predictor=&#x27;auto&#x27;, random_state=0,\n",
       "              reg_alpha=0, reg_lambda=1, ...)</pre><b>In a Jupyter environment, please rerun this cell to show the HTML representation or trust the notebook. <br />On GitHub, the HTML representation is unable to render, please try loading this page with nbviewer.org.</b></div><div class=\"sk-container\" hidden><div class=\"sk-item\"><div class=\"sk-estimator sk-toggleable\"><input class=\"sk-toggleable__control sk-hidden--visually\" id=\"sk-estimator-id-15\" type=\"checkbox\" checked><label for=\"sk-estimator-id-15\" class=\"sk-toggleable__label sk-toggleable__label-arrow\">XGBClassifier</label><div class=\"sk-toggleable__content\"><pre>XGBClassifier(base_score=0.5, booster=&#x27;gbtree&#x27;, callbacks=None,\n",
       "              colsample_bylevel=1, colsample_bynode=1, colsample_bytree=1,\n",
       "              early_stopping_rounds=None, enable_categorical=False,\n",
       "              eval_metric=None, gamma=0, gpu_id=-1, grow_policy=&#x27;depthwise&#x27;,\n",
       "              importance_type=None, interaction_constraints=&#x27;&#x27;,\n",
       "              learning_rate=0.300000012, max_bin=256, max_cat_to_onehot=4,\n",
       "              max_delta_step=0, max_depth=6, max_leaves=0, min_child_weight=1,\n",
       "              missing=nan, monotone_constraints=&#x27;()&#x27;, n_estimators=100,\n",
       "              n_jobs=0, num_parallel_tree=1, predictor=&#x27;auto&#x27;, random_state=0,\n",
       "              reg_alpha=0, reg_lambda=1, ...)</pre></div></div></div></div></div>"
      ],
      "text/plain": [
       "XGBClassifier(base_score=0.5, booster='gbtree', callbacks=None,\n",
       "              colsample_bylevel=1, colsample_bynode=1, colsample_bytree=1,\n",
       "              early_stopping_rounds=None, enable_categorical=False,\n",
       "              eval_metric=None, gamma=0, gpu_id=-1, grow_policy='depthwise',\n",
       "              importance_type=None, interaction_constraints='',\n",
       "              learning_rate=0.300000012, max_bin=256, max_cat_to_onehot=4,\n",
       "              max_delta_step=0, max_depth=6, max_leaves=0, min_child_weight=1,\n",
       "              missing=nan, monotone_constraints='()', n_estimators=100,\n",
       "              n_jobs=0, num_parallel_tree=1, predictor='auto', random_state=0,\n",
       "              reg_alpha=0, reg_lambda=1, ...)"
      ]
     },
     "execution_count": 250,
     "metadata": {},
     "output_type": "execute_result"
    }
   ],
   "source": [
    "xgb.fit(xtrain,ytrain)"
   ]
  },
  {
   "cell_type": "code",
   "execution_count": 251,
   "id": "678f2c60",
   "metadata": {},
   "outputs": [
    {
     "data": {
      "text/html": [
       "<style>#sk-container-id-16 {color: black;background-color: white;}#sk-container-id-16 pre{padding: 0;}#sk-container-id-16 div.sk-toggleable {background-color: white;}#sk-container-id-16 label.sk-toggleable__label {cursor: pointer;display: block;width: 100%;margin-bottom: 0;padding: 0.3em;box-sizing: border-box;text-align: center;}#sk-container-id-16 label.sk-toggleable__label-arrow:before {content: \"▸\";float: left;margin-right: 0.25em;color: #696969;}#sk-container-id-16 label.sk-toggleable__label-arrow:hover:before {color: black;}#sk-container-id-16 div.sk-estimator:hover label.sk-toggleable__label-arrow:before {color: black;}#sk-container-id-16 div.sk-toggleable__content {max-height: 0;max-width: 0;overflow: hidden;text-align: left;background-color: #f0f8ff;}#sk-container-id-16 div.sk-toggleable__content pre {margin: 0.2em;color: black;border-radius: 0.25em;background-color: #f0f8ff;}#sk-container-id-16 input.sk-toggleable__control:checked~div.sk-toggleable__content {max-height: 200px;max-width: 100%;overflow: auto;}#sk-container-id-16 input.sk-toggleable__control:checked~label.sk-toggleable__label-arrow:before {content: \"▾\";}#sk-container-id-16 div.sk-estimator input.sk-toggleable__control:checked~label.sk-toggleable__label {background-color: #d4ebff;}#sk-container-id-16 div.sk-label input.sk-toggleable__control:checked~label.sk-toggleable__label {background-color: #d4ebff;}#sk-container-id-16 input.sk-hidden--visually {border: 0;clip: rect(1px 1px 1px 1px);clip: rect(1px, 1px, 1px, 1px);height: 1px;margin: -1px;overflow: hidden;padding: 0;position: absolute;width: 1px;}#sk-container-id-16 div.sk-estimator {font-family: monospace;background-color: #f0f8ff;border: 1px dotted black;border-radius: 0.25em;box-sizing: border-box;margin-bottom: 0.5em;}#sk-container-id-16 div.sk-estimator:hover {background-color: #d4ebff;}#sk-container-id-16 div.sk-parallel-item::after {content: \"\";width: 100%;border-bottom: 1px solid gray;flex-grow: 1;}#sk-container-id-16 div.sk-label:hover label.sk-toggleable__label {background-color: #d4ebff;}#sk-container-id-16 div.sk-serial::before {content: \"\";position: absolute;border-left: 1px solid gray;box-sizing: border-box;top: 0;bottom: 0;left: 50%;z-index: 0;}#sk-container-id-16 div.sk-serial {display: flex;flex-direction: column;align-items: center;background-color: white;padding-right: 0.2em;padding-left: 0.2em;position: relative;}#sk-container-id-16 div.sk-item {position: relative;z-index: 1;}#sk-container-id-16 div.sk-parallel {display: flex;align-items: stretch;justify-content: center;background-color: white;position: relative;}#sk-container-id-16 div.sk-item::before, #sk-container-id-16 div.sk-parallel-item::before {content: \"\";position: absolute;border-left: 1px solid gray;box-sizing: border-box;top: 0;bottom: 0;left: 50%;z-index: -1;}#sk-container-id-16 div.sk-parallel-item {display: flex;flex-direction: column;z-index: 1;position: relative;background-color: white;}#sk-container-id-16 div.sk-parallel-item:first-child::after {align-self: flex-end;width: 50%;}#sk-container-id-16 div.sk-parallel-item:last-child::after {align-self: flex-start;width: 50%;}#sk-container-id-16 div.sk-parallel-item:only-child::after {width: 0;}#sk-container-id-16 div.sk-dashed-wrapped {border: 1px dashed gray;margin: 0 0.4em 0.5em 0.4em;box-sizing: border-box;padding-bottom: 0.4em;background-color: white;}#sk-container-id-16 div.sk-label label {font-family: monospace;font-weight: bold;display: inline-block;line-height: 1.2em;}#sk-container-id-16 div.sk-label-container {text-align: center;}#sk-container-id-16 div.sk-container {/* jupyter's `normalize.less` sets `[hidden] { display: none; }` but bootstrap.min.css set `[hidden] { display: none !important; }` so we also need the `!important` here to be able to override the default hidden behavior on the sphinx rendered scikit-learn.org. See: https://github.com/scikit-learn/scikit-learn/issues/21755 */display: inline-block !important;position: relative;}#sk-container-id-16 div.sk-text-repr-fallback {display: none;}</style><div id=\"sk-container-id-16\" class=\"sk-top-container\"><div class=\"sk-text-repr-fallback\"><pre>AdaBoostClassifier()</pre><b>In a Jupyter environment, please rerun this cell to show the HTML representation or trust the notebook. <br />On GitHub, the HTML representation is unable to render, please try loading this page with nbviewer.org.</b></div><div class=\"sk-container\" hidden><div class=\"sk-item\"><div class=\"sk-estimator sk-toggleable\"><input class=\"sk-toggleable__control sk-hidden--visually\" id=\"sk-estimator-id-16\" type=\"checkbox\" checked><label for=\"sk-estimator-id-16\" class=\"sk-toggleable__label sk-toggleable__label-arrow\">AdaBoostClassifier</label><div class=\"sk-toggleable__content\"><pre>AdaBoostClassifier()</pre></div></div></div></div></div>"
      ],
      "text/plain": [
       "AdaBoostClassifier()"
      ]
     },
     "execution_count": 251,
     "metadata": {},
     "output_type": "execute_result"
    }
   ],
   "source": [
    "ada.fit(xtrain,ytrain)"
   ]
  },
  {
   "cell_type": "code",
   "execution_count": 252,
   "id": "851cdb3c",
   "metadata": {},
   "outputs": [
    {
     "data": {
      "text/html": [
       "<style>#sk-container-id-17 {color: black;background-color: white;}#sk-container-id-17 pre{padding: 0;}#sk-container-id-17 div.sk-toggleable {background-color: white;}#sk-container-id-17 label.sk-toggleable__label {cursor: pointer;display: block;width: 100%;margin-bottom: 0;padding: 0.3em;box-sizing: border-box;text-align: center;}#sk-container-id-17 label.sk-toggleable__label-arrow:before {content: \"▸\";float: left;margin-right: 0.25em;color: #696969;}#sk-container-id-17 label.sk-toggleable__label-arrow:hover:before {color: black;}#sk-container-id-17 div.sk-estimator:hover label.sk-toggleable__label-arrow:before {color: black;}#sk-container-id-17 div.sk-toggleable__content {max-height: 0;max-width: 0;overflow: hidden;text-align: left;background-color: #f0f8ff;}#sk-container-id-17 div.sk-toggleable__content pre {margin: 0.2em;color: black;border-radius: 0.25em;background-color: #f0f8ff;}#sk-container-id-17 input.sk-toggleable__control:checked~div.sk-toggleable__content {max-height: 200px;max-width: 100%;overflow: auto;}#sk-container-id-17 input.sk-toggleable__control:checked~label.sk-toggleable__label-arrow:before {content: \"▾\";}#sk-container-id-17 div.sk-estimator input.sk-toggleable__control:checked~label.sk-toggleable__label {background-color: #d4ebff;}#sk-container-id-17 div.sk-label input.sk-toggleable__control:checked~label.sk-toggleable__label {background-color: #d4ebff;}#sk-container-id-17 input.sk-hidden--visually {border: 0;clip: rect(1px 1px 1px 1px);clip: rect(1px, 1px, 1px, 1px);height: 1px;margin: -1px;overflow: hidden;padding: 0;position: absolute;width: 1px;}#sk-container-id-17 div.sk-estimator {font-family: monospace;background-color: #f0f8ff;border: 1px dotted black;border-radius: 0.25em;box-sizing: border-box;margin-bottom: 0.5em;}#sk-container-id-17 div.sk-estimator:hover {background-color: #d4ebff;}#sk-container-id-17 div.sk-parallel-item::after {content: \"\";width: 100%;border-bottom: 1px solid gray;flex-grow: 1;}#sk-container-id-17 div.sk-label:hover label.sk-toggleable__label {background-color: #d4ebff;}#sk-container-id-17 div.sk-serial::before {content: \"\";position: absolute;border-left: 1px solid gray;box-sizing: border-box;top: 0;bottom: 0;left: 50%;z-index: 0;}#sk-container-id-17 div.sk-serial {display: flex;flex-direction: column;align-items: center;background-color: white;padding-right: 0.2em;padding-left: 0.2em;position: relative;}#sk-container-id-17 div.sk-item {position: relative;z-index: 1;}#sk-container-id-17 div.sk-parallel {display: flex;align-items: stretch;justify-content: center;background-color: white;position: relative;}#sk-container-id-17 div.sk-item::before, #sk-container-id-17 div.sk-parallel-item::before {content: \"\";position: absolute;border-left: 1px solid gray;box-sizing: border-box;top: 0;bottom: 0;left: 50%;z-index: -1;}#sk-container-id-17 div.sk-parallel-item {display: flex;flex-direction: column;z-index: 1;position: relative;background-color: white;}#sk-container-id-17 div.sk-parallel-item:first-child::after {align-self: flex-end;width: 50%;}#sk-container-id-17 div.sk-parallel-item:last-child::after {align-self: flex-start;width: 50%;}#sk-container-id-17 div.sk-parallel-item:only-child::after {width: 0;}#sk-container-id-17 div.sk-dashed-wrapped {border: 1px dashed gray;margin: 0 0.4em 0.5em 0.4em;box-sizing: border-box;padding-bottom: 0.4em;background-color: white;}#sk-container-id-17 div.sk-label label {font-family: monospace;font-weight: bold;display: inline-block;line-height: 1.2em;}#sk-container-id-17 div.sk-label-container {text-align: center;}#sk-container-id-17 div.sk-container {/* jupyter's `normalize.less` sets `[hidden] { display: none; }` but bootstrap.min.css set `[hidden] { display: none !important; }` so we also need the `!important` here to be able to override the default hidden behavior on the sphinx rendered scikit-learn.org. See: https://github.com/scikit-learn/scikit-learn/issues/21755 */display: inline-block !important;position: relative;}#sk-container-id-17 div.sk-text-repr-fallback {display: none;}</style><div id=\"sk-container-id-17\" class=\"sk-top-container\"><div class=\"sk-text-repr-fallback\"><pre>RandomForestClassifier(max_depth=2, random_state=0)</pre><b>In a Jupyter environment, please rerun this cell to show the HTML representation or trust the notebook. <br />On GitHub, the HTML representation is unable to render, please try loading this page with nbviewer.org.</b></div><div class=\"sk-container\" hidden><div class=\"sk-item\"><div class=\"sk-estimator sk-toggleable\"><input class=\"sk-toggleable__control sk-hidden--visually\" id=\"sk-estimator-id-17\" type=\"checkbox\" checked><label for=\"sk-estimator-id-17\" class=\"sk-toggleable__label sk-toggleable__label-arrow\">RandomForestClassifier</label><div class=\"sk-toggleable__content\"><pre>RandomForestClassifier(max_depth=2, random_state=0)</pre></div></div></div></div></div>"
      ],
      "text/plain": [
       "RandomForestClassifier(max_depth=2, random_state=0)"
      ]
     },
     "execution_count": 252,
     "metadata": {},
     "output_type": "execute_result"
    }
   ],
   "source": [
    "rnd.fit(xtrain,ytrain)"
   ]
  },
  {
   "cell_type": "code",
   "execution_count": 253,
   "id": "9832a183",
   "metadata": {},
   "outputs": [],
   "source": [
    "# #now checking with decision tree clf\n",
    "# from sklearn.tree import DecisionTreeClassifier\n",
    "# clf=DecisionTreeClassifier()\n",
    "# clf.fit(xtrain,ytrain)"
   ]
  },
  {
   "cell_type": "code",
   "execution_count": 254,
   "id": "8c714efe",
   "metadata": {},
   "outputs": [
    {
     "data": {
      "text/plain": [
       "0.9109218259755182"
      ]
     },
     "execution_count": 254,
     "metadata": {},
     "output_type": "execute_result"
    }
   ],
   "source": [
    "xgb.score(xtest,ytest)"
   ]
  },
  {
   "cell_type": "code",
   "execution_count": 255,
   "id": "c01690b0",
   "metadata": {},
   "outputs": [
    {
     "data": {
      "text/plain": [
       "0.9108555393521587"
      ]
     },
     "execution_count": 255,
     "metadata": {},
     "output_type": "execute_result"
    }
   ],
   "source": [
    "ada.score(xtest,ytest)"
   ]
  },
  {
   "cell_type": "code",
   "execution_count": 256,
   "id": "5394ab62",
   "metadata": {},
   "outputs": [
    {
     "data": {
      "text/plain": [
       "0.910148482036325"
      ]
     },
     "execution_count": 256,
     "metadata": {},
     "output_type": "execute_result"
    }
   ],
   "source": [
    "rnd.score(xtest,ytest)"
   ]
  },
  {
   "cell_type": "markdown",
   "id": "c4ece4ed",
   "metadata": {},
   "source": [
    "# K-Fold Cross Validation"
   ]
  },
  {
   "cell_type": "code",
   "execution_count": 476,
   "id": "438dac8d",
   "metadata": {},
   "outputs": [],
   "source": [
    "from sklearn.model_selection import KFold,cross_val_score,cross_validate\n",
    "kfold = KFold(n_splits=4)"
   ]
  },
  {
   "cell_type": "code",
   "execution_count": 477,
   "id": "8261b091",
   "metadata": {},
   "outputs": [
    {
     "data": {
      "text/plain": [
       "array([0.9147554 , 0.90949104, 0.909849  , 0.90872211])"
      ]
     },
     "execution_count": 477,
     "metadata": {},
     "output_type": "execute_result"
    }
   ],
   "source": [
    "result=cross_val_score(xgb,x,y,cv=kfold)\n",
    "result"
   ]
  },
  {
   "cell_type": "code",
   "execution_count": 478,
   "id": "15c78968",
   "metadata": {},
   "outputs": [
    {
     "data": {
      "text/plain": [
       "{'fit_time': array([10.7875092 ,  9.71521282, 10.2084198 ,  9.98131919]),\n",
       " 'score_time': array([0.06678247, 0.07468557, 0.08105564, 0.08113742]),\n",
       " 'test_score': array([0.9147554 , 0.90949104, 0.909849  , 0.90872211])}"
      ]
     },
     "execution_count": 478,
     "metadata": {},
     "output_type": "execute_result"
    }
   ],
   "source": [
    "cross_validate=cross_validate(xgb,x,y,cv=kfold)\n",
    "cross_validate"
   ]
  },
  {
   "cell_type": "code",
   "execution_count": 91,
   "id": "60dcb44c",
   "metadata": {},
   "outputs": [
    {
     "data": {
      "text/plain": [
       "0.9087221095334685"
      ]
     },
     "execution_count": 91,
     "metadata": {},
     "output_type": "execute_result"
    }
   ],
   "source": [
    "result.min()"
   ]
  },
  {
   "cell_type": "code",
   "execution_count": 92,
   "id": "0b042e87",
   "metadata": {},
   "outputs": [
    {
     "data": {
      "text/plain": [
       "0.910704388380456"
      ]
     },
     "execution_count": 92,
     "metadata": {},
     "output_type": "execute_result"
    }
   ],
   "source": [
    "result.mean()"
   ]
  },
  {
   "cell_type": "code",
   "execution_count": 93,
   "id": "8f2dcc3c",
   "metadata": {},
   "outputs": [
    {
     "data": {
      "text/plain": [
       "0.9147554023598038"
      ]
     },
     "execution_count": 93,
     "metadata": {},
     "output_type": "execute_result"
    }
   ],
   "source": [
    "result.max()"
   ]
  },
  {
   "cell_type": "code",
   "execution_count": 94,
   "id": "7683603b",
   "metadata": {},
   "outputs": [
    {
     "data": {
      "text/plain": [
       "array([0.85565425, 0.85229819, 0.85457848, 0.85390235])"
      ]
     },
     "execution_count": 94,
     "metadata": {},
     "output_type": "execute_result"
    }
   ],
   "source": [
    "result_dt=cross_val_score(clf,x,y,cv=kfold)\n",
    "result_dt"
   ]
  },
  {
   "cell_type": "code",
   "execution_count": 147,
   "id": "45ac6644",
   "metadata": {},
   "outputs": [],
   "source": [
    "# cross_validate2=cross_validate(clf,x,y,cv=kfold)\n",
    "# cross_validate2"
   ]
  },
  {
   "cell_type": "code",
   "execution_count": 95,
   "id": "fbc450b6",
   "metadata": {},
   "outputs": [
    {
     "data": {
      "text/plain": [
       "0.8522981876996911"
      ]
     },
     "execution_count": 95,
     "metadata": {},
     "output_type": "execute_result"
    }
   ],
   "source": [
    "result_dt.min()"
   ]
  },
  {
   "cell_type": "code",
   "execution_count": 96,
   "id": "de535c00",
   "metadata": {},
   "outputs": [
    {
     "data": {
      "text/plain": [
       "0.8541083149244688"
      ]
     },
     "execution_count": 96,
     "metadata": {},
     "output_type": "execute_result"
    }
   ],
   "source": [
    "result_dt.mean()"
   ]
  },
  {
   "cell_type": "code",
   "execution_count": 97,
   "id": "8ff5d433",
   "metadata": {},
   "outputs": [
    {
     "data": {
      "text/plain": [
       "0.8556542489725574"
      ]
     },
     "execution_count": 97,
     "metadata": {},
     "output_type": "execute_result"
    }
   ],
   "source": [
    "result_dt.max()"
   ]
  },
  {
   "cell_type": "code",
   "execution_count": 98,
   "id": "bb950e8c",
   "metadata": {},
   "outputs": [
    {
     "data": {
      "text/plain": [
       "array([0.91476866, 0.90929218, 0.9103793 , 0.90930544])"
      ]
     },
     "execution_count": 98,
     "metadata": {},
     "output_type": "execute_result"
    }
   ],
   "source": [
    "result_ada=cross_val_score(ada,x,y,cv=kfold)\n",
    "result_ada"
   ]
  },
  {
   "cell_type": "code",
   "execution_count": 99,
   "id": "b23cfe50",
   "metadata": {},
   "outputs": [],
   "source": [
    "# result_dt.min()\n",
    "# result_dt.mean()\n",
    "# result_dt.max()"
   ]
  },
  {
   "cell_type": "code",
   "execution_count": 100,
   "id": "5eb2c011",
   "metadata": {},
   "outputs": [
    {
     "data": {
      "text/plain": [
       "0.9092921820519959"
      ]
     },
     "execution_count": 100,
     "metadata": {},
     "output_type": "execute_result"
    }
   ],
   "source": [
    "result_ada.min()"
   ]
  },
  {
   "cell_type": "code",
   "execution_count": 101,
   "id": "1049c673",
   "metadata": {},
   "outputs": [
    {
     "data": {
      "text/plain": [
       "0.9109363945940563"
      ]
     },
     "execution_count": 101,
     "metadata": {},
     "output_type": "execute_result"
    }
   ],
   "source": [
    "result_ada.mean()"
   ]
  },
  {
   "cell_type": "code",
   "execution_count": 102,
   "id": "6b4e15ab",
   "metadata": {},
   "outputs": [
    {
     "data": {
      "text/plain": [
       "0.9092921820519959"
      ]
     },
     "execution_count": 102,
     "metadata": {},
     "output_type": "execute_result"
    }
   ],
   "source": [
    "result_ada.min()"
   ]
  },
  {
   "cell_type": "markdown",
   "id": "aab8e57a",
   "metadata": {},
   "source": [
    "# Stratified k fold cross Validation"
   ]
  },
  {
   "cell_type": "code",
   "execution_count": 288,
   "id": "8cdd288c",
   "metadata": {},
   "outputs": [],
   "source": [
    "from sklearn.model_selection import StratifiedKFold\n",
    "st = StratifiedKFold(n_splits=4)"
   ]
  },
  {
   "cell_type": "code",
   "execution_count": 222,
   "id": "45fefcc8",
   "metadata": {},
   "outputs": [
    {
     "data": {
      "text/plain": [
       "array([0.91100358, 0.91083005, 0.90990203, 0.91110846])"
      ]
     },
     "execution_count": 222,
     "metadata": {},
     "output_type": "execute_result"
    }
   ],
   "source": [
    "result2=cross_val_score(xgb,x,y,cv=st)\n",
    "result2"
   ]
  },
  {
   "cell_type": "code",
   "execution_count": 223,
   "id": "1dce8ef8",
   "metadata": {},
   "outputs": [
    {
     "data": {
      "text/plain": [
       "array([0.91100358, 0.91083005, 0.90990203, 0.91110846])"
      ]
     },
     "execution_count": 223,
     "metadata": {},
     "output_type": "execute_result"
    }
   ],
   "source": [
    "crossvalidate2=cross_val_score(xgb,x,y,cv=st)\n",
    "crossvalidate2"
   ]
  },
  {
   "cell_type": "code",
   "execution_count": 225,
   "id": "c128ba44",
   "metadata": {},
   "outputs": [],
   "source": [
    "# cross_validate=cross_validate(xgb,x,y,cv=kfold)\n",
    "# cross_validate"
   ]
  },
  {
   "cell_type": "code",
   "execution_count": 106,
   "id": "65ce586a",
   "metadata": {},
   "outputs": [
    {
     "data": {
      "text/plain": [
       "0.9099020270718159"
      ]
     },
     "execution_count": 106,
     "metadata": {},
     "output_type": "execute_result"
    }
   ],
   "source": [
    "result2.min()"
   ]
  },
  {
   "cell_type": "code",
   "execution_count": 107,
   "id": "5170e931",
   "metadata": {},
   "outputs": [
    {
     "data": {
      "text/plain": [
       "0.9107110295656197"
      ]
     },
     "execution_count": 107,
     "metadata": {},
     "output_type": "execute_result"
    }
   ],
   "source": [
    "result2.mean()"
   ]
  },
  {
   "cell_type": "code",
   "execution_count": 108,
   "id": "fdcc9bdd",
   "metadata": {},
   "outputs": [
    {
     "data": {
      "text/plain": [
       "0.9111084596110249"
      ]
     },
     "execution_count": 108,
     "metadata": {},
     "output_type": "execute_result"
    }
   ],
   "source": [
    "result2.max()"
   ]
  },
  {
   "cell_type": "code",
   "execution_count": 109,
   "id": "1f4b5f0d",
   "metadata": {},
   "outputs": [
    {
     "data": {
      "text/plain": [
       "array([0.85366565, 0.85225842, 0.85553302, 0.85571862])"
      ]
     },
     "execution_count": 109,
     "metadata": {},
     "output_type": "execute_result"
    }
   ],
   "source": [
    "result2_dt=cross_val_score(clf,x,y,cv=st)\n",
    "result2_dt"
   ]
  },
  {
   "cell_type": "code",
   "execution_count": 110,
   "id": "96606065",
   "metadata": {},
   "outputs": [
    {
     "data": {
      "text/plain": [
       "0.8522584151983985"
      ]
     },
     "execution_count": 110,
     "metadata": {},
     "output_type": "execute_result"
    }
   ],
   "source": [
    "result2_dt.min()"
   ]
  },
  {
   "cell_type": "code",
   "execution_count": 111,
   "id": "612cbb9e",
   "metadata": {},
   "outputs": [
    {
     "data": {
      "text/plain": [
       "0.854293926521463"
      ]
     },
     "execution_count": 111,
     "metadata": {},
     "output_type": "execute_result"
    }
   ],
   "source": [
    "result2_dt.mean()"
   ]
  },
  {
   "cell_type": "code",
   "execution_count": 112,
   "id": "249f369b",
   "metadata": {},
   "outputs": [
    {
     "data": {
      "text/plain": [
       "0.8557186228108552"
      ]
     },
     "execution_count": 112,
     "metadata": {},
     "output_type": "execute_result"
    }
   ],
   "source": [
    "result2_dt.max()"
   ]
  },
  {
   "cell_type": "code",
   "execution_count": 113,
   "id": "4863d80e",
   "metadata": {},
   "outputs": [
    {
     "data": {
      "text/plain": [
       "array([0.85389102, 0.85281523, 0.85472431, 0.85468454])"
      ]
     },
     "execution_count": 113,
     "metadata": {},
     "output_type": "execute_result"
    }
   ],
   "source": [
    "crossvalidate2_dt=cross_val_score(clf,x,y,cv=st)\n",
    "crossvalidate2_dt"
   ]
  },
  {
   "cell_type": "code",
   "execution_count": 114,
   "id": "2eafba2a",
   "metadata": {},
   "outputs": [
    {
     "data": {
      "text/plain": [
       "array([0.91113615, 0.91049861, 0.91112172, 0.91075051])"
      ]
     },
     "execution_count": 114,
     "metadata": {},
     "output_type": "execute_result"
    }
   ],
   "source": [
    "result2_ada=cross_val_score(ada,x,y,cv=st)\n",
    "result2_ada"
   ]
  },
  {
   "cell_type": "code",
   "execution_count": 115,
   "id": "7e19acd4",
   "metadata": {},
   "outputs": [
    {
     "data": {
      "text/plain": [
       "array([0.91113615, 0.91049861, 0.91112172, 0.91075051])"
      ]
     },
     "execution_count": 115,
     "metadata": {},
     "output_type": "execute_result"
    }
   ],
   "source": [
    "crossvalidate2_ada=cross_val_score(ada,x,y,cv=st)\n",
    "crossvalidate2_ada"
   ]
  },
  {
   "cell_type": "code",
   "execution_count": 116,
   "id": "964a5110",
   "metadata": {},
   "outputs": [
    {
     "data": {
      "text/plain": [
       "0.910498614591205"
      ]
     },
     "execution_count": 116,
     "metadata": {},
     "output_type": "execute_result"
    }
   ],
   "source": [
    "result2_ada.min()"
   ]
  },
  {
   "cell_type": "code",
   "execution_count": 117,
   "id": "3bcfffa1",
   "metadata": {},
   "outputs": [
    {
     "data": {
      "text/plain": [
       "0.9108767478816081"
      ]
     },
     "execution_count": 117,
     "metadata": {},
     "output_type": "execute_result"
    }
   ],
   "source": [
    "result2_ada.mean()"
   ]
  },
  {
   "cell_type": "code",
   "execution_count": 118,
   "id": "b5470e2f",
   "metadata": {},
   "outputs": [
    {
     "data": {
      "text/plain": [
       "0.9111361527243802"
      ]
     },
     "execution_count": 118,
     "metadata": {},
     "output_type": "execute_result"
    }
   ],
   "source": [
    "result2_ada.max()"
   ]
  },
  {
   "cell_type": "markdown",
   "id": "1af8413a",
   "metadata": {},
   "source": [
    "# Leave one out cross Validation"
   ]
  },
  {
   "cell_type": "code",
   "execution_count": 311,
   "id": "2a6215fe",
   "metadata": {},
   "outputs": [],
   "source": [
    "from sklearn.model_selection import LeaveOneOut\n",
    "le = LeaveOneOut()"
   ]
  },
  {
   "cell_type": "code",
   "execution_count": 641,
   "id": "7dc92a76",
   "metadata": {},
   "outputs": [],
   "source": [
    "# result3=cross_val_score(xgb,x,y,cv=le)\n",
    "# result3"
   ]
  },
  {
   "cell_type": "code",
   "execution_count": null,
   "id": "140ff846",
   "metadata": {},
   "outputs": [],
   "source": [
    "result3.min()"
   ]
  },
  {
   "cell_type": "code",
   "execution_count": null,
   "id": "6d6e530f",
   "metadata": {},
   "outputs": [],
   "source": [
    "result3.mean()"
   ]
  },
  {
   "cell_type": "code",
   "execution_count": null,
   "id": "46012e0b",
   "metadata": {},
   "outputs": [],
   "source": [
    "result3.max()"
   ]
  },
  {
   "cell_type": "code",
   "execution_count": 124,
   "id": "f2f44933",
   "metadata": {},
   "outputs": [],
   "source": [
    "# crossvalidate3_dt=cross_val_score(clf,x,y,cv=le)\n",
    "# crossvalidate3_dt"
   ]
  },
  {
   "cell_type": "code",
   "execution_count": null,
   "id": "0d3921f7",
   "metadata": {},
   "outputs": [],
   "source": [
    "result3_dt.min()"
   ]
  },
  {
   "cell_type": "code",
   "execution_count": null,
   "id": "b0f41964",
   "metadata": {},
   "outputs": [],
   "source": [
    "result3_dt.mean()"
   ]
  },
  {
   "cell_type": "code",
   "execution_count": null,
   "id": "cfe1c09e",
   "metadata": {},
   "outputs": [],
   "source": [
    "result3_dt.max()"
   ]
  },
  {
   "cell_type": "code",
   "execution_count": 123,
   "id": "dfd1cdcf",
   "metadata": {},
   "outputs": [],
   "source": [
    "# crossvalidate3_ada=cross_val_score(ada,x,y,cv=le)\n",
    "# crossvalidate3_adta"
   ]
  },
  {
   "cell_type": "code",
   "execution_count": null,
   "id": "39115df6",
   "metadata": {},
   "outputs": [],
   "source": [
    "result3_ada.min()"
   ]
  },
  {
   "cell_type": "code",
   "execution_count": null,
   "id": "e0b981b9",
   "metadata": {},
   "outputs": [],
   "source": [
    "result3_ada.mean()"
   ]
  },
  {
   "cell_type": "code",
   "execution_count": null,
   "id": "e6bb1bc5",
   "metadata": {},
   "outputs": [],
   "source": [
    "result3_ada.max()"
   ]
  },
  {
   "cell_type": "markdown",
   "id": "250510d5",
   "metadata": {},
   "source": [
    "# Now sampling"
   ]
  },
  {
   "cell_type": "markdown",
   "id": "d79f46eb",
   "metadata": {},
   "source": [
    "# SMOTETomek oversampling"
   ]
  },
  {
   "cell_type": "code",
   "execution_count": 259,
   "id": "f931470d",
   "metadata": {},
   "outputs": [],
   "source": [
    "from imblearn.combine import SMOTETomek\n",
    "sm=SMOTETomek(random_state=42)"
   ]
  },
  {
   "cell_type": "code",
   "execution_count": 128,
   "id": "f1c47a01",
   "metadata": {},
   "outputs": [
    {
     "data": {
      "text/plain": [
       "0    274456\n",
       "1     27261\n",
       "Name: HeartDisease, dtype: int64"
      ]
     },
     "execution_count": 128,
     "metadata": {},
     "output_type": "execute_result"
    }
   ],
   "source": [
    "y.value_counts()"
   ]
  },
  {
   "cell_type": "code",
   "execution_count": 260,
   "id": "1a53cf0a",
   "metadata": {},
   "outputs": [],
   "source": [
    "y_new=df['HeartDisease']\n",
    "x_new=df.drop('HeartDisease',axis=1)"
   ]
  },
  {
   "cell_type": "code",
   "execution_count": 132,
   "id": "230c3c76",
   "metadata": {},
   "outputs": [
    {
     "data": {
      "text/plain": [
       "(301717, 17)"
      ]
     },
     "execution_count": 132,
     "metadata": {},
     "output_type": "execute_result"
    }
   ],
   "source": [
    "x_new.shape"
   ]
  },
  {
   "cell_type": "code",
   "execution_count": 134,
   "id": "ad5565e6",
   "metadata": {},
   "outputs": [
    {
     "data": {
      "text/plain": [
       "(301717,)"
      ]
     },
     "execution_count": 134,
     "metadata": {},
     "output_type": "execute_result"
    }
   ],
   "source": [
    "y_new.shape "
   ]
  },
  {
   "cell_type": "code",
   "execution_count": 135,
   "id": "9d22d575",
   "metadata": {},
   "outputs": [
    {
     "data": {
      "text/plain": [
       "0    274456\n",
       "1     27261\n",
       "Name: HeartDisease, dtype: int64"
      ]
     },
     "execution_count": 135,
     "metadata": {},
     "output_type": "execute_result"
    }
   ],
   "source": [
    "y_new.value_counts()"
   ]
  },
  {
   "cell_type": "code",
   "execution_count": 136,
   "id": "179235c4",
   "metadata": {},
   "outputs": [
    {
     "data": {
      "text/plain": [
       "26.63    3244\n",
       "27.46    2425\n",
       "27.44    2385\n",
       "24.41    2173\n",
       "27.12    2062\n",
       "         ... \n",
       "63.85       1\n",
       "48.34       1\n",
       "30.97       1\n",
       "68.16       1\n",
       "46.56       1\n",
       "Name: BMI, Length: 3604, dtype: int64"
      ]
     },
     "execution_count": 136,
     "metadata": {},
     "output_type": "execute_result"
    }
   ],
   "source": [
    "x_new['BMI'].value_counts()"
   ]
  },
  {
   "cell_type": "code",
   "execution_count": 261,
   "id": "0a8cf7a0",
   "metadata": {},
   "outputs": [],
   "source": [
    "x_smt,y_smt=sm.fit_resample(x_new,y_new)"
   ]
  },
  {
   "cell_type": "code",
   "execution_count": 262,
   "id": "16bd3d42",
   "metadata": {},
   "outputs": [
    {
     "data": {
      "text/plain": [
       "0    271792\n",
       "1    271792\n",
       "Name: HeartDisease, dtype: int64"
      ]
     },
     "execution_count": 262,
     "metadata": {},
     "output_type": "execute_result"
    }
   ],
   "source": [
    "y_smt.value_counts()"
   ]
  },
  {
   "cell_type": "markdown",
   "id": "7154cfd5",
   "metadata": {},
   "source": [
    "# After sampling with SMOTETomek"
   ]
  },
  {
   "cell_type": "code",
   "execution_count": 332,
   "id": "444a2b48",
   "metadata": {},
   "outputs": [
    {
     "data": {
      "text/plain": [
       "2664"
      ]
     },
     "execution_count": 332,
     "metadata": {},
     "output_type": "execute_result"
    }
   ],
   "source": [
    "# features rows lost with having no heart disease were \n",
    "xf_loss=(274456-271792)\n",
    "xf_loss"
   ]
  },
  {
   "cell_type": "code",
   "execution_count": 333,
   "id": "6be1a2da",
   "metadata": {},
   "outputs": [
    {
     "data": {
      "text/plain": [
       "244531"
      ]
     },
     "execution_count": 333,
     "metadata": {},
     "output_type": "execute_result"
    }
   ],
   "source": [
    "# features rowsgained with having heart disease were\n",
    "xf_gain=(271792-27261)\n",
    "xf_gain"
   ]
  },
  {
   "cell_type": "markdown",
   "id": "54862254",
   "metadata": {},
   "source": [
    "# data balance oversampling using SMOTETomek"
   ]
  },
  {
   "cell_type": "markdown",
   "id": "18f8efeb",
   "metadata": {},
   "source": [
    "# Hold Out cross Validation"
   ]
  },
  {
   "cell_type": "code",
   "execution_count": 499,
   "id": "4b1987b5",
   "metadata": {},
   "outputs": [],
   "source": [
    "from sklearn.model_selection import train_test_split\n",
    "xb_train,xb_test,yb_train,yb_test=train_test_split(x_smt,y_smt,train_size=.70,random_state=42)"
   ]
  },
  {
   "cell_type": "code",
   "execution_count": 500,
   "id": "c92d6f0f",
   "metadata": {},
   "outputs": [],
   "source": [
    "xgb_nd=XGBClassifier()\n",
    "ada_nd=AdaBoostClassifier()\n",
    "rnd_nd=RandomForestClassifier(max_depth=2, random_state=0)\n",
    "clf_nd=DecisionTreeClassifier()"
   ]
  },
  {
   "cell_type": "code",
   "execution_count": 501,
   "id": "d4d3543b",
   "metadata": {},
   "outputs": [
    {
     "data": {
      "text/html": [
       "<style>#sk-container-id-22 {color: black;background-color: white;}#sk-container-id-22 pre{padding: 0;}#sk-container-id-22 div.sk-toggleable {background-color: white;}#sk-container-id-22 label.sk-toggleable__label {cursor: pointer;display: block;width: 100%;margin-bottom: 0;padding: 0.3em;box-sizing: border-box;text-align: center;}#sk-container-id-22 label.sk-toggleable__label-arrow:before {content: \"▸\";float: left;margin-right: 0.25em;color: #696969;}#sk-container-id-22 label.sk-toggleable__label-arrow:hover:before {color: black;}#sk-container-id-22 div.sk-estimator:hover label.sk-toggleable__label-arrow:before {color: black;}#sk-container-id-22 div.sk-toggleable__content {max-height: 0;max-width: 0;overflow: hidden;text-align: left;background-color: #f0f8ff;}#sk-container-id-22 div.sk-toggleable__content pre {margin: 0.2em;color: black;border-radius: 0.25em;background-color: #f0f8ff;}#sk-container-id-22 input.sk-toggleable__control:checked~div.sk-toggleable__content {max-height: 200px;max-width: 100%;overflow: auto;}#sk-container-id-22 input.sk-toggleable__control:checked~label.sk-toggleable__label-arrow:before {content: \"▾\";}#sk-container-id-22 div.sk-estimator input.sk-toggleable__control:checked~label.sk-toggleable__label {background-color: #d4ebff;}#sk-container-id-22 div.sk-label input.sk-toggleable__control:checked~label.sk-toggleable__label {background-color: #d4ebff;}#sk-container-id-22 input.sk-hidden--visually {border: 0;clip: rect(1px 1px 1px 1px);clip: rect(1px, 1px, 1px, 1px);height: 1px;margin: -1px;overflow: hidden;padding: 0;position: absolute;width: 1px;}#sk-container-id-22 div.sk-estimator {font-family: monospace;background-color: #f0f8ff;border: 1px dotted black;border-radius: 0.25em;box-sizing: border-box;margin-bottom: 0.5em;}#sk-container-id-22 div.sk-estimator:hover {background-color: #d4ebff;}#sk-container-id-22 div.sk-parallel-item::after {content: \"\";width: 100%;border-bottom: 1px solid gray;flex-grow: 1;}#sk-container-id-22 div.sk-label:hover label.sk-toggleable__label {background-color: #d4ebff;}#sk-container-id-22 div.sk-serial::before {content: \"\";position: absolute;border-left: 1px solid gray;box-sizing: border-box;top: 0;bottom: 0;left: 50%;z-index: 0;}#sk-container-id-22 div.sk-serial {display: flex;flex-direction: column;align-items: center;background-color: white;padding-right: 0.2em;padding-left: 0.2em;position: relative;}#sk-container-id-22 div.sk-item {position: relative;z-index: 1;}#sk-container-id-22 div.sk-parallel {display: flex;align-items: stretch;justify-content: center;background-color: white;position: relative;}#sk-container-id-22 div.sk-item::before, #sk-container-id-22 div.sk-parallel-item::before {content: \"\";position: absolute;border-left: 1px solid gray;box-sizing: border-box;top: 0;bottom: 0;left: 50%;z-index: -1;}#sk-container-id-22 div.sk-parallel-item {display: flex;flex-direction: column;z-index: 1;position: relative;background-color: white;}#sk-container-id-22 div.sk-parallel-item:first-child::after {align-self: flex-end;width: 50%;}#sk-container-id-22 div.sk-parallel-item:last-child::after {align-self: flex-start;width: 50%;}#sk-container-id-22 div.sk-parallel-item:only-child::after {width: 0;}#sk-container-id-22 div.sk-dashed-wrapped {border: 1px dashed gray;margin: 0 0.4em 0.5em 0.4em;box-sizing: border-box;padding-bottom: 0.4em;background-color: white;}#sk-container-id-22 div.sk-label label {font-family: monospace;font-weight: bold;display: inline-block;line-height: 1.2em;}#sk-container-id-22 div.sk-label-container {text-align: center;}#sk-container-id-22 div.sk-container {/* jupyter's `normalize.less` sets `[hidden] { display: none; }` but bootstrap.min.css set `[hidden] { display: none !important; }` so we also need the `!important` here to be able to override the default hidden behavior on the sphinx rendered scikit-learn.org. See: https://github.com/scikit-learn/scikit-learn/issues/21755 */display: inline-block !important;position: relative;}#sk-container-id-22 div.sk-text-repr-fallback {display: none;}</style><div id=\"sk-container-id-22\" class=\"sk-top-container\"><div class=\"sk-text-repr-fallback\"><pre>DecisionTreeClassifier()</pre><b>In a Jupyter environment, please rerun this cell to show the HTML representation or trust the notebook. <br />On GitHub, the HTML representation is unable to render, please try loading this page with nbviewer.org.</b></div><div class=\"sk-container\" hidden><div class=\"sk-item\"><div class=\"sk-estimator sk-toggleable\"><input class=\"sk-toggleable__control sk-hidden--visually\" id=\"sk-estimator-id-24\" type=\"checkbox\" checked><label for=\"sk-estimator-id-24\" class=\"sk-toggleable__label sk-toggleable__label-arrow\">DecisionTreeClassifier</label><div class=\"sk-toggleable__content\"><pre>DecisionTreeClassifier()</pre></div></div></div></div></div>"
      ],
      "text/plain": [
       "DecisionTreeClassifier()"
      ]
     },
     "execution_count": 501,
     "metadata": {},
     "output_type": "execute_result"
    }
   ],
   "source": [
    "xgb_nd.fit(xb_train,yb_train)\n",
    "ada_nd.fit(xb_train,yb_train)\n",
    "rnd_nd.fit(xb_train,yb_train)\n",
    "clf_nd.fit(xb_train,yb_train)"
   ]
  },
  {
   "cell_type": "code",
   "execution_count": 142,
   "id": "863226e2",
   "metadata": {},
   "outputs": [
    {
     "data": {
      "text/plain": [
       "0.8671049081409895"
      ]
     },
     "execution_count": 142,
     "metadata": {},
     "output_type": "execute_result"
    }
   ],
   "source": [
    "xgb_nd.score(xb_test,yb_test)"
   ]
  },
  {
   "cell_type": "code",
   "execution_count": 143,
   "id": "9695aa68",
   "metadata": {},
   "outputs": [
    {
     "data": {
      "text/plain": [
       "0.7800473398906032"
      ]
     },
     "execution_count": 143,
     "metadata": {},
     "output_type": "execute_result"
    }
   ],
   "source": [
    "ada_nd.score(xb_test,yb_test)"
   ]
  },
  {
   "cell_type": "code",
   "execution_count": 144,
   "id": "b70cc332",
   "metadata": {},
   "outputs": [
    {
     "data": {
      "text/plain": [
       "0.7258026932227918"
      ]
     },
     "execution_count": 144,
     "metadata": {},
     "output_type": "execute_result"
    }
   ],
   "source": [
    "rnd_nd.score(xb_test,yb_test)"
   ]
  },
  {
   "cell_type": "code",
   "execution_count": 145,
   "id": "83651d50",
   "metadata": {},
   "outputs": [
    {
     "data": {
      "text/plain": [
       "0.8630822438617577"
      ]
     },
     "execution_count": 145,
     "metadata": {},
     "output_type": "execute_result"
    }
   ],
   "source": [
    "clf_nd.score(xb_test,yb_test)"
   ]
  },
  {
   "cell_type": "markdown",
   "id": "2b77207a",
   "metadata": {},
   "source": [
    "# K-Fold CRoss Validation for SMOTETomek"
   ]
  },
  {
   "cell_type": "code",
   "execution_count": 290,
   "id": "b5913020",
   "metadata": {},
   "outputs": [
    {
     "data": {
      "text/plain": [
       "array([0.77608612, 0.78672661, 0.86359422, 0.82897216])"
      ]
     },
     "execution_count": 290,
     "metadata": {},
     "output_type": "execute_result"
    }
   ],
   "source": [
    "result4=cross_val_score(xgb_nd,x_smt,y_smt,cv=kfold)\n",
    "result4"
   ]
  },
  {
   "cell_type": "code",
   "execution_count": 291,
   "id": "d7faf118",
   "metadata": {
    "scrolled": true
   },
   "outputs": [
    {
     "data": {
      "text/plain": [
       "{'fit_time': array([27.65920973, 30.66075611, 28.27585554, 27.66472173]),\n",
       " 'score_time': array([0.13374496, 0.17517376, 0.24015403, 0.1951344 ]),\n",
       " 'test_score': array([0.77608612, 0.78672661, 0.86359422, 0.82897216])}"
      ]
     },
     "execution_count": 291,
     "metadata": {},
     "output_type": "execute_result"
    }
   ],
   "source": [
    "cross_validate4=cross_validate(xgb_nd,x_smt,y_smt,cv=kfold)\n",
    "cross_validate4"
   ]
  },
  {
   "cell_type": "code",
   "execution_count": 292,
   "id": "572a7b09",
   "metadata": {},
   "outputs": [
    {
     "data": {
      "text/plain": [
       "0.7760861246835815"
      ]
     },
     "execution_count": 292,
     "metadata": {},
     "output_type": "execute_result"
    }
   ],
   "source": [
    "result4.min()"
   ]
  },
  {
   "cell_type": "code",
   "execution_count": 293,
   "id": "e82bbd54",
   "metadata": {},
   "outputs": [
    {
     "data": {
      "text/plain": [
       "0.8138447783599223"
      ]
     },
     "execution_count": 293,
     "metadata": {},
     "output_type": "execute_result"
    }
   ],
   "source": [
    "result4.mean()"
   ]
  },
  {
   "cell_type": "code",
   "execution_count": 294,
   "id": "42e647c2",
   "metadata": {},
   "outputs": [
    {
     "data": {
      "text/plain": [
       "0.8635942191087302"
      ]
     },
     "execution_count": 294,
     "metadata": {},
     "output_type": "execute_result"
    }
   ],
   "source": [
    "result4.max()"
   ]
  },
  {
   "cell_type": "code",
   "execution_count": 270,
   "id": "d10bee17",
   "metadata": {},
   "outputs": [
    {
     "data": {
      "text/plain": [
       "array([0.79918467, 0.80429888, 0.87527963, 0.86251987])"
      ]
     },
     "execution_count": 270,
     "metadata": {},
     "output_type": "execute_result"
    }
   ],
   "source": [
    "result4_dt=cross_val_score(clf_nd,x_smt,y_smt,cv=kfold)\n",
    "result4_dt"
   ]
  },
  {
   "cell_type": "code",
   "execution_count": 277,
   "id": "90c310a7",
   "metadata": {},
   "outputs": [
    {
     "data": {
      "text/plain": [
       "{'fit_time': array([2.55116391, 2.42182994, 2.22749162, 2.08316541]),\n",
       " 'score_time': array([0.04741192, 0.04699588, 0.04688907, 0.0628171 ]),\n",
       " 'test_score': array([0.79885354, 0.80452699, 0.87514717, 0.86311591])}"
      ]
     },
     "execution_count": 277,
     "metadata": {},
     "output_type": "execute_result"
    }
   ],
   "source": [
    "reslt4_dtc=cross_validate(clf_nd,x_smt,y_smt,cv=kfold)\n",
    "reslt4_dtc"
   ]
  },
  {
   "cell_type": "code",
   "execution_count": 271,
   "id": "a1c40cc2",
   "metadata": {},
   "outputs": [
    {
     "data": {
      "text/plain": [
       "0.7991846706304822"
      ]
     },
     "execution_count": 271,
     "metadata": {},
     "output_type": "execute_result"
    }
   ],
   "source": [
    "result4_dt.min()"
   ]
  },
  {
   "cell_type": "code",
   "execution_count": 272,
   "id": "4436d174",
   "metadata": {},
   "outputs": [
    {
     "data": {
      "text/plain": [
       "0.8353207599929358"
      ]
     },
     "execution_count": 272,
     "metadata": {},
     "output_type": "execute_result"
    }
   ],
   "source": [
    "result4_dt.mean()"
   ]
  },
  {
   "cell_type": "code",
   "execution_count": 273,
   "id": "6cf3bd33",
   "metadata": {},
   "outputs": [
    {
     "data": {
      "text/plain": [
       "0.875279625596044"
      ]
     },
     "execution_count": 273,
     "metadata": {},
     "output_type": "execute_result"
    }
   ],
   "source": [
    "result4_dt.max()"
   ]
  },
  {
   "cell_type": "code",
   "execution_count": 275,
   "id": "61fdd0d0",
   "metadata": {},
   "outputs": [],
   "source": [
    "result4_rndc=cross_validate(rnd_nd,x_smt,y_smt,cv=kfold)"
   ]
  },
  {
   "cell_type": "code",
   "execution_count": 276,
   "id": "89205d7f",
   "metadata": {},
   "outputs": [
    {
     "data": {
      "text/plain": [
       "{'fit_time': array([10.18490171, 10.8308444 , 10.70894337, 10.02339172]),\n",
       " 'score_time': array([0.78963947, 0.86153126, 0.99125242, 0.80390072]),\n",
       " 'test_score': array([0.41502325, 0.42560487, 0.44553924, 0.15511862])}"
      ]
     },
     "execution_count": 276,
     "metadata": {},
     "output_type": "execute_result"
    }
   ],
   "source": [
    "result4_rndc"
   ]
  },
  {
   "cell_type": "code",
   "execution_count": 280,
   "id": "64cf9e9a",
   "metadata": {},
   "outputs": [
    {
     "data": {
      "text/plain": [
       "0.7987210808265144"
      ]
     },
     "execution_count": 280,
     "metadata": {},
     "output_type": "execute_result"
    }
   ],
   "source": [
    "result4_rnd.min()"
   ]
  },
  {
   "cell_type": "code",
   "execution_count": 281,
   "id": "5100c3ac",
   "metadata": {},
   "outputs": [
    {
     "data": {
      "text/plain": [
       "0.8355691116736328"
      ]
     },
     "execution_count": 281,
     "metadata": {},
     "output_type": "execute_result"
    }
   ],
   "source": [
    "result4_rnd.mean()"
   ]
  },
  {
   "cell_type": "code",
   "execution_count": 282,
   "id": "64b25a46",
   "metadata": {},
   "outputs": [
    {
     "data": {
      "text/plain": [
       "0.876008123859422"
      ]
     },
     "execution_count": 282,
     "metadata": {},
     "output_type": "execute_result"
    }
   ],
   "source": [
    "result4_rnd.max()"
   ]
  },
  {
   "cell_type": "code",
   "execution_count": 283,
   "id": "ad96bf3c",
   "metadata": {},
   "outputs": [
    {
     "data": {
      "text/plain": [
       "array([0.61664802, 0.63642786, 0.72972714, 0.63385972])"
      ]
     },
     "execution_count": 283,
     "metadata": {},
     "output_type": "execute_result"
    }
   ],
   "source": [
    "result4_ada=cross_val_score(ada_nd,x_smt,y_smt,cv=kfold)\n",
    "result4_ada"
   ]
  },
  {
   "cell_type": "code",
   "execution_count": 284,
   "id": "971c952e",
   "metadata": {},
   "outputs": [
    {
     "data": {
      "text/plain": [
       "{'fit_time': array([12.26494956, 13.96508622, 14.03544331, 13.54488897]),\n",
       " 'score_time': array([0.88339806, 1.13696814, 1.20713973, 1.0519259 ]),\n",
       " 'test_score': array([0.61664802, 0.63642786, 0.72972714, 0.63385972])}"
      ]
     },
     "execution_count": 284,
     "metadata": {},
     "output_type": "execute_result"
    }
   ],
   "source": [
    "result4_adac=cross_validate(ada_nd,x_smt,y_smt,cv=kfold)\n",
    "result4_adac"
   ]
  },
  {
   "cell_type": "code",
   "execution_count": 285,
   "id": "c2f0e2d4",
   "metadata": {},
   "outputs": [
    {
     "data": {
      "text/plain": [
       "0.6166480249602637"
      ]
     },
     "execution_count": 285,
     "metadata": {},
     "output_type": "execute_result"
    }
   ],
   "source": [
    "result4_ada.min()"
   ]
  },
  {
   "cell_type": "code",
   "execution_count": 286,
   "id": "9698ae73",
   "metadata": {},
   "outputs": [
    {
     "data": {
      "text/plain": [
       "0.6541656855242244"
      ]
     },
     "execution_count": 286,
     "metadata": {},
     "output_type": "execute_result"
    }
   ],
   "source": [
    "result4_ada.mean()"
   ]
  },
  {
   "cell_type": "code",
   "execution_count": 287,
   "id": "e083fca8",
   "metadata": {},
   "outputs": [
    {
     "data": {
      "text/plain": [
       "0.7297271442868075"
      ]
     },
     "execution_count": 287,
     "metadata": {},
     "output_type": "execute_result"
    }
   ],
   "source": [
    "result4_ada.max()"
   ]
  },
  {
   "cell_type": "markdown",
   "id": "d1ea8780",
   "metadata": {},
   "source": [
    "# Stratified K Fold Cross Validation with SMOTETomek"
   ]
  },
  {
   "cell_type": "code",
   "execution_count": 295,
   "id": "c5184226",
   "metadata": {},
   "outputs": [
    {
     "data": {
      "text/plain": [
       "array([0.78248072, 0.88218932, 0.88316065, 0.88639842])"
      ]
     },
     "execution_count": 295,
     "metadata": {},
     "output_type": "execute_result"
    }
   ],
   "source": [
    "result5=cross_val_score(xgb_nd,x_smt,y_smt,cv=st)\n",
    "result5"
   ]
  },
  {
   "cell_type": "code",
   "execution_count": 299,
   "id": "ca764720",
   "metadata": {},
   "outputs": [
    {
     "data": {
      "text/plain": [
       "{'fit_time': array([16.19265032, 19.64817595, 21.62231851, 25.72941852]),\n",
       " 'score_time': array([0.11244273, 0.12967086, 0.16405773, 0.20818353]),\n",
       " 'test_score': array([0.78248072, 0.88218932, 0.88316065, 0.88639842])}"
      ]
     },
     "execution_count": 299,
     "metadata": {},
     "output_type": "execute_result"
    }
   ],
   "source": [
    "result5_xc=cross_validate(xgb_nd,x_smt,y_smt,cv=st)\n",
    "result5_xc"
   ]
  },
  {
   "cell_type": "code",
   "execution_count": 296,
   "id": "021ab56f",
   "metadata": {},
   "outputs": [
    {
     "data": {
      "text/plain": [
       "0.7824807205510096"
      ]
     },
     "execution_count": 296,
     "metadata": {},
     "output_type": "execute_result"
    }
   ],
   "source": [
    "result5.min()"
   ]
  },
  {
   "cell_type": "code",
   "execution_count": 297,
   "id": "912e70b0",
   "metadata": {},
   "outputs": [
    {
     "data": {
      "text/plain": [
       "0.8585572790957791"
      ]
     },
     "execution_count": 297,
     "metadata": {},
     "output_type": "execute_result"
    }
   ],
   "source": [
    "result5.mean()"
   ]
  },
  {
   "cell_type": "code",
   "execution_count": 298,
   "id": "6f3fd55d",
   "metadata": {},
   "outputs": [
    {
     "data": {
      "text/plain": [
       "0.8863984223229529"
      ]
     },
     "execution_count": 298,
     "metadata": {},
     "output_type": "execute_result"
    }
   ],
   "source": [
    "result5.max()"
   ]
  },
  {
   "cell_type": "code",
   "execution_count": 300,
   "id": "6cff3a52",
   "metadata": {},
   "outputs": [
    {
     "data": {
      "text/plain": [
       "array([0.81964149, 0.8794225 , 0.87893683, 0.87951816])"
      ]
     },
     "execution_count": 300,
     "metadata": {},
     "output_type": "execute_result"
    }
   ],
   "source": [
    "result5_dt=cross_val_score(clf_nd,x_smt,y_smt,cv=st)\n",
    "result5_dt"
   ]
  },
  {
   "cell_type": "code",
   "execution_count": 301,
   "id": "0523ff85",
   "metadata": {},
   "outputs": [
    {
     "data": {
      "text/plain": [
       "{'fit_time': array([2.32508016, 2.47179317, 2.50961542, 2.28866291]),\n",
       " 'score_time': array([0.04945397, 0.05040836, 0.04680705, 0.06295872]),\n",
       " 'test_score': array([0.81980338, 0.87937835, 0.87925325, 0.8794225 ])}"
      ]
     },
     "execution_count": 301,
     "metadata": {},
     "output_type": "execute_result"
    }
   ],
   "source": [
    "result5_dtc=cross_validate(clf_nd,x_smt,y_smt,cv=st)\n",
    "result5_dtc"
   ]
  },
  {
   "cell_type": "code",
   "execution_count": 302,
   "id": "38272b91",
   "metadata": {},
   "outputs": [
    {
     "data": {
      "text/plain": [
       "0.8196414905515983"
      ]
     },
     "execution_count": 302,
     "metadata": {},
     "output_type": "execute_result"
    }
   ],
   "source": [
    "result5_dt.min()"
   ]
  },
  {
   "cell_type": "code",
   "execution_count": 303,
   "id": "03a4c1b7",
   "metadata": {},
   "outputs": [
    {
     "data": {
      "text/plain": [
       "0.8643797462765646"
      ]
     },
     "execution_count": 303,
     "metadata": {},
     "output_type": "execute_result"
    }
   ],
   "source": [
    "result5_dt.mean()"
   ]
  },
  {
   "cell_type": "code",
   "execution_count": 304,
   "id": "0a60b806",
   "metadata": {},
   "outputs": [
    {
     "data": {
      "text/plain": [
       "0.8795181609466062"
      ]
     },
     "execution_count": 304,
     "metadata": {},
     "output_type": "execute_result"
    }
   ],
   "source": [
    "result5_dt.max()"
   ]
  },
  {
   "cell_type": "code",
   "execution_count": 305,
   "id": "f1a29df0",
   "metadata": {},
   "outputs": [
    {
     "data": {
      "text/plain": [
       "array([0.74558486, 0.78497528, 0.78610849, 0.78604963])"
      ]
     },
     "execution_count": 305,
     "metadata": {},
     "output_type": "execute_result"
    }
   ],
   "source": [
    "result5_ada=cross_val_score(ada_nd,x_smt,y_smt,cv=st)\n",
    "result5_ada"
   ]
  },
  {
   "cell_type": "code",
   "execution_count": 306,
   "id": "7766fcf3",
   "metadata": {},
   "outputs": [
    {
     "data": {
      "text/plain": [
       "{'fit_time': array([14.25780344, 14.23218417, 14.23017621, 14.40311909]),\n",
       " 'score_time': array([1.21454072, 1.20645714, 1.1167798 , 1.0812397 ]),\n",
       " 'test_score': array([0.74558486, 0.78497528, 0.78610849, 0.78604963])}"
      ]
     },
     "execution_count": 306,
     "metadata": {},
     "output_type": "execute_result"
    }
   ],
   "source": [
    "result5_adac=cross_validate(ada_nd,x_smt,y_smt,cv=st)\n",
    "result5_adac"
   ]
  },
  {
   "cell_type": "code",
   "execution_count": 307,
   "id": "52ad3dbc",
   "metadata": {},
   "outputs": [
    {
     "data": {
      "text/plain": [
       "0.7455848590098311"
      ]
     },
     "execution_count": 307,
     "metadata": {},
     "output_type": "execute_result"
    }
   ],
   "source": [
    "result5_ada.min()"
   ]
  },
  {
   "cell_type": "code",
   "execution_count": 308,
   "id": "9fbef793",
   "metadata": {},
   "outputs": [
    {
     "data": {
      "text/plain": [
       "0.7756795637840702"
      ]
     },
     "execution_count": 308,
     "metadata": {},
     "output_type": "execute_result"
    }
   ],
   "source": [
    "result5_ada.mean()"
   ]
  },
  {
   "cell_type": "code",
   "execution_count": 309,
   "id": "e243e85f",
   "metadata": {},
   "outputs": [
    {
     "data": {
      "text/plain": [
       "0.7861084947312651"
      ]
     },
     "execution_count": 309,
     "metadata": {},
     "output_type": "execute_result"
    }
   ],
   "source": [
    "result5_ada.max()"
   ]
  },
  {
   "cell_type": "code",
   "execution_count": 310,
   "id": "6dc7c03d",
   "metadata": {},
   "outputs": [
    {
     "data": {
      "text/plain": [
       "array([0.71520133, 0.73088244, 0.72296462, 0.72245688])"
      ]
     },
     "execution_count": 310,
     "metadata": {},
     "output_type": "execute_result"
    }
   ],
   "source": [
    "result5_rnd=cross_val_score(rnd_nd,x_smt,y_smt,cv=st)\n",
    "result5_rnd"
   ]
  },
  {
   "cell_type": "code",
   "execution_count": 312,
   "id": "53221c60",
   "metadata": {},
   "outputs": [
    {
     "data": {
      "text/plain": [
       "{'fit_time': array([ 9.12248826,  9.49151826,  9.35857606, 10.62727308]),\n",
       " 'score_time': array([0.80598521, 0.73662853, 0.79034138, 0.81513667]),\n",
       " 'test_score': array([0.71520133, 0.73088244, 0.72296462, 0.72245688])}"
      ]
     },
     "execution_count": 312,
     "metadata": {},
     "output_type": "execute_result"
    }
   ],
   "source": [
    "result5_rndc=cross_validate(rnd_nd,x_smt,y_smt,cv=st)\n",
    "result5_rndc"
   ]
  },
  {
   "cell_type": "code",
   "execution_count": 313,
   "id": "ad3d0d97",
   "metadata": {},
   "outputs": [
    {
     "data": {
      "text/plain": [
       "0.7152013304291517"
      ]
     },
     "execution_count": 313,
     "metadata": {},
     "output_type": "execute_result"
    }
   ],
   "source": [
    "result5_rnd.min()"
   ]
  },
  {
   "cell_type": "code",
   "execution_count": 314,
   "id": "bbe86bbb",
   "metadata": {},
   "outputs": [
    {
     "data": {
      "text/plain": [
       "0.7228763171837287"
      ]
     },
     "execution_count": 314,
     "metadata": {},
     "output_type": "execute_result"
    }
   ],
   "source": [
    "result5_rnd.mean()"
   ]
  },
  {
   "cell_type": "code",
   "execution_count": 315,
   "id": "8375fdf7",
   "metadata": {},
   "outputs": [
    {
     "data": {
      "text/plain": [
       "0.7308824395125685"
      ]
     },
     "execution_count": 315,
     "metadata": {},
     "output_type": "execute_result"
    }
   ],
   "source": [
    "result5_rnd.max()"
   ]
  },
  {
   "cell_type": "markdown",
   "id": "a5a31b6a",
   "metadata": {},
   "source": [
    "# Leave One Out CrossValidation wih SMOTETomek"
   ]
  },
  {
   "cell_type": "code",
   "execution_count": 320,
   "id": "3e147bfe",
   "metadata": {},
   "outputs": [],
   "source": [
    "# result6=cross_val_score(xgb_nd,x_smt,y_smt,cv=le)\n",
    "# result6"
   ]
  },
  {
   "cell_type": "code",
   "execution_count": 321,
   "id": "ac28e7ac",
   "metadata": {},
   "outputs": [],
   "source": [
    "# result6_xc=cross_validate(xgb_nd,x_smt,y_smt,cv=le)\n",
    "# result6_xc"
   ]
  },
  {
   "cell_type": "code",
   "execution_count": 322,
   "id": "abdf87cc",
   "metadata": {},
   "outputs": [],
   "source": [
    "# result6.min()"
   ]
  },
  {
   "cell_type": "code",
   "execution_count": 323,
   "id": "725cd054",
   "metadata": {},
   "outputs": [],
   "source": [
    "# result6.mean()"
   ]
  },
  {
   "cell_type": "code",
   "execution_count": 324,
   "id": "b1c64c46",
   "metadata": {},
   "outputs": [],
   "source": [
    "# result6.max()"
   ]
  },
  {
   "cell_type": "code",
   "execution_count": 325,
   "id": "d3423675",
   "metadata": {},
   "outputs": [],
   "source": [
    "# result6_dt=cross_val_score(clf_nd,x_smt,y_smt,cv=le)\n",
    "# result6_dt"
   ]
  },
  {
   "cell_type": "code",
   "execution_count": 326,
   "id": "5d1d32e8",
   "metadata": {},
   "outputs": [],
   "source": [
    "# result6_dt=cross_validate(clf_nd,x_smt,y_smt,cv=le)\n",
    "# result6_dt"
   ]
  },
  {
   "cell_type": "code",
   "execution_count": 327,
   "id": "42a751ad",
   "metadata": {},
   "outputs": [],
   "source": [
    "# result6_dt.min()"
   ]
  },
  {
   "cell_type": "code",
   "execution_count": 328,
   "id": "48725d9e",
   "metadata": {},
   "outputs": [],
   "source": [
    "# result6_dt.mean()"
   ]
  },
  {
   "cell_type": "code",
   "execution_count": 329,
   "id": "ea626542",
   "metadata": {},
   "outputs": [],
   "source": [
    "# result6_ada=cross_val_score(ada_nd,x_smt,y_smt,cv=le)\n",
    "# result6_ada"
   ]
  },
  {
   "cell_type": "code",
   "execution_count": 330,
   "id": "2000df40",
   "metadata": {},
   "outputs": [],
   "source": [
    "# result6_adac=cross_validate(ada_nd,x_smt,y_smt,cv=le)\n",
    "# result6_adac"
   ]
  },
  {
   "cell_type": "code",
   "execution_count": 331,
   "id": "5684895b",
   "metadata": {},
   "outputs": [],
   "source": [
    "# takes too much time lEOV to process but will consider same/more accuracy as stratified "
   ]
  },
  {
   "cell_type": "markdown",
   "id": "1fdddf2d",
   "metadata": {},
   "source": [
    "# Random Oversampling"
   ]
  },
  {
   "cell_type": "code",
   "execution_count": 334,
   "id": "18c2e6ab",
   "metadata": {},
   "outputs": [
    {
     "data": {
      "text/plain": [
       "0    274456\n",
       "1     27261\n",
       "Name: HeartDisease, dtype: int64"
      ]
     },
     "execution_count": 334,
     "metadata": {},
     "output_type": "execute_result"
    }
   ],
   "source": [
    "df.HeartDisease.value_counts()"
   ]
  },
  {
   "cell_type": "code",
   "execution_count": 335,
   "id": "13128722",
   "metadata": {},
   "outputs": [
    {
     "data": {
      "text/plain": [
       "(301717, 17)"
      ]
     },
     "execution_count": 335,
     "metadata": {},
     "output_type": "execute_result"
    }
   ],
   "source": [
    "x.shape"
   ]
  },
  {
   "cell_type": "code",
   "execution_count": 336,
   "id": "01c3c2b8",
   "metadata": {},
   "outputs": [
    {
     "data": {
      "text/plain": [
       "(301717,)"
      ]
     },
     "execution_count": 336,
     "metadata": {},
     "output_type": "execute_result"
    }
   ],
   "source": [
    "y.shape"
   ]
  },
  {
   "cell_type": "code",
   "execution_count": 339,
   "id": "b2fdd09b",
   "metadata": {},
   "outputs": [
    {
     "data": {
      "text/plain": [
       "0    274456\n",
       "1     27261\n",
       "Name: HeartDisease, dtype: int64"
      ]
     },
     "execution_count": 339,
     "metadata": {},
     "output_type": "execute_result"
    }
   ],
   "source": [
    "df.HeartDisease.value_counts()"
   ]
  },
  {
   "cell_type": "code",
   "execution_count": 341,
   "id": "048015e3",
   "metadata": {},
   "outputs": [],
   "source": [
    "from imblearn.over_sampling import RandomOverSampler\n",
    "ov = RandomOverSampler(random_state=100)\n",
    "x_ov,y_ov=ov.fit_resample(x,y)"
   ]
  },
  {
   "cell_type": "code",
   "execution_count": 346,
   "id": "ec6769e6",
   "metadata": {},
   "outputs": [
    {
     "data": {
      "text/plain": [
       "Index(['BMI', 'Smoking', 'AlcoholDrinking', 'Stroke', 'PhysicalHealth',\n",
       "       'MentalHealth', 'DiffWalking', 'Sex', 'AgeCategory', 'Race', 'Diabetic',\n",
       "       'PhysicalActivity', 'GenHealth', 'SleepTime', 'Asthma', 'KidneyDisease',\n",
       "       'SkinCancer'],\n",
       "      dtype='object')"
      ]
     },
     "execution_count": 346,
     "metadata": {},
     "output_type": "execute_result"
    }
   ],
   "source": [
    "x_ov.columns"
   ]
  },
  {
   "cell_type": "code",
   "execution_count": 349,
   "id": "04f753a3",
   "metadata": {},
   "outputs": [
    {
     "data": {
      "text/plain": [
       "0    274456\n",
       "1    274456\n",
       "Name: HeartDisease, dtype: int64"
      ]
     },
     "execution_count": 349,
     "metadata": {},
     "output_type": "execute_result"
    }
   ],
   "source": [
    "y_ov.value_counts()"
   ]
  },
  {
   "cell_type": "code",
   "execution_count": 350,
   "id": "6ae8203a",
   "metadata": {},
   "outputs": [
    {
     "data": {
      "text/plain": [
       "247195"
      ]
     },
     "execution_count": 350,
     "metadata": {},
     "output_type": "execute_result"
    }
   ],
   "source": [
    "# after random oversampling records gained for people with Heart disease \n",
    "xfGainHo=(274456-27261)\n",
    "xfGainHo"
   ]
  },
  {
   "cell_type": "code",
   "execution_count": 351,
   "id": "230bd3a7",
   "metadata": {},
   "outputs": [
    {
     "data": {
      "text/plain": [
       "(548912, 17)"
      ]
     },
     "execution_count": 351,
     "metadata": {},
     "output_type": "execute_result"
    }
   ],
   "source": [
    "x_ov.shape"
   ]
  },
  {
   "cell_type": "code",
   "execution_count": 352,
   "id": "d99d0828",
   "metadata": {},
   "outputs": [
    {
     "data": {
      "text/plain": [
       "247195"
      ]
     },
     "execution_count": 352,
     "metadata": {},
     "output_type": "execute_result"
    }
   ],
   "source": [
    "#overall increase in records\n",
    "xfGainO=(548912-301717)\n",
    "xfGainO"
   ]
  },
  {
   "cell_type": "markdown",
   "id": "60c046f4",
   "metadata": {},
   "source": [
    "# separating train and test data"
   ]
  },
  {
   "cell_type": "code",
   "execution_count": 353,
   "id": "94afdf6a",
   "metadata": {},
   "outputs": [],
   "source": [
    "xtrain_ov,xtest_ov,ytrain_ov,ytest_ovsm=train_test_split(x_ov,y_ov,train_size=.70,random_state=42)"
   ]
  },
  {
   "cell_type": "code",
   "execution_count": 354,
   "id": "7961fdd2",
   "metadata": {},
   "outputs": [],
   "source": [
    "xgb_od=XGBClassifier()\n",
    "ada_od=AdaBoostClassifier()\n",
    "rnd_od=RandomForestClassifier(max_depth=2, random_state=0)\n",
    "clf_od=DecisionTreeClassifier()"
   ]
  },
  {
   "cell_type": "code",
   "execution_count": 355,
   "id": "cc823551",
   "metadata": {},
   "outputs": [
    {
     "data": {
      "text/html": [
       "<style>#sk-container-id-19 {color: black;background-color: white;}#sk-container-id-19 pre{padding: 0;}#sk-container-id-19 div.sk-toggleable {background-color: white;}#sk-container-id-19 label.sk-toggleable__label {cursor: pointer;display: block;width: 100%;margin-bottom: 0;padding: 0.3em;box-sizing: border-box;text-align: center;}#sk-container-id-19 label.sk-toggleable__label-arrow:before {content: \"▸\";float: left;margin-right: 0.25em;color: #696969;}#sk-container-id-19 label.sk-toggleable__label-arrow:hover:before {color: black;}#sk-container-id-19 div.sk-estimator:hover label.sk-toggleable__label-arrow:before {color: black;}#sk-container-id-19 div.sk-toggleable__content {max-height: 0;max-width: 0;overflow: hidden;text-align: left;background-color: #f0f8ff;}#sk-container-id-19 div.sk-toggleable__content pre {margin: 0.2em;color: black;border-radius: 0.25em;background-color: #f0f8ff;}#sk-container-id-19 input.sk-toggleable__control:checked~div.sk-toggleable__content {max-height: 200px;max-width: 100%;overflow: auto;}#sk-container-id-19 input.sk-toggleable__control:checked~label.sk-toggleable__label-arrow:before {content: \"▾\";}#sk-container-id-19 div.sk-estimator input.sk-toggleable__control:checked~label.sk-toggleable__label {background-color: #d4ebff;}#sk-container-id-19 div.sk-label input.sk-toggleable__control:checked~label.sk-toggleable__label {background-color: #d4ebff;}#sk-container-id-19 input.sk-hidden--visually {border: 0;clip: rect(1px 1px 1px 1px);clip: rect(1px, 1px, 1px, 1px);height: 1px;margin: -1px;overflow: hidden;padding: 0;position: absolute;width: 1px;}#sk-container-id-19 div.sk-estimator {font-family: monospace;background-color: #f0f8ff;border: 1px dotted black;border-radius: 0.25em;box-sizing: border-box;margin-bottom: 0.5em;}#sk-container-id-19 div.sk-estimator:hover {background-color: #d4ebff;}#sk-container-id-19 div.sk-parallel-item::after {content: \"\";width: 100%;border-bottom: 1px solid gray;flex-grow: 1;}#sk-container-id-19 div.sk-label:hover label.sk-toggleable__label {background-color: #d4ebff;}#sk-container-id-19 div.sk-serial::before {content: \"\";position: absolute;border-left: 1px solid gray;box-sizing: border-box;top: 0;bottom: 0;left: 50%;z-index: 0;}#sk-container-id-19 div.sk-serial {display: flex;flex-direction: column;align-items: center;background-color: white;padding-right: 0.2em;padding-left: 0.2em;position: relative;}#sk-container-id-19 div.sk-item {position: relative;z-index: 1;}#sk-container-id-19 div.sk-parallel {display: flex;align-items: stretch;justify-content: center;background-color: white;position: relative;}#sk-container-id-19 div.sk-item::before, #sk-container-id-19 div.sk-parallel-item::before {content: \"\";position: absolute;border-left: 1px solid gray;box-sizing: border-box;top: 0;bottom: 0;left: 50%;z-index: -1;}#sk-container-id-19 div.sk-parallel-item {display: flex;flex-direction: column;z-index: 1;position: relative;background-color: white;}#sk-container-id-19 div.sk-parallel-item:first-child::after {align-self: flex-end;width: 50%;}#sk-container-id-19 div.sk-parallel-item:last-child::after {align-self: flex-start;width: 50%;}#sk-container-id-19 div.sk-parallel-item:only-child::after {width: 0;}#sk-container-id-19 div.sk-dashed-wrapped {border: 1px dashed gray;margin: 0 0.4em 0.5em 0.4em;box-sizing: border-box;padding-bottom: 0.4em;background-color: white;}#sk-container-id-19 div.sk-label label {font-family: monospace;font-weight: bold;display: inline-block;line-height: 1.2em;}#sk-container-id-19 div.sk-label-container {text-align: center;}#sk-container-id-19 div.sk-container {/* jupyter's `normalize.less` sets `[hidden] { display: none; }` but bootstrap.min.css set `[hidden] { display: none !important; }` so we also need the `!important` here to be able to override the default hidden behavior on the sphinx rendered scikit-learn.org. See: https://github.com/scikit-learn/scikit-learn/issues/21755 */display: inline-block !important;position: relative;}#sk-container-id-19 div.sk-text-repr-fallback {display: none;}</style><div id=\"sk-container-id-19\" class=\"sk-top-container\"><div class=\"sk-text-repr-fallback\"><pre>DecisionTreeClassifier()</pre><b>In a Jupyter environment, please rerun this cell to show the HTML representation or trust the notebook. <br />On GitHub, the HTML representation is unable to render, please try loading this page with nbviewer.org.</b></div><div class=\"sk-container\" hidden><div class=\"sk-item\"><div class=\"sk-estimator sk-toggleable\"><input class=\"sk-toggleable__control sk-hidden--visually\" id=\"sk-estimator-id-19\" type=\"checkbox\" checked><label for=\"sk-estimator-id-19\" class=\"sk-toggleable__label sk-toggleable__label-arrow\">DecisionTreeClassifier</label><div class=\"sk-toggleable__content\"><pre>DecisionTreeClassifier()</pre></div></div></div></div></div>"
      ],
      "text/plain": [
       "DecisionTreeClassifier()"
      ]
     },
     "execution_count": 355,
     "metadata": {},
     "output_type": "execute_result"
    }
   ],
   "source": [
    "xgb_od.fit(xtrain_ov,ytrain_ov)\n",
    "ada_od.fit(xtrain_ov,ytrain_ov)\n",
    "rnd_od.fit(xtrain_ov,ytrain_ov)\n",
    "clf_od.fit(xtrain_ov,ytrain_ov)"
   ]
  },
  {
   "cell_type": "markdown",
   "id": "4f290106",
   "metadata": {},
   "source": [
    "# Hold Out cross validation for ROVSM"
   ]
  },
  {
   "cell_type": "code",
   "execution_count": 356,
   "id": "ba110bcf",
   "metadata": {},
   "outputs": [
    {
     "data": {
      "text/plain": [
       "0.7809976073940027"
      ]
     },
     "execution_count": 356,
     "metadata": {},
     "output_type": "execute_result"
    }
   ],
   "source": [
    "xgb_od.score(xtest_ov,ytest_ovsm)"
   ]
  },
  {
   "cell_type": "code",
   "execution_count": 357,
   "id": "74304c1e",
   "metadata": {},
   "outputs": [
    {
     "data": {
      "text/plain": [
       "0.7578974215723187"
      ]
     },
     "execution_count": 357,
     "metadata": {},
     "output_type": "execute_result"
    }
   ],
   "source": [
    "ada_od.score(xtest_ov,ytest_ovsm)"
   ]
  },
  {
   "cell_type": "code",
   "execution_count": 358,
   "id": "806aad13",
   "metadata": {},
   "outputs": [
    {
     "data": {
      "text/plain": [
       "0.734657565857391"
      ]
     },
     "execution_count": 358,
     "metadata": {},
     "output_type": "execute_result"
    }
   ],
   "source": [
    "rnd_od.score(xtest_ov,ytest_ovsm)"
   ]
  },
  {
   "cell_type": "code",
   "execution_count": 359,
   "id": "12701a98",
   "metadata": {},
   "outputs": [
    {
     "data": {
      "text/plain": [
       "0.9477634599268858"
      ]
     },
     "execution_count": 359,
     "metadata": {},
     "output_type": "execute_result"
    }
   ],
   "source": [
    "clf_od.score(xtest_ov,ytest_ovsm)"
   ]
  },
  {
   "cell_type": "markdown",
   "id": "5646d458",
   "metadata": {},
   "source": [
    "\n",
    "# K Fold Cross Validation for ROVSM"
   ]
  },
  {
   "cell_type": "code",
   "execution_count": 360,
   "id": "bb16e9b9",
   "metadata": {},
   "outputs": [
    {
     "data": {
      "text/plain": [
       "array([0.64515259, 0.65474247, 0.74109511, 0.64652258])"
      ]
     },
     "execution_count": 360,
     "metadata": {},
     "output_type": "execute_result"
    }
   ],
   "source": [
    "resultROV_xg=cross_val_score(xgb_od,x_ov,y_ov,cv=kfold)\n",
    "resultROV_xg"
   ]
  },
  {
   "cell_type": "code",
   "execution_count": 362,
   "id": "83bd5a53",
   "metadata": {},
   "outputs": [
    {
     "data": {
      "text/plain": [
       "{'fit_time': array([17.01951551, 21.7730751 , 23.39691043, 26.08035827]),\n",
       " 'score_time': array([0.18725657, 0.19753313, 0.20391154, 0.22377133]),\n",
       " 'test_score': array([0.64515259, 0.65474247, 0.74109511, 0.64652258])}"
      ]
     },
     "execution_count": 362,
     "metadata": {},
     "output_type": "execute_result"
    }
   ],
   "source": [
    "resultROV_xgc=cross_validate(xgb_od,x_ov,y_ov,cv=kfold)\n",
    "resultROV_xgc"
   ]
  },
  {
   "cell_type": "code",
   "execution_count": 363,
   "id": "05c29df4",
   "metadata": {},
   "outputs": [
    {
     "data": {
      "text/plain": [
       "0.6451525927653249"
      ]
     },
     "execution_count": 363,
     "metadata": {},
     "output_type": "execute_result"
    }
   ],
   "source": [
    "resultROV_xg.min()"
   ]
  },
  {
   "cell_type": "code",
   "execution_count": 364,
   "id": "c83e8537",
   "metadata": {},
   "outputs": [
    {
     "data": {
      "text/plain": [
       "0.6718781881248725"
      ]
     },
     "execution_count": 364,
     "metadata": {},
     "output_type": "execute_result"
    }
   ],
   "source": [
    "resultROV_xg.mean()"
   ]
  },
  {
   "cell_type": "code",
   "execution_count": 365,
   "id": "dc119303",
   "metadata": {},
   "outputs": [
    {
     "data": {
      "text/plain": [
       "0.741095111784767"
      ]
     },
     "execution_count": 365,
     "metadata": {},
     "output_type": "execute_result"
    }
   ],
   "source": [
    "resultROV_xg.max()"
   ]
  },
  {
   "cell_type": "code",
   "execution_count": 366,
   "id": "d8ffdc98",
   "metadata": {},
   "outputs": [
    {
     "data": {
      "text/plain": [
       "array([0.88909698, 0.89335267, 0.9823141 , 0.99919113])"
      ]
     },
     "execution_count": 366,
     "metadata": {},
     "output_type": "execute_result"
    }
   ],
   "source": [
    "resultROV_clf=cross_val_score(clf_od,x_ov,y_ov,cv=kfold)\n",
    "resultROV_clf"
   ]
  },
  {
   "cell_type": "code",
   "execution_count": 367,
   "id": "5545a18e",
   "metadata": {},
   "outputs": [
    {
     "data": {
      "text/plain": [
       "{'fit_time': array([21.75467372, 24.67121792, 25.46448922, 23.55199742]),\n",
       " 'score_time': array([0.19719553, 0.18406796, 0.20143986, 0.17404342]),\n",
       " 'test_score': array([0.64515259, 0.65474247, 0.74109511, 0.64652258])}"
      ]
     },
     "execution_count": 367,
     "metadata": {},
     "output_type": "execute_result"
    }
   ],
   "source": [
    "resultROV_xgc=cross_validate(xgb_od,x_ov,y_ov,cv=kfold)\n",
    "resultROV_xgc"
   ]
  },
  {
   "cell_type": "code",
   "execution_count": 368,
   "id": "2a7b6a28",
   "metadata": {},
   "outputs": [
    {
     "data": {
      "text/plain": [
       "0.8890969772932638"
      ]
     },
     "execution_count": 368,
     "metadata": {},
     "output_type": "execute_result"
    }
   ],
   "source": [
    "resultROV_clf.min()"
   ]
  },
  {
   "cell_type": "code",
   "execution_count": 369,
   "id": "fc584b71",
   "metadata": {},
   "outputs": [
    {
     "data": {
      "text/plain": [
       "0.9409887195033084"
      ]
     },
     "execution_count": 369,
     "metadata": {},
     "output_type": "execute_result"
    }
   ],
   "source": [
    "resultROV_clf.mean()"
   ]
  },
  {
   "cell_type": "code",
   "execution_count": 370,
   "id": "ff345a68",
   "metadata": {},
   "outputs": [
    {
     "data": {
      "text/plain": [
       "0.9991911271752121"
      ]
     },
     "execution_count": 370,
     "metadata": {},
     "output_type": "execute_result"
    }
   ],
   "source": [
    "resultROV_clf.max()"
   ]
  },
  {
   "cell_type": "code",
   "execution_count": 371,
   "id": "1d489d32",
   "metadata": {},
   "outputs": [
    {
     "data": {
      "text/plain": [
       "array([0.43572012, 0.4487641 , 0.4969977 , 0.21212872])"
      ]
     },
     "execution_count": 371,
     "metadata": {},
     "output_type": "execute_result"
    }
   ],
   "source": [
    "resultROV_rnd=cross_val_score(rnd_od,x_ov,y_ov,cv=kfold)\n",
    "resultROV_rnd"
   ]
  },
  {
   "cell_type": "code",
   "execution_count": 372,
   "id": "c9585043",
   "metadata": {},
   "outputs": [
    {
     "data": {
      "text/plain": [
       "{'fit_time': array([ 9.96395588, 10.39618254,  8.85628963,  9.51454878]),\n",
       " 'score_time': array([0.97381687, 0.8627553 , 0.8307898 , 0.83060217]),\n",
       " 'test_score': array([0.43572012, 0.4487641 , 0.4969977 , 0.21212872])}"
      ]
     },
     "execution_count": 372,
     "metadata": {},
     "output_type": "execute_result"
    }
   ],
   "source": [
    "resultROV_rndc=cross_validate(rnd_od,x_ov,y_ov,cv=kfold)\n",
    "resultROV_rndc"
   ]
  },
  {
   "cell_type": "code",
   "execution_count": 373,
   "id": "b980cfe7",
   "metadata": {},
   "outputs": [
    {
     "data": {
      "text/plain": [
       "0.21212872008627978"
      ]
     },
     "execution_count": 373,
     "metadata": {},
     "output_type": "execute_result"
    }
   ],
   "source": [
    "resultROV_rnd.min()"
   ]
  },
  {
   "cell_type": "code",
   "execution_count": 374,
   "id": "7cc75379",
   "metadata": {},
   "outputs": [
    {
     "data": {
      "text/plain": [
       "0.398402658349608"
      ]
     },
     "execution_count": 374,
     "metadata": {},
     "output_type": "execute_result"
    }
   ],
   "source": [
    "resultROV_rnd.mean()"
   ]
  },
  {
   "cell_type": "code",
   "execution_count": 375,
   "id": "173f2dc2",
   "metadata": {},
   "outputs": [
    {
     "data": {
      "text/plain": [
       "0.49699769726294923"
      ]
     },
     "execution_count": 375,
     "metadata": {},
     "output_type": "execute_result"
    }
   ],
   "source": [
    "resultROV_rnd.max()"
   ]
  },
  {
   "cell_type": "code",
   "execution_count": 376,
   "id": "f0d67cf7",
   "metadata": {},
   "outputs": [
    {
     "data": {
      "text/plain": [
       "array([0.62700032, 0.63162037, 0.67905238, 0.55885825])"
      ]
     },
     "execution_count": 376,
     "metadata": {},
     "output_type": "execute_result"
    }
   ],
   "source": [
    "resultROV_ada=cross_val_score(ada_od,x_ov,y_ov,cv=kfold)\n",
    "resultROV_ada"
   ]
  },
  {
   "cell_type": "code",
   "execution_count": 377,
   "id": "81c41e89",
   "metadata": {},
   "outputs": [
    {
     "data": {
      "text/plain": [
       "{'fit_time': array([16.38089132, 13.88405943, 13.61411762, 13.92681956]),\n",
       " 'score_time': array([1.29815674, 1.34371066, 1.14988637, 1.20701313]),\n",
       " 'test_score': array([0.62700032, 0.63162037, 0.67905238, 0.55885825])}"
      ]
     },
     "execution_count": 377,
     "metadata": {},
     "output_type": "execute_result"
    }
   ],
   "source": [
    "resultROV_adac=cross_validate(ada_od,x_ov,y_ov,cv=kfold)\n",
    "resultROV_adac"
   ]
  },
  {
   "cell_type": "code",
   "execution_count": 378,
   "id": "e9a2cc1a",
   "metadata": {},
   "outputs": [
    {
     "data": {
      "text/plain": [
       "0.5588582505028128"
      ]
     },
     "execution_count": 378,
     "metadata": {},
     "output_type": "execute_result"
    }
   ],
   "source": [
    "resultROV_ada.min()"
   ]
  },
  {
   "cell_type": "code",
   "execution_count": 379,
   "id": "bb677aa6",
   "metadata": {},
   "outputs": [
    {
     "data": {
      "text/plain": [
       "0.6241328300346869"
      ]
     },
     "execution_count": 379,
     "metadata": {},
     "output_type": "execute_result"
    }
   ],
   "source": [
    "resultROV_ada.mean()"
   ]
  },
  {
   "cell_type": "code",
   "execution_count": 380,
   "id": "86b3ea9f",
   "metadata": {},
   "outputs": [
    {
     "data": {
      "text/plain": [
       "0.679052379980762"
      ]
     },
     "execution_count": 380,
     "metadata": {},
     "output_type": "execute_result"
    }
   ],
   "source": [
    "resultROV_ada.max()"
   ]
  },
  {
   "cell_type": "markdown",
   "id": "688173b0",
   "metadata": {},
   "source": [
    "# Stratified K Fold Cross Validation for ROVSM"
   ]
  },
  {
   "cell_type": "code",
   "execution_count": 381,
   "id": "45d1b7fe",
   "metadata": {},
   "outputs": [
    {
     "data": {
      "text/plain": [
       "array([0.78088291, 0.77625557, 0.77723205, 0.77927974])"
      ]
     },
     "execution_count": 381,
     "metadata": {},
     "output_type": "execute_result"
    }
   ],
   "source": [
    "resulROVst_xgb=cross_val_score(xgb_od,x_ov,y_ov,cv=st)\n",
    "resulROVst_xgb"
   ]
  },
  {
   "cell_type": "code",
   "execution_count": 386,
   "id": "e33a7b37",
   "metadata": {},
   "outputs": [
    {
     "data": {
      "text/plain": [
       "{'fit_time': array([31.35444355, 28.27908897, 26.68558097, 30.77152586]),\n",
       " 'score_time': array([0.23480248, 0.23514199, 0.21201658, 0.23352861]),\n",
       " 'test_score': array([0.78088291, 0.77625557, 0.77723205, 0.77927974])}"
      ]
     },
     "execution_count": 386,
     "metadata": {},
     "output_type": "execute_result"
    }
   ],
   "source": [
    "resulROVst_xgbc=cross_validate(xgb_od,x_ov,y_ov,cv=st)\n",
    "resulROVst_xgbc"
   ]
  },
  {
   "cell_type": "code",
   "execution_count": 384,
   "id": "ce7495e8",
   "metadata": {},
   "outputs": [
    {
     "data": {
      "text/plain": [
       "0.7762555746640627"
      ]
     },
     "execution_count": 384,
     "metadata": {},
     "output_type": "execute_result"
    }
   ],
   "source": [
    "resulROVst_xgb.min()"
   ]
  },
  {
   "cell_type": "code",
   "execution_count": 385,
   "id": "03eb5612",
   "metadata": {},
   "outputs": [
    {
     "data": {
      "text/plain": [
       "0.7784125688634973"
      ]
     },
     "execution_count": 385,
     "metadata": {},
     "output_type": "execute_result"
    }
   ],
   "source": [
    "resulROVst_xgb.mean()"
   ]
  },
  {
   "cell_type": "code",
   "execution_count": 387,
   "id": "75f9f5de",
   "metadata": {},
   "outputs": [
    {
     "data": {
      "text/plain": [
       "0.7808829101932551"
      ]
     },
     "execution_count": 387,
     "metadata": {},
     "output_type": "execute_result"
    }
   ],
   "source": [
    "resulROVst_xgb.max()"
   ]
  },
  {
   "cell_type": "code",
   "execution_count": 388,
   "id": "5f45487a",
   "metadata": {},
   "outputs": [
    {
     "data": {
      "text/plain": [
       "array([0.95073163, 0.94917947, 0.94917947, 0.95095753])"
      ]
     },
     "execution_count": 388,
     "metadata": {},
     "output_type": "execute_result"
    }
   ],
   "source": [
    "resulROVst_clf=cross_val_score(clf_od,x_ov,y_ov,cv=st)\n",
    "resulROVst_clf"
   ]
  },
  {
   "cell_type": "code",
   "execution_count": 389,
   "id": "1063b70e",
   "metadata": {},
   "outputs": [
    {
     "data": {
      "text/plain": [
       "{'fit_time': array([1.62543821, 1.69906592, 1.75773478, 1.74259233]),\n",
       " 'score_time': array([0.04748106, 0.04343128, 0.04887652, 0.04551411]),\n",
       " 'test_score': array([0.95121987, 0.94928149, 0.94943452, 0.9510304 ])}"
      ]
     },
     "execution_count": 389,
     "metadata": {},
     "output_type": "execute_result"
    }
   ],
   "source": [
    "resulROVst_clfc=cross_validate(clf_od,x_ov,y_ov,cv=st)\n",
    "resulROVst_clfc"
   ]
  },
  {
   "cell_type": "code",
   "execution_count": 390,
   "id": "58cfff00",
   "metadata": {},
   "outputs": [
    {
     "data": {
      "text/plain": [
       "0.949179467747107"
      ]
     },
     "execution_count": 390,
     "metadata": {},
     "output_type": "execute_result"
    }
   ],
   "source": [
    "resulROVst_clf.min()"
   ]
  },
  {
   "cell_type": "code",
   "execution_count": 391,
   "id": "f1384d31",
   "metadata": {},
   "outputs": [
    {
     "data": {
      "text/plain": [
       "0.9500120237852334"
      ]
     },
     "execution_count": 391,
     "metadata": {},
     "output_type": "execute_result"
    }
   ],
   "source": [
    "resulROVst_clf.mean()"
   ]
  },
  {
   "cell_type": "code",
   "execution_count": 392,
   "id": "79df2bec",
   "metadata": {},
   "outputs": [
    {
     "data": {
      "text/plain": [
       "0.9509575305331274"
      ]
     },
     "execution_count": 392,
     "metadata": {},
     "output_type": "execute_result"
    }
   ],
   "source": [
    "resulROVst_clf.max()"
   ]
  },
  {
   "cell_type": "code",
   "execution_count": 393,
   "id": "2cffeef3",
   "metadata": {},
   "outputs": [
    {
     "data": {
      "text/plain": [
       "array([0.7357172 , 0.72999679, 0.73165098, 0.73584108])"
      ]
     },
     "execution_count": 393,
     "metadata": {},
     "output_type": "execute_result"
    }
   ],
   "source": [
    "resulROVst_rnd=cross_val_score(rnd_od,x_ov,y_ov,cv=st)\n",
    "resulROVst_rnd"
   ]
  },
  {
   "cell_type": "code",
   "execution_count": 394,
   "id": "53b972f4",
   "metadata": {},
   "outputs": [
    {
     "data": {
      "text/plain": [
       "{'fit_time': array([ 7.74544621,  9.34559274,  9.62565684, 10.16486263]),\n",
       " 'score_time': array([0.66911197, 0.81481218, 0.85911822, 0.84872293]),\n",
       " 'test_score': array([0.7357172 , 0.72999679, 0.73165098, 0.73584108])}"
      ]
     },
     "execution_count": 394,
     "metadata": {},
     "output_type": "execute_result"
    }
   ],
   "source": [
    "resulROVst_rndc=cross_validate(rnd_od,x_ov,y_ov,cv=st)\n",
    "resulROVst_rndc"
   ]
  },
  {
   "cell_type": "code",
   "execution_count": 397,
   "id": "885a1464",
   "metadata": {},
   "outputs": [
    {
     "data": {
      "text/plain": [
       "0.7299967936572711"
      ]
     },
     "execution_count": 397,
     "metadata": {},
     "output_type": "execute_result"
    }
   ],
   "source": [
    "resulROVst_rnd.min()"
   ]
  },
  {
   "cell_type": "code",
   "execution_count": 398,
   "id": "94d036de",
   "metadata": {},
   "outputs": [
    {
     "data": {
      "text/plain": [
       "0.7333015128107967"
      ]
     },
     "execution_count": 398,
     "metadata": {},
     "output_type": "execute_result"
    }
   ],
   "source": [
    "resulROVst_rnd.mean()"
   ]
  },
  {
   "cell_type": "code",
   "execution_count": 399,
   "id": "753e6dc0",
   "metadata": {},
   "outputs": [
    {
     "data": {
      "text/plain": [
       "0.7358410819949281"
      ]
     },
     "execution_count": 399,
     "metadata": {},
     "output_type": "execute_result"
    }
   ],
   "source": [
    "resulROVst_rnd.max()"
   ]
  },
  {
   "cell_type": "code",
   "execution_count": 400,
   "id": "77a6a4f2",
   "metadata": {},
   "outputs": [
    {
     "data": {
      "text/plain": [
       "array([0.75897047, 0.75381118, 0.7541391 , 0.75822718])"
      ]
     },
     "execution_count": 400,
     "metadata": {},
     "output_type": "execute_result"
    }
   ],
   "source": [
    "resulROVst_ada=cross_val_score(ada_od,x_ov,y_ov,cv=st)\n",
    "resulROVst_ada"
   ]
  },
  {
   "cell_type": "code",
   "execution_count": 401,
   "id": "f0f9e030",
   "metadata": {},
   "outputs": [
    {
     "data": {
      "text/plain": [
       "{'fit_time': array([12.58819652, 14.48975062, 15.33928633, 14.41312218]),\n",
       " 'score_time': array([1.28876066, 1.40556884, 1.31046081, 1.21274662]),\n",
       " 'test_score': array([0.75897047, 0.75381118, 0.7541391 , 0.75822718])}"
      ]
     },
     "execution_count": 401,
     "metadata": {},
     "output_type": "execute_result"
    }
   ],
   "source": [
    "resulROVst_adac=cross_validate(ada_od,x_ov,y_ov,cv=st)\n",
    "resulROVst_adac"
   ]
  },
  {
   "cell_type": "code",
   "execution_count": 406,
   "id": "079af570",
   "metadata": {},
   "outputs": [
    {
     "data": {
      "text/plain": [
       "0.7538111755618387"
      ]
     },
     "execution_count": 406,
     "metadata": {},
     "output_type": "execute_result"
    }
   ],
   "source": [
    "resulROVst_ada.min()"
   ]
  },
  {
   "cell_type": "code",
   "execution_count": 407,
   "id": "5da35f09",
   "metadata": {},
   "outputs": [
    {
     "data": {
      "text/plain": [
       "0.7562869822485208"
      ]
     },
     "execution_count": 407,
     "metadata": {},
     "output_type": "execute_result"
    }
   ],
   "source": [
    "resulROVst_ada.mean()"
   ]
  },
  {
   "cell_type": "code",
   "execution_count": 408,
   "id": "5b6dbd66",
   "metadata": {},
   "outputs": [
    {
     "data": {
      "text/plain": [
       "0.758970472498324"
      ]
     },
     "execution_count": 408,
     "metadata": {},
     "output_type": "execute_result"
    }
   ],
   "source": [
    "resulROVst_ada.max()"
   ]
  },
  {
   "cell_type": "code",
   "execution_count": 409,
   "id": "7131d86b",
   "metadata": {},
   "outputs": [],
   "source": [
    "#we assume leave one out will give same or more accuracy as stratified"
   ]
  },
  {
   "cell_type": "markdown",
   "id": "faaec39c",
   "metadata": {},
   "source": [
    "# Undersampling"
   ]
  },
  {
   "cell_type": "code",
   "execution_count": 396,
   "id": "eba705b3",
   "metadata": {},
   "outputs": [
    {
     "data": {
      "text/plain": [
       "(301717, 17)"
      ]
     },
     "execution_count": 396,
     "metadata": {},
     "output_type": "execute_result"
    }
   ],
   "source": [
    "x.shape"
   ]
  },
  {
   "cell_type": "code",
   "execution_count": 403,
   "id": "ef307743",
   "metadata": {},
   "outputs": [
    {
     "data": {
      "text/plain": [
       "0    274456\n",
       "1     27261\n",
       "Name: HeartDisease, dtype: int64"
      ]
     },
     "execution_count": 403,
     "metadata": {},
     "output_type": "execute_result"
    }
   ],
   "source": [
    "df.HeartDisease.value_counts()"
   ]
  },
  {
   "cell_type": "code",
   "execution_count": 404,
   "id": "0f9ec768",
   "metadata": {},
   "outputs": [
    {
     "data": {
      "text/plain": [
       "(301717,)"
      ]
     },
     "execution_count": 404,
     "metadata": {},
     "output_type": "execute_result"
    }
   ],
   "source": [
    "y.shape"
   ]
  },
  {
   "cell_type": "code",
   "execution_count": 410,
   "id": "e0bde30d",
   "metadata": {},
   "outputs": [],
   "source": [
    "from imblearn.under_sampling import NearMiss\n",
    "NearMiss_obj = NearMiss()\n",
    "x_nms , y_nms = NearMiss_obj.fit_resample(x,y)"
   ]
  },
  {
   "cell_type": "code",
   "execution_count": 420,
   "id": "e56032e7",
   "metadata": {},
   "outputs": [
    {
     "data": {
      "text/plain": [
       "0    27261\n",
       "1    27261\n",
       "Name: HeartDisease, dtype: int64"
      ]
     },
     "execution_count": 420,
     "metadata": {},
     "output_type": "execute_result"
    }
   ],
   "source": [
    "y_nms.value_counts()\n",
    "#y_ov.value_counts()"
   ]
  },
  {
   "cell_type": "code",
   "execution_count": 421,
   "id": "101e971f",
   "metadata": {},
   "outputs": [
    {
     "data": {
      "text/plain": [
       "(54522, 17)"
      ]
     },
     "execution_count": 421,
     "metadata": {},
     "output_type": "execute_result"
    }
   ],
   "source": [
    "x_nms.shape"
   ]
  },
  {
   "cell_type": "code",
   "execution_count": 423,
   "id": "af956a07",
   "metadata": {},
   "outputs": [
    {
     "data": {
      "text/plain": [
       "247195"
      ]
     },
     "execution_count": 423,
     "metadata": {},
     "output_type": "execute_result"
    }
   ],
   "source": [
    "#after nms sampling the decrease in overall records are\n",
    "nmsLossOv=(301717-54522)\n",
    "nmsLossOv"
   ]
  },
  {
   "cell_type": "code",
   "execution_count": 424,
   "id": "adba85ed",
   "metadata": {},
   "outputs": [
    {
     "data": {
      "text/plain": [
       "247195"
      ]
     },
     "execution_count": 424,
     "metadata": {},
     "output_type": "execute_result"
    }
   ],
   "source": [
    "#after nms sampling the decrese in records with no heart disease\n",
    "nmsLossNH=(274456-27261)\n",
    "nmsLossNH"
   ]
  },
  {
   "cell_type": "markdown",
   "id": "9a1b897a",
   "metadata": {},
   "source": [
    "# separating training and test data"
   ]
  },
  {
   "cell_type": "code",
   "execution_count": 425,
   "id": "4dd126ee",
   "metadata": {},
   "outputs": [],
   "source": [
    "xtrain_nms,xtest_nms,ytrain_nms,ytest_nms=train_test_split(x_nms,y_nms,train_size=.70,random_state=42)"
   ]
  },
  {
   "cell_type": "code",
   "execution_count": 426,
   "id": "a31a31e4",
   "metadata": {},
   "outputs": [],
   "source": [
    "xgb_nms=XGBClassifier()\n",
    "ada_nms=AdaBoostClassifier()\n",
    "rnd_nms=RandomForestClassifier(max_depth=2, random_state=0)\n",
    "clf_nms=DecisionTreeClassifier()"
   ]
  },
  {
   "cell_type": "code",
   "execution_count": 427,
   "id": "f106aa0b",
   "metadata": {},
   "outputs": [
    {
     "data": {
      "text/html": [
       "<style>#sk-container-id-20 {color: black;background-color: white;}#sk-container-id-20 pre{padding: 0;}#sk-container-id-20 div.sk-toggleable {background-color: white;}#sk-container-id-20 label.sk-toggleable__label {cursor: pointer;display: block;width: 100%;margin-bottom: 0;padding: 0.3em;box-sizing: border-box;text-align: center;}#sk-container-id-20 label.sk-toggleable__label-arrow:before {content: \"▸\";float: left;margin-right: 0.25em;color: #696969;}#sk-container-id-20 label.sk-toggleable__label-arrow:hover:before {color: black;}#sk-container-id-20 div.sk-estimator:hover label.sk-toggleable__label-arrow:before {color: black;}#sk-container-id-20 div.sk-toggleable__content {max-height: 0;max-width: 0;overflow: hidden;text-align: left;background-color: #f0f8ff;}#sk-container-id-20 div.sk-toggleable__content pre {margin: 0.2em;color: black;border-radius: 0.25em;background-color: #f0f8ff;}#sk-container-id-20 input.sk-toggleable__control:checked~div.sk-toggleable__content {max-height: 200px;max-width: 100%;overflow: auto;}#sk-container-id-20 input.sk-toggleable__control:checked~label.sk-toggleable__label-arrow:before {content: \"▾\";}#sk-container-id-20 div.sk-estimator input.sk-toggleable__control:checked~label.sk-toggleable__label {background-color: #d4ebff;}#sk-container-id-20 div.sk-label input.sk-toggleable__control:checked~label.sk-toggleable__label {background-color: #d4ebff;}#sk-container-id-20 input.sk-hidden--visually {border: 0;clip: rect(1px 1px 1px 1px);clip: rect(1px, 1px, 1px, 1px);height: 1px;margin: -1px;overflow: hidden;padding: 0;position: absolute;width: 1px;}#sk-container-id-20 div.sk-estimator {font-family: monospace;background-color: #f0f8ff;border: 1px dotted black;border-radius: 0.25em;box-sizing: border-box;margin-bottom: 0.5em;}#sk-container-id-20 div.sk-estimator:hover {background-color: #d4ebff;}#sk-container-id-20 div.sk-parallel-item::after {content: \"\";width: 100%;border-bottom: 1px solid gray;flex-grow: 1;}#sk-container-id-20 div.sk-label:hover label.sk-toggleable__label {background-color: #d4ebff;}#sk-container-id-20 div.sk-serial::before {content: \"\";position: absolute;border-left: 1px solid gray;box-sizing: border-box;top: 0;bottom: 0;left: 50%;z-index: 0;}#sk-container-id-20 div.sk-serial {display: flex;flex-direction: column;align-items: center;background-color: white;padding-right: 0.2em;padding-left: 0.2em;position: relative;}#sk-container-id-20 div.sk-item {position: relative;z-index: 1;}#sk-container-id-20 div.sk-parallel {display: flex;align-items: stretch;justify-content: center;background-color: white;position: relative;}#sk-container-id-20 div.sk-item::before, #sk-container-id-20 div.sk-parallel-item::before {content: \"\";position: absolute;border-left: 1px solid gray;box-sizing: border-box;top: 0;bottom: 0;left: 50%;z-index: -1;}#sk-container-id-20 div.sk-parallel-item {display: flex;flex-direction: column;z-index: 1;position: relative;background-color: white;}#sk-container-id-20 div.sk-parallel-item:first-child::after {align-self: flex-end;width: 50%;}#sk-container-id-20 div.sk-parallel-item:last-child::after {align-self: flex-start;width: 50%;}#sk-container-id-20 div.sk-parallel-item:only-child::after {width: 0;}#sk-container-id-20 div.sk-dashed-wrapped {border: 1px dashed gray;margin: 0 0.4em 0.5em 0.4em;box-sizing: border-box;padding-bottom: 0.4em;background-color: white;}#sk-container-id-20 div.sk-label label {font-family: monospace;font-weight: bold;display: inline-block;line-height: 1.2em;}#sk-container-id-20 div.sk-label-container {text-align: center;}#sk-container-id-20 div.sk-container {/* jupyter's `normalize.less` sets `[hidden] { display: none; }` but bootstrap.min.css set `[hidden] { display: none !important; }` so we also need the `!important` here to be able to override the default hidden behavior on the sphinx rendered scikit-learn.org. See: https://github.com/scikit-learn/scikit-learn/issues/21755 */display: inline-block !important;position: relative;}#sk-container-id-20 div.sk-text-repr-fallback {display: none;}</style><div id=\"sk-container-id-20\" class=\"sk-top-container\"><div class=\"sk-text-repr-fallback\"><pre>DecisionTreeClassifier()</pre><b>In a Jupyter environment, please rerun this cell to show the HTML representation or trust the notebook. <br />On GitHub, the HTML representation is unable to render, please try loading this page with nbviewer.org.</b></div><div class=\"sk-container\" hidden><div class=\"sk-item\"><div class=\"sk-estimator sk-toggleable\"><input class=\"sk-toggleable__control sk-hidden--visually\" id=\"sk-estimator-id-20\" type=\"checkbox\" checked><label for=\"sk-estimator-id-20\" class=\"sk-toggleable__label sk-toggleable__label-arrow\">DecisionTreeClassifier</label><div class=\"sk-toggleable__content\"><pre>DecisionTreeClassifier()</pre></div></div></div></div></div>"
      ],
      "text/plain": [
       "DecisionTreeClassifier()"
      ]
     },
     "execution_count": 427,
     "metadata": {},
     "output_type": "execute_result"
    }
   ],
   "source": [
    "xgb_nms.fit(xtrain_nms,ytrain_nms)\n",
    "ada_nms.fit(xtrain_nms,ytrain_nms)\n",
    "rnd_nms.fit(xtrain_nms,ytrain_nms)\n",
    "clf_nms.fit(xtrain_nms,ytrain_nms)"
   ]
  },
  {
   "cell_type": "markdown",
   "id": "39954074",
   "metadata": {},
   "source": [
    "# Hold out cross-validation for Near Miss Under Sampling"
   ]
  },
  {
   "cell_type": "code",
   "execution_count": 428,
   "id": "1403049a",
   "metadata": {},
   "outputs": [
    {
     "data": {
      "text/plain": [
       "0.8793177232988935"
      ]
     },
     "execution_count": 428,
     "metadata": {},
     "output_type": "execute_result"
    }
   ],
   "source": [
    "xgb_nms.score(xtest_nms,ytest_nms)"
   ]
  },
  {
   "cell_type": "code",
   "execution_count": 429,
   "id": "bb7dc7c1",
   "metadata": {},
   "outputs": [
    {
     "data": {
      "text/plain": [
       "0.8710643761080883"
      ]
     },
     "execution_count": 429,
     "metadata": {},
     "output_type": "execute_result"
    }
   ],
   "source": [
    "ada_nms.score(xtest_nms,ytest_nms)"
   ]
  },
  {
   "cell_type": "code",
   "execution_count": 430,
   "id": "c27865ac",
   "metadata": {},
   "outputs": [
    {
     "data": {
      "text/plain": [
       "0.8211163416274377"
      ]
     },
     "execution_count": 430,
     "metadata": {},
     "output_type": "execute_result"
    }
   ],
   "source": [
    "rnd_nms.score(xtest_nms,ytest_nms)"
   ]
  },
  {
   "cell_type": "code",
   "execution_count": 431,
   "id": "5085b43f",
   "metadata": {},
   "outputs": [
    {
     "data": {
      "text/plain": [
       "0.800207862077398"
      ]
     },
     "execution_count": 431,
     "metadata": {},
     "output_type": "execute_result"
    }
   ],
   "source": [
    "clf_nms.score(xtest_nms,ytest_nms)"
   ]
  },
  {
   "cell_type": "markdown",
   "id": "aebe9fc3",
   "metadata": {},
   "source": [
    "# K Fold Cross Validation for NMS"
   ]
  },
  {
   "cell_type": "code",
   "execution_count": 432,
   "id": "c1082fa9",
   "metadata": {},
   "outputs": [
    {
     "data": {
      "text/plain": [
       "array([0.82884601, 0.68586311, 0.77923698, 0.77417461])"
      ]
     },
     "execution_count": 432,
     "metadata": {},
     "output_type": "execute_result"
    }
   ],
   "source": [
    "resultnms_xgb=cross_val_score(xgb_nms,x_nms,y_nms,cv=kfold)\n",
    "resultnms_xgb"
   ]
  },
  {
   "cell_type": "code",
   "execution_count": 433,
   "id": "b63576a5",
   "metadata": {},
   "outputs": [
    {
     "data": {
      "text/plain": [
       "{'fit_time': array([1.49560356, 1.39989734, 1.3687427 , 1.37222576]),\n",
       " 'score_time': array([0.01694274, 0.02162647, 0.02122211, 0.01560593]),\n",
       " 'test_score': array([0.82884601, 0.68586311, 0.77923698, 0.77417461])}"
      ]
     },
     "execution_count": 433,
     "metadata": {},
     "output_type": "execute_result"
    }
   ],
   "source": [
    "resulnms_xgbc=cross_validate(xgb_nms,x_nms,y_nms,cv=kfold)\n",
    "resulnms_xgbc"
   ]
  },
  {
   "cell_type": "code",
   "execution_count": 434,
   "id": "ace20037",
   "metadata": {},
   "outputs": [
    {
     "data": {
      "text/plain": [
       "0.6858631061550877"
      ]
     },
     "execution_count": 434,
     "metadata": {},
     "output_type": "execute_result"
    }
   ],
   "source": [
    "resultnms_xgb.min()"
   ]
  },
  {
   "cell_type": "code",
   "execution_count": 435,
   "id": "b77a1a41",
   "metadata": {},
   "outputs": [
    {
     "data": {
      "text/plain": [
       "0.7670301777491026"
      ]
     },
     "execution_count": 435,
     "metadata": {},
     "output_type": "execute_result"
    }
   ],
   "source": [
    "resultnms_xgb.mean()"
   ]
  },
  {
   "cell_type": "code",
   "execution_count": 436,
   "id": "b3a8b786",
   "metadata": {},
   "outputs": [
    {
     "data": {
      "text/plain": [
       "0.8288460127650209"
      ]
     },
     "execution_count": 436,
     "metadata": {},
     "output_type": "execute_result"
    }
   ],
   "source": [
    "resultnms_xgb.max()"
   ]
  },
  {
   "cell_type": "code",
   "execution_count": 437,
   "id": "65bc433c",
   "metadata": {},
   "outputs": [
    {
     "data": {
      "text/plain": [
       "array([0.3075343 , 0.61411489, 0.76023478, 0.7619956 ])"
      ]
     },
     "execution_count": 437,
     "metadata": {},
     "output_type": "execute_result"
    }
   ],
   "source": [
    "resultnms_clf=cross_val_score(clf_nms,x_nms,y_nms,cv=kfold)\n",
    "resultnms_clf"
   ]
  },
  {
   "cell_type": "code",
   "execution_count": 438,
   "id": "9284a424",
   "metadata": {},
   "outputs": [
    {
     "data": {
      "text/plain": [
       "{'fit_time': array([0.11235094, 0.08594608, 0.10985374, 0.11152053]),\n",
       " 'score_time': array([0.00445724, 0.        , 0.01562238, 0.        ]),\n",
       " 'test_score': array([0.30951508, 0.60971315, 0.76016141, 0.76096845])}"
      ]
     },
     "execution_count": 438,
     "metadata": {},
     "output_type": "execute_result"
    }
   ],
   "source": [
    "resultnms_clfc=cross_validate(clf_nms,x_nms,y_nms,cv=kfold)\n",
    "resultnms_clfc"
   ]
  },
  {
   "cell_type": "code",
   "execution_count": 439,
   "id": "1b11b652",
   "metadata": {},
   "outputs": [
    {
     "data": {
      "text/plain": [
       "0.3075342968234172"
      ]
     },
     "execution_count": 439,
     "metadata": {},
     "output_type": "execute_result"
    }
   ],
   "source": [
    "resultnms_clf.min()"
   ]
  },
  {
   "cell_type": "code",
   "execution_count": 440,
   "id": "288419c5",
   "metadata": {},
   "outputs": [
    {
     "data": {
      "text/plain": [
       "0.6109698890465516"
      ]
     },
     "execution_count": 440,
     "metadata": {},
     "output_type": "execute_result"
    }
   ],
   "source": [
    "resultnms_clf.mean()"
   ]
  },
  {
   "cell_type": "code",
   "execution_count": 441,
   "id": "cc563df0",
   "metadata": {},
   "outputs": [
    {
     "data": {
      "text/plain": [
       "0.761995597945708"
      ]
     },
     "execution_count": 441,
     "metadata": {},
     "output_type": "execute_result"
    }
   ],
   "source": [
    "resultnms_clf.max()"
   ]
  },
  {
   "cell_type": "code",
   "execution_count": 442,
   "id": "9d23587f",
   "metadata": {},
   "outputs": [
    {
     "data": {
      "text/plain": [
       "array([0.91167192, 0.70097572, 0.78070433, 0.77344094])"
      ]
     },
     "execution_count": 442,
     "metadata": {},
     "output_type": "execute_result"
    }
   ],
   "source": [
    "resultnms_ada=cross_val_score(ada_nms,x_nms,y_nms,cv=kfold)\n",
    "resultnms_ada"
   ]
  },
  {
   "cell_type": "code",
   "execution_count": 443,
   "id": "aa9800c4",
   "metadata": {},
   "outputs": [
    {
     "data": {
      "text/plain": [
       "{'fit_time': array([0.90272689, 0.85247278, 0.83391857, 0.98274827]),\n",
       " 'score_time': array([0.10275078, 0.06556749, 0.07883596, 0.08917713]),\n",
       " 'test_score': array([0.91167192, 0.70097572, 0.78070433, 0.77344094])}"
      ]
     },
     "execution_count": 443,
     "metadata": {},
     "output_type": "execute_result"
    }
   ],
   "source": [
    "resultnms_adac=cross_validate(ada_nms,x_nms,y_nms,cv=kfold)\n",
    "resultnms_adac"
   ]
  },
  {
   "cell_type": "code",
   "execution_count": 444,
   "id": "67cef7c6",
   "metadata": {},
   "outputs": [
    {
     "data": {
      "text/plain": [
       "0.7009757171153987"
      ]
     },
     "execution_count": 444,
     "metadata": {},
     "output_type": "execute_result"
    }
   ],
   "source": [
    "resultnms_ada.min()"
   ]
  },
  {
   "cell_type": "code",
   "execution_count": 445,
   "id": "4371ff1a",
   "metadata": {},
   "outputs": [
    {
     "data": {
      "text/plain": [
       "0.7916982272993139"
      ]
     },
     "execution_count": 445,
     "metadata": {},
     "output_type": "execute_result"
    }
   ],
   "source": [
    "resultnms_ada.mean()"
   ]
  },
  {
   "cell_type": "code",
   "execution_count": 446,
   "id": "613283f7",
   "metadata": {},
   "outputs": [
    {
     "data": {
      "text/plain": [
       "0.9116719242902208"
      ]
     },
     "execution_count": 446,
     "metadata": {},
     "output_type": "execute_result"
    }
   ],
   "source": [
    "resultnms_ada.max()"
   ]
  },
  {
   "cell_type": "code",
   "execution_count": 447,
   "id": "420f42d6",
   "metadata": {},
   "outputs": [
    {
     "data": {
      "text/plain": [
       "array([0.62636637, 0.32492114, 0.56529714, 0.55128393])"
      ]
     },
     "execution_count": 447,
     "metadata": {},
     "output_type": "execute_result"
    }
   ],
   "source": [
    "resultnms_rnd=cross_val_score(rnd_nms,x_nms,y_nms,cv=kfold)\n",
    "resultnms_rnd"
   ]
  },
  {
   "cell_type": "code",
   "execution_count": 448,
   "id": "dee0e238",
   "metadata": {},
   "outputs": [
    {
     "data": {
      "text/plain": [
       "{'fit_time': array([0.67615032, 0.66267371, 0.54669857, 0.54570341]),\n",
       " 'score_time': array([0.07858467, 0.07186079, 0.06927299, 0.07841206]),\n",
       " 'test_score': array([0.62636637, 0.32492114, 0.56529714, 0.55128393])}"
      ]
     },
     "execution_count": 448,
     "metadata": {},
     "output_type": "execute_result"
    }
   ],
   "source": [
    "resultnms_rndc=cross_validate(rnd_nms,x_nms,y_nms,cv=kfold)\n",
    "resultnms_rndc"
   ]
  },
  {
   "cell_type": "code",
   "execution_count": 449,
   "id": "53100a0b",
   "metadata": {},
   "outputs": [
    {
     "data": {
      "text/plain": [
       "0.3249211356466877"
      ]
     },
     "execution_count": 449,
     "metadata": {},
     "output_type": "execute_result"
    }
   ],
   "source": [
    "resultnms_rnd.min()"
   ]
  },
  {
   "cell_type": "code",
   "execution_count": 450,
   "id": "6c727b0e",
   "metadata": {},
   "outputs": [
    {
     "data": {
      "text/plain": [
       "0.516967144396434"
      ]
     },
     "execution_count": 450,
     "metadata": {},
     "output_type": "execute_result"
    }
   ],
   "source": [
    "resultnms_rnd.mean()"
   ]
  },
  {
   "cell_type": "code",
   "execution_count": 451,
   "id": "5641f970",
   "metadata": {},
   "outputs": [
    {
     "data": {
      "text/plain": [
       "0.6263663707725039"
      ]
     },
     "execution_count": 451,
     "metadata": {},
     "output_type": "execute_result"
    }
   ],
   "source": [
    "resultnms_rnd.max()"
   ]
  },
  {
   "cell_type": "markdown",
   "id": "96d754c1",
   "metadata": {},
   "source": [
    "# Stratiefied k-Fold for NMS Sampling"
   ]
  },
  {
   "cell_type": "code",
   "execution_count": 455,
   "id": "2adb1066",
   "metadata": {},
   "outputs": [
    {
     "data": {
      "text/plain": [
       "array([0.91064485, 0.87477074, 0.86830521, 0.83661042])"
      ]
     },
     "execution_count": 455,
     "metadata": {},
     "output_type": "execute_result"
    }
   ],
   "source": [
    "resultnmst_xgb=cross_val_score(xgb_nms,x_nms,y_nms,cv=st)\n",
    "resultnmst_xgb"
   ]
  },
  {
   "cell_type": "code",
   "execution_count": 456,
   "id": "2b0fe66a",
   "metadata": {},
   "outputs": [
    {
     "data": {
      "text/plain": [
       "{'fit_time': array([1.16068912, 1.46796274, 1.23421216, 1.13953924]),\n",
       " 'score_time': array([0.01612568, 0.01893616, 0.01562119, 0.        ]),\n",
       " 'test_score': array([0.91064485, 0.87477074, 0.86830521, 0.83661042])}"
      ]
     },
     "execution_count": 456,
     "metadata": {},
     "output_type": "execute_result"
    }
   ],
   "source": [
    "resultnmst_xgbc=cross_validate(xgb_nms,x_nms,y_nms,cv=st)\n",
    "resultnmst_xgbc"
   ]
  },
  {
   "cell_type": "code",
   "execution_count": 457,
   "id": "5decfc8d",
   "metadata": {},
   "outputs": [
    {
     "data": {
      "text/plain": [
       "0.8366104181951577"
      ]
     },
     "execution_count": 457,
     "metadata": {},
     "output_type": "execute_result"
    }
   ],
   "source": [
    "resultnmst_xgb.min()"
   ]
  },
  {
   "cell_type": "code",
   "execution_count": 458,
   "id": "7585ca80",
   "metadata": {},
   "outputs": [
    {
     "data": {
      "text/plain": [
       "0.8725828060235363"
      ]
     },
     "execution_count": 458,
     "metadata": {},
     "output_type": "execute_result"
    }
   ],
   "source": [
    "resultnmst_xgb.mean()"
   ]
  },
  {
   "cell_type": "code",
   "execution_count": 459,
   "id": "ffd19e27",
   "metadata": {},
   "outputs": [
    {
     "data": {
      "text/plain": [
       "0.9106448536424326"
      ]
     },
     "execution_count": 459,
     "metadata": {},
     "output_type": "execute_result"
    }
   ],
   "source": [
    "resultnmst_xgb.max()"
   ]
  },
  {
   "cell_type": "code",
   "execution_count": 460,
   "id": "248eab50",
   "metadata": {},
   "outputs": [
    {
     "data": {
      "text/plain": [
       "array([0.59650796, 0.74800088, 0.8056493 , 0.78451944])"
      ]
     },
     "execution_count": 460,
     "metadata": {},
     "output_type": "execute_result"
    }
   ],
   "source": [
    "resultnmst_clf=cross_val_score(clf_nms,x_nms,y_nms,cv=st)\n",
    "resultnmst_clf"
   ]
  },
  {
   "cell_type": "code",
   "execution_count": 461,
   "id": "6c761bbc",
   "metadata": {},
   "outputs": [
    {
     "data": {
      "text/plain": [
       "{'fit_time': array([0.12883496, 0.14110613, 0.14174151, 0.10952997]),\n",
       " 'score_time': array([0.        , 0.01563454, 0.        , 0.        ]),\n",
       " 'test_score': array([0.59540753, 0.7471939 , 0.80535583, 0.78195158])}"
      ]
     },
     "execution_count": 461,
     "metadata": {},
     "output_type": "execute_result"
    }
   ],
   "source": [
    "resultnmst_clfc=cross_validate(clf_nms,x_nms,y_nms,cv=st)\n",
    "resultnmst_clfc"
   ]
  },
  {
   "cell_type": "code",
   "execution_count": 462,
   "id": "ede318ca",
   "metadata": {},
   "outputs": [
    {
     "data": {
      "text/plain": [
       "0.5965079597975204"
      ]
     },
     "execution_count": 462,
     "metadata": {},
     "output_type": "execute_result"
    }
   ],
   "source": [
    "resultnmst_clf.min()"
   ]
  },
  {
   "cell_type": "code",
   "execution_count": 463,
   "id": "7698b23e",
   "metadata": {},
   "outputs": [
    {
     "data": {
      "text/plain": [
       "0.7336693963895792"
      ]
     },
     "execution_count": 463,
     "metadata": {},
     "output_type": "execute_result"
    }
   ],
   "source": [
    "resultnmst_clf.mean()"
   ]
  },
  {
   "cell_type": "code",
   "execution_count": 464,
   "id": "c0056a5f",
   "metadata": {},
   "outputs": [
    {
     "data": {
      "text/plain": [
       "0.8056493030080705"
      ]
     },
     "execution_count": 464,
     "metadata": {},
     "output_type": "execute_result"
    }
   ],
   "source": [
    "resultnmst_clf.max()"
   ]
  },
  {
   "cell_type": "code",
   "execution_count": 465,
   "id": "08e0c53a",
   "metadata": {},
   "outputs": [
    {
     "data": {
      "text/plain": [
       "array([0.91489986, 0.86978211, 0.85495231, 0.82685253])"
      ]
     },
     "execution_count": 465,
     "metadata": {},
     "output_type": "execute_result"
    }
   ],
   "source": [
    "resultnmst_ada=cross_val_score(ada_nms,x_nms,y_nms,cv=st)\n",
    "resultnmst_ada"
   ]
  },
  {
   "cell_type": "code",
   "execution_count": 466,
   "id": "6c158ad0",
   "metadata": {},
   "outputs": [
    {
     "data": {
      "text/plain": [
       "{'fit_time': array([1.06567407, 0.86431384, 0.94488907, 0.87771654]),\n",
       " 'score_time': array([0.08729506, 0.09948611, 0.07330132, 0.06898022]),\n",
       " 'test_score': array([0.91489986, 0.86978211, 0.85495231, 0.82685253])}"
      ]
     },
     "execution_count": 466,
     "metadata": {},
     "output_type": "execute_result"
    }
   ],
   "source": [
    "resultnmst_adac=cross_validate(ada_nms,x_nms,y_nms,cv=st)\n",
    "resultnmst_adac"
   ]
  },
  {
   "cell_type": "code",
   "execution_count": 467,
   "id": "cf23cbcf",
   "metadata": {},
   "outputs": [
    {
     "data": {
      "text/plain": [
       "0.8268525311812179"
      ]
     },
     "execution_count": 467,
     "metadata": {},
     "output_type": "execute_result"
    }
   ],
   "source": [
    "resultnmst_ada.min()"
   ]
  },
  {
   "cell_type": "code",
   "execution_count": 468,
   "id": "a5ac34df",
   "metadata": {},
   "outputs": [
    {
     "data": {
      "text/plain": [
       "0.8666217042924631"
      ]
     },
     "execution_count": 468,
     "metadata": {},
     "output_type": "execute_result"
    }
   ],
   "source": [
    "resultnmst_ada.mean()"
   ]
  },
  {
   "cell_type": "code",
   "execution_count": 469,
   "id": "90e4d064",
   "metadata": {},
   "outputs": [
    {
     "data": {
      "text/plain": [
       "0.9148998606118407"
      ]
     },
     "execution_count": 469,
     "metadata": {},
     "output_type": "execute_result"
    }
   ],
   "source": [
    "resultnmst_ada.max()"
   ]
  },
  {
   "cell_type": "code",
   "execution_count": 470,
   "id": "4aaf0453",
   "metadata": {},
   "outputs": [
    {
     "data": {
      "text/plain": [
       "array([0.84454552, 0.81754824, 0.80939105, 0.80469552])"
      ]
     },
     "execution_count": 470,
     "metadata": {},
     "output_type": "execute_result"
    }
   ],
   "source": [
    "resultnmst_rnd=cross_val_score(rnd_nms,x_nms,y_nms,cv=st)\n",
    "resultnmst_rnd"
   ]
  },
  {
   "cell_type": "code",
   "execution_count": 471,
   "id": "990c2775",
   "metadata": {},
   "outputs": [
    {
     "data": {
      "text/plain": [
       "{'fit_time': array([0.50870228, 0.54439592, 0.56957436, 0.51315951]),\n",
       " 'score_time': array([0.05651212, 0.06279016, 0.06079292, 0.05719638]),\n",
       " 'test_score': array([0.84454552, 0.81754824, 0.80939105, 0.80469552])}"
      ]
     },
     "execution_count": 471,
     "metadata": {},
     "output_type": "execute_result"
    }
   ],
   "source": [
    "resultnmst_rndc=cross_validate(rnd_nms,x_nms,y_nms,cv=st)\n",
    "resultnmst_rndc"
   ]
  },
  {
   "cell_type": "code",
   "execution_count": 472,
   "id": "b34aab4c",
   "metadata": {},
   "outputs": [
    {
     "data": {
      "text/plain": [
       "0.8046955245781364"
      ]
     },
     "execution_count": 472,
     "metadata": {},
     "output_type": "execute_result"
    }
   ],
   "source": [
    "resultnmst_rnd.min()"
   ]
  },
  {
   "cell_type": "code",
   "execution_count": 473,
   "id": "65e15354",
   "metadata": {},
   "outputs": [
    {
     "data": {
      "text/plain": [
       "0.8190450826530287"
      ]
     },
     "execution_count": 473,
     "metadata": {},
     "output_type": "execute_result"
    }
   ],
   "source": [
    "resultnmst_rnd.mean()"
   ]
  },
  {
   "cell_type": "code",
   "execution_count": 474,
   "id": "9c17a990",
   "metadata": {},
   "outputs": [
    {
     "data": {
      "text/plain": [
       "0.8445455212383538"
      ]
     },
     "execution_count": 474,
     "metadata": {},
     "output_type": "execute_result"
    }
   ],
   "source": [
    "resultnmst_rnd.max()"
   ]
  },
  {
   "cell_type": "markdown",
   "id": "385a4eed",
   "metadata": {},
   "source": [
    "# Leave out cross validation for NSM"
   ]
  },
  {
   "cell_type": "code",
   "execution_count": 475,
   "id": "2a022caf",
   "metadata": {},
   "outputs": [],
   "source": [
    "#assume LEOV is same or better than stratified K-Fold"
   ]
  },
  {
   "cell_type": "code",
   "execution_count": 642,
   "id": "1d0a54f9",
   "metadata": {},
   "outputs": [],
   "source": [
    "#after analysis of results we see SMOTETOmek and ROVSM have optimum and same accuracy scores \n",
    "#at stratified K-Fold sampling so we choose\n",
    "\n",
    "# SMOTETOmek\n",
    "\n",
    "# stratified k_Fold\n",
    "\n",
    "# mean\n",
    "\n",
    "# xgb=0.858557\n",
    "# clf=0.864\n",
    "# ada=0.77568\n",
    "# rnd=0.72\n",
    "\n",
    "# ROVSM\n",
    "\n",
    "# stratified k_Fold\n",
    "\n",
    "# mean\n",
    "\n",
    "# xgb=0.78\n",
    "# clf=0.95\n",
    "# ada=0.77568\n",
    "# rnd=0.73\n",
    "\n",
    "# SMOTETOmek for hyper parameter tuning "
   ]
  },
  {
   "cell_type": "code",
   "execution_count": 480,
   "id": "e1013af5",
   "metadata": {},
   "outputs": [],
   "source": [
    "#for SMOTETOmek xgboost and decsion tree hyper parameter tuning   "
   ]
  },
  {
   "cell_type": "code",
   "execution_count": 516,
   "id": "89dee54e",
   "metadata": {},
   "outputs": [],
   "source": [
    "import numpy as np\n",
    "trees=[int(x) for x in np.linspace(start=15,stop=200,num=25)]\n",
    "total_trees=np.random.randint(15,200,25)"
   ]
  },
  {
   "cell_type": "code",
   "execution_count": 540,
   "id": "f4a59f42",
   "metadata": {},
   "outputs": [],
   "source": [
    "# class sklearn.tree.DecisionTreeClassifier(*, criterion='gini', splitter='best', max_depth=None, min_samples_split=2, \n",
    "# min_samples_leaf=1, min_weight_fraction_leaf=0.0, max_features=None, random_state=None, max_leaf_nodes=None, \n",
    "# min_impurity_decrease=0.0, class_weight=None, ccp_alpha=0.0)[source]\n",
    "\n",
    "#smotetonek\n",
    "# xb_train,xb_test,yb_train,yb_test=train_test_split(x_smt,y_smt,train_size=.70,random_state=42)\n",
    "\n",
    "criterion = ['gini','entropy']\n",
    "splitter=['best','random']\n",
    "max_depth=[3]\n",
    "min_samples_split = [2,3]\n",
    "min_samples_leaf = [1]\n",
    "max_features = ['sqrt', 'log2']\n",
    "random_state=[2]\n",
    "max_leaf_nodes=[50]\n",
    "min_impurity_decrease=[0.0]\n",
    "# class_weight=['None']\n",
    "ccp_alpha=[0.0]"
   ]
  },
  {
   "cell_type": "code",
   "execution_count": 541,
   "id": "9d48216c",
   "metadata": {},
   "outputs": [],
   "source": [
    "grids = {\n",
    "'criterion':criterion,\n",
    "'splitter':splitter,\n",
    "'max_depth':max_depth,\n",
    "'min_samples_split':min_samples_split,\n",
    "'min_samples_leaf':min_samples_leaf, \n",
    "'max_features':max_features, \n",
    "'random_state':random_state,\n",
    "'max_leaf_nodes':max_leaf_nodes,\n",
    "'min_impurity_decrease':min_impurity_decrease,\n",
    "'ccp_alpha':ccp_alpha\n",
    "}"
   ]
  },
  {
   "cell_type": "code",
   "execution_count": 536,
   "id": "5a7845ac",
   "metadata": {},
   "outputs": [],
   "source": [
    "#we will be using xgb and clf for tuning\n",
    "from sklearn.model_selection import RandomizedSearchCV"
   ]
  },
  {
   "cell_type": "code",
   "execution_count": 549,
   "id": "bd2a0d8c",
   "metadata": {},
   "outputs": [],
   "source": [
    "rando=RandomizedSearchCV(estimator=clf_nd,param_distributions=grids,n_iter=100)"
   ]
  },
  {
   "cell_type": "code",
   "execution_count": 550,
   "id": "f0525f4d",
   "metadata": {},
   "outputs": [
    {
     "data": {
      "text/html": [
       "<style>#sk-container-id-31 {color: black;background-color: white;}#sk-container-id-31 pre{padding: 0;}#sk-container-id-31 div.sk-toggleable {background-color: white;}#sk-container-id-31 label.sk-toggleable__label {cursor: pointer;display: block;width: 100%;margin-bottom: 0;padding: 0.3em;box-sizing: border-box;text-align: center;}#sk-container-id-31 label.sk-toggleable__label-arrow:before {content: \"▸\";float: left;margin-right: 0.25em;color: #696969;}#sk-container-id-31 label.sk-toggleable__label-arrow:hover:before {color: black;}#sk-container-id-31 div.sk-estimator:hover label.sk-toggleable__label-arrow:before {color: black;}#sk-container-id-31 div.sk-toggleable__content {max-height: 0;max-width: 0;overflow: hidden;text-align: left;background-color: #f0f8ff;}#sk-container-id-31 div.sk-toggleable__content pre {margin: 0.2em;color: black;border-radius: 0.25em;background-color: #f0f8ff;}#sk-container-id-31 input.sk-toggleable__control:checked~div.sk-toggleable__content {max-height: 200px;max-width: 100%;overflow: auto;}#sk-container-id-31 input.sk-toggleable__control:checked~label.sk-toggleable__label-arrow:before {content: \"▾\";}#sk-container-id-31 div.sk-estimator input.sk-toggleable__control:checked~label.sk-toggleable__label {background-color: #d4ebff;}#sk-container-id-31 div.sk-label input.sk-toggleable__control:checked~label.sk-toggleable__label {background-color: #d4ebff;}#sk-container-id-31 input.sk-hidden--visually {border: 0;clip: rect(1px 1px 1px 1px);clip: rect(1px, 1px, 1px, 1px);height: 1px;margin: -1px;overflow: hidden;padding: 0;position: absolute;width: 1px;}#sk-container-id-31 div.sk-estimator {font-family: monospace;background-color: #f0f8ff;border: 1px dotted black;border-radius: 0.25em;box-sizing: border-box;margin-bottom: 0.5em;}#sk-container-id-31 div.sk-estimator:hover {background-color: #d4ebff;}#sk-container-id-31 div.sk-parallel-item::after {content: \"\";width: 100%;border-bottom: 1px solid gray;flex-grow: 1;}#sk-container-id-31 div.sk-label:hover label.sk-toggleable__label {background-color: #d4ebff;}#sk-container-id-31 div.sk-serial::before {content: \"\";position: absolute;border-left: 1px solid gray;box-sizing: border-box;top: 0;bottom: 0;left: 50%;z-index: 0;}#sk-container-id-31 div.sk-serial {display: flex;flex-direction: column;align-items: center;background-color: white;padding-right: 0.2em;padding-left: 0.2em;position: relative;}#sk-container-id-31 div.sk-item {position: relative;z-index: 1;}#sk-container-id-31 div.sk-parallel {display: flex;align-items: stretch;justify-content: center;background-color: white;position: relative;}#sk-container-id-31 div.sk-item::before, #sk-container-id-31 div.sk-parallel-item::before {content: \"\";position: absolute;border-left: 1px solid gray;box-sizing: border-box;top: 0;bottom: 0;left: 50%;z-index: -1;}#sk-container-id-31 div.sk-parallel-item {display: flex;flex-direction: column;z-index: 1;position: relative;background-color: white;}#sk-container-id-31 div.sk-parallel-item:first-child::after {align-self: flex-end;width: 50%;}#sk-container-id-31 div.sk-parallel-item:last-child::after {align-self: flex-start;width: 50%;}#sk-container-id-31 div.sk-parallel-item:only-child::after {width: 0;}#sk-container-id-31 div.sk-dashed-wrapped {border: 1px dashed gray;margin: 0 0.4em 0.5em 0.4em;box-sizing: border-box;padding-bottom: 0.4em;background-color: white;}#sk-container-id-31 div.sk-label label {font-family: monospace;font-weight: bold;display: inline-block;line-height: 1.2em;}#sk-container-id-31 div.sk-label-container {text-align: center;}#sk-container-id-31 div.sk-container {/* jupyter's `normalize.less` sets `[hidden] { display: none; }` but bootstrap.min.css set `[hidden] { display: none !important; }` so we also need the `!important` here to be able to override the default hidden behavior on the sphinx rendered scikit-learn.org. See: https://github.com/scikit-learn/scikit-learn/issues/21755 */display: inline-block !important;position: relative;}#sk-container-id-31 div.sk-text-repr-fallback {display: none;}</style><div id=\"sk-container-id-31\" class=\"sk-top-container\"><div class=\"sk-text-repr-fallback\"><pre>RandomizedSearchCV(estimator=DecisionTreeClassifier(), n_iter=100,\n",
       "                   param_distributions={&#x27;ccp_alpha&#x27;: [0.0],\n",
       "                                        &#x27;criterion&#x27;: [&#x27;gini&#x27;, &#x27;entropy&#x27;],\n",
       "                                        &#x27;max_depth&#x27;: [3],\n",
       "                                        &#x27;max_features&#x27;: [&#x27;sqrt&#x27;, &#x27;log2&#x27;],\n",
       "                                        &#x27;max_leaf_nodes&#x27;: [50],\n",
       "                                        &#x27;min_impurity_decrease&#x27;: [0.0],\n",
       "                                        &#x27;min_samples_leaf&#x27;: [1],\n",
       "                                        &#x27;min_samples_split&#x27;: [2, 3],\n",
       "                                        &#x27;random_state&#x27;: [2],\n",
       "                                        &#x27;splitter&#x27;: [&#x27;best&#x27;, &#x27;random&#x27;]})</pre><b>In a Jupyter environment, please rerun this cell to show the HTML representation or trust the notebook. <br />On GitHub, the HTML representation is unable to render, please try loading this page with nbviewer.org.</b></div><div class=\"sk-container\" hidden><div class=\"sk-item sk-dashed-wrapped\"><div class=\"sk-label-container\"><div class=\"sk-label sk-toggleable\"><input class=\"sk-toggleable__control sk-hidden--visually\" id=\"sk-estimator-id-49\" type=\"checkbox\" ><label for=\"sk-estimator-id-49\" class=\"sk-toggleable__label sk-toggleable__label-arrow\">RandomizedSearchCV</label><div class=\"sk-toggleable__content\"><pre>RandomizedSearchCV(estimator=DecisionTreeClassifier(), n_iter=100,\n",
       "                   param_distributions={&#x27;ccp_alpha&#x27;: [0.0],\n",
       "                                        &#x27;criterion&#x27;: [&#x27;gini&#x27;, &#x27;entropy&#x27;],\n",
       "                                        &#x27;max_depth&#x27;: [3],\n",
       "                                        &#x27;max_features&#x27;: [&#x27;sqrt&#x27;, &#x27;log2&#x27;],\n",
       "                                        &#x27;max_leaf_nodes&#x27;: [50],\n",
       "                                        &#x27;min_impurity_decrease&#x27;: [0.0],\n",
       "                                        &#x27;min_samples_leaf&#x27;: [1],\n",
       "                                        &#x27;min_samples_split&#x27;: [2, 3],\n",
       "                                        &#x27;random_state&#x27;: [2],\n",
       "                                        &#x27;splitter&#x27;: [&#x27;best&#x27;, &#x27;random&#x27;]})</pre></div></div></div><div class=\"sk-parallel\"><div class=\"sk-parallel-item\"><div class=\"sk-item\"><div class=\"sk-label-container\"><div class=\"sk-label sk-toggleable\"><input class=\"sk-toggleable__control sk-hidden--visually\" id=\"sk-estimator-id-50\" type=\"checkbox\" ><label for=\"sk-estimator-id-50\" class=\"sk-toggleable__label sk-toggleable__label-arrow\">estimator: DecisionTreeClassifier</label><div class=\"sk-toggleable__content\"><pre>DecisionTreeClassifier()</pre></div></div></div><div class=\"sk-serial\"><div class=\"sk-item\"><div class=\"sk-estimator sk-toggleable\"><input class=\"sk-toggleable__control sk-hidden--visually\" id=\"sk-estimator-id-51\" type=\"checkbox\" ><label for=\"sk-estimator-id-51\" class=\"sk-toggleable__label sk-toggleable__label-arrow\">DecisionTreeClassifier</label><div class=\"sk-toggleable__content\"><pre>DecisionTreeClassifier()</pre></div></div></div></div></div></div></div></div></div></div>"
      ],
      "text/plain": [
       "RandomizedSearchCV(estimator=DecisionTreeClassifier(), n_iter=100,\n",
       "                   param_distributions={'ccp_alpha': [0.0],\n",
       "                                        'criterion': ['gini', 'entropy'],\n",
       "                                        'max_depth': [3],\n",
       "                                        'max_features': ['sqrt', 'log2'],\n",
       "                                        'max_leaf_nodes': [50],\n",
       "                                        'min_impurity_decrease': [0.0],\n",
       "                                        'min_samples_leaf': [1],\n",
       "                                        'min_samples_split': [2, 3],\n",
       "                                        'random_state': [2],\n",
       "                                        'splitter': ['best', 'random']})"
      ]
     },
     "execution_count": 550,
     "metadata": {},
     "output_type": "execute_result"
    }
   ],
   "source": [
    "rando"
   ]
  },
  {
   "cell_type": "code",
   "execution_count": 498,
   "id": "fea42bb1",
   "metadata": {},
   "outputs": [
    {
     "data": {
      "text/html": [
       "<div>\n",
       "<style scoped>\n",
       "    .dataframe tbody tr th:only-of-type {\n",
       "        vertical-align: middle;\n",
       "    }\n",
       "\n",
       "    .dataframe tbody tr th {\n",
       "        vertical-align: top;\n",
       "    }\n",
       "\n",
       "    .dataframe thead th {\n",
       "        text-align: right;\n",
       "    }\n",
       "</style>\n",
       "<table border=\"1\" class=\"dataframe\">\n",
       "  <thead>\n",
       "    <tr style=\"text-align: right;\">\n",
       "      <th></th>\n",
       "      <th>BMI</th>\n",
       "      <th>Smoking</th>\n",
       "      <th>AlcoholDrinking</th>\n",
       "      <th>Stroke</th>\n",
       "      <th>PhysicalHealth</th>\n",
       "      <th>MentalHealth</th>\n",
       "      <th>DiffWalking</th>\n",
       "      <th>Sex</th>\n",
       "      <th>AgeCategory</th>\n",
       "      <th>Race</th>\n",
       "      <th>Diabetic</th>\n",
       "      <th>PhysicalActivity</th>\n",
       "      <th>GenHealth</th>\n",
       "      <th>SleepTime</th>\n",
       "      <th>Asthma</th>\n",
       "      <th>KidneyDisease</th>\n",
       "      <th>SkinCancer</th>\n",
       "    </tr>\n",
       "  </thead>\n",
       "  <tbody>\n",
       "    <tr>\n",
       "      <th>489192</th>\n",
       "      <td>30.476880</td>\n",
       "      <td>1</td>\n",
       "      <td>0</td>\n",
       "      <td>0</td>\n",
       "      <td>0.000000</td>\n",
       "      <td>0.00000</td>\n",
       "      <td>0</td>\n",
       "      <td>1</td>\n",
       "      <td>11</td>\n",
       "      <td>5</td>\n",
       "      <td>1</td>\n",
       "      <td>1</td>\n",
       "      <td>4</td>\n",
       "      <td>8.00000</td>\n",
       "      <td>0</td>\n",
       "      <td>0</td>\n",
       "      <td>0</td>\n",
       "    </tr>\n",
       "    <tr>\n",
       "      <th>489789</th>\n",
       "      <td>38.282457</td>\n",
       "      <td>0</td>\n",
       "      <td>0</td>\n",
       "      <td>0</td>\n",
       "      <td>2.602890</td>\n",
       "      <td>4.20578</td>\n",
       "      <td>0</td>\n",
       "      <td>1</td>\n",
       "      <td>6</td>\n",
       "      <td>5</td>\n",
       "      <td>0</td>\n",
       "      <td>0</td>\n",
       "      <td>1</td>\n",
       "      <td>5.20578</td>\n",
       "      <td>0</td>\n",
       "      <td>0</td>\n",
       "      <td>0</td>\n",
       "    </tr>\n",
       "    <tr>\n",
       "      <th>213236</th>\n",
       "      <td>29.650000</td>\n",
       "      <td>0</td>\n",
       "      <td>0</td>\n",
       "      <td>0</td>\n",
       "      <td>0.000000</td>\n",
       "      <td>0.00000</td>\n",
       "      <td>1</td>\n",
       "      <td>1</td>\n",
       "      <td>7</td>\n",
       "      <td>2</td>\n",
       "      <td>0</td>\n",
       "      <td>1</td>\n",
       "      <td>2</td>\n",
       "      <td>6.00000</td>\n",
       "      <td>0</td>\n",
       "      <td>0</td>\n",
       "      <td>0</td>\n",
       "    </tr>\n",
       "    <tr>\n",
       "      <th>251716</th>\n",
       "      <td>31.090000</td>\n",
       "      <td>1</td>\n",
       "      <td>0</td>\n",
       "      <td>0</td>\n",
       "      <td>6.000000</td>\n",
       "      <td>0.00000</td>\n",
       "      <td>1</td>\n",
       "      <td>0</td>\n",
       "      <td>8</td>\n",
       "      <td>5</td>\n",
       "      <td>0</td>\n",
       "      <td>0</td>\n",
       "      <td>1</td>\n",
       "      <td>7.00000</td>\n",
       "      <td>0</td>\n",
       "      <td>0</td>\n",
       "      <td>0</td>\n",
       "    </tr>\n",
       "    <tr>\n",
       "      <th>478472</th>\n",
       "      <td>25.842654</td>\n",
       "      <td>1</td>\n",
       "      <td>0</td>\n",
       "      <td>1</td>\n",
       "      <td>30.000000</td>\n",
       "      <td>0.00000</td>\n",
       "      <td>0</td>\n",
       "      <td>1</td>\n",
       "      <td>6</td>\n",
       "      <td>5</td>\n",
       "      <td>2</td>\n",
       "      <td>1</td>\n",
       "      <td>3</td>\n",
       "      <td>7.00000</td>\n",
       "      <td>0</td>\n",
       "      <td>1</td>\n",
       "      <td>0</td>\n",
       "    </tr>\n",
       "    <tr>\n",
       "      <th>...</th>\n",
       "      <td>...</td>\n",
       "      <td>...</td>\n",
       "      <td>...</td>\n",
       "      <td>...</td>\n",
       "      <td>...</td>\n",
       "      <td>...</td>\n",
       "      <td>...</td>\n",
       "      <td>...</td>\n",
       "      <td>...</td>\n",
       "      <td>...</td>\n",
       "      <td>...</td>\n",
       "      <td>...</td>\n",
       "      <td>...</td>\n",
       "      <td>...</td>\n",
       "      <td>...</td>\n",
       "      <td>...</td>\n",
       "      <td>...</td>\n",
       "    </tr>\n",
       "    <tr>\n",
       "      <th>110268</th>\n",
       "      <td>37.280000</td>\n",
       "      <td>0</td>\n",
       "      <td>0</td>\n",
       "      <td>0</td>\n",
       "      <td>0.000000</td>\n",
       "      <td>0.00000</td>\n",
       "      <td>0</td>\n",
       "      <td>0</td>\n",
       "      <td>9</td>\n",
       "      <td>2</td>\n",
       "      <td>0</td>\n",
       "      <td>1</td>\n",
       "      <td>4</td>\n",
       "      <td>8.00000</td>\n",
       "      <td>0</td>\n",
       "      <td>0</td>\n",
       "      <td>0</td>\n",
       "    </tr>\n",
       "    <tr>\n",
       "      <th>259178</th>\n",
       "      <td>35.430000</td>\n",
       "      <td>0</td>\n",
       "      <td>0</td>\n",
       "      <td>0</td>\n",
       "      <td>0.000000</td>\n",
       "      <td>0.00000</td>\n",
       "      <td>0</td>\n",
       "      <td>0</td>\n",
       "      <td>6</td>\n",
       "      <td>5</td>\n",
       "      <td>0</td>\n",
       "      <td>1</td>\n",
       "      <td>2</td>\n",
       "      <td>6.00000</td>\n",
       "      <td>0</td>\n",
       "      <td>0</td>\n",
       "      <td>0</td>\n",
       "    </tr>\n",
       "    <tr>\n",
       "      <th>365838</th>\n",
       "      <td>40.690268</td>\n",
       "      <td>1</td>\n",
       "      <td>0</td>\n",
       "      <td>0</td>\n",
       "      <td>14.836811</td>\n",
       "      <td>30.00000</td>\n",
       "      <td>1</td>\n",
       "      <td>0</td>\n",
       "      <td>6</td>\n",
       "      <td>5</td>\n",
       "      <td>1</td>\n",
       "      <td>0</td>\n",
       "      <td>1</td>\n",
       "      <td>5.00000</td>\n",
       "      <td>0</td>\n",
       "      <td>0</td>\n",
       "      <td>0</td>\n",
       "    </tr>\n",
       "    <tr>\n",
       "      <th>131932</th>\n",
       "      <td>33.960000</td>\n",
       "      <td>0</td>\n",
       "      <td>0</td>\n",
       "      <td>0</td>\n",
       "      <td>0.000000</td>\n",
       "      <td>3.00000</td>\n",
       "      <td>0</td>\n",
       "      <td>0</td>\n",
       "      <td>6</td>\n",
       "      <td>5</td>\n",
       "      <td>0</td>\n",
       "      <td>1</td>\n",
       "      <td>4</td>\n",
       "      <td>7.00000</td>\n",
       "      <td>1</td>\n",
       "      <td>0</td>\n",
       "      <td>0</td>\n",
       "    </tr>\n",
       "    <tr>\n",
       "      <th>121958</th>\n",
       "      <td>27.800000</td>\n",
       "      <td>0</td>\n",
       "      <td>0</td>\n",
       "      <td>0</td>\n",
       "      <td>5.000000</td>\n",
       "      <td>8.00000</td>\n",
       "      <td>0</td>\n",
       "      <td>1</td>\n",
       "      <td>0</td>\n",
       "      <td>5</td>\n",
       "      <td>0</td>\n",
       "      <td>1</td>\n",
       "      <td>2</td>\n",
       "      <td>9.00000</td>\n",
       "      <td>0</td>\n",
       "      <td>0</td>\n",
       "      <td>0</td>\n",
       "    </tr>\n",
       "  </tbody>\n",
       "</table>\n",
       "<p>380508 rows × 17 columns</p>\n",
       "</div>"
      ],
      "text/plain": [
       "              BMI  Smoking  AlcoholDrinking  Stroke  PhysicalHealth  \\\n",
       "489192  30.476880        1                0       0        0.000000   \n",
       "489789  38.282457        0                0       0        2.602890   \n",
       "213236  29.650000        0                0       0        0.000000   \n",
       "251716  31.090000        1                0       0        6.000000   \n",
       "478472  25.842654        1                0       1       30.000000   \n",
       "...           ...      ...              ...     ...             ...   \n",
       "110268  37.280000        0                0       0        0.000000   \n",
       "259178  35.430000        0                0       0        0.000000   \n",
       "365838  40.690268        1                0       0       14.836811   \n",
       "131932  33.960000        0                0       0        0.000000   \n",
       "121958  27.800000        0                0       0        5.000000   \n",
       "\n",
       "        MentalHealth  DiffWalking  Sex  AgeCategory  Race  Diabetic  \\\n",
       "489192       0.00000            0    1           11     5         1   \n",
       "489789       4.20578            0    1            6     5         0   \n",
       "213236       0.00000            1    1            7     2         0   \n",
       "251716       0.00000            1    0            8     5         0   \n",
       "478472       0.00000            0    1            6     5         2   \n",
       "...              ...          ...  ...          ...   ...       ...   \n",
       "110268       0.00000            0    0            9     2         0   \n",
       "259178       0.00000            0    0            6     5         0   \n",
       "365838      30.00000            1    0            6     5         1   \n",
       "131932       3.00000            0    0            6     5         0   \n",
       "121958       8.00000            0    1            0     5         0   \n",
       "\n",
       "        PhysicalActivity  GenHealth  SleepTime  Asthma  KidneyDisease  \\\n",
       "489192                 1          4    8.00000       0              0   \n",
       "489789                 0          1    5.20578       0              0   \n",
       "213236                 1          2    6.00000       0              0   \n",
       "251716                 0          1    7.00000       0              0   \n",
       "478472                 1          3    7.00000       0              1   \n",
       "...                  ...        ...        ...     ...            ...   \n",
       "110268                 1          4    8.00000       0              0   \n",
       "259178                 1          2    6.00000       0              0   \n",
       "365838                 0          1    5.00000       0              0   \n",
       "131932                 1          4    7.00000       1              0   \n",
       "121958                 1          2    9.00000       0              0   \n",
       "\n",
       "        SkinCancer  \n",
       "489192           0  \n",
       "489789           0  \n",
       "213236           0  \n",
       "251716           0  \n",
       "478472           0  \n",
       "...            ...  \n",
       "110268           0  \n",
       "259178           0  \n",
       "365838           0  \n",
       "131932           0  \n",
       "121958           0  \n",
       "\n",
       "[380508 rows x 17 columns]"
      ]
     },
     "execution_count": 498,
     "metadata": {},
     "output_type": "execute_result"
    }
   ],
   "source": [
    "xb_train"
   ]
  },
  {
   "cell_type": "code",
   "execution_count": 551,
   "id": "5558d110",
   "metadata": {},
   "outputs": [
    {
     "name": "stderr",
     "output_type": "stream",
     "text": [
      "C:\\Users\\Administrator\\anaconda3\\lib\\site-packages\\sklearn\\model_selection\\_search.py:306: UserWarning: The total space of parameters 16 is smaller than n_iter=100. Running 16 iterations. For exhaustive searches, use GridSearchCV.\n",
      "  warnings.warn(\n"
     ]
    },
    {
     "data": {
      "text/html": [
       "<style>#sk-container-id-32 {color: black;background-color: white;}#sk-container-id-32 pre{padding: 0;}#sk-container-id-32 div.sk-toggleable {background-color: white;}#sk-container-id-32 label.sk-toggleable__label {cursor: pointer;display: block;width: 100%;margin-bottom: 0;padding: 0.3em;box-sizing: border-box;text-align: center;}#sk-container-id-32 label.sk-toggleable__label-arrow:before {content: \"▸\";float: left;margin-right: 0.25em;color: #696969;}#sk-container-id-32 label.sk-toggleable__label-arrow:hover:before {color: black;}#sk-container-id-32 div.sk-estimator:hover label.sk-toggleable__label-arrow:before {color: black;}#sk-container-id-32 div.sk-toggleable__content {max-height: 0;max-width: 0;overflow: hidden;text-align: left;background-color: #f0f8ff;}#sk-container-id-32 div.sk-toggleable__content pre {margin: 0.2em;color: black;border-radius: 0.25em;background-color: #f0f8ff;}#sk-container-id-32 input.sk-toggleable__control:checked~div.sk-toggleable__content {max-height: 200px;max-width: 100%;overflow: auto;}#sk-container-id-32 input.sk-toggleable__control:checked~label.sk-toggleable__label-arrow:before {content: \"▾\";}#sk-container-id-32 div.sk-estimator input.sk-toggleable__control:checked~label.sk-toggleable__label {background-color: #d4ebff;}#sk-container-id-32 div.sk-label input.sk-toggleable__control:checked~label.sk-toggleable__label {background-color: #d4ebff;}#sk-container-id-32 input.sk-hidden--visually {border: 0;clip: rect(1px 1px 1px 1px);clip: rect(1px, 1px, 1px, 1px);height: 1px;margin: -1px;overflow: hidden;padding: 0;position: absolute;width: 1px;}#sk-container-id-32 div.sk-estimator {font-family: monospace;background-color: #f0f8ff;border: 1px dotted black;border-radius: 0.25em;box-sizing: border-box;margin-bottom: 0.5em;}#sk-container-id-32 div.sk-estimator:hover {background-color: #d4ebff;}#sk-container-id-32 div.sk-parallel-item::after {content: \"\";width: 100%;border-bottom: 1px solid gray;flex-grow: 1;}#sk-container-id-32 div.sk-label:hover label.sk-toggleable__label {background-color: #d4ebff;}#sk-container-id-32 div.sk-serial::before {content: \"\";position: absolute;border-left: 1px solid gray;box-sizing: border-box;top: 0;bottom: 0;left: 50%;z-index: 0;}#sk-container-id-32 div.sk-serial {display: flex;flex-direction: column;align-items: center;background-color: white;padding-right: 0.2em;padding-left: 0.2em;position: relative;}#sk-container-id-32 div.sk-item {position: relative;z-index: 1;}#sk-container-id-32 div.sk-parallel {display: flex;align-items: stretch;justify-content: center;background-color: white;position: relative;}#sk-container-id-32 div.sk-item::before, #sk-container-id-32 div.sk-parallel-item::before {content: \"\";position: absolute;border-left: 1px solid gray;box-sizing: border-box;top: 0;bottom: 0;left: 50%;z-index: -1;}#sk-container-id-32 div.sk-parallel-item {display: flex;flex-direction: column;z-index: 1;position: relative;background-color: white;}#sk-container-id-32 div.sk-parallel-item:first-child::after {align-self: flex-end;width: 50%;}#sk-container-id-32 div.sk-parallel-item:last-child::after {align-self: flex-start;width: 50%;}#sk-container-id-32 div.sk-parallel-item:only-child::after {width: 0;}#sk-container-id-32 div.sk-dashed-wrapped {border: 1px dashed gray;margin: 0 0.4em 0.5em 0.4em;box-sizing: border-box;padding-bottom: 0.4em;background-color: white;}#sk-container-id-32 div.sk-label label {font-family: monospace;font-weight: bold;display: inline-block;line-height: 1.2em;}#sk-container-id-32 div.sk-label-container {text-align: center;}#sk-container-id-32 div.sk-container {/* jupyter's `normalize.less` sets `[hidden] { display: none; }` but bootstrap.min.css set `[hidden] { display: none !important; }` so we also need the `!important` here to be able to override the default hidden behavior on the sphinx rendered scikit-learn.org. See: https://github.com/scikit-learn/scikit-learn/issues/21755 */display: inline-block !important;position: relative;}#sk-container-id-32 div.sk-text-repr-fallback {display: none;}</style><div id=\"sk-container-id-32\" class=\"sk-top-container\"><div class=\"sk-text-repr-fallback\"><pre>RandomizedSearchCV(estimator=DecisionTreeClassifier(), n_iter=100,\n",
       "                   param_distributions={&#x27;ccp_alpha&#x27;: [0.0],\n",
       "                                        &#x27;criterion&#x27;: [&#x27;gini&#x27;, &#x27;entropy&#x27;],\n",
       "                                        &#x27;max_depth&#x27;: [3],\n",
       "                                        &#x27;max_features&#x27;: [&#x27;sqrt&#x27;, &#x27;log2&#x27;],\n",
       "                                        &#x27;max_leaf_nodes&#x27;: [50],\n",
       "                                        &#x27;min_impurity_decrease&#x27;: [0.0],\n",
       "                                        &#x27;min_samples_leaf&#x27;: [1],\n",
       "                                        &#x27;min_samples_split&#x27;: [2, 3],\n",
       "                                        &#x27;random_state&#x27;: [2],\n",
       "                                        &#x27;splitter&#x27;: [&#x27;best&#x27;, &#x27;random&#x27;]})</pre><b>In a Jupyter environment, please rerun this cell to show the HTML representation or trust the notebook. <br />On GitHub, the HTML representation is unable to render, please try loading this page with nbviewer.org.</b></div><div class=\"sk-container\" hidden><div class=\"sk-item sk-dashed-wrapped\"><div class=\"sk-label-container\"><div class=\"sk-label sk-toggleable\"><input class=\"sk-toggleable__control sk-hidden--visually\" id=\"sk-estimator-id-52\" type=\"checkbox\" ><label for=\"sk-estimator-id-52\" class=\"sk-toggleable__label sk-toggleable__label-arrow\">RandomizedSearchCV</label><div class=\"sk-toggleable__content\"><pre>RandomizedSearchCV(estimator=DecisionTreeClassifier(), n_iter=100,\n",
       "                   param_distributions={&#x27;ccp_alpha&#x27;: [0.0],\n",
       "                                        &#x27;criterion&#x27;: [&#x27;gini&#x27;, &#x27;entropy&#x27;],\n",
       "                                        &#x27;max_depth&#x27;: [3],\n",
       "                                        &#x27;max_features&#x27;: [&#x27;sqrt&#x27;, &#x27;log2&#x27;],\n",
       "                                        &#x27;max_leaf_nodes&#x27;: [50],\n",
       "                                        &#x27;min_impurity_decrease&#x27;: [0.0],\n",
       "                                        &#x27;min_samples_leaf&#x27;: [1],\n",
       "                                        &#x27;min_samples_split&#x27;: [2, 3],\n",
       "                                        &#x27;random_state&#x27;: [2],\n",
       "                                        &#x27;splitter&#x27;: [&#x27;best&#x27;, &#x27;random&#x27;]})</pre></div></div></div><div class=\"sk-parallel\"><div class=\"sk-parallel-item\"><div class=\"sk-item\"><div class=\"sk-label-container\"><div class=\"sk-label sk-toggleable\"><input class=\"sk-toggleable__control sk-hidden--visually\" id=\"sk-estimator-id-53\" type=\"checkbox\" ><label for=\"sk-estimator-id-53\" class=\"sk-toggleable__label sk-toggleable__label-arrow\">estimator: DecisionTreeClassifier</label><div class=\"sk-toggleable__content\"><pre>DecisionTreeClassifier()</pre></div></div></div><div class=\"sk-serial\"><div class=\"sk-item\"><div class=\"sk-estimator sk-toggleable\"><input class=\"sk-toggleable__control sk-hidden--visually\" id=\"sk-estimator-id-54\" type=\"checkbox\" ><label for=\"sk-estimator-id-54\" class=\"sk-toggleable__label sk-toggleable__label-arrow\">DecisionTreeClassifier</label><div class=\"sk-toggleable__content\"><pre>DecisionTreeClassifier()</pre></div></div></div></div></div></div></div></div></div></div>"
      ],
      "text/plain": [
       "RandomizedSearchCV(estimator=DecisionTreeClassifier(), n_iter=100,\n",
       "                   param_distributions={'ccp_alpha': [0.0],\n",
       "                                        'criterion': ['gini', 'entropy'],\n",
       "                                        'max_depth': [3],\n",
       "                                        'max_features': ['sqrt', 'log2'],\n",
       "                                        'max_leaf_nodes': [50],\n",
       "                                        'min_impurity_decrease': [0.0],\n",
       "                                        'min_samples_leaf': [1],\n",
       "                                        'min_samples_split': [2, 3],\n",
       "                                        'random_state': [2],\n",
       "                                        'splitter': ['best', 'random']})"
      ]
     },
     "execution_count": 551,
     "metadata": {},
     "output_type": "execute_result"
    }
   ],
   "source": [
    "rando.fit(xb_train,yb_train)"
   ]
  },
  {
   "cell_type": "code",
   "execution_count": 552,
   "id": "3fb14ac5",
   "metadata": {},
   "outputs": [
    {
     "data": {
      "text/plain": [
       "{'splitter': 'random',\n",
       " 'random_state': 2,\n",
       " 'min_samples_split': 2,\n",
       " 'min_samples_leaf': 1,\n",
       " 'min_impurity_decrease': 0.0,\n",
       " 'max_leaf_nodes': 50,\n",
       " 'max_features': 'sqrt',\n",
       " 'max_depth': 3,\n",
       " 'criterion': 'gini',\n",
       " 'ccp_alpha': 0.0}"
      ]
     },
     "execution_count": 552,
     "metadata": {},
     "output_type": "execute_result"
    }
   ],
   "source": [
    "rando.best_params_"
   ]
  },
  {
   "cell_type": "code",
   "execution_count": 553,
   "id": "c9e05767",
   "metadata": {},
   "outputs": [
    {
     "data": {
      "text/plain": [
       "{'mean_fit_time': array([0.13660483, 0.09993324, 0.14589653, 0.10329056, 0.14168706,\n",
       "        0.09468904, 0.13248949, 0.0973464 , 0.17277164, 0.11686807,\n",
       "        0.16117797, 0.11033921, 0.16009579, 0.11099119, 0.15496116,\n",
       "        0.10437713]),\n",
       " 'std_fit_time': array([0.01173255, 0.00317827, 0.01152585, 0.0205049 , 0.01012932,\n",
       "        0.00993849, 0.00735913, 0.01204571, 0.01269115, 0.02278058,\n",
       "        0.01908421, 0.01023072, 0.01768266, 0.01008364, 0.01852365,\n",
       "        0.00511424]),\n",
       " 'mean_score_time': array([0.01574922, 0.01625543, 0.0145822 , 0.01470537, 0.01572247,\n",
       "        0.01250968, 0.02096462, 0.01925402, 0.01616244, 0.01281786,\n",
       "        0.01962767, 0.02534323, 0.01663179, 0.02238803, 0.01882286,\n",
       "        0.01539593]),\n",
       " 'std_score_time': array([0.0001419 , 0.00105284, 0.00272863, 0.00140534, 0.00984322,\n",
       "        0.00625485, 0.0065595 , 0.00652771, 0.00034307, 0.0064141 ,\n",
       "        0.00643299, 0.00789678, 0.00087146, 0.01289091, 0.00631771,\n",
       "        0.00138171]),\n",
       " 'param_splitter': masked_array(data=['best', 'random', 'best', 'random', 'best', 'random',\n",
       "                    'best', 'random', 'best', 'random', 'best', 'random',\n",
       "                    'best', 'random', 'best', 'random'],\n",
       "              mask=[False, False, False, False, False, False, False, False,\n",
       "                    False, False, False, False, False, False, False, False],\n",
       "        fill_value='?',\n",
       "             dtype=object),\n",
       " 'param_random_state': masked_array(data=[2, 2, 2, 2, 2, 2, 2, 2, 2, 2, 2, 2, 2, 2, 2, 2],\n",
       "              mask=[False, False, False, False, False, False, False, False,\n",
       "                    False, False, False, False, False, False, False, False],\n",
       "        fill_value='?',\n",
       "             dtype=object),\n",
       " 'param_min_samples_split': masked_array(data=[2, 2, 3, 3, 2, 2, 3, 3, 2, 2, 3, 3, 2, 2, 3, 3],\n",
       "              mask=[False, False, False, False, False, False, False, False,\n",
       "                    False, False, False, False, False, False, False, False],\n",
       "        fill_value='?',\n",
       "             dtype=object),\n",
       " 'param_min_samples_leaf': masked_array(data=[1, 1, 1, 1, 1, 1, 1, 1, 1, 1, 1, 1, 1, 1, 1, 1],\n",
       "              mask=[False, False, False, False, False, False, False, False,\n",
       "                    False, False, False, False, False, False, False, False],\n",
       "        fill_value='?',\n",
       "             dtype=object),\n",
       " 'param_min_impurity_decrease': masked_array(data=[0.0, 0.0, 0.0, 0.0, 0.0, 0.0, 0.0, 0.0, 0.0, 0.0, 0.0,\n",
       "                    0.0, 0.0, 0.0, 0.0, 0.0],\n",
       "              mask=[False, False, False, False, False, False, False, False,\n",
       "                    False, False, False, False, False, False, False, False],\n",
       "        fill_value='?',\n",
       "             dtype=object),\n",
       " 'param_max_leaf_nodes': masked_array(data=[50, 50, 50, 50, 50, 50, 50, 50, 50, 50, 50, 50, 50, 50,\n",
       "                    50, 50],\n",
       "              mask=[False, False, False, False, False, False, False, False,\n",
       "                    False, False, False, False, False, False, False, False],\n",
       "        fill_value='?',\n",
       "             dtype=object),\n",
       " 'param_max_features': masked_array(data=['sqrt', 'sqrt', 'sqrt', 'sqrt', 'log2', 'log2', 'log2',\n",
       "                    'log2', 'sqrt', 'sqrt', 'sqrt', 'sqrt', 'log2', 'log2',\n",
       "                    'log2', 'log2'],\n",
       "              mask=[False, False, False, False, False, False, False, False,\n",
       "                    False, False, False, False, False, False, False, False],\n",
       "        fill_value='?',\n",
       "             dtype=object),\n",
       " 'param_max_depth': masked_array(data=[3, 3, 3, 3, 3, 3, 3, 3, 3, 3, 3, 3, 3, 3, 3, 3],\n",
       "              mask=[False, False, False, False, False, False, False, False,\n",
       "                    False, False, False, False, False, False, False, False],\n",
       "        fill_value='?',\n",
       "             dtype=object),\n",
       " 'param_criterion': masked_array(data=['gini', 'gini', 'gini', 'gini', 'gini', 'gini', 'gini',\n",
       "                    'gini', 'entropy', 'entropy', 'entropy', 'entropy',\n",
       "                    'entropy', 'entropy', 'entropy', 'entropy'],\n",
       "              mask=[False, False, False, False, False, False, False, False,\n",
       "                    False, False, False, False, False, False, False, False],\n",
       "        fill_value='?',\n",
       "             dtype=object),\n",
       " 'param_ccp_alpha': masked_array(data=[0.0, 0.0, 0.0, 0.0, 0.0, 0.0, 0.0, 0.0, 0.0, 0.0, 0.0,\n",
       "                    0.0, 0.0, 0.0, 0.0, 0.0],\n",
       "              mask=[False, False, False, False, False, False, False, False,\n",
       "                    False, False, False, False, False, False, False, False],\n",
       "        fill_value='?',\n",
       "             dtype=object),\n",
       " 'params': [{'splitter': 'best',\n",
       "   'random_state': 2,\n",
       "   'min_samples_split': 2,\n",
       "   'min_samples_leaf': 1,\n",
       "   'min_impurity_decrease': 0.0,\n",
       "   'max_leaf_nodes': 50,\n",
       "   'max_features': 'sqrt',\n",
       "   'max_depth': 3,\n",
       "   'criterion': 'gini',\n",
       "   'ccp_alpha': 0.0},\n",
       "  {'splitter': 'random',\n",
       "   'random_state': 2,\n",
       "   'min_samples_split': 2,\n",
       "   'min_samples_leaf': 1,\n",
       "   'min_impurity_decrease': 0.0,\n",
       "   'max_leaf_nodes': 50,\n",
       "   'max_features': 'sqrt',\n",
       "   'max_depth': 3,\n",
       "   'criterion': 'gini',\n",
       "   'ccp_alpha': 0.0},\n",
       "  {'splitter': 'best',\n",
       "   'random_state': 2,\n",
       "   'min_samples_split': 3,\n",
       "   'min_samples_leaf': 1,\n",
       "   'min_impurity_decrease': 0.0,\n",
       "   'max_leaf_nodes': 50,\n",
       "   'max_features': 'sqrt',\n",
       "   'max_depth': 3,\n",
       "   'criterion': 'gini',\n",
       "   'ccp_alpha': 0.0},\n",
       "  {'splitter': 'random',\n",
       "   'random_state': 2,\n",
       "   'min_samples_split': 3,\n",
       "   'min_samples_leaf': 1,\n",
       "   'min_impurity_decrease': 0.0,\n",
       "   'max_leaf_nodes': 50,\n",
       "   'max_features': 'sqrt',\n",
       "   'max_depth': 3,\n",
       "   'criterion': 'gini',\n",
       "   'ccp_alpha': 0.0},\n",
       "  {'splitter': 'best',\n",
       "   'random_state': 2,\n",
       "   'min_samples_split': 2,\n",
       "   'min_samples_leaf': 1,\n",
       "   'min_impurity_decrease': 0.0,\n",
       "   'max_leaf_nodes': 50,\n",
       "   'max_features': 'log2',\n",
       "   'max_depth': 3,\n",
       "   'criterion': 'gini',\n",
       "   'ccp_alpha': 0.0},\n",
       "  {'splitter': 'random',\n",
       "   'random_state': 2,\n",
       "   'min_samples_split': 2,\n",
       "   'min_samples_leaf': 1,\n",
       "   'min_impurity_decrease': 0.0,\n",
       "   'max_leaf_nodes': 50,\n",
       "   'max_features': 'log2',\n",
       "   'max_depth': 3,\n",
       "   'criterion': 'gini',\n",
       "   'ccp_alpha': 0.0},\n",
       "  {'splitter': 'best',\n",
       "   'random_state': 2,\n",
       "   'min_samples_split': 3,\n",
       "   'min_samples_leaf': 1,\n",
       "   'min_impurity_decrease': 0.0,\n",
       "   'max_leaf_nodes': 50,\n",
       "   'max_features': 'log2',\n",
       "   'max_depth': 3,\n",
       "   'criterion': 'gini',\n",
       "   'ccp_alpha': 0.0},\n",
       "  {'splitter': 'random',\n",
       "   'random_state': 2,\n",
       "   'min_samples_split': 3,\n",
       "   'min_samples_leaf': 1,\n",
       "   'min_impurity_decrease': 0.0,\n",
       "   'max_leaf_nodes': 50,\n",
       "   'max_features': 'log2',\n",
       "   'max_depth': 3,\n",
       "   'criterion': 'gini',\n",
       "   'ccp_alpha': 0.0},\n",
       "  {'splitter': 'best',\n",
       "   'random_state': 2,\n",
       "   'min_samples_split': 2,\n",
       "   'min_samples_leaf': 1,\n",
       "   'min_impurity_decrease': 0.0,\n",
       "   'max_leaf_nodes': 50,\n",
       "   'max_features': 'sqrt',\n",
       "   'max_depth': 3,\n",
       "   'criterion': 'entropy',\n",
       "   'ccp_alpha': 0.0},\n",
       "  {'splitter': 'random',\n",
       "   'random_state': 2,\n",
       "   'min_samples_split': 2,\n",
       "   'min_samples_leaf': 1,\n",
       "   'min_impurity_decrease': 0.0,\n",
       "   'max_leaf_nodes': 50,\n",
       "   'max_features': 'sqrt',\n",
       "   'max_depth': 3,\n",
       "   'criterion': 'entropy',\n",
       "   'ccp_alpha': 0.0},\n",
       "  {'splitter': 'best',\n",
       "   'random_state': 2,\n",
       "   'min_samples_split': 3,\n",
       "   'min_samples_leaf': 1,\n",
       "   'min_impurity_decrease': 0.0,\n",
       "   'max_leaf_nodes': 50,\n",
       "   'max_features': 'sqrt',\n",
       "   'max_depth': 3,\n",
       "   'criterion': 'entropy',\n",
       "   'ccp_alpha': 0.0},\n",
       "  {'splitter': 'random',\n",
       "   'random_state': 2,\n",
       "   'min_samples_split': 3,\n",
       "   'min_samples_leaf': 1,\n",
       "   'min_impurity_decrease': 0.0,\n",
       "   'max_leaf_nodes': 50,\n",
       "   'max_features': 'sqrt',\n",
       "   'max_depth': 3,\n",
       "   'criterion': 'entropy',\n",
       "   'ccp_alpha': 0.0},\n",
       "  {'splitter': 'best',\n",
       "   'random_state': 2,\n",
       "   'min_samples_split': 2,\n",
       "   'min_samples_leaf': 1,\n",
       "   'min_impurity_decrease': 0.0,\n",
       "   'max_leaf_nodes': 50,\n",
       "   'max_features': 'log2',\n",
       "   'max_depth': 3,\n",
       "   'criterion': 'entropy',\n",
       "   'ccp_alpha': 0.0},\n",
       "  {'splitter': 'random',\n",
       "   'random_state': 2,\n",
       "   'min_samples_split': 2,\n",
       "   'min_samples_leaf': 1,\n",
       "   'min_impurity_decrease': 0.0,\n",
       "   'max_leaf_nodes': 50,\n",
       "   'max_features': 'log2',\n",
       "   'max_depth': 3,\n",
       "   'criterion': 'entropy',\n",
       "   'ccp_alpha': 0.0},\n",
       "  {'splitter': 'best',\n",
       "   'random_state': 2,\n",
       "   'min_samples_split': 3,\n",
       "   'min_samples_leaf': 1,\n",
       "   'min_impurity_decrease': 0.0,\n",
       "   'max_leaf_nodes': 50,\n",
       "   'max_features': 'log2',\n",
       "   'max_depth': 3,\n",
       "   'criterion': 'entropy',\n",
       "   'ccp_alpha': 0.0},\n",
       "  {'splitter': 'random',\n",
       "   'random_state': 2,\n",
       "   'min_samples_split': 3,\n",
       "   'min_samples_leaf': 1,\n",
       "   'min_impurity_decrease': 0.0,\n",
       "   'max_leaf_nodes': 50,\n",
       "   'max_features': 'log2',\n",
       "   'max_depth': 3,\n",
       "   'criterion': 'entropy',\n",
       "   'ccp_alpha': 0.0}],\n",
       " 'split0_test_score': array([0.60489869, 0.68433156, 0.60489869, 0.68433156, 0.60489869,\n",
       "        0.68433156, 0.60489869, 0.68433156, 0.60489869, 0.68433156,\n",
       "        0.60489869, 0.68433156, 0.60489869, 0.68433156, 0.60489869,\n",
       "        0.68433156]),\n",
       " 'split1_test_score': array([0.60667262, 0.68582954, 0.60667262, 0.68582954, 0.60667262,\n",
       "        0.68582954, 0.60667262, 0.68582954, 0.60667262, 0.68582954,\n",
       "        0.60667262, 0.68582954, 0.60667262, 0.68582954, 0.60667262,\n",
       "        0.68582954]),\n",
       " 'split2_test_score': array([0.60374235, 0.68129616, 0.60374235, 0.68129616, 0.60374235,\n",
       "        0.68129616, 0.60374235, 0.68129616, 0.60374235, 0.68129616,\n",
       "        0.60374235, 0.68129616, 0.60374235, 0.68129616, 0.60374235,\n",
       "        0.68129616]),\n",
       " 'split3_test_score': array([0.60388168, 0.68244833, 0.60388168, 0.68244833, 0.60388168,\n",
       "        0.68244833, 0.60388168, 0.68244833, 0.60388168, 0.68244833,\n",
       "        0.60388168, 0.68244833, 0.60388168, 0.68244833, 0.60388168,\n",
       "        0.68244833]),\n",
       " 'split4_test_score': array([0.60790266, 0.68476104, 0.60790266, 0.68476104, 0.60790266,\n",
       "        0.68476104, 0.60790266, 0.68476104, 0.60790266, 0.68476104,\n",
       "        0.60790266, 0.68476104, 0.60790266, 0.68476104, 0.60790266,\n",
       "        0.68476104]),\n",
       " 'mean_test_score': array([0.6054196 , 0.68373332, 0.6054196 , 0.68373332, 0.6054196 ,\n",
       "        0.68373332, 0.6054196 , 0.68373332, 0.6054196 , 0.68373332,\n",
       "        0.6054196 , 0.68373332, 0.6054196 , 0.68373332, 0.6054196 ,\n",
       "        0.68373332]),\n",
       " 'std_test_score': array([0.00162391, 0.00163702, 0.00162391, 0.00163702, 0.00162391,\n",
       "        0.00163702, 0.00162391, 0.00163702, 0.00162391, 0.00163702,\n",
       "        0.00162391, 0.00163702, 0.00162391, 0.00163702, 0.00162391,\n",
       "        0.00163702]),\n",
       " 'rank_test_score': array([9, 1, 9, 1, 9, 1, 9, 1, 9, 1, 9, 1, 9, 1, 9, 1])}"
      ]
     },
     "execution_count": 553,
     "metadata": {},
     "output_type": "execute_result"
    }
   ],
   "source": [
    "rando.cv_results_"
   ]
  },
  {
   "cell_type": "code",
   "execution_count": 554,
   "id": "359c1fa0",
   "metadata": {},
   "outputs": [],
   "source": [
    "result_aft_tuning=pd.DataFrame(rando.cv_results_)"
   ]
  },
  {
   "cell_type": "code",
   "execution_count": 555,
   "id": "57739320",
   "metadata": {},
   "outputs": [
    {
     "data": {
      "text/html": [
       "<div>\n",
       "<style scoped>\n",
       "    .dataframe tbody tr th:only-of-type {\n",
       "        vertical-align: middle;\n",
       "    }\n",
       "\n",
       "    .dataframe tbody tr th {\n",
       "        vertical-align: top;\n",
       "    }\n",
       "\n",
       "    .dataframe thead th {\n",
       "        text-align: right;\n",
       "    }\n",
       "</style>\n",
       "<table border=\"1\" class=\"dataframe\">\n",
       "  <thead>\n",
       "    <tr style=\"text-align: right;\">\n",
       "      <th></th>\n",
       "      <th>mean_fit_time</th>\n",
       "      <th>std_fit_time</th>\n",
       "      <th>mean_score_time</th>\n",
       "      <th>std_score_time</th>\n",
       "      <th>param_splitter</th>\n",
       "      <th>param_random_state</th>\n",
       "      <th>param_min_samples_split</th>\n",
       "      <th>param_min_samples_leaf</th>\n",
       "      <th>param_min_impurity_decrease</th>\n",
       "      <th>param_max_leaf_nodes</th>\n",
       "      <th>...</th>\n",
       "      <th>param_ccp_alpha</th>\n",
       "      <th>params</th>\n",
       "      <th>split0_test_score</th>\n",
       "      <th>split1_test_score</th>\n",
       "      <th>split2_test_score</th>\n",
       "      <th>split3_test_score</th>\n",
       "      <th>split4_test_score</th>\n",
       "      <th>mean_test_score</th>\n",
       "      <th>std_test_score</th>\n",
       "      <th>rank_test_score</th>\n",
       "    </tr>\n",
       "  </thead>\n",
       "  <tbody>\n",
       "    <tr>\n",
       "      <th>0</th>\n",
       "      <td>0.136605</td>\n",
       "      <td>0.011733</td>\n",
       "      <td>0.015749</td>\n",
       "      <td>0.000142</td>\n",
       "      <td>best</td>\n",
       "      <td>2</td>\n",
       "      <td>2</td>\n",
       "      <td>1</td>\n",
       "      <td>0.0</td>\n",
       "      <td>50</td>\n",
       "      <td>...</td>\n",
       "      <td>0.0</td>\n",
       "      <td>{'splitter': 'best', 'random_state': 2, 'min_s...</td>\n",
       "      <td>0.604899</td>\n",
       "      <td>0.606673</td>\n",
       "      <td>0.603742</td>\n",
       "      <td>0.603882</td>\n",
       "      <td>0.607903</td>\n",
       "      <td>0.605420</td>\n",
       "      <td>0.001624</td>\n",
       "      <td>9</td>\n",
       "    </tr>\n",
       "    <tr>\n",
       "      <th>1</th>\n",
       "      <td>0.099933</td>\n",
       "      <td>0.003178</td>\n",
       "      <td>0.016255</td>\n",
       "      <td>0.001053</td>\n",
       "      <td>random</td>\n",
       "      <td>2</td>\n",
       "      <td>2</td>\n",
       "      <td>1</td>\n",
       "      <td>0.0</td>\n",
       "      <td>50</td>\n",
       "      <td>...</td>\n",
       "      <td>0.0</td>\n",
       "      <td>{'splitter': 'random', 'random_state': 2, 'min...</td>\n",
       "      <td>0.684332</td>\n",
       "      <td>0.685830</td>\n",
       "      <td>0.681296</td>\n",
       "      <td>0.682448</td>\n",
       "      <td>0.684761</td>\n",
       "      <td>0.683733</td>\n",
       "      <td>0.001637</td>\n",
       "      <td>1</td>\n",
       "    </tr>\n",
       "    <tr>\n",
       "      <th>2</th>\n",
       "      <td>0.145897</td>\n",
       "      <td>0.011526</td>\n",
       "      <td>0.014582</td>\n",
       "      <td>0.002729</td>\n",
       "      <td>best</td>\n",
       "      <td>2</td>\n",
       "      <td>3</td>\n",
       "      <td>1</td>\n",
       "      <td>0.0</td>\n",
       "      <td>50</td>\n",
       "      <td>...</td>\n",
       "      <td>0.0</td>\n",
       "      <td>{'splitter': 'best', 'random_state': 2, 'min_s...</td>\n",
       "      <td>0.604899</td>\n",
       "      <td>0.606673</td>\n",
       "      <td>0.603742</td>\n",
       "      <td>0.603882</td>\n",
       "      <td>0.607903</td>\n",
       "      <td>0.605420</td>\n",
       "      <td>0.001624</td>\n",
       "      <td>9</td>\n",
       "    </tr>\n",
       "    <tr>\n",
       "      <th>3</th>\n",
       "      <td>0.103291</td>\n",
       "      <td>0.020505</td>\n",
       "      <td>0.014705</td>\n",
       "      <td>0.001405</td>\n",
       "      <td>random</td>\n",
       "      <td>2</td>\n",
       "      <td>3</td>\n",
       "      <td>1</td>\n",
       "      <td>0.0</td>\n",
       "      <td>50</td>\n",
       "      <td>...</td>\n",
       "      <td>0.0</td>\n",
       "      <td>{'splitter': 'random', 'random_state': 2, 'min...</td>\n",
       "      <td>0.684332</td>\n",
       "      <td>0.685830</td>\n",
       "      <td>0.681296</td>\n",
       "      <td>0.682448</td>\n",
       "      <td>0.684761</td>\n",
       "      <td>0.683733</td>\n",
       "      <td>0.001637</td>\n",
       "      <td>1</td>\n",
       "    </tr>\n",
       "    <tr>\n",
       "      <th>4</th>\n",
       "      <td>0.141687</td>\n",
       "      <td>0.010129</td>\n",
       "      <td>0.015722</td>\n",
       "      <td>0.009843</td>\n",
       "      <td>best</td>\n",
       "      <td>2</td>\n",
       "      <td>2</td>\n",
       "      <td>1</td>\n",
       "      <td>0.0</td>\n",
       "      <td>50</td>\n",
       "      <td>...</td>\n",
       "      <td>0.0</td>\n",
       "      <td>{'splitter': 'best', 'random_state': 2, 'min_s...</td>\n",
       "      <td>0.604899</td>\n",
       "      <td>0.606673</td>\n",
       "      <td>0.603742</td>\n",
       "      <td>0.603882</td>\n",
       "      <td>0.607903</td>\n",
       "      <td>0.605420</td>\n",
       "      <td>0.001624</td>\n",
       "      <td>9</td>\n",
       "    </tr>\n",
       "    <tr>\n",
       "      <th>5</th>\n",
       "      <td>0.094689</td>\n",
       "      <td>0.009938</td>\n",
       "      <td>0.012510</td>\n",
       "      <td>0.006255</td>\n",
       "      <td>random</td>\n",
       "      <td>2</td>\n",
       "      <td>2</td>\n",
       "      <td>1</td>\n",
       "      <td>0.0</td>\n",
       "      <td>50</td>\n",
       "      <td>...</td>\n",
       "      <td>0.0</td>\n",
       "      <td>{'splitter': 'random', 'random_state': 2, 'min...</td>\n",
       "      <td>0.684332</td>\n",
       "      <td>0.685830</td>\n",
       "      <td>0.681296</td>\n",
       "      <td>0.682448</td>\n",
       "      <td>0.684761</td>\n",
       "      <td>0.683733</td>\n",
       "      <td>0.001637</td>\n",
       "      <td>1</td>\n",
       "    </tr>\n",
       "    <tr>\n",
       "      <th>6</th>\n",
       "      <td>0.132489</td>\n",
       "      <td>0.007359</td>\n",
       "      <td>0.020965</td>\n",
       "      <td>0.006559</td>\n",
       "      <td>best</td>\n",
       "      <td>2</td>\n",
       "      <td>3</td>\n",
       "      <td>1</td>\n",
       "      <td>0.0</td>\n",
       "      <td>50</td>\n",
       "      <td>...</td>\n",
       "      <td>0.0</td>\n",
       "      <td>{'splitter': 'best', 'random_state': 2, 'min_s...</td>\n",
       "      <td>0.604899</td>\n",
       "      <td>0.606673</td>\n",
       "      <td>0.603742</td>\n",
       "      <td>0.603882</td>\n",
       "      <td>0.607903</td>\n",
       "      <td>0.605420</td>\n",
       "      <td>0.001624</td>\n",
       "      <td>9</td>\n",
       "    </tr>\n",
       "    <tr>\n",
       "      <th>7</th>\n",
       "      <td>0.097346</td>\n",
       "      <td>0.012046</td>\n",
       "      <td>0.019254</td>\n",
       "      <td>0.006528</td>\n",
       "      <td>random</td>\n",
       "      <td>2</td>\n",
       "      <td>3</td>\n",
       "      <td>1</td>\n",
       "      <td>0.0</td>\n",
       "      <td>50</td>\n",
       "      <td>...</td>\n",
       "      <td>0.0</td>\n",
       "      <td>{'splitter': 'random', 'random_state': 2, 'min...</td>\n",
       "      <td>0.684332</td>\n",
       "      <td>0.685830</td>\n",
       "      <td>0.681296</td>\n",
       "      <td>0.682448</td>\n",
       "      <td>0.684761</td>\n",
       "      <td>0.683733</td>\n",
       "      <td>0.001637</td>\n",
       "      <td>1</td>\n",
       "    </tr>\n",
       "    <tr>\n",
       "      <th>8</th>\n",
       "      <td>0.172772</td>\n",
       "      <td>0.012691</td>\n",
       "      <td>0.016162</td>\n",
       "      <td>0.000343</td>\n",
       "      <td>best</td>\n",
       "      <td>2</td>\n",
       "      <td>2</td>\n",
       "      <td>1</td>\n",
       "      <td>0.0</td>\n",
       "      <td>50</td>\n",
       "      <td>...</td>\n",
       "      <td>0.0</td>\n",
       "      <td>{'splitter': 'best', 'random_state': 2, 'min_s...</td>\n",
       "      <td>0.604899</td>\n",
       "      <td>0.606673</td>\n",
       "      <td>0.603742</td>\n",
       "      <td>0.603882</td>\n",
       "      <td>0.607903</td>\n",
       "      <td>0.605420</td>\n",
       "      <td>0.001624</td>\n",
       "      <td>9</td>\n",
       "    </tr>\n",
       "    <tr>\n",
       "      <th>9</th>\n",
       "      <td>0.116868</td>\n",
       "      <td>0.022781</td>\n",
       "      <td>0.012818</td>\n",
       "      <td>0.006414</td>\n",
       "      <td>random</td>\n",
       "      <td>2</td>\n",
       "      <td>2</td>\n",
       "      <td>1</td>\n",
       "      <td>0.0</td>\n",
       "      <td>50</td>\n",
       "      <td>...</td>\n",
       "      <td>0.0</td>\n",
       "      <td>{'splitter': 'random', 'random_state': 2, 'min...</td>\n",
       "      <td>0.684332</td>\n",
       "      <td>0.685830</td>\n",
       "      <td>0.681296</td>\n",
       "      <td>0.682448</td>\n",
       "      <td>0.684761</td>\n",
       "      <td>0.683733</td>\n",
       "      <td>0.001637</td>\n",
       "      <td>1</td>\n",
       "    </tr>\n",
       "    <tr>\n",
       "      <th>10</th>\n",
       "      <td>0.161178</td>\n",
       "      <td>0.019084</td>\n",
       "      <td>0.019628</td>\n",
       "      <td>0.006433</td>\n",
       "      <td>best</td>\n",
       "      <td>2</td>\n",
       "      <td>3</td>\n",
       "      <td>1</td>\n",
       "      <td>0.0</td>\n",
       "      <td>50</td>\n",
       "      <td>...</td>\n",
       "      <td>0.0</td>\n",
       "      <td>{'splitter': 'best', 'random_state': 2, 'min_s...</td>\n",
       "      <td>0.604899</td>\n",
       "      <td>0.606673</td>\n",
       "      <td>0.603742</td>\n",
       "      <td>0.603882</td>\n",
       "      <td>0.607903</td>\n",
       "      <td>0.605420</td>\n",
       "      <td>0.001624</td>\n",
       "      <td>9</td>\n",
       "    </tr>\n",
       "    <tr>\n",
       "      <th>11</th>\n",
       "      <td>0.110339</td>\n",
       "      <td>0.010231</td>\n",
       "      <td>0.025343</td>\n",
       "      <td>0.007897</td>\n",
       "      <td>random</td>\n",
       "      <td>2</td>\n",
       "      <td>3</td>\n",
       "      <td>1</td>\n",
       "      <td>0.0</td>\n",
       "      <td>50</td>\n",
       "      <td>...</td>\n",
       "      <td>0.0</td>\n",
       "      <td>{'splitter': 'random', 'random_state': 2, 'min...</td>\n",
       "      <td>0.684332</td>\n",
       "      <td>0.685830</td>\n",
       "      <td>0.681296</td>\n",
       "      <td>0.682448</td>\n",
       "      <td>0.684761</td>\n",
       "      <td>0.683733</td>\n",
       "      <td>0.001637</td>\n",
       "      <td>1</td>\n",
       "    </tr>\n",
       "    <tr>\n",
       "      <th>12</th>\n",
       "      <td>0.160096</td>\n",
       "      <td>0.017683</td>\n",
       "      <td>0.016632</td>\n",
       "      <td>0.000871</td>\n",
       "      <td>best</td>\n",
       "      <td>2</td>\n",
       "      <td>2</td>\n",
       "      <td>1</td>\n",
       "      <td>0.0</td>\n",
       "      <td>50</td>\n",
       "      <td>...</td>\n",
       "      <td>0.0</td>\n",
       "      <td>{'splitter': 'best', 'random_state': 2, 'min_s...</td>\n",
       "      <td>0.604899</td>\n",
       "      <td>0.606673</td>\n",
       "      <td>0.603742</td>\n",
       "      <td>0.603882</td>\n",
       "      <td>0.607903</td>\n",
       "      <td>0.605420</td>\n",
       "      <td>0.001624</td>\n",
       "      <td>9</td>\n",
       "    </tr>\n",
       "    <tr>\n",
       "      <th>13</th>\n",
       "      <td>0.110991</td>\n",
       "      <td>0.010084</td>\n",
       "      <td>0.022388</td>\n",
       "      <td>0.012891</td>\n",
       "      <td>random</td>\n",
       "      <td>2</td>\n",
       "      <td>2</td>\n",
       "      <td>1</td>\n",
       "      <td>0.0</td>\n",
       "      <td>50</td>\n",
       "      <td>...</td>\n",
       "      <td>0.0</td>\n",
       "      <td>{'splitter': 'random', 'random_state': 2, 'min...</td>\n",
       "      <td>0.684332</td>\n",
       "      <td>0.685830</td>\n",
       "      <td>0.681296</td>\n",
       "      <td>0.682448</td>\n",
       "      <td>0.684761</td>\n",
       "      <td>0.683733</td>\n",
       "      <td>0.001637</td>\n",
       "      <td>1</td>\n",
       "    </tr>\n",
       "    <tr>\n",
       "      <th>14</th>\n",
       "      <td>0.154961</td>\n",
       "      <td>0.018524</td>\n",
       "      <td>0.018823</td>\n",
       "      <td>0.006318</td>\n",
       "      <td>best</td>\n",
       "      <td>2</td>\n",
       "      <td>3</td>\n",
       "      <td>1</td>\n",
       "      <td>0.0</td>\n",
       "      <td>50</td>\n",
       "      <td>...</td>\n",
       "      <td>0.0</td>\n",
       "      <td>{'splitter': 'best', 'random_state': 2, 'min_s...</td>\n",
       "      <td>0.604899</td>\n",
       "      <td>0.606673</td>\n",
       "      <td>0.603742</td>\n",
       "      <td>0.603882</td>\n",
       "      <td>0.607903</td>\n",
       "      <td>0.605420</td>\n",
       "      <td>0.001624</td>\n",
       "      <td>9</td>\n",
       "    </tr>\n",
       "    <tr>\n",
       "      <th>15</th>\n",
       "      <td>0.104377</td>\n",
       "      <td>0.005114</td>\n",
       "      <td>0.015396</td>\n",
       "      <td>0.001382</td>\n",
       "      <td>random</td>\n",
       "      <td>2</td>\n",
       "      <td>3</td>\n",
       "      <td>1</td>\n",
       "      <td>0.0</td>\n",
       "      <td>50</td>\n",
       "      <td>...</td>\n",
       "      <td>0.0</td>\n",
       "      <td>{'splitter': 'random', 'random_state': 2, 'min...</td>\n",
       "      <td>0.684332</td>\n",
       "      <td>0.685830</td>\n",
       "      <td>0.681296</td>\n",
       "      <td>0.682448</td>\n",
       "      <td>0.684761</td>\n",
       "      <td>0.683733</td>\n",
       "      <td>0.001637</td>\n",
       "      <td>1</td>\n",
       "    </tr>\n",
       "  </tbody>\n",
       "</table>\n",
       "<p>16 rows × 23 columns</p>\n",
       "</div>"
      ],
      "text/plain": [
       "    mean_fit_time  std_fit_time  mean_score_time  std_score_time  \\\n",
       "0        0.136605      0.011733         0.015749        0.000142   \n",
       "1        0.099933      0.003178         0.016255        0.001053   \n",
       "2        0.145897      0.011526         0.014582        0.002729   \n",
       "3        0.103291      0.020505         0.014705        0.001405   \n",
       "4        0.141687      0.010129         0.015722        0.009843   \n",
       "5        0.094689      0.009938         0.012510        0.006255   \n",
       "6        0.132489      0.007359         0.020965        0.006559   \n",
       "7        0.097346      0.012046         0.019254        0.006528   \n",
       "8        0.172772      0.012691         0.016162        0.000343   \n",
       "9        0.116868      0.022781         0.012818        0.006414   \n",
       "10       0.161178      0.019084         0.019628        0.006433   \n",
       "11       0.110339      0.010231         0.025343        0.007897   \n",
       "12       0.160096      0.017683         0.016632        0.000871   \n",
       "13       0.110991      0.010084         0.022388        0.012891   \n",
       "14       0.154961      0.018524         0.018823        0.006318   \n",
       "15       0.104377      0.005114         0.015396        0.001382   \n",
       "\n",
       "   param_splitter param_random_state param_min_samples_split  \\\n",
       "0            best                  2                       2   \n",
       "1          random                  2                       2   \n",
       "2            best                  2                       3   \n",
       "3          random                  2                       3   \n",
       "4            best                  2                       2   \n",
       "5          random                  2                       2   \n",
       "6            best                  2                       3   \n",
       "7          random                  2                       3   \n",
       "8            best                  2                       2   \n",
       "9          random                  2                       2   \n",
       "10           best                  2                       3   \n",
       "11         random                  2                       3   \n",
       "12           best                  2                       2   \n",
       "13         random                  2                       2   \n",
       "14           best                  2                       3   \n",
       "15         random                  2                       3   \n",
       "\n",
       "   param_min_samples_leaf param_min_impurity_decrease param_max_leaf_nodes  \\\n",
       "0                       1                         0.0                   50   \n",
       "1                       1                         0.0                   50   \n",
       "2                       1                         0.0                   50   \n",
       "3                       1                         0.0                   50   \n",
       "4                       1                         0.0                   50   \n",
       "5                       1                         0.0                   50   \n",
       "6                       1                         0.0                   50   \n",
       "7                       1                         0.0                   50   \n",
       "8                       1                         0.0                   50   \n",
       "9                       1                         0.0                   50   \n",
       "10                      1                         0.0                   50   \n",
       "11                      1                         0.0                   50   \n",
       "12                      1                         0.0                   50   \n",
       "13                      1                         0.0                   50   \n",
       "14                      1                         0.0                   50   \n",
       "15                      1                         0.0                   50   \n",
       "\n",
       "    ... param_ccp_alpha                                             params  \\\n",
       "0   ...             0.0  {'splitter': 'best', 'random_state': 2, 'min_s...   \n",
       "1   ...             0.0  {'splitter': 'random', 'random_state': 2, 'min...   \n",
       "2   ...             0.0  {'splitter': 'best', 'random_state': 2, 'min_s...   \n",
       "3   ...             0.0  {'splitter': 'random', 'random_state': 2, 'min...   \n",
       "4   ...             0.0  {'splitter': 'best', 'random_state': 2, 'min_s...   \n",
       "5   ...             0.0  {'splitter': 'random', 'random_state': 2, 'min...   \n",
       "6   ...             0.0  {'splitter': 'best', 'random_state': 2, 'min_s...   \n",
       "7   ...             0.0  {'splitter': 'random', 'random_state': 2, 'min...   \n",
       "8   ...             0.0  {'splitter': 'best', 'random_state': 2, 'min_s...   \n",
       "9   ...             0.0  {'splitter': 'random', 'random_state': 2, 'min...   \n",
       "10  ...             0.0  {'splitter': 'best', 'random_state': 2, 'min_s...   \n",
       "11  ...             0.0  {'splitter': 'random', 'random_state': 2, 'min...   \n",
       "12  ...             0.0  {'splitter': 'best', 'random_state': 2, 'min_s...   \n",
       "13  ...             0.0  {'splitter': 'random', 'random_state': 2, 'min...   \n",
       "14  ...             0.0  {'splitter': 'best', 'random_state': 2, 'min_s...   \n",
       "15  ...             0.0  {'splitter': 'random', 'random_state': 2, 'min...   \n",
       "\n",
       "   split0_test_score split1_test_score split2_test_score  split3_test_score  \\\n",
       "0           0.604899          0.606673          0.603742           0.603882   \n",
       "1           0.684332          0.685830          0.681296           0.682448   \n",
       "2           0.604899          0.606673          0.603742           0.603882   \n",
       "3           0.684332          0.685830          0.681296           0.682448   \n",
       "4           0.604899          0.606673          0.603742           0.603882   \n",
       "5           0.684332          0.685830          0.681296           0.682448   \n",
       "6           0.604899          0.606673          0.603742           0.603882   \n",
       "7           0.684332          0.685830          0.681296           0.682448   \n",
       "8           0.604899          0.606673          0.603742           0.603882   \n",
       "9           0.684332          0.685830          0.681296           0.682448   \n",
       "10          0.604899          0.606673          0.603742           0.603882   \n",
       "11          0.684332          0.685830          0.681296           0.682448   \n",
       "12          0.604899          0.606673          0.603742           0.603882   \n",
       "13          0.684332          0.685830          0.681296           0.682448   \n",
       "14          0.604899          0.606673          0.603742           0.603882   \n",
       "15          0.684332          0.685830          0.681296           0.682448   \n",
       "\n",
       "    split4_test_score  mean_test_score  std_test_score  rank_test_score  \n",
       "0            0.607903         0.605420        0.001624                9  \n",
       "1            0.684761         0.683733        0.001637                1  \n",
       "2            0.607903         0.605420        0.001624                9  \n",
       "3            0.684761         0.683733        0.001637                1  \n",
       "4            0.607903         0.605420        0.001624                9  \n",
       "5            0.684761         0.683733        0.001637                1  \n",
       "6            0.607903         0.605420        0.001624                9  \n",
       "7            0.684761         0.683733        0.001637                1  \n",
       "8            0.607903         0.605420        0.001624                9  \n",
       "9            0.684761         0.683733        0.001637                1  \n",
       "10           0.607903         0.605420        0.001624                9  \n",
       "11           0.684761         0.683733        0.001637                1  \n",
       "12           0.607903         0.605420        0.001624                9  \n",
       "13           0.684761         0.683733        0.001637                1  \n",
       "14           0.607903         0.605420        0.001624                9  \n",
       "15           0.684761         0.683733        0.001637                1  \n",
       "\n",
       "[16 rows x 23 columns]"
      ]
     },
     "execution_count": 555,
     "metadata": {},
     "output_type": "execute_result"
    }
   ],
   "source": [
    "result_aft_tuning"
   ]
  },
  {
   "cell_type": "markdown",
   "id": "a1ca477f",
   "metadata": {},
   "source": [
    "# for ROVSM decsion tree hyper parameter tuning   "
   ]
  },
  {
   "cell_type": "code",
   "execution_count": null,
   "id": "e6b4204b",
   "metadata": {},
   "outputs": [],
   "source": [
    "# parameters\n",
    "criterion = ['gini','entropy']\n",
    "splitter=['best','random']\n",
    "max_depth=[3]\n",
    "min_samples_split = [2,3]\n",
    "min_samples_leaf = [1]\n",
    "max_features = ['sqrt', 'log2']\n",
    "random_state=[2]\n",
    "max_leaf_nodes=[50]\n",
    "min_impurity_decrease=[0.0]\n",
    "# class_weight=['None']\n",
    "ccp_alpha=[0.0]\n",
    "\n",
    "grids = {\n",
    "'criterion':criterion,\n",
    "'splitter':splitter,\n",
    "'max_depth':max_depth,\n",
    "'min_samples_split':min_samples_split,\n",
    "'min_samples_leaf':min_samples_leaf, \n",
    "'max_features':max_features, \n",
    "'random_state':random_state,\n",
    "'max_leaf_nodes':max_leaf_nodes,\n",
    "'min_impurity_decrease':min_impurity_decrease,\n",
    "'ccp_alpha':ccp_alpha\n",
    "}"
   ]
  },
  {
   "cell_type": "code",
   "execution_count": 558,
   "id": "4809c47d",
   "metadata": {},
   "outputs": [],
   "source": [
    "rando1=RandomizedSearchCV(estimator=clf_od,param_distributions=grids,n_iter=100)"
   ]
  },
  {
   "cell_type": "code",
   "execution_count": 559,
   "id": "95c4919f",
   "metadata": {},
   "outputs": [
    {
     "data": {
      "text/html": [
       "<style>#sk-container-id-33 {color: black;background-color: white;}#sk-container-id-33 pre{padding: 0;}#sk-container-id-33 div.sk-toggleable {background-color: white;}#sk-container-id-33 label.sk-toggleable__label {cursor: pointer;display: block;width: 100%;margin-bottom: 0;padding: 0.3em;box-sizing: border-box;text-align: center;}#sk-container-id-33 label.sk-toggleable__label-arrow:before {content: \"▸\";float: left;margin-right: 0.25em;color: #696969;}#sk-container-id-33 label.sk-toggleable__label-arrow:hover:before {color: black;}#sk-container-id-33 div.sk-estimator:hover label.sk-toggleable__label-arrow:before {color: black;}#sk-container-id-33 div.sk-toggleable__content {max-height: 0;max-width: 0;overflow: hidden;text-align: left;background-color: #f0f8ff;}#sk-container-id-33 div.sk-toggleable__content pre {margin: 0.2em;color: black;border-radius: 0.25em;background-color: #f0f8ff;}#sk-container-id-33 input.sk-toggleable__control:checked~div.sk-toggleable__content {max-height: 200px;max-width: 100%;overflow: auto;}#sk-container-id-33 input.sk-toggleable__control:checked~label.sk-toggleable__label-arrow:before {content: \"▾\";}#sk-container-id-33 div.sk-estimator input.sk-toggleable__control:checked~label.sk-toggleable__label {background-color: #d4ebff;}#sk-container-id-33 div.sk-label input.sk-toggleable__control:checked~label.sk-toggleable__label {background-color: #d4ebff;}#sk-container-id-33 input.sk-hidden--visually {border: 0;clip: rect(1px 1px 1px 1px);clip: rect(1px, 1px, 1px, 1px);height: 1px;margin: -1px;overflow: hidden;padding: 0;position: absolute;width: 1px;}#sk-container-id-33 div.sk-estimator {font-family: monospace;background-color: #f0f8ff;border: 1px dotted black;border-radius: 0.25em;box-sizing: border-box;margin-bottom: 0.5em;}#sk-container-id-33 div.sk-estimator:hover {background-color: #d4ebff;}#sk-container-id-33 div.sk-parallel-item::after {content: \"\";width: 100%;border-bottom: 1px solid gray;flex-grow: 1;}#sk-container-id-33 div.sk-label:hover label.sk-toggleable__label {background-color: #d4ebff;}#sk-container-id-33 div.sk-serial::before {content: \"\";position: absolute;border-left: 1px solid gray;box-sizing: border-box;top: 0;bottom: 0;left: 50%;z-index: 0;}#sk-container-id-33 div.sk-serial {display: flex;flex-direction: column;align-items: center;background-color: white;padding-right: 0.2em;padding-left: 0.2em;position: relative;}#sk-container-id-33 div.sk-item {position: relative;z-index: 1;}#sk-container-id-33 div.sk-parallel {display: flex;align-items: stretch;justify-content: center;background-color: white;position: relative;}#sk-container-id-33 div.sk-item::before, #sk-container-id-33 div.sk-parallel-item::before {content: \"\";position: absolute;border-left: 1px solid gray;box-sizing: border-box;top: 0;bottom: 0;left: 50%;z-index: -1;}#sk-container-id-33 div.sk-parallel-item {display: flex;flex-direction: column;z-index: 1;position: relative;background-color: white;}#sk-container-id-33 div.sk-parallel-item:first-child::after {align-self: flex-end;width: 50%;}#sk-container-id-33 div.sk-parallel-item:last-child::after {align-self: flex-start;width: 50%;}#sk-container-id-33 div.sk-parallel-item:only-child::after {width: 0;}#sk-container-id-33 div.sk-dashed-wrapped {border: 1px dashed gray;margin: 0 0.4em 0.5em 0.4em;box-sizing: border-box;padding-bottom: 0.4em;background-color: white;}#sk-container-id-33 div.sk-label label {font-family: monospace;font-weight: bold;display: inline-block;line-height: 1.2em;}#sk-container-id-33 div.sk-label-container {text-align: center;}#sk-container-id-33 div.sk-container {/* jupyter's `normalize.less` sets `[hidden] { display: none; }` but bootstrap.min.css set `[hidden] { display: none !important; }` so we also need the `!important` here to be able to override the default hidden behavior on the sphinx rendered scikit-learn.org. See: https://github.com/scikit-learn/scikit-learn/issues/21755 */display: inline-block !important;position: relative;}#sk-container-id-33 div.sk-text-repr-fallback {display: none;}</style><div id=\"sk-container-id-33\" class=\"sk-top-container\"><div class=\"sk-text-repr-fallback\"><pre>RandomizedSearchCV(estimator=DecisionTreeClassifier(), n_iter=100,\n",
       "                   param_distributions={&#x27;ccp_alpha&#x27;: [0.0],\n",
       "                                        &#x27;criterion&#x27;: [&#x27;gini&#x27;, &#x27;entropy&#x27;],\n",
       "                                        &#x27;max_depth&#x27;: [3],\n",
       "                                        &#x27;max_features&#x27;: [&#x27;sqrt&#x27;, &#x27;log2&#x27;],\n",
       "                                        &#x27;max_leaf_nodes&#x27;: [50],\n",
       "                                        &#x27;min_impurity_decrease&#x27;: [0.0],\n",
       "                                        &#x27;min_samples_leaf&#x27;: [1],\n",
       "                                        &#x27;min_samples_split&#x27;: [2, 3],\n",
       "                                        &#x27;random_state&#x27;: [2],\n",
       "                                        &#x27;splitter&#x27;: [&#x27;best&#x27;, &#x27;random&#x27;]})</pre><b>In a Jupyter environment, please rerun this cell to show the HTML representation or trust the notebook. <br />On GitHub, the HTML representation is unable to render, please try loading this page with nbviewer.org.</b></div><div class=\"sk-container\" hidden><div class=\"sk-item sk-dashed-wrapped\"><div class=\"sk-label-container\"><div class=\"sk-label sk-toggleable\"><input class=\"sk-toggleable__control sk-hidden--visually\" id=\"sk-estimator-id-55\" type=\"checkbox\" ><label for=\"sk-estimator-id-55\" class=\"sk-toggleable__label sk-toggleable__label-arrow\">RandomizedSearchCV</label><div class=\"sk-toggleable__content\"><pre>RandomizedSearchCV(estimator=DecisionTreeClassifier(), n_iter=100,\n",
       "                   param_distributions={&#x27;ccp_alpha&#x27;: [0.0],\n",
       "                                        &#x27;criterion&#x27;: [&#x27;gini&#x27;, &#x27;entropy&#x27;],\n",
       "                                        &#x27;max_depth&#x27;: [3],\n",
       "                                        &#x27;max_features&#x27;: [&#x27;sqrt&#x27;, &#x27;log2&#x27;],\n",
       "                                        &#x27;max_leaf_nodes&#x27;: [50],\n",
       "                                        &#x27;min_impurity_decrease&#x27;: [0.0],\n",
       "                                        &#x27;min_samples_leaf&#x27;: [1],\n",
       "                                        &#x27;min_samples_split&#x27;: [2, 3],\n",
       "                                        &#x27;random_state&#x27;: [2],\n",
       "                                        &#x27;splitter&#x27;: [&#x27;best&#x27;, &#x27;random&#x27;]})</pre></div></div></div><div class=\"sk-parallel\"><div class=\"sk-parallel-item\"><div class=\"sk-item\"><div class=\"sk-label-container\"><div class=\"sk-label sk-toggleable\"><input class=\"sk-toggleable__control sk-hidden--visually\" id=\"sk-estimator-id-56\" type=\"checkbox\" ><label for=\"sk-estimator-id-56\" class=\"sk-toggleable__label sk-toggleable__label-arrow\">estimator: DecisionTreeClassifier</label><div class=\"sk-toggleable__content\"><pre>DecisionTreeClassifier()</pre></div></div></div><div class=\"sk-serial\"><div class=\"sk-item\"><div class=\"sk-estimator sk-toggleable\"><input class=\"sk-toggleable__control sk-hidden--visually\" id=\"sk-estimator-id-57\" type=\"checkbox\" ><label for=\"sk-estimator-id-57\" class=\"sk-toggleable__label sk-toggleable__label-arrow\">DecisionTreeClassifier</label><div class=\"sk-toggleable__content\"><pre>DecisionTreeClassifier()</pre></div></div></div></div></div></div></div></div></div></div>"
      ],
      "text/plain": [
       "RandomizedSearchCV(estimator=DecisionTreeClassifier(), n_iter=100,\n",
       "                   param_distributions={'ccp_alpha': [0.0],\n",
       "                                        'criterion': ['gini', 'entropy'],\n",
       "                                        'max_depth': [3],\n",
       "                                        'max_features': ['sqrt', 'log2'],\n",
       "                                        'max_leaf_nodes': [50],\n",
       "                                        'min_impurity_decrease': [0.0],\n",
       "                                        'min_samples_leaf': [1],\n",
       "                                        'min_samples_split': [2, 3],\n",
       "                                        'random_state': [2],\n",
       "                                        'splitter': ['best', 'random']})"
      ]
     },
     "execution_count": 559,
     "metadata": {},
     "output_type": "execute_result"
    }
   ],
   "source": [
    "rando1"
   ]
  },
  {
   "cell_type": "code",
   "execution_count": 561,
   "id": "2ba248e3",
   "metadata": {},
   "outputs": [
    {
     "name": "stderr",
     "output_type": "stream",
     "text": [
      "C:\\Users\\Administrator\\anaconda3\\lib\\site-packages\\sklearn\\model_selection\\_search.py:306: UserWarning: The total space of parameters 16 is smaller than n_iter=100. Running 16 iterations. For exhaustive searches, use GridSearchCV.\n",
      "  warnings.warn(\n"
     ]
    },
    {
     "data": {
      "text/html": [
       "<style>#sk-container-id-34 {color: black;background-color: white;}#sk-container-id-34 pre{padding: 0;}#sk-container-id-34 div.sk-toggleable {background-color: white;}#sk-container-id-34 label.sk-toggleable__label {cursor: pointer;display: block;width: 100%;margin-bottom: 0;padding: 0.3em;box-sizing: border-box;text-align: center;}#sk-container-id-34 label.sk-toggleable__label-arrow:before {content: \"▸\";float: left;margin-right: 0.25em;color: #696969;}#sk-container-id-34 label.sk-toggleable__label-arrow:hover:before {color: black;}#sk-container-id-34 div.sk-estimator:hover label.sk-toggleable__label-arrow:before {color: black;}#sk-container-id-34 div.sk-toggleable__content {max-height: 0;max-width: 0;overflow: hidden;text-align: left;background-color: #f0f8ff;}#sk-container-id-34 div.sk-toggleable__content pre {margin: 0.2em;color: black;border-radius: 0.25em;background-color: #f0f8ff;}#sk-container-id-34 input.sk-toggleable__control:checked~div.sk-toggleable__content {max-height: 200px;max-width: 100%;overflow: auto;}#sk-container-id-34 input.sk-toggleable__control:checked~label.sk-toggleable__label-arrow:before {content: \"▾\";}#sk-container-id-34 div.sk-estimator input.sk-toggleable__control:checked~label.sk-toggleable__label {background-color: #d4ebff;}#sk-container-id-34 div.sk-label input.sk-toggleable__control:checked~label.sk-toggleable__label {background-color: #d4ebff;}#sk-container-id-34 input.sk-hidden--visually {border: 0;clip: rect(1px 1px 1px 1px);clip: rect(1px, 1px, 1px, 1px);height: 1px;margin: -1px;overflow: hidden;padding: 0;position: absolute;width: 1px;}#sk-container-id-34 div.sk-estimator {font-family: monospace;background-color: #f0f8ff;border: 1px dotted black;border-radius: 0.25em;box-sizing: border-box;margin-bottom: 0.5em;}#sk-container-id-34 div.sk-estimator:hover {background-color: #d4ebff;}#sk-container-id-34 div.sk-parallel-item::after {content: \"\";width: 100%;border-bottom: 1px solid gray;flex-grow: 1;}#sk-container-id-34 div.sk-label:hover label.sk-toggleable__label {background-color: #d4ebff;}#sk-container-id-34 div.sk-serial::before {content: \"\";position: absolute;border-left: 1px solid gray;box-sizing: border-box;top: 0;bottom: 0;left: 50%;z-index: 0;}#sk-container-id-34 div.sk-serial {display: flex;flex-direction: column;align-items: center;background-color: white;padding-right: 0.2em;padding-left: 0.2em;position: relative;}#sk-container-id-34 div.sk-item {position: relative;z-index: 1;}#sk-container-id-34 div.sk-parallel {display: flex;align-items: stretch;justify-content: center;background-color: white;position: relative;}#sk-container-id-34 div.sk-item::before, #sk-container-id-34 div.sk-parallel-item::before {content: \"\";position: absolute;border-left: 1px solid gray;box-sizing: border-box;top: 0;bottom: 0;left: 50%;z-index: -1;}#sk-container-id-34 div.sk-parallel-item {display: flex;flex-direction: column;z-index: 1;position: relative;background-color: white;}#sk-container-id-34 div.sk-parallel-item:first-child::after {align-self: flex-end;width: 50%;}#sk-container-id-34 div.sk-parallel-item:last-child::after {align-self: flex-start;width: 50%;}#sk-container-id-34 div.sk-parallel-item:only-child::after {width: 0;}#sk-container-id-34 div.sk-dashed-wrapped {border: 1px dashed gray;margin: 0 0.4em 0.5em 0.4em;box-sizing: border-box;padding-bottom: 0.4em;background-color: white;}#sk-container-id-34 div.sk-label label {font-family: monospace;font-weight: bold;display: inline-block;line-height: 1.2em;}#sk-container-id-34 div.sk-label-container {text-align: center;}#sk-container-id-34 div.sk-container {/* jupyter's `normalize.less` sets `[hidden] { display: none; }` but bootstrap.min.css set `[hidden] { display: none !important; }` so we also need the `!important` here to be able to override the default hidden behavior on the sphinx rendered scikit-learn.org. See: https://github.com/scikit-learn/scikit-learn/issues/21755 */display: inline-block !important;position: relative;}#sk-container-id-34 div.sk-text-repr-fallback {display: none;}</style><div id=\"sk-container-id-34\" class=\"sk-top-container\"><div class=\"sk-text-repr-fallback\"><pre>RandomizedSearchCV(estimator=DecisionTreeClassifier(), n_iter=100,\n",
       "                   param_distributions={&#x27;ccp_alpha&#x27;: [0.0],\n",
       "                                        &#x27;criterion&#x27;: [&#x27;gini&#x27;, &#x27;entropy&#x27;],\n",
       "                                        &#x27;max_depth&#x27;: [3],\n",
       "                                        &#x27;max_features&#x27;: [&#x27;sqrt&#x27;, &#x27;log2&#x27;],\n",
       "                                        &#x27;max_leaf_nodes&#x27;: [50],\n",
       "                                        &#x27;min_impurity_decrease&#x27;: [0.0],\n",
       "                                        &#x27;min_samples_leaf&#x27;: [1],\n",
       "                                        &#x27;min_samples_split&#x27;: [2, 3],\n",
       "                                        &#x27;random_state&#x27;: [2],\n",
       "                                        &#x27;splitter&#x27;: [&#x27;best&#x27;, &#x27;random&#x27;]})</pre><b>In a Jupyter environment, please rerun this cell to show the HTML representation or trust the notebook. <br />On GitHub, the HTML representation is unable to render, please try loading this page with nbviewer.org.</b></div><div class=\"sk-container\" hidden><div class=\"sk-item sk-dashed-wrapped\"><div class=\"sk-label-container\"><div class=\"sk-label sk-toggleable\"><input class=\"sk-toggleable__control sk-hidden--visually\" id=\"sk-estimator-id-58\" type=\"checkbox\" ><label for=\"sk-estimator-id-58\" class=\"sk-toggleable__label sk-toggleable__label-arrow\">RandomizedSearchCV</label><div class=\"sk-toggleable__content\"><pre>RandomizedSearchCV(estimator=DecisionTreeClassifier(), n_iter=100,\n",
       "                   param_distributions={&#x27;ccp_alpha&#x27;: [0.0],\n",
       "                                        &#x27;criterion&#x27;: [&#x27;gini&#x27;, &#x27;entropy&#x27;],\n",
       "                                        &#x27;max_depth&#x27;: [3],\n",
       "                                        &#x27;max_features&#x27;: [&#x27;sqrt&#x27;, &#x27;log2&#x27;],\n",
       "                                        &#x27;max_leaf_nodes&#x27;: [50],\n",
       "                                        &#x27;min_impurity_decrease&#x27;: [0.0],\n",
       "                                        &#x27;min_samples_leaf&#x27;: [1],\n",
       "                                        &#x27;min_samples_split&#x27;: [2, 3],\n",
       "                                        &#x27;random_state&#x27;: [2],\n",
       "                                        &#x27;splitter&#x27;: [&#x27;best&#x27;, &#x27;random&#x27;]})</pre></div></div></div><div class=\"sk-parallel\"><div class=\"sk-parallel-item\"><div class=\"sk-item\"><div class=\"sk-label-container\"><div class=\"sk-label sk-toggleable\"><input class=\"sk-toggleable__control sk-hidden--visually\" id=\"sk-estimator-id-59\" type=\"checkbox\" ><label for=\"sk-estimator-id-59\" class=\"sk-toggleable__label sk-toggleable__label-arrow\">estimator: DecisionTreeClassifier</label><div class=\"sk-toggleable__content\"><pre>DecisionTreeClassifier()</pre></div></div></div><div class=\"sk-serial\"><div class=\"sk-item\"><div class=\"sk-estimator sk-toggleable\"><input class=\"sk-toggleable__control sk-hidden--visually\" id=\"sk-estimator-id-60\" type=\"checkbox\" ><label for=\"sk-estimator-id-60\" class=\"sk-toggleable__label sk-toggleable__label-arrow\">DecisionTreeClassifier</label><div class=\"sk-toggleable__content\"><pre>DecisionTreeClassifier()</pre></div></div></div></div></div></div></div></div></div></div>"
      ],
      "text/plain": [
       "RandomizedSearchCV(estimator=DecisionTreeClassifier(), n_iter=100,\n",
       "                   param_distributions={'ccp_alpha': [0.0],\n",
       "                                        'criterion': ['gini', 'entropy'],\n",
       "                                        'max_depth': [3],\n",
       "                                        'max_features': ['sqrt', 'log2'],\n",
       "                                        'max_leaf_nodes': [50],\n",
       "                                        'min_impurity_decrease': [0.0],\n",
       "                                        'min_samples_leaf': [1],\n",
       "                                        'min_samples_split': [2, 3],\n",
       "                                        'random_state': [2],\n",
       "                                        'splitter': ['best', 'random']})"
      ]
     },
     "execution_count": 561,
     "metadata": {},
     "output_type": "execute_result"
    }
   ],
   "source": [
    "rando1.fit(xtrain_ov,ytrain_ov)"
   ]
  },
  {
   "cell_type": "code",
   "execution_count": 563,
   "id": "2d5891c2",
   "metadata": {},
   "outputs": [
    {
     "data": {
      "text/plain": [
       "{'splitter': 'random',\n",
       " 'random_state': 2,\n",
       " 'min_samples_split': 2,\n",
       " 'min_samples_leaf': 1,\n",
       " 'min_impurity_decrease': 0.0,\n",
       " 'max_leaf_nodes': 50,\n",
       " 'max_features': 'sqrt',\n",
       " 'max_depth': 3,\n",
       " 'criterion': 'gini',\n",
       " 'ccp_alpha': 0.0}"
      ]
     },
     "execution_count": 563,
     "metadata": {},
     "output_type": "execute_result"
    }
   ],
   "source": [
    "rando1.best_params_"
   ]
  },
  {
   "cell_type": "code",
   "execution_count": 565,
   "id": "52cc9f48",
   "metadata": {},
   "outputs": [
    {
     "data": {
      "text/plain": [
       "{'splitter': 'random',\n",
       " 'random_state': 2,\n",
       " 'min_samples_split': 2,\n",
       " 'min_samples_leaf': 1,\n",
       " 'min_impurity_decrease': 0.0,\n",
       " 'max_leaf_nodes': 50,\n",
       " 'max_features': 'sqrt',\n",
       " 'max_depth': 3,\n",
       " 'criterion': 'gini',\n",
       " 'ccp_alpha': 0.0}"
      ]
     },
     "execution_count": 565,
     "metadata": {},
     "output_type": "execute_result"
    }
   ],
   "source": [
    "rando.best_params_"
   ]
  },
  {
   "cell_type": "code",
   "execution_count": 566,
   "id": "19511595",
   "metadata": {},
   "outputs": [],
   "source": [
    "# for SMOTETOmek stratified K-FOLD"
   ]
  },
  {
   "cell_type": "code",
   "execution_count": 615,
   "id": "d21ba133",
   "metadata": {},
   "outputs": [],
   "source": [
    "clf_nd_hyp=DecisionTreeClassifier(splitter='random',random_state=2,criterion='gini',\n",
    "        max_features='sqrt',min_samples_leaf=1,min_samples_split=2)"
   ]
  },
  {
   "cell_type": "code",
   "execution_count": 616,
   "id": "16eb426f",
   "metadata": {},
   "outputs": [
    {
     "data": {
      "text/html": [
       "<style>#sk-container-id-50 {color: black;background-color: white;}#sk-container-id-50 pre{padding: 0;}#sk-container-id-50 div.sk-toggleable {background-color: white;}#sk-container-id-50 label.sk-toggleable__label {cursor: pointer;display: block;width: 100%;margin-bottom: 0;padding: 0.3em;box-sizing: border-box;text-align: center;}#sk-container-id-50 label.sk-toggleable__label-arrow:before {content: \"▸\";float: left;margin-right: 0.25em;color: #696969;}#sk-container-id-50 label.sk-toggleable__label-arrow:hover:before {color: black;}#sk-container-id-50 div.sk-estimator:hover label.sk-toggleable__label-arrow:before {color: black;}#sk-container-id-50 div.sk-toggleable__content {max-height: 0;max-width: 0;overflow: hidden;text-align: left;background-color: #f0f8ff;}#sk-container-id-50 div.sk-toggleable__content pre {margin: 0.2em;color: black;border-radius: 0.25em;background-color: #f0f8ff;}#sk-container-id-50 input.sk-toggleable__control:checked~div.sk-toggleable__content {max-height: 200px;max-width: 100%;overflow: auto;}#sk-container-id-50 input.sk-toggleable__control:checked~label.sk-toggleable__label-arrow:before {content: \"▾\";}#sk-container-id-50 div.sk-estimator input.sk-toggleable__control:checked~label.sk-toggleable__label {background-color: #d4ebff;}#sk-container-id-50 div.sk-label input.sk-toggleable__control:checked~label.sk-toggleable__label {background-color: #d4ebff;}#sk-container-id-50 input.sk-hidden--visually {border: 0;clip: rect(1px 1px 1px 1px);clip: rect(1px, 1px, 1px, 1px);height: 1px;margin: -1px;overflow: hidden;padding: 0;position: absolute;width: 1px;}#sk-container-id-50 div.sk-estimator {font-family: monospace;background-color: #f0f8ff;border: 1px dotted black;border-radius: 0.25em;box-sizing: border-box;margin-bottom: 0.5em;}#sk-container-id-50 div.sk-estimator:hover {background-color: #d4ebff;}#sk-container-id-50 div.sk-parallel-item::after {content: \"\";width: 100%;border-bottom: 1px solid gray;flex-grow: 1;}#sk-container-id-50 div.sk-label:hover label.sk-toggleable__label {background-color: #d4ebff;}#sk-container-id-50 div.sk-serial::before {content: \"\";position: absolute;border-left: 1px solid gray;box-sizing: border-box;top: 0;bottom: 0;left: 50%;z-index: 0;}#sk-container-id-50 div.sk-serial {display: flex;flex-direction: column;align-items: center;background-color: white;padding-right: 0.2em;padding-left: 0.2em;position: relative;}#sk-container-id-50 div.sk-item {position: relative;z-index: 1;}#sk-container-id-50 div.sk-parallel {display: flex;align-items: stretch;justify-content: center;background-color: white;position: relative;}#sk-container-id-50 div.sk-item::before, #sk-container-id-50 div.sk-parallel-item::before {content: \"\";position: absolute;border-left: 1px solid gray;box-sizing: border-box;top: 0;bottom: 0;left: 50%;z-index: -1;}#sk-container-id-50 div.sk-parallel-item {display: flex;flex-direction: column;z-index: 1;position: relative;background-color: white;}#sk-container-id-50 div.sk-parallel-item:first-child::after {align-self: flex-end;width: 50%;}#sk-container-id-50 div.sk-parallel-item:last-child::after {align-self: flex-start;width: 50%;}#sk-container-id-50 div.sk-parallel-item:only-child::after {width: 0;}#sk-container-id-50 div.sk-dashed-wrapped {border: 1px dashed gray;margin: 0 0.4em 0.5em 0.4em;box-sizing: border-box;padding-bottom: 0.4em;background-color: white;}#sk-container-id-50 div.sk-label label {font-family: monospace;font-weight: bold;display: inline-block;line-height: 1.2em;}#sk-container-id-50 div.sk-label-container {text-align: center;}#sk-container-id-50 div.sk-container {/* jupyter's `normalize.less` sets `[hidden] { display: none; }` but bootstrap.min.css set `[hidden] { display: none !important; }` so we also need the `!important` here to be able to override the default hidden behavior on the sphinx rendered scikit-learn.org. See: https://github.com/scikit-learn/scikit-learn/issues/21755 */display: inline-block !important;position: relative;}#sk-container-id-50 div.sk-text-repr-fallback {display: none;}</style><div id=\"sk-container-id-50\" class=\"sk-top-container\"><div class=\"sk-text-repr-fallback\"><pre>DecisionTreeClassifier(max_features=&#x27;sqrt&#x27;, random_state=2, splitter=&#x27;random&#x27;)</pre><b>In a Jupyter environment, please rerun this cell to show the HTML representation or trust the notebook. <br />On GitHub, the HTML representation is unable to render, please try loading this page with nbviewer.org.</b></div><div class=\"sk-container\" hidden><div class=\"sk-item\"><div class=\"sk-estimator sk-toggleable\"><input class=\"sk-toggleable__control sk-hidden--visually\" id=\"sk-estimator-id-76\" type=\"checkbox\" checked><label for=\"sk-estimator-id-76\" class=\"sk-toggleable__label sk-toggleable__label-arrow\">DecisionTreeClassifier</label><div class=\"sk-toggleable__content\"><pre>DecisionTreeClassifier(max_features=&#x27;sqrt&#x27;, random_state=2, splitter=&#x27;random&#x27;)</pre></div></div></div></div></div>"
      ],
      "text/plain": [
       "DecisionTreeClassifier(max_features='sqrt', random_state=2, splitter='random')"
      ]
     },
     "execution_count": 616,
     "metadata": {},
     "output_type": "execute_result"
    }
   ],
   "source": [
    "clf_nd_hyp.fit(xb_train,yb_train)"
   ]
  },
  {
   "cell_type": "code",
   "execution_count": 617,
   "id": "c8f84791",
   "metadata": {},
   "outputs": [
    {
     "data": {
      "text/plain": [
       "0.843717039907773"
      ]
     },
     "execution_count": 617,
     "metadata": {},
     "output_type": "execute_result"
    }
   ],
   "source": [
    "clf_nd_hyp.score(xb_test,yb_test)"
   ]
  },
  {
   "cell_type": "code",
   "execution_count": null,
   "id": "bdf271b7",
   "metadata": {},
   "outputs": [],
   "source": [
    "# for ROVSM stratified K-FOLD"
   ]
  },
  {
   "cell_type": "code",
   "execution_count": 611,
   "id": "0a6e1104",
   "metadata": {},
   "outputs": [],
   "source": [
    "clf_od_hyp=DecisionTreeClassifier(splitter='random',random_state=2,criterion='gini',\n",
    "        max_features='sqrt',min_samples_leaf=1,min_samples_split=2)"
   ]
  },
  {
   "cell_type": "code",
   "execution_count": 612,
   "id": "9f0eadd3",
   "metadata": {},
   "outputs": [
    {
     "data": {
      "text/html": [
       "<style>#sk-container-id-49 {color: black;background-color: white;}#sk-container-id-49 pre{padding: 0;}#sk-container-id-49 div.sk-toggleable {background-color: white;}#sk-container-id-49 label.sk-toggleable__label {cursor: pointer;display: block;width: 100%;margin-bottom: 0;padding: 0.3em;box-sizing: border-box;text-align: center;}#sk-container-id-49 label.sk-toggleable__label-arrow:before {content: \"▸\";float: left;margin-right: 0.25em;color: #696969;}#sk-container-id-49 label.sk-toggleable__label-arrow:hover:before {color: black;}#sk-container-id-49 div.sk-estimator:hover label.sk-toggleable__label-arrow:before {color: black;}#sk-container-id-49 div.sk-toggleable__content {max-height: 0;max-width: 0;overflow: hidden;text-align: left;background-color: #f0f8ff;}#sk-container-id-49 div.sk-toggleable__content pre {margin: 0.2em;color: black;border-radius: 0.25em;background-color: #f0f8ff;}#sk-container-id-49 input.sk-toggleable__control:checked~div.sk-toggleable__content {max-height: 200px;max-width: 100%;overflow: auto;}#sk-container-id-49 input.sk-toggleable__control:checked~label.sk-toggleable__label-arrow:before {content: \"▾\";}#sk-container-id-49 div.sk-estimator input.sk-toggleable__control:checked~label.sk-toggleable__label {background-color: #d4ebff;}#sk-container-id-49 div.sk-label input.sk-toggleable__control:checked~label.sk-toggleable__label {background-color: #d4ebff;}#sk-container-id-49 input.sk-hidden--visually {border: 0;clip: rect(1px 1px 1px 1px);clip: rect(1px, 1px, 1px, 1px);height: 1px;margin: -1px;overflow: hidden;padding: 0;position: absolute;width: 1px;}#sk-container-id-49 div.sk-estimator {font-family: monospace;background-color: #f0f8ff;border: 1px dotted black;border-radius: 0.25em;box-sizing: border-box;margin-bottom: 0.5em;}#sk-container-id-49 div.sk-estimator:hover {background-color: #d4ebff;}#sk-container-id-49 div.sk-parallel-item::after {content: \"\";width: 100%;border-bottom: 1px solid gray;flex-grow: 1;}#sk-container-id-49 div.sk-label:hover label.sk-toggleable__label {background-color: #d4ebff;}#sk-container-id-49 div.sk-serial::before {content: \"\";position: absolute;border-left: 1px solid gray;box-sizing: border-box;top: 0;bottom: 0;left: 50%;z-index: 0;}#sk-container-id-49 div.sk-serial {display: flex;flex-direction: column;align-items: center;background-color: white;padding-right: 0.2em;padding-left: 0.2em;position: relative;}#sk-container-id-49 div.sk-item {position: relative;z-index: 1;}#sk-container-id-49 div.sk-parallel {display: flex;align-items: stretch;justify-content: center;background-color: white;position: relative;}#sk-container-id-49 div.sk-item::before, #sk-container-id-49 div.sk-parallel-item::before {content: \"\";position: absolute;border-left: 1px solid gray;box-sizing: border-box;top: 0;bottom: 0;left: 50%;z-index: -1;}#sk-container-id-49 div.sk-parallel-item {display: flex;flex-direction: column;z-index: 1;position: relative;background-color: white;}#sk-container-id-49 div.sk-parallel-item:first-child::after {align-self: flex-end;width: 50%;}#sk-container-id-49 div.sk-parallel-item:last-child::after {align-self: flex-start;width: 50%;}#sk-container-id-49 div.sk-parallel-item:only-child::after {width: 0;}#sk-container-id-49 div.sk-dashed-wrapped {border: 1px dashed gray;margin: 0 0.4em 0.5em 0.4em;box-sizing: border-box;padding-bottom: 0.4em;background-color: white;}#sk-container-id-49 div.sk-label label {font-family: monospace;font-weight: bold;display: inline-block;line-height: 1.2em;}#sk-container-id-49 div.sk-label-container {text-align: center;}#sk-container-id-49 div.sk-container {/* jupyter's `normalize.less` sets `[hidden] { display: none; }` but bootstrap.min.css set `[hidden] { display: none !important; }` so we also need the `!important` here to be able to override the default hidden behavior on the sphinx rendered scikit-learn.org. See: https://github.com/scikit-learn/scikit-learn/issues/21755 */display: inline-block !important;position: relative;}#sk-container-id-49 div.sk-text-repr-fallback {display: none;}</style><div id=\"sk-container-id-49\" class=\"sk-top-container\"><div class=\"sk-text-repr-fallback\"><pre>DecisionTreeClassifier(max_features=&#x27;sqrt&#x27;, random_state=2, splitter=&#x27;random&#x27;)</pre><b>In a Jupyter environment, please rerun this cell to show the HTML representation or trust the notebook. <br />On GitHub, the HTML representation is unable to render, please try loading this page with nbviewer.org.</b></div><div class=\"sk-container\" hidden><div class=\"sk-item\"><div class=\"sk-estimator sk-toggleable\"><input class=\"sk-toggleable__control sk-hidden--visually\" id=\"sk-estimator-id-75\" type=\"checkbox\" checked><label for=\"sk-estimator-id-75\" class=\"sk-toggleable__label sk-toggleable__label-arrow\">DecisionTreeClassifier</label><div class=\"sk-toggleable__content\"><pre>DecisionTreeClassifier(max_features=&#x27;sqrt&#x27;, random_state=2, splitter=&#x27;random&#x27;)</pre></div></div></div></div></div>"
      ],
      "text/plain": [
       "DecisionTreeClassifier(max_features='sqrt', random_state=2, splitter='random')"
      ]
     },
     "execution_count": 612,
     "metadata": {},
     "output_type": "execute_result"
    }
   ],
   "source": [
    "clf_od_hyp.fit(xtrain_ov,ytrain_ov)"
   ]
  },
  {
   "cell_type": "code",
   "execution_count": 614,
   "id": "0d3027d5",
   "metadata": {},
   "outputs": [
    {
     "data": {
      "text/plain": [
       "0.9485043176214825"
      ]
     },
     "execution_count": 614,
     "metadata": {},
     "output_type": "execute_result"
    }
   ],
   "source": [
    "clf_od_hyp.score(xtest_ov,ytest_ovsm)"
   ]
  },
  {
   "cell_type": "code",
   "execution_count": 619,
   "id": "05b7f4f8",
   "metadata": {},
   "outputs": [],
   "source": [
    "# after doing hyper parameter tuning we see Random Oversampling gives better accuracy\n",
    "# 0.9485 same before tuning so we select ROVSM"
   ]
  },
  {
   "cell_type": "markdown",
   "id": "fe6c19ef",
   "metadata": {},
   "source": [
    "# Classification Report,Confusion Matrix, ROC,AUC and analysis"
   ]
  },
  {
   "cell_type": "code",
   "execution_count": 620,
   "id": "adfd4a14",
   "metadata": {},
   "outputs": [],
   "source": [
    "pred_withHP_OD=clf_od_hyp.predict(xtest_ov)"
   ]
  },
  {
   "cell_type": "code",
   "execution_count": 622,
   "id": "70250996",
   "metadata": {},
   "outputs": [],
   "source": [
    "from sklearn.metrics import classification_report,accuracy_score,confusion_matrix,plot_roc_curve"
   ]
  },
  {
   "cell_type": "code",
   "execution_count": 623,
   "id": "88b3b134",
   "metadata": {},
   "outputs": [
    {
     "data": {
      "text/plain": [
       "0.9485043176214825"
      ]
     },
     "execution_count": 623,
     "metadata": {},
     "output_type": "execute_result"
    }
   ],
   "source": [
    "accuracy_score(ytest_ovsm,pred_withHP_OD) "
   ]
  },
  {
   "cell_type": "code",
   "execution_count": 624,
   "id": "ce009e8e",
   "metadata": {},
   "outputs": [
    {
     "name": "stdout",
     "output_type": "stream",
     "text": [
      "              precision    recall  f1-score   support\n",
      "\n",
      "           0       1.00      0.90      0.95     82143\n",
      "           1       0.91      1.00      0.95     82531\n",
      "\n",
      "    accuracy                           0.95    164674\n",
      "   macro avg       0.95      0.95      0.95    164674\n",
      "weighted avg       0.95      0.95      0.95    164674\n",
      "\n"
     ]
    }
   ],
   "source": [
    "print(classification_report(ytest_ovsm,pred_withHP_OD))"
   ]
  },
  {
   "cell_type": "code",
   "execution_count": 625,
   "id": "8654130f",
   "metadata": {},
   "outputs": [
    {
     "data": {
      "text/plain": [
       "array([[73725,  8418],\n",
       "       [   62, 82469]], dtype=int64)"
      ]
     },
     "execution_count": 625,
     "metadata": {},
     "output_type": "execute_result"
    }
   ],
   "source": [
    "confusion_matrix(ytest_ovsm,pred_withHP_OD)"
   ]
  },
  {
   "cell_type": "code",
   "execution_count": 629,
   "id": "061cb4d0",
   "metadata": {},
   "outputs": [],
   "source": [
    "tp_h,fn_h,fp_h,tn_h=confusion_matrix(ytest_ovsm,pred_withHP_OD).reshape(-1)"
   ]
  },
  {
   "cell_type": "code",
   "execution_count": 630,
   "id": "0fb5a726",
   "metadata": {},
   "outputs": [],
   "source": [
    "ppv_h=tp_h/(tp_h+fn_h)\n",
    "tpr_h=tp_h/(tp_h+fn_h)\n",
    "fpr_h=fp_h/(fp_h+tn_h)\n",
    "f1_measure_h=(ppv_h+tpr_h)/2\n",
    "f1_score_h=(2*ppv_h*tpr_h)/(ppv_h+tpr_h)\n",
    "tnr_h=tn_h/(tn_h+fp_h)\n",
    "csi_h=tp_h/(tp_h+fn_h+fp_h)\n",
    "fdr_h=fp_h/(tp_h+fp_h)"
   ]
  },
  {
   "cell_type": "code",
   "execution_count": 631,
   "id": "63e7102f",
   "metadata": {},
   "outputs": [
    {
     "data": {
      "text/plain": [
       "0.897520178225777"
      ]
     },
     "execution_count": 631,
     "metadata": {},
     "output_type": "execute_result"
    }
   ],
   "source": [
    "#Positive Predictive Value\n",
    "ppv_h"
   ]
  },
  {
   "cell_type": "code",
   "execution_count": 632,
   "id": "791e7e78",
   "metadata": {},
   "outputs": [
    {
     "data": {
      "text/plain": [
       "0.897520178225777"
      ]
     },
     "execution_count": 632,
     "metadata": {},
     "output_type": "execute_result"
    }
   ],
   "source": [
    "#True Positive Rate\n",
    "tpr_h"
   ]
  },
  {
   "cell_type": "code",
   "execution_count": 633,
   "id": "fd3073b5",
   "metadata": {},
   "outputs": [
    {
     "data": {
      "text/plain": [
       "0.0007512328700730634"
      ]
     },
     "execution_count": 633,
     "metadata": {},
     "output_type": "execute_result"
    }
   ],
   "source": [
    "#False Positiv Rate\n",
    "fpr_h"
   ]
  },
  {
   "cell_type": "code",
   "execution_count": 634,
   "id": "754fe0d4",
   "metadata": {},
   "outputs": [
    {
     "data": {
      "text/plain": [
       "0.897520178225777"
      ]
     },
     "execution_count": 634,
     "metadata": {},
     "output_type": "execute_result"
    }
   ],
   "source": [
    "#F1 Measure\n",
    "f1_measure_h"
   ]
  },
  {
   "cell_type": "code",
   "execution_count": 635,
   "id": "0e721d1d",
   "metadata": {},
   "outputs": [
    {
     "data": {
      "text/plain": [
       "0.897520178225777"
      ]
     },
     "execution_count": 635,
     "metadata": {},
     "output_type": "execute_result"
    }
   ],
   "source": [
    "#Harmonic Mean,F1 score\n",
    "f1_score_h"
   ]
  },
  {
   "cell_type": "code",
   "execution_count": 636,
   "id": "63afcae6",
   "metadata": {},
   "outputs": [
    {
     "data": {
      "text/plain": [
       "0.9992487671299269"
      ]
     },
     "execution_count": 636,
     "metadata": {},
     "output_type": "execute_result"
    }
   ],
   "source": [
    "#True Negative Rate\n",
    "tnr_h"
   ]
  },
  {
   "cell_type": "code",
   "execution_count": 637,
   "id": "969c4503",
   "metadata": {},
   "outputs": [
    {
     "data": {
      "text/plain": [
       "0.8968432577093851"
      ]
     },
     "execution_count": 637,
     "metadata": {},
     "output_type": "execute_result"
    }
   ],
   "source": [
    "#Critical Success Index\n",
    "csi_h"
   ]
  },
  {
   "cell_type": "code",
   "execution_count": 638,
   "id": "6e0c8007",
   "metadata": {},
   "outputs": [
    {
     "data": {
      "text/plain": [
       "0.0008402564137314162"
      ]
     },
     "execution_count": 638,
     "metadata": {},
     "output_type": "execute_result"
    }
   ],
   "source": [
    "#False Discover Rate\n",
    "fdr_h"
   ]
  },
  {
   "cell_type": "code",
   "execution_count": 639,
   "id": "76a4233a",
   "metadata": {},
   "outputs": [
    {
     "name": "stderr",
     "output_type": "stream",
     "text": [
      "C:\\Users\\Administrator\\anaconda3\\lib\\site-packages\\sklearn\\utils\\deprecation.py:87: FutureWarning: Function plot_roc_curve is deprecated; Function :func:`plot_roc_curve` is deprecated in 1.0 and will be removed in 1.2. Use one of the class methods: :meth:`sklearn.metric.RocCurveDisplay.from_predictions` or :meth:`sklearn.metric.RocCurveDisplay.from_estimator`.\n",
      "  warnings.warn(msg, category=FutureWarning)\n"
     ]
    },
    {
     "data": {
      "text/plain": [
       "Text(0.5, 1.0, 'ROC Curve after tuning')"
      ]
     },
     "execution_count": 639,
     "metadata": {},
     "output_type": "execute_result"
    },
    {
     "data": {
      "image/png": "[encoded data removed]",
      "text/plain": [
       "<Figure size 432x288 with 1 Axes>"
      ]
     },
     "metadata": {
      "needs_background": "light"
     },
     "output_type": "display_data"
    }
   ],
   "source": [
    "plot_roc_curve(clf_od_hyp,xtest_ov,ytest_ovsm,color='Green')\n",
    "plt.plot([0,1],[0,1])\n",
    "plt.title('ROC Curve after tuning', color='blue')"
   ]
  },
  {
   "cell_type": "code",
   "execution_count": 640,
   "id": "cf88c88b",
   "metadata": {},
   "outputs": [],
   "source": [
    "# Therefore we have true positive rate and true negative rate at high percentage 0.9 0.99 AUC is 0.95\n",
    "# and f1 score is 0.897 this model with ROVSM and stratified k_Fold with hyper tuning is a good model\n",
    "# we can use it to predict heart disease in our model with above 90% accuracy."
   ]
  }
 ],
 "metadata": {
  "kernelspec": {
   "display_name": "Python 3 (ipykernel)",
   "language": "python",
   "name": "python3"
  },
  "language_info": {
   "codemirror_mode": {
    "name": "ipython",
    "version": 3
   },
   "file_extension": ".py",
   "mimetype": "text/x-python",
   "name": "python",
   "nbconvert_exporter": "python",
   "pygments_lexer": "ipython3",
   "version": "3.9.12"
  }
 },
 "nbformat": 4,
 "nbformat_minor": 5
}
