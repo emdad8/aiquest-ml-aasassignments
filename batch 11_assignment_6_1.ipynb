{
 "cells": [
  {
   "cell_type": "markdown",
   "id": "31bdd8fe",
   "metadata": {},
   "source": [
    "# Assignment_6 done by Emdadul Haque"
   ]
  },
  {
   "cell_type": "markdown",
   "id": "4b292038",
   "metadata": {},
   "source": [
    "# Task is to train dataset with K-NN Regressor and K-NN classifier, then analyze accuracy;later do hyper parameter tuning by RandomizedSearchCV,and then test accauracy with best params, in the end compare and prove that performance improved by hyper param tuning"
   ]
  },
  {
   "cell_type": "code",
   "execution_count": 1,
   "id": "19143d67",
   "metadata": {},
   "outputs": [],
   "source": [
    "import pandas as pd\n",
    "import matplotlib.pyplot as plt"
   ]
  },
  {
   "cell_type": "code",
   "execution_count": 2,
   "id": "cafa1c19",
   "metadata": {},
   "outputs": [],
   "source": [
    "df=pd.read_csv('weight-height1.csv')"
   ]
  },
  {
   "cell_type": "code",
   "execution_count": 3,
   "id": "ac55c427",
   "metadata": {},
   "outputs": [
    {
     "data": {
      "text/html": [
       "<div>\n",
       "<style scoped>\n",
       "    .dataframe tbody tr th:only-of-type {\n",
       "        vertical-align: middle;\n",
       "    }\n",
       "\n",
       "    .dataframe tbody tr th {\n",
       "        vertical-align: top;\n",
       "    }\n",
       "\n",
       "    .dataframe thead th {\n",
       "        text-align: right;\n",
       "    }\n",
       "</style>\n",
       "<table border=\"1\" class=\"dataframe\">\n",
       "  <thead>\n",
       "    <tr style=\"text-align: right;\">\n",
       "      <th></th>\n",
       "      <th>Gender</th>\n",
       "      <th>Height</th>\n",
       "      <th>Weight</th>\n",
       "    </tr>\n",
       "  </thead>\n",
       "  <tbody>\n",
       "    <tr>\n",
       "      <th>0</th>\n",
       "      <td>Male</td>\n",
       "      <td>73.847017</td>\n",
       "      <td>241.893563</td>\n",
       "    </tr>\n",
       "    <tr>\n",
       "      <th>1</th>\n",
       "      <td>Male</td>\n",
       "      <td>68.781904</td>\n",
       "      <td>162.310473</td>\n",
       "    </tr>\n",
       "    <tr>\n",
       "      <th>2</th>\n",
       "      <td>Male</td>\n",
       "      <td>74.110105</td>\n",
       "      <td>212.740856</td>\n",
       "    </tr>\n",
       "    <tr>\n",
       "      <th>3</th>\n",
       "      <td>Male</td>\n",
       "      <td>71.730978</td>\n",
       "      <td>220.042470</td>\n",
       "    </tr>\n",
       "    <tr>\n",
       "      <th>4</th>\n",
       "      <td>Male</td>\n",
       "      <td>69.881796</td>\n",
       "      <td>206.349801</td>\n",
       "    </tr>\n",
       "  </tbody>\n",
       "</table>\n",
       "</div>"
      ],
      "text/plain": [
       "  Gender     Height      Weight\n",
       "0   Male  73.847017  241.893563\n",
       "1   Male  68.781904  162.310473\n",
       "2   Male  74.110105  212.740856\n",
       "3   Male  71.730978  220.042470\n",
       "4   Male  69.881796  206.349801"
      ]
     },
     "execution_count": 3,
     "metadata": {},
     "output_type": "execute_result"
    }
   ],
   "source": [
    "df.head()"
   ]
  },
  {
   "cell_type": "code",
   "execution_count": 4,
   "id": "e6956bba",
   "metadata": {},
   "outputs": [],
   "source": [
    "df1=df.copy()\n",
    "df2=df.copy()\n",
    "df3=df.copy()"
   ]
  },
  {
   "cell_type": "code",
   "execution_count": 5,
   "id": "dc9b2ce8",
   "metadata": {},
   "outputs": [],
   "source": [
    "dummy=pd.get_dummies(df1['Gender'])"
   ]
  },
  {
   "cell_type": "code",
   "execution_count": 6,
   "id": "58e9c802",
   "metadata": {},
   "outputs": [],
   "source": [
    "dummy1=pd.get_dummies(df1['Gender'],drop_first=True,prefix='Dummy')"
   ]
  },
  {
   "cell_type": "code",
   "execution_count": 7,
   "id": "6325797c",
   "metadata": {},
   "outputs": [],
   "source": [
    "df2.drop('Gender',axis='columns',inplace=True)"
   ]
  },
  {
   "cell_type": "code",
   "execution_count": 8,
   "id": "3ec07f90",
   "metadata": {},
   "outputs": [],
   "source": [
    "df3=pd.concat([df2,dummy1],axis=1)"
   ]
  },
  {
   "cell_type": "code",
   "execution_count": 9,
   "id": "9515bde6",
   "metadata": {},
   "outputs": [
    {
     "data": {
      "text/plain": [
       "<Figure size 6624x4464 with 0 Axes>"
      ]
     },
     "execution_count": 9,
     "metadata": {},
     "output_type": "execute_result"
    },
    {
     "data": {
      "image/png": "[encoded data removed]",
      "text/plain": [
       "<Figure size 864x576 with 1 Axes>"
      ]
     },
     "metadata": {
      "needs_background": "light"
     },
     "output_type": "display_data"
    },
    {
     "data": {
      "text/plain": [
       "<Figure size 6624x4464 with 0 Axes>"
      ]
     },
     "metadata": {},
     "output_type": "display_data"
    }
   ],
   "source": [
    "plt.figure(figsize=(12,8))\n",
    "plt.scatter(df3['Height'] , df3['Height'], color='#3498DB',marker='*')\n",
    "plt.xlabel('Height',color='red')\n",
    "plt.ylabel('weight',color='green')\n",
    "plt.title('BMI', color='blue')\n",
    "plt.figure(figsize=(92,62))"
   ]
  },
  {
   "cell_type": "code",
   "execution_count": 10,
   "id": "b98386dc",
   "metadata": {},
   "outputs": [],
   "source": [
    "y=df3['Weight']\n",
    "x=df3[['Dummy_Male','Height']]"
   ]
  },
  {
   "cell_type": "code",
   "execution_count": 11,
   "id": "12a33226",
   "metadata": {},
   "outputs": [],
   "source": [
    "from sklearn.model_selection import train_test_split"
   ]
  },
  {
   "cell_type": "code",
   "execution_count": 12,
   "id": "87813c06",
   "metadata": {},
   "outputs": [],
   "source": [
    "xtrain,xtest,ytrain,ytest=train_test_split(x,y,test_size=.30)"
   ]
  },
  {
   "cell_type": "markdown",
   "id": "5685c796",
   "metadata": {},
   "source": [
    "# Using K-NN Regressor"
   ]
  },
  {
   "cell_type": "code",
   "execution_count": 13,
   "id": "5d1a1f97",
   "metadata": {},
   "outputs": [],
   "source": [
    "from sklearn.neighbors import KNeighborsRegressor"
   ]
  },
  {
   "cell_type": "code",
   "execution_count": 14,
   "id": "21c2553b",
   "metadata": {},
   "outputs": [],
   "source": [
    "neigh=KNeighborsRegressor(n_neighbors=801)"
   ]
  },
  {
   "cell_type": "code",
   "execution_count": 15,
   "id": "6ce624e1",
   "metadata": {},
   "outputs": [
    {
     "data": {
      "text/plain": [
       "KNeighborsRegressor(n_neighbors=801)"
      ]
     },
     "execution_count": 15,
     "metadata": {},
     "output_type": "execute_result"
    }
   ],
   "source": [
    "neigh.fit(x,y)"
   ]
  },
  {
   "cell_type": "code",
   "execution_count": 16,
   "id": "2abad72c",
   "metadata": {},
   "outputs": [],
   "source": [
    "pred=neigh.predict(xtest)"
   ]
  },
  {
   "cell_type": "code",
   "execution_count": 17,
   "id": "97fd0c3d",
   "metadata": {},
   "outputs": [
    {
     "data": {
      "text/html": [
       "<div>\n",
       "<style scoped>\n",
       "    .dataframe tbody tr th:only-of-type {\n",
       "        vertical-align: middle;\n",
       "    }\n",
       "\n",
       "    .dataframe tbody tr th {\n",
       "        vertical-align: top;\n",
       "    }\n",
       "\n",
       "    .dataframe thead th {\n",
       "        text-align: right;\n",
       "    }\n",
       "</style>\n",
       "<table border=\"1\" class=\"dataframe\">\n",
       "  <thead>\n",
       "    <tr style=\"text-align: right;\">\n",
       "      <th></th>\n",
       "      <th>Height</th>\n",
       "      <th>Weight</th>\n",
       "      <th>Dummy_Male</th>\n",
       "    </tr>\n",
       "  </thead>\n",
       "  <tbody>\n",
       "    <tr>\n",
       "      <th>0</th>\n",
       "      <td>73.847017</td>\n",
       "      <td>241.893563</td>\n",
       "      <td>1</td>\n",
       "    </tr>\n",
       "    <tr>\n",
       "      <th>1</th>\n",
       "      <td>68.781904</td>\n",
       "      <td>162.310473</td>\n",
       "      <td>1</td>\n",
       "    </tr>\n",
       "    <tr>\n",
       "      <th>2</th>\n",
       "      <td>74.110105</td>\n",
       "      <td>212.740856</td>\n",
       "      <td>1</td>\n",
       "    </tr>\n",
       "    <tr>\n",
       "      <th>3</th>\n",
       "      <td>71.730978</td>\n",
       "      <td>220.042470</td>\n",
       "      <td>1</td>\n",
       "    </tr>\n",
       "    <tr>\n",
       "      <th>4</th>\n",
       "      <td>69.881796</td>\n",
       "      <td>206.349801</td>\n",
       "      <td>1</td>\n",
       "    </tr>\n",
       "  </tbody>\n",
       "</table>\n",
       "</div>"
      ],
      "text/plain": [
       "      Height      Weight  Dummy_Male\n",
       "0  73.847017  241.893563           1\n",
       "1  68.781904  162.310473           1\n",
       "2  74.110105  212.740856           1\n",
       "3  71.730978  220.042470           1\n",
       "4  69.881796  206.349801           1"
      ]
     },
     "execution_count": 17,
     "metadata": {},
     "output_type": "execute_result"
    }
   ],
   "source": [
    "df3.head()"
   ]
  },
  {
   "cell_type": "code",
   "execution_count": 18,
   "id": "58f5853d",
   "metadata": {},
   "outputs": [
    {
     "name": "stderr",
     "output_type": "stream",
     "text": [
      "C:\\Users\\Administrator\\anaconda3\\lib\\site-packages\\sklearn\\base.py:450: UserWarning: X does not have valid feature names, but KNeighborsRegressor was fitted with feature names\n",
      "  warnings.warn(\n"
     ]
    },
    {
     "data": {
      "text/plain": [
       "array([210.75429446])"
      ]
     },
     "execution_count": 18,
     "metadata": {},
     "output_type": "execute_result"
    }
   ],
   "source": [
    "neigh.predict([[1,73.847017]])"
   ]
  },
  {
   "cell_type": "code",
   "execution_count": 19,
   "id": "62c509d2",
   "metadata": {},
   "outputs": [],
   "source": [
    "accuracy=210.75429446/241.893563"
   ]
  },
  {
   "cell_type": "code",
   "execution_count": 20,
   "id": "8c5506e0",
   "metadata": {},
   "outputs": [
    {
     "data": {
      "text/plain": [
       "0.8712687177211078"
      ]
     },
     "execution_count": 20,
     "metadata": {},
     "output_type": "execute_result"
    }
   ],
   "source": [
    "accuracy"
   ]
  },
  {
   "cell_type": "code",
   "execution_count": 21,
   "id": "fbf75052",
   "metadata": {},
   "outputs": [],
   "source": [
    "from sklearn.metrics import mean_squared_error \n",
    "from sklearn.metrics import mean_absolute_error"
   ]
  },
  {
   "cell_type": "code",
   "execution_count": 22,
   "id": "f57c75d4",
   "metadata": {},
   "outputs": [],
   "source": [
    "mse=mean_squared_error(ytest,pred)\n",
    "mae=mean_absolute_error(ytest,pred)"
   ]
  },
  {
   "cell_type": "code",
   "execution_count": 23,
   "id": "60774b22",
   "metadata": {},
   "outputs": [
    {
     "data": {
      "text/plain": [
       "131.7216912167529"
      ]
     },
     "execution_count": 23,
     "metadata": {},
     "output_type": "execute_result"
    }
   ],
   "source": [
    "mse"
   ]
  },
  {
   "cell_type": "code",
   "execution_count": 24,
   "id": "c5ccb0c7",
   "metadata": {},
   "outputs": [
    {
     "data": {
      "text/plain": [
       "8.979512556899795"
      ]
     },
     "execution_count": 24,
     "metadata": {},
     "output_type": "execute_result"
    }
   ],
   "source": [
    "mae"
   ]
  },
  {
   "cell_type": "code",
   "execution_count": 25,
   "id": "500ceed6",
   "metadata": {},
   "outputs": [],
   "source": [
    "import numpy as np"
   ]
  },
  {
   "cell_type": "markdown",
   "id": "1262dfb8",
   "metadata": {},
   "source": [
    "# HyperParameter Tuning for K-NN regressor"
   ]
  },
  {
   "cell_type": "code",
   "execution_count": 26,
   "id": "2552ceca",
   "metadata": {},
   "outputs": [],
   "source": [
    "n_neighbors=[5,51,81,101,801]\n",
    "weights=['uniform','distance']\n",
    "algorithm=['auto','ball_tree','kd_tree','brute']\n",
    "leaf_size=[30]\n",
    "p=[2]\n",
    "metric=['minkowski']\n",
    "metric_params=[None]\n",
    "n_jobs=[None]"
   ]
  },
  {
   "cell_type": "code",
   "execution_count": 27,
   "id": "a36a34ce",
   "metadata": {},
   "outputs": [],
   "source": [
    "grids={\n",
    "    'n_neighbors':n_neighbors,\n",
    "'weights':weights,\n",
    "'algorithm':algorithm,\n",
    "'leaf_size':leaf_size,\n",
    "'p':p,\n",
    "'metric':metric,\n",
    "'metric_params':metric_params,\n",
    "'n_jobs':n_jobs\n",
    "}"
   ]
  },
  {
   "cell_type": "code",
   "execution_count": 28,
   "id": "540a4c4d",
   "metadata": {},
   "outputs": [],
   "source": [
    "from sklearn.model_selection import RandomizedSearchCV"
   ]
  },
  {
   "cell_type": "code",
   "execution_count": 29,
   "id": "3f99df22",
   "metadata": {},
   "outputs": [],
   "source": [
    "rando=RandomizedSearchCV(estimator=neigh,param_distributions=grids,n_iter=100)"
   ]
  },
  {
   "cell_type": "code",
   "execution_count": 30,
   "id": "e531a89d",
   "metadata": {},
   "outputs": [
    {
     "data": {
      "text/plain": [
       "RandomizedSearchCV(estimator=KNeighborsRegressor(n_neighbors=801), n_iter=100,\n",
       "                   param_distributions={'algorithm': ['auto', 'ball_tree',\n",
       "                                                      'kd_tree', 'brute'],\n",
       "                                        'leaf_size': [30],\n",
       "                                        'metric': ['minkowski'],\n",
       "                                        'metric_params': [None],\n",
       "                                        'n_jobs': [None],\n",
       "                                        'n_neighbors': [5, 51, 81, 101, 801],\n",
       "                                        'p': [2],\n",
       "                                        'weights': ['uniform', 'distance']})"
      ]
     },
     "execution_count": 30,
     "metadata": {},
     "output_type": "execute_result"
    }
   ],
   "source": [
    "rando"
   ]
  },
  {
   "cell_type": "code",
   "execution_count": 31,
   "id": "c3afae98",
   "metadata": {},
   "outputs": [
    {
     "name": "stderr",
     "output_type": "stream",
     "text": [
      "C:\\Users\\Administrator\\anaconda3\\lib\\site-packages\\sklearn\\model_selection\\_search.py:292: UserWarning: The total space of parameters 40 is smaller than n_iter=100. Running 40 iterations. For exhaustive searches, use GridSearchCV.\n",
      "  warnings.warn(\n"
     ]
    },
    {
     "data": {
      "text/plain": [
       "RandomizedSearchCV(estimator=KNeighborsRegressor(n_neighbors=801), n_iter=100,\n",
       "                   param_distributions={'algorithm': ['auto', 'ball_tree',\n",
       "                                                      'kd_tree', 'brute'],\n",
       "                                        'leaf_size': [30],\n",
       "                                        'metric': ['minkowski'],\n",
       "                                        'metric_params': [None],\n",
       "                                        'n_jobs': [None],\n",
       "                                        'n_neighbors': [5, 51, 81, 101, 801],\n",
       "                                        'p': [2],\n",
       "                                        'weights': ['uniform', 'distance']})"
      ]
     },
     "execution_count": 31,
     "metadata": {},
     "output_type": "execute_result"
    }
   ],
   "source": [
    "rando.fit(xtrain,ytrain)"
   ]
  },
  {
   "cell_type": "code",
   "execution_count": 32,
   "id": "47cd3971",
   "metadata": {},
   "outputs": [
    {
     "data": {
      "text/plain": [
       "{'weights': 'uniform',\n",
       " 'p': 2,\n",
       " 'n_neighbors': 51,\n",
       " 'n_jobs': None,\n",
       " 'metric_params': None,\n",
       " 'metric': 'minkowski',\n",
       " 'leaf_size': 30,\n",
       " 'algorithm': 'auto'}"
      ]
     },
     "execution_count": 32,
     "metadata": {},
     "output_type": "execute_result"
    }
   ],
   "source": [
    "rando.best_params_"
   ]
  },
  {
   "cell_type": "markdown",
   "id": "7f1fe8f8",
   "metadata": {},
   "source": [
    "# checking for performance"
   ]
  },
  {
   "cell_type": "code",
   "execution_count": 33,
   "id": "421dc81d",
   "metadata": {},
   "outputs": [
    {
     "data": {
      "text/plain": [
       "KNeighborsRegressor(n_neighbors=51)"
      ]
     },
     "execution_count": 33,
     "metadata": {},
     "output_type": "execute_result"
    }
   ],
   "source": [
    "neigh_withHP=KNeighborsRegressor(n_neighbors=51)\n",
    "neigh_withHP.fit(x,y)"
   ]
  },
  {
   "cell_type": "code",
   "execution_count": 34,
   "id": "bc63098a",
   "metadata": {},
   "outputs": [],
   "source": [
    "pred_withHP=neigh_withHP.predict(xtest)"
   ]
  },
  {
   "cell_type": "code",
   "execution_count": 35,
   "id": "f76576c9",
   "metadata": {},
   "outputs": [
    {
     "name": "stderr",
     "output_type": "stream",
     "text": [
      "C:\\Users\\Administrator\\anaconda3\\lib\\site-packages\\sklearn\\base.py:450: UserWarning: X does not have valid feature names, but KNeighborsRegressor was fitted with feature names\n",
      "  warnings.warn(\n"
     ]
    },
    {
     "data": {
      "text/plain": [
       "array([215.60193151])"
      ]
     },
     "execution_count": 35,
     "metadata": {},
     "output_type": "execute_result"
    }
   ],
   "source": [
    "neigh_withHP.predict([[1,73.847017]])"
   ]
  },
  {
   "cell_type": "code",
   "execution_count": 36,
   "id": "998c5164",
   "metadata": {},
   "outputs": [
    {
     "data": {
      "text/plain": [
       "0.8913090899818611"
      ]
     },
     "execution_count": 36,
     "metadata": {},
     "output_type": "execute_result"
    }
   ],
   "source": [
    "accuracy_n= 215.60193151/241.893563\n",
    "accuracy_n"
   ]
  },
  {
   "cell_type": "code",
   "execution_count": 37,
   "id": "8287b102",
   "metadata": {},
   "outputs": [
    {
     "data": {
      "text/plain": [
       "0.8712687177211078"
      ]
     },
     "execution_count": 37,
     "metadata": {},
     "output_type": "execute_result"
    }
   ],
   "source": [
    "accuracy"
   ]
  },
  {
   "cell_type": "markdown",
   "id": "565b5bb2",
   "metadata": {},
   "source": [
    "# after tuning "
   ]
  },
  {
   "cell_type": "code",
   "execution_count": 38,
   "id": "f7103258",
   "metadata": {},
   "outputs": [
    {
     "data": {
      "text/plain": [
       "104.66510669895227"
      ]
     },
     "execution_count": 38,
     "metadata": {},
     "output_type": "execute_result"
    }
   ],
   "source": [
    "mse_withHP=mean_squared_error(ytest,pred_withHP)\n",
    "mae_withHP=mean_absolute_error(ytest,pred_withHP)\n",
    "mse_withHP"
   ]
  },
  {
   "cell_type": "code",
   "execution_count": 39,
   "id": "14b52fca",
   "metadata": {},
   "outputs": [
    {
     "data": {
      "text/plain": [
       "7.98989434621875"
      ]
     },
     "execution_count": 39,
     "metadata": {},
     "output_type": "execute_result"
    }
   ],
   "source": [
    "mae_withHP"
   ]
  },
  {
   "cell_type": "code",
   "execution_count": 40,
   "id": "5bc51242",
   "metadata": {},
   "outputs": [
    {
     "data": {
      "text/plain": [
       "131.7216912167529"
      ]
     },
     "execution_count": 40,
     "metadata": {},
     "output_type": "execute_result"
    }
   ],
   "source": [
    "mse"
   ]
  },
  {
   "cell_type": "code",
   "execution_count": 41,
   "id": "a39420d5",
   "metadata": {},
   "outputs": [
    {
     "data": {
      "text/plain": [
       "8.979512556899795"
      ]
     },
     "execution_count": 41,
     "metadata": {},
     "output_type": "execute_result"
    }
   ],
   "source": [
    "mae"
   ]
  },
  {
   "cell_type": "markdown",
   "id": "6e67df76",
   "metadata": {},
   "source": [
    "# after tuning accuracy increase mse improved from 135 to 108 and mae from 9 to 8"
   ]
  },
  {
   "cell_type": "markdown",
   "id": "d7ddbb7e",
   "metadata": {},
   "source": [
    "# =============="
   ]
  },
  {
   "cell_type": "markdown",
   "id": "2f94ef6f",
   "metadata": {},
   "source": [
    "# ============"
   ]
  },
  {
   "cell_type": "markdown",
   "id": "f8b93a2f",
   "metadata": {},
   "source": [
    "# Using K-NN Classifier"
   ]
  },
  {
   "cell_type": "code",
   "execution_count": 42,
   "id": "27a4cb24",
   "metadata": {},
   "outputs": [],
   "source": [
    "from sklearn.neighbors import KNeighborsClassifier\n",
    "neigh_KNNClass= KNeighborsClassifier(n_neighbors=801)"
   ]
  },
  {
   "cell_type": "code",
   "execution_count": 43,
   "id": "29190cfc",
   "metadata": {},
   "outputs": [
    {
     "data": {
      "text/plain": [
       "KNeighborsClassifier(n_neighbors=801)"
      ]
     },
     "execution_count": 43,
     "metadata": {},
     "output_type": "execute_result"
    }
   ],
   "source": [
    "x1=(df3[['Height','Weight']])\n",
    "y1=(df3['Dummy_Male'])\n",
    "x1train,x1test,y1train,y1test=train_test_split(x1,y1,test_size=.30)\n",
    "neigh_KNNClass.fit(x1,y1)"
   ]
  },
  {
   "cell_type": "code",
   "execution_count": 44,
   "id": "323f30b3",
   "metadata": {},
   "outputs": [
    {
     "name": "stderr",
     "output_type": "stream",
     "text": [
      "C:\\Users\\Administrator\\anaconda3\\lib\\site-packages\\sklearn\\base.py:450: UserWarning: X does not have valid feature names, but KNeighborsClassifier was fitted with feature names\n",
      "  warnings.warn(\n"
     ]
    },
    {
     "data": {
      "text/plain": [
       "array([1], dtype=uint8)"
      ]
     },
     "execution_count": 44,
     "metadata": {},
     "output_type": "execute_result"
    }
   ],
   "source": [
    "pred1=neigh_KNNClass.predict(x1test)\n",
    "neigh_KNNClass.predict([[73.847017,241.893563]])"
   ]
  },
  {
   "cell_type": "markdown",
   "id": "198b0b34",
   "metadata": {},
   "source": [
    "# Classification Report,Confusion Matrix, ROC,AUC and analysis"
   ]
  },
  {
   "cell_type": "code",
   "execution_count": 45,
   "id": "d668cb03",
   "metadata": {},
   "outputs": [],
   "source": [
    "from sklearn.metrics import classification_report,accuracy_score,confusion_matrix,plot_roc_curve"
   ]
  },
  {
   "cell_type": "code",
   "execution_count": 46,
   "id": "369def6f",
   "metadata": {},
   "outputs": [
    {
     "name": "stdout",
     "output_type": "stream",
     "text": [
      "              precision    recall  f1-score   support\n",
      "\n",
      "           0       0.88      0.88      0.88      1044\n",
      "           1       0.92      0.92      0.92      1523\n",
      "\n",
      "    accuracy                           0.90      2567\n",
      "   macro avg       0.90      0.90      0.90      2567\n",
      "weighted avg       0.90      0.90      0.90      2567\n",
      "\n"
     ]
    }
   ],
   "source": [
    "print(classification_report(y1test,pred1))"
   ]
  },
  {
   "cell_type": "code",
   "execution_count": 47,
   "id": "48b4fff8",
   "metadata": {},
   "outputs": [
    {
     "data": {
      "text/plain": [
       "0.9041682898324893"
      ]
     },
     "execution_count": 47,
     "metadata": {},
     "output_type": "execute_result"
    }
   ],
   "source": [
    "accuracy_score(y1test,pred1)"
   ]
  },
  {
   "cell_type": "code",
   "execution_count": 48,
   "id": "7a5e751e",
   "metadata": {},
   "outputs": [
    {
     "data": {
      "text/plain": [
       "array([[ 921,  123],\n",
       "       [ 123, 1400]], dtype=int64)"
      ]
     },
     "execution_count": 48,
     "metadata": {},
     "output_type": "execute_result"
    }
   ],
   "source": [
    "confusion_matrix(y1test,pred1)"
   ]
  },
  {
   "cell_type": "code",
   "execution_count": 49,
   "id": "4f1fdd1e",
   "metadata": {},
   "outputs": [],
   "source": [
    "tp,fn,fp,tn=confusion_matrix(y1test,pred1).reshape(-1)"
   ]
  },
  {
   "cell_type": "code",
   "execution_count": 50,
   "id": "05e64af2",
   "metadata": {},
   "outputs": [],
   "source": [
    "accuracy_knnclass=(tp+tn)/(tp+fp+tn+fn)"
   ]
  },
  {
   "cell_type": "code",
   "execution_count": 51,
   "id": "476a6fce",
   "metadata": {},
   "outputs": [
    {
     "data": {
      "text/plain": [
       "0.9041682898324893"
      ]
     },
     "execution_count": 51,
     "metadata": {},
     "output_type": "execute_result"
    }
   ],
   "source": [
    "accuracy_knnclass"
   ]
  },
  {
   "cell_type": "code",
   "execution_count": 52,
   "id": "1df2173f",
   "metadata": {},
   "outputs": [],
   "source": [
    "ppv_n=tp/(tp+fn)\n",
    "tpr_n=tp/(tp+fn)\n",
    "fpr_n=fp/(fp+tn)\n",
    "f1_measure_n=(ppv_n+tpr_n)/2\n",
    "f1_score_n=(2*ppv_n*tpr_n)/(ppv_n+tpr_n)\n",
    "tnr_n=tn/(tn+fp)\n",
    "csi_n=tp/(tp+fn+fp)\n",
    "fdr_n=fp/(tp+fp)"
   ]
  },
  {
   "cell_type": "code",
   "execution_count": 53,
   "id": "13b5f33e",
   "metadata": {},
   "outputs": [
    {
     "data": {
      "text/plain": [
       "0.9041682898324893"
      ]
     },
     "execution_count": 53,
     "metadata": {},
     "output_type": "execute_result"
    }
   ],
   "source": [
    "Accurcay_knnclass_t=(tp+tn)/(tp+fp+tn+fn)\n",
    "Accurcay_knnclass_t"
   ]
  },
  {
   "cell_type": "code",
   "execution_count": 54,
   "id": "fa060e60",
   "metadata": {},
   "outputs": [
    {
     "data": {
      "text/plain": [
       "0.882183908045977"
      ]
     },
     "execution_count": 54,
     "metadata": {},
     "output_type": "execute_result"
    }
   ],
   "source": [
    "#PositivePredictiveValue\n",
    "ppv_n"
   ]
  },
  {
   "cell_type": "code",
   "execution_count": 55,
   "id": "11142fc7",
   "metadata": {},
   "outputs": [
    {
     "data": {
      "text/plain": [
       "0.882183908045977"
      ]
     },
     "execution_count": 55,
     "metadata": {},
     "output_type": "execute_result"
    }
   ],
   "source": [
    "#true positive rate\n",
    "tpr_n"
   ]
  },
  {
   "cell_type": "code",
   "execution_count": 56,
   "id": "803580a9",
   "metadata": {},
   "outputs": [
    {
     "data": {
      "text/plain": [
       "0.08076165462902167"
      ]
     },
     "execution_count": 56,
     "metadata": {},
     "output_type": "execute_result"
    }
   ],
   "source": [
    "#false positiv earte\n",
    "fpr_n"
   ]
  },
  {
   "cell_type": "code",
   "execution_count": 57,
   "id": "a7c29019",
   "metadata": {},
   "outputs": [
    {
     "data": {
      "text/plain": [
       "0.882183908045977"
      ]
     },
     "execution_count": 57,
     "metadata": {},
     "output_type": "execute_result"
    }
   ],
   "source": [
    "#f1 measure\n",
    "f1_measure_n"
   ]
  },
  {
   "cell_type": "code",
   "execution_count": 58,
   "id": "c95e16b8",
   "metadata": {},
   "outputs": [
    {
     "data": {
      "text/plain": [
       "0.882183908045977"
      ]
     },
     "execution_count": 58,
     "metadata": {},
     "output_type": "execute_result"
    }
   ],
   "source": [
    "#harmonic mean,f1 score\n",
    "f1_score_n"
   ]
  },
  {
   "cell_type": "code",
   "execution_count": 59,
   "id": "412f17a2",
   "metadata": {},
   "outputs": [
    {
     "data": {
      "text/plain": [
       "0.9192383453709784"
      ]
     },
     "execution_count": 59,
     "metadata": {},
     "output_type": "execute_result"
    }
   ],
   "source": [
    "#true negative rate\n",
    "tnr_n"
   ]
  },
  {
   "cell_type": "code",
   "execution_count": 60,
   "id": "76dd5e29",
   "metadata": {},
   "outputs": [
    {
     "data": {
      "text/plain": [
       "0.7892030848329049"
      ]
     },
     "execution_count": 60,
     "metadata": {},
     "output_type": "execute_result"
    }
   ],
   "source": [
    "#Critical Success Index\n",
    "csi_n"
   ]
  },
  {
   "cell_type": "code",
   "execution_count": 61,
   "id": "1f656c60",
   "metadata": {},
   "outputs": [
    {
     "data": {
      "text/plain": [
       "0.11781609195402298"
      ]
     },
     "execution_count": 61,
     "metadata": {},
     "output_type": "execute_result"
    }
   ],
   "source": [
    "#Flase Discover Rate\n",
    "fdr_n"
   ]
  },
  {
   "cell_type": "code",
   "execution_count": 62,
   "id": "08393c44",
   "metadata": {},
   "outputs": [
    {
     "name": "stderr",
     "output_type": "stream",
     "text": [
      "C:\\Users\\Administrator\\anaconda3\\lib\\site-packages\\sklearn\\utils\\deprecation.py:87: FutureWarning: Function plot_roc_curve is deprecated; Function :func:`plot_roc_curve` is deprecated in 1.0 and will be removed in 1.2. Use one of the class methods: :meth:`sklearn.metric.RocCurveDisplay.from_predictions` or :meth:`sklearn.metric.RocCurveDisplay.from_estimator`.\n",
      "  warnings.warn(msg, category=FutureWarning)\n"
     ]
    },
    {
     "data": {
      "text/plain": [
       "Text(0.5, 1.0, 'ROC Curve')"
      ]
     },
     "execution_count": 62,
     "metadata": {},
     "output_type": "execute_result"
    },
    {
     "data": {
      "image/png": "[encoded data removed]",
      "text/plain": [
       "<Figure size 432x288 with 1 Axes>"
      ]
     },
     "metadata": {
      "needs_background": "light"
     },
     "output_type": "display_data"
    }
   ],
   "source": [
    "plot_roc_curve(neigh_KNNClass,x1test,y1test,color='Green')\n",
    "plt.plot([0,1],[0,1])\n",
    "plt.title('ROC Curve', color='blue')"
   ]
  },
  {
   "cell_type": "markdown",
   "id": "b01ba55e",
   "metadata": {},
   "source": [
    "# HyperParameter Tuning for K-NN Classifier"
   ]
  },
  {
   "cell_type": "code",
   "execution_count": 63,
   "id": "2ba8ea64",
   "metadata": {},
   "outputs": [],
   "source": [
    "rando1=RandomizedSearchCV(estimator=neigh_KNNClass,param_distributions=grids,n_iter=100)"
   ]
  },
  {
   "cell_type": "code",
   "execution_count": 64,
   "id": "d616447a",
   "metadata": {},
   "outputs": [
    {
     "name": "stderr",
     "output_type": "stream",
     "text": [
      "C:\\Users\\Administrator\\anaconda3\\lib\\site-packages\\sklearn\\model_selection\\_search.py:292: UserWarning: The total space of parameters 40 is smaller than n_iter=100. Running 40 iterations. For exhaustive searches, use GridSearchCV.\n",
      "  warnings.warn(\n"
     ]
    },
    {
     "data": {
      "text/plain": [
       "RandomizedSearchCV(estimator=KNeighborsClassifier(n_neighbors=801), n_iter=100,\n",
       "                   param_distributions={'algorithm': ['auto', 'ball_tree',\n",
       "                                                      'kd_tree', 'brute'],\n",
       "                                        'leaf_size': [30],\n",
       "                                        'metric': ['minkowski'],\n",
       "                                        'metric_params': [None],\n",
       "                                        'n_jobs': [None],\n",
       "                                        'n_neighbors': [5, 51, 81, 101, 801],\n",
       "                                        'p': [2],\n",
       "                                        'weights': ['uniform', 'distance']})"
      ]
     },
     "execution_count": 64,
     "metadata": {},
     "output_type": "execute_result"
    }
   ],
   "source": [
    "rando1.fit(x1train,y1train)"
   ]
  },
  {
   "cell_type": "code",
   "execution_count": 65,
   "id": "2283ac3a",
   "metadata": {},
   "outputs": [
    {
     "data": {
      "text/plain": [
       "{'weights': 'uniform',\n",
       " 'p': 2,\n",
       " 'n_neighbors': 51,\n",
       " 'n_jobs': None,\n",
       " 'metric_params': None,\n",
       " 'metric': 'minkowski',\n",
       " 'leaf_size': 30,\n",
       " 'algorithm': 'auto'}"
      ]
     },
     "execution_count": 65,
     "metadata": {},
     "output_type": "execute_result"
    }
   ],
   "source": [
    "rando1.best_params_"
   ]
  },
  {
   "cell_type": "markdown",
   "id": "9e49cdb0",
   "metadata": {},
   "source": [
    "# checking for performance"
   ]
  },
  {
   "cell_type": "code",
   "execution_count": 66,
   "id": "65095372",
   "metadata": {},
   "outputs": [
    {
     "data": {
      "text/plain": [
       "KNeighborsClassifier(n_neighbors=51)"
      ]
     },
     "execution_count": 66,
     "metadata": {},
     "output_type": "execute_result"
    }
   ],
   "source": [
    "neigh_KNNClass_HP= KNeighborsClassifier(n_neighbors=51)\n",
    "neigh_KNNClass_HP.fit(x1,y1)"
   ]
  },
  {
   "cell_type": "code",
   "execution_count": 67,
   "id": "008f9465",
   "metadata": {},
   "outputs": [],
   "source": [
    "pred_withHP_KClass=neigh_KNNClass_HP.predict(x1test)"
   ]
  },
  {
   "cell_type": "code",
   "execution_count": 68,
   "id": "2817d1b7",
   "metadata": {},
   "outputs": [
    {
     "name": "stderr",
     "output_type": "stream",
     "text": [
      "C:\\Users\\Administrator\\anaconda3\\lib\\site-packages\\sklearn\\base.py:450: UserWarning: X does not have valid feature names, but KNeighborsClassifier was fitted with feature names\n",
      "  warnings.warn(\n"
     ]
    },
    {
     "data": {
      "text/plain": [
       "array([1], dtype=uint8)"
      ]
     },
     "execution_count": 68,
     "metadata": {},
     "output_type": "execute_result"
    }
   ],
   "source": [
    "neigh_KNNClass_HP.predict([[73.847017,241.893563]])"
   ]
  },
  {
   "cell_type": "markdown",
   "id": "7d81fbdb",
   "metadata": {},
   "source": [
    "# Classification Report,Confusion Matrix, ROC,AUC and analysis"
   ]
  },
  {
   "cell_type": "code",
   "execution_count": 69,
   "id": "4f097a31",
   "metadata": {},
   "outputs": [
    {
     "data": {
      "text/plain": [
       "0.9158550837553564"
      ]
     },
     "execution_count": 69,
     "metadata": {},
     "output_type": "execute_result"
    }
   ],
   "source": [
    "accuracy_score(y1test,pred_withHP_KClass)"
   ]
  },
  {
   "cell_type": "code",
   "execution_count": 70,
   "id": "2c9ddbb7",
   "metadata": {},
   "outputs": [
    {
     "name": "stdout",
     "output_type": "stream",
     "text": [
      "              precision    recall  f1-score   support\n",
      "\n",
      "           0       0.89      0.90      0.90      1044\n",
      "           1       0.93      0.93      0.93      1523\n",
      "\n",
      "    accuracy                           0.92      2567\n",
      "   macro avg       0.91      0.91      0.91      2567\n",
      "weighted avg       0.92      0.92      0.92      2567\n",
      "\n"
     ]
    }
   ],
   "source": [
    "print(classification_report(y1test,pred_withHP_KClass))"
   ]
  },
  {
   "cell_type": "code",
   "execution_count": 71,
   "id": "d4d50272",
   "metadata": {},
   "outputs": [
    {
     "data": {
      "text/plain": [
       "array([[ 941,  103],\n",
       "       [ 113, 1410]], dtype=int64)"
      ]
     },
     "execution_count": 71,
     "metadata": {},
     "output_type": "execute_result"
    }
   ],
   "source": [
    "confusion_matrix(y1test,pred_withHP_KClass)"
   ]
  },
  {
   "cell_type": "code",
   "execution_count": 72,
   "id": "41747167",
   "metadata": {},
   "outputs": [],
   "source": [
    "tp_h,fn_h,fp_h,tn_h=confusion_matrix(y1test,pred_withHP_KClass).reshape(-1)"
   ]
  },
  {
   "cell_type": "code",
   "execution_count": 73,
   "id": "c0211649",
   "metadata": {},
   "outputs": [],
   "source": [
    "ppv_h=tp_h/(tp_h+fn_h)\n",
    "tpr_h=tp_h/(tp_h+fn_h)\n",
    "fpr_h=fp_h/(fp_h+tn_h)\n",
    "f1_measure_h=(ppv_h+tpr_h)/2\n",
    "f1_score_h=(2*ppv_h*tpr_h)/(ppv_h+tpr_h)\n",
    "tnr_h=tn_h/(tn_h+fp_h)\n",
    "csi_h=tp_h/(tp_h+fn_h+fp_h)\n",
    "fdr_h=fp_h/(tp_h+fp_h)"
   ]
  },
  {
   "cell_type": "code",
   "execution_count": 74,
   "id": "d13e949c",
   "metadata": {},
   "outputs": [
    {
     "data": {
      "text/plain": [
       "0.9013409961685823"
      ]
     },
     "execution_count": 74,
     "metadata": {},
     "output_type": "execute_result"
    }
   ],
   "source": [
    "#Positive Predictive Value\n",
    "ppv_h"
   ]
  },
  {
   "cell_type": "code",
   "execution_count": 75,
   "id": "0deaa1d2",
   "metadata": {},
   "outputs": [
    {
     "data": {
      "text/plain": [
       "0.9013409961685823"
      ]
     },
     "execution_count": 75,
     "metadata": {},
     "output_type": "execute_result"
    }
   ],
   "source": [
    "#True Positive Rate\n",
    "tpr_h"
   ]
  },
  {
   "cell_type": "code",
   "execution_count": 76,
   "id": "45db8d89",
   "metadata": {},
   "outputs": [
    {
     "data": {
      "text/plain": [
       "0.07419566644780039"
      ]
     },
     "execution_count": 76,
     "metadata": {},
     "output_type": "execute_result"
    }
   ],
   "source": [
    "#False Positiv Rate\n",
    "fpr_h"
   ]
  },
  {
   "cell_type": "code",
   "execution_count": 77,
   "id": "d92fca4a",
   "metadata": {},
   "outputs": [
    {
     "data": {
      "text/plain": [
       "0.9013409961685823"
      ]
     },
     "execution_count": 77,
     "metadata": {},
     "output_type": "execute_result"
    }
   ],
   "source": [
    "#F1 Measure\n",
    "f1_measure_h"
   ]
  },
  {
   "cell_type": "code",
   "execution_count": 78,
   "id": "351fc63d",
   "metadata": {},
   "outputs": [
    {
     "data": {
      "text/plain": [
       "0.9013409961685823"
      ]
     },
     "execution_count": 78,
     "metadata": {},
     "output_type": "execute_result"
    }
   ],
   "source": [
    "#Harmonic Mean,F1 score\n",
    "f1_score_h"
   ]
  },
  {
   "cell_type": "code",
   "execution_count": 79,
   "id": "7f038f68",
   "metadata": {},
   "outputs": [
    {
     "data": {
      "text/plain": [
       "0.9258043335521996"
      ]
     },
     "execution_count": 79,
     "metadata": {},
     "output_type": "execute_result"
    }
   ],
   "source": [
    "#True Negative Rate\n",
    "tnr_h"
   ]
  },
  {
   "cell_type": "code",
   "execution_count": 80,
   "id": "c4a73dbf",
   "metadata": {},
   "outputs": [
    {
     "data": {
      "text/plain": [
       "0.8133102852203976"
      ]
     },
     "execution_count": 80,
     "metadata": {},
     "output_type": "execute_result"
    }
   ],
   "source": [
    "#Critical Success Index\n",
    "csi_h"
   ]
  },
  {
   "cell_type": "code",
   "execution_count": 81,
   "id": "0f924cf1",
   "metadata": {},
   "outputs": [
    {
     "data": {
      "text/plain": [
       "0.10721062618595825"
      ]
     },
     "execution_count": 81,
     "metadata": {},
     "output_type": "execute_result"
    }
   ],
   "source": [
    "#False Discover Rate\n",
    "fdr_h"
   ]
  },
  {
   "cell_type": "code",
   "execution_count": 82,
   "id": "6b2339cb",
   "metadata": {},
   "outputs": [
    {
     "name": "stderr",
     "output_type": "stream",
     "text": [
      "C:\\Users\\Administrator\\anaconda3\\lib\\site-packages\\sklearn\\utils\\deprecation.py:87: FutureWarning: Function plot_roc_curve is deprecated; Function :func:`plot_roc_curve` is deprecated in 1.0 and will be removed in 1.2. Use one of the class methods: :meth:`sklearn.metric.RocCurveDisplay.from_predictions` or :meth:`sklearn.metric.RocCurveDisplay.from_estimator`.\n",
      "  warnings.warn(msg, category=FutureWarning)\n"
     ]
    },
    {
     "data": {
      "text/plain": [
       "Text(0.5, 1.0, 'ROC Curve after tuning')"
      ]
     },
     "execution_count": 82,
     "metadata": {},
     "output_type": "execute_result"
    },
    {
     "data": {
      "image/png": "[encoded data removed]",
      "text/plain": [
       "<Figure size 432x288 with 1 Axes>"
      ]
     },
     "metadata": {
      "needs_background": "light"
     },
     "output_type": "display_data"
    }
   ],
   "source": [
    "plot_roc_curve(neigh_KNNClass_HP,x1test,y1test,color='Green')\n",
    "plt.plot([0,1],[0,1])\n",
    "plt.title('ROC Curve after tuning', color='blue')"
   ]
  },
  {
   "cell_type": "markdown",
   "id": "175d36b0",
   "metadata": {},
   "source": [
    "# After tuning accuracy increase again lets compare basic scenarios"
   ]
  },
  {
   "cell_type": "code",
   "execution_count": 83,
   "id": "533ebf47",
   "metadata": {},
   "outputs": [
    {
     "data": {
      "text/plain": [
       "0.9041682898324893"
      ]
     },
     "execution_count": 83,
     "metadata": {},
     "output_type": "execute_result"
    }
   ],
   "source": [
    "#old\n",
    "accuracy_score(y1test,pred1)"
   ]
  },
  {
   "cell_type": "code",
   "execution_count": 84,
   "id": "db5d9dad",
   "metadata": {},
   "outputs": [
    {
     "data": {
      "text/plain": [
       "array([[ 921,  123],\n",
       "       [ 123, 1400]], dtype=int64)"
      ]
     },
     "execution_count": 84,
     "metadata": {},
     "output_type": "execute_result"
    }
   ],
   "source": [
    "#old\n",
    "confusion_matrix(y1test,pred1)"
   ]
  },
  {
   "cell_type": "code",
   "execution_count": 85,
   "id": "e717dead",
   "metadata": {},
   "outputs": [
    {
     "data": {
      "text/plain": [
       "0.9158550837553564"
      ]
     },
     "execution_count": 85,
     "metadata": {},
     "output_type": "execute_result"
    }
   ],
   "source": [
    "#new\n",
    "accuracy_score(y1test,pred_withHP_KClass)"
   ]
  },
  {
   "cell_type": "code",
   "execution_count": 86,
   "id": "f42512e8",
   "metadata": {},
   "outputs": [
    {
     "data": {
      "text/plain": [
       "array([[ 941,  103],\n",
       "       [ 113, 1410]], dtype=int64)"
      ]
     },
     "execution_count": 86,
     "metadata": {},
     "output_type": "execute_result"
    }
   ],
   "source": [
    "#new\n",
    "confusion_matrix(y1test,pred_withHP_KClass)"
   ]
  },
  {
   "cell_type": "markdown",
   "id": "79818c8c",
   "metadata": {},
   "source": [
    "# Therefore we see by hyper param tuning to 51 nearest neighbors K-NN classifier gives best performance."
   ]
  }
 ],
 "metadata": {
  "kernelspec": {
   "display_name": "Python 3 (ipykernel)",
   "language": "python",
   "name": "python3"
  },
  "language_info": {
   "codemirror_mode": {
    "name": "ipython",
    "version": 3
   },
   "file_extension": ".py",
   "mimetype": "text/x-python",
   "name": "python",
   "nbconvert_exporter": "python",
   "pygments_lexer": "ipython3",
   "version": "3.9.12"
  }
 },
 "nbformat": 4,
 "nbformat_minor": 5
}
